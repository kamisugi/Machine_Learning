{
 "cells": [
  {
   "cell_type": "markdown",
   "id": "9766e7f7-2be7-4615-8dff-c81656eac400",
   "metadata": {},
   "source": [
    "### 1.导入需要的库"
   ]
  },
  {
   "cell_type": "code",
   "execution_count": 2,
   "id": "d0f03c35-5497-4647-9e90-99c1327527ff",
   "metadata": {},
   "outputs": [],
   "source": [
    "import numpy as np\n",
    "import pandas as pd\n",
    "import matplotlib.pyplot as plt\n",
    "from sklearn.datasets import load_boston\n",
    "from sklearn.impute import SimpleImputer\n",
    "from sklearn.ensemble import RandomForestRegressor\n",
    "\n",
    "from sklearn.model_selection import cross_val_score"
   ]
  },
  {
   "cell_type": "markdown",
   "id": "4a9bc04f-fa84-403d-8851-cccf2d2c90c0",
   "metadata": {},
   "source": [
    "### 2.导入波士顿数据集"
   ]
  },
  {
   "cell_type": "code",
   "execution_count": 4,
   "id": "f193d512-68ea-4d5d-ae93-993b53f2bef4",
   "metadata": {},
   "outputs": [
    {
     "data": {
      "text/plain": [
       "(506, 13)"
      ]
     },
     "execution_count": 4,
     "metadata": {},
     "output_type": "execute_result"
    }
   ],
   "source": [
    "dataset = load_boston()\n",
    "\n",
    "dataset.data.shape"
   ]
  },
  {
   "cell_type": "code",
   "execution_count": 5,
   "id": "c95b9f0e-da53-4b12-9776-7c4faa4d0abe",
   "metadata": {},
   "outputs": [],
   "source": [
    "x_full, y_full = dataset.data, dataset.target\n",
    "n_samples = x_full.shape[0]\n",
    "n_features = x_full.shape[1]"
   ]
  },
  {
   "cell_type": "markdown",
   "id": "1af150f8-b6c2-4881-8408-955abab072cc",
   "metadata": {},
   "source": [
    "### 3. 为完整数据集放入缺失值"
   ]
  },
  {
   "cell_type": "code",
   "execution_count": 7,
   "id": "30d55b1b-2937-4f46-8e16-aa52a9285bd0",
   "metadata": {},
   "outputs": [
    {
     "data": {
      "text/plain": [
       "3289"
      ]
     },
     "execution_count": 7,
     "metadata": {},
     "output_type": "execute_result"
    }
   ],
   "source": [
    "#假设50%的数据缺失\n",
    "rng = np.random.RandomState(0)\n",
    "missing_rate = 0.5\n",
    "n_missing_samples = int(np.floor(n_samples * n_features * missing_rate))"
   ]
  },
  {
   "cell_type": "code",
   "execution_count": 8,
   "id": "9609603b-50fe-4e1c-a222-4d84a834dd81",
   "metadata": {},
   "outputs": [],
   "source": [
    "missing_features = rng.randint(0, n_features, n_missing_samples)\n",
    "missing_samples = rng.randint(0, n_samples, n_missing_samples)\n",
    "\n",
    "x_missing = x_full.copy()\n",
    "y_missing = y_full.copy()\n",
    "\n",
    "x_missing[missing_samples, missing_features] = np.nan\n",
    "\n",
    "x_missing = pd.DataFrame(x_missing)"
   ]
  },
  {
   "cell_type": "markdown",
   "id": "fd67167c-a9bf-4f45-b019-5906eda0efe0",
   "metadata": {},
   "source": [
    "### 4. 使用0和均值填补缺失值"
   ]
  },
  {
   "cell_type": "code",
   "execution_count": 9,
   "id": "51f51acb-4ac6-4ecf-b93e-2a5f2601a829",
   "metadata": {},
   "outputs": [],
   "source": [
    "#均值填补\n",
    "imp_mean = SimpleImputer(missing_values=np.nan, strategy=\"mean\")\n",
    "x_missing_mean = imp_mean.fit_transform(x_missing)\n",
    "\n",
    "#0填补\n",
    "imp_0 = SimpleImputer(missing_values=np.nan, strategy=\"constant\", fill_value=0)\n",
    "x_missing_0 = imp_0.fit_transform(x_missing)"
   ]
  },
  {
   "cell_type": "markdown",
   "id": "7f8796e0-a9ec-4249-b144-a10608316c1b",
   "metadata": {},
   "source": [
    "### 5. 使用随机森林填补缺失值"
   ]
  },
  {
   "cell_type": "code",
   "execution_count": 13,
   "id": "3469f52c-c3d5-4bc5-9aa2-f230d3e1f9f2",
   "metadata": {},
   "outputs": [],
   "source": [
    "#利用其他未缺失值预测缺失值，若都有残缺则先0填充\n",
    "x_missing_reg = x_missing.copy()\n",
    "sortindex = np.argsort(x_missing_reg.isnull().sum(axis=0)).values\n",
    "\n",
    "for i in sortindex:\n",
    "    #构建我们的新特征矩阵和新标签\n",
    "    df = x_missing_reg\n",
    "    fillc = df.iloc[:,i]\n",
    "    df = pd.concat([df.iloc[:,df.columns != i],pd.DataFrame(y_full)],axis=1)\n",
    "    \n",
    "    #在新特征矩阵中，对含有缺失值的列，进行0的填补\n",
    "    df_0 = SimpleImputer(missing_values=np.nan,\n",
    "                        strategy=\"constant\",fill_value=0).fit_transform(df)\n",
    "    \n",
    "    #找出训练集测试集\n",
    "    ytrain = fillc[fillc.notnull()]\n",
    "    ytest = fillc[fillc.isnull()]\n",
    "    xtrain = df_0[ytrain.index,:]\n",
    "    xtest = df_0[ytest.index,:]\n",
    "    \n",
    "    #用随机森林回归填补缺失值\n",
    "    rfc = RandomForestRegressor(n_estimators=100)\n",
    "    rfc = rfc.fit(xtrain, ytrain)\n",
    "    ypredict = rfc.predict(xtest)\n",
    "    \n",
    "    #将预测好的值返回原始矩阵\n",
    "    x_missing_reg.loc[x_missing_reg.iloc[:,i].isnull(),i] = ypredict"
   ]
  },
  {
   "cell_type": "markdown",
   "id": "08ff510e-7d13-4cbd-9e35-0eae51ff00c2",
   "metadata": {},
   "source": [
    "### 6. 对填补好的数据进行建模"
   ]
  },
  {
   "cell_type": "code",
   "execution_count": 16,
   "id": "581291de-bdce-4bae-86b0-1ef8366318ee",
   "metadata": {},
   "outputs": [],
   "source": [
    "#建模，取得mse结果\n",
    "\n",
    "x = [x_full,x_missing_mean,x_missing_0,x_missing_reg]\n",
    "\n",
    "mse = []\n",
    "std = []\n",
    "for x in x:\n",
    "    estimator = RandomForestRegressor(random_state=0, n_estimators=100)\n",
    "    scores = cross_val_score(estimator,x,y_full,scoring='neg_mean_squared_error',\n",
    "                            cv=5).mean()\n",
    "    mse.append(scores * -1)\n",
    "    "
   ]
  },
  {
   "cell_type": "markdown",
   "id": "6731476b-8943-4a35-9023-cfc63674ed9f",
   "metadata": {},
   "source": [
    "### 7. 用所得结果画出条形图"
   ]
  },
  {
   "cell_type": "code",
   "execution_count": 21,
   "id": "974ee843-524f-420b-ae60-76bee7dd5185",
   "metadata": {},
   "outputs": [
    {
     "data": {
      "image/png": "[encoded data removed]",
      "text/plain": [
       "<Figure size 864x432 with 1 Axes>"
      ]
     },
     "metadata": {
      "needs_background": "light"
     },
     "output_type": "display_data"
    }
   ],
   "source": [
    "x_labels = ['Full data',\n",
    "           'Zero Imputation',\n",
    "           'Mean Imputation',\n",
    "           'Regressor Imputation']\n",
    "colors = ['r','g','b','orange']\n",
    "\n",
    "plt.figure(figsize=(12,6))\n",
    "ax = plt.subplot(111)\n",
    "for i in  np.arange(len(mse)):\\\n",
    "    ax.barh(i, mse[i],color=colors[i],alpha=0.6,align='center')\n",
    "ax.set_title(\"Imputation Techniques with Boston Data\")\n",
    "ax.set_xlim(left=np.min(mse)*0.9,\n",
    "           right=np.max(mse)*1.1)\n",
    "ax.set_yticks(np.arange(len(mse)))\n",
    "ax.set_xlabel('MSE')\n",
    "ax.set_yticklabels(x_labels)\n",
    "plt.show()"
   ]
  }
 ],
 "metadata": {
  "kernelspec": {
   "display_name": "Python 3",
   "language": "python",
   "name": "python3"
  },
  "language_info": {
   "codemirror_mode": {
    "name": "ipython",
    "version": 3
   },
   "file_extension": ".py",
   "mimetype": "text/x-python",
   "name": "python",
   "nbconvert_exporter": "python",
   "pygments_lexer": "ipython3",
   "version": "3.8.8"
  }
 },
 "nbformat": 4,
 "nbformat_minor": 5
}
