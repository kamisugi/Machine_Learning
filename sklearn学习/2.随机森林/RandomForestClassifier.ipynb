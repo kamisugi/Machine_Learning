{
 "cells": [
  {
   "cell_type": "markdown",
   "id": "2d2f3201-e891-42e6-bba5-96b68aadea69",
   "metadata": {},
   "source": [
    "- 重要参数\n",
    "    - n_estimators"
   ]
  },
  {
   "cell_type": "code",
   "execution_count": 4,
   "id": "53a6e0d8-292e-4fd3-89b4-c08667c85e6b",
   "metadata": {},
   "outputs": [],
   "source": [
    "# 1.导入所需要的包\n",
    "%matplotlib inline\n",
    "from sklearn.tree import DecisionTreeClassifier\n",
    "from sklearn.ensemble import RandomForestClassifier\n",
    "from sklearn.datasets import load_wine"
   ]
  },
  {
   "cell_type": "code",
   "execution_count": 5,
   "id": "51e58216-39fb-4e5b-931d-cff52e427603",
   "metadata": {},
   "outputs": [
    {
     "data": {
      "text/plain": [
       "array([[1.423e+01, 1.710e+00, 2.430e+00, ..., 1.040e+00, 3.920e+00,\n",
       "        1.065e+03],\n",
       "       [1.320e+01, 1.780e+00, 2.140e+00, ..., 1.050e+00, 3.400e+00,\n",
       "        1.050e+03],\n",
       "       [1.316e+01, 2.360e+00, 2.670e+00, ..., 1.030e+00, 3.170e+00,\n",
       "        1.185e+03],\n",
       "       ...,\n",
       "       [1.327e+01, 4.280e+00, 2.260e+00, ..., 5.900e-01, 1.560e+00,\n",
       "        8.350e+02],\n",
       "       [1.317e+01, 2.590e+00, 2.370e+00, ..., 6.000e-01, 1.620e+00,\n",
       "        8.400e+02],\n",
       "       [1.413e+01, 4.100e+00, 2.740e+00, ..., 6.100e-01, 1.600e+00,\n",
       "        5.600e+02]])"
      ]
     },
     "execution_count": 5,
     "metadata": {},
     "output_type": "execute_result"
    }
   ],
   "source": [
    "# 2.导入所需数据集\n",
    "wine = load_wine()\n",
    "# 特征\n",
    "wine.data"
   ]
  },
  {
   "cell_type": "code",
   "execution_count": 6,
   "id": "0328c03a-9359-46fc-9b1d-df07af1d639b",
   "metadata": {},
   "outputs": [
    {
     "data": {
      "text/plain": [
       "array([0, 0, 0, 0, 0, 0, 0, 0, 0, 0, 0, 0, 0, 0, 0, 0, 0, 0, 0, 0, 0, 0,\n",
       "       0, 0, 0, 0, 0, 0, 0, 0, 0, 0, 0, 0, 0, 0, 0, 0, 0, 0, 0, 0, 0, 0,\n",
       "       0, 0, 0, 0, 0, 0, 0, 0, 0, 0, 0, 0, 0, 0, 0, 1, 1, 1, 1, 1, 1, 1,\n",
       "       1, 1, 1, 1, 1, 1, 1, 1, 1, 1, 1, 1, 1, 1, 1, 1, 1, 1, 1, 1, 1, 1,\n",
       "       1, 1, 1, 1, 1, 1, 1, 1, 1, 1, 1, 1, 1, 1, 1, 1, 1, 1, 1, 1, 1, 1,\n",
       "       1, 1, 1, 1, 1, 1, 1, 1, 1, 1, 1, 1, 1, 1, 1, 1, 1, 1, 1, 1, 2, 2,\n",
       "       2, 2, 2, 2, 2, 2, 2, 2, 2, 2, 2, 2, 2, 2, 2, 2, 2, 2, 2, 2, 2, 2,\n",
       "       2, 2, 2, 2, 2, 2, 2, 2, 2, 2, 2, 2, 2, 2, 2, 2, 2, 2, 2, 2, 2, 2,\n",
       "       2, 2])"
      ]
     },
     "execution_count": 6,
     "metadata": {},
     "output_type": "execute_result"
    }
   ],
   "source": [
    "# 分类\n",
    "wine.target"
   ]
  },
  {
   "cell_type": "code",
   "execution_count": 17,
   "id": "9ea9c1fd-fa0f-4742-adce-2f1a70ee61d5",
   "metadata": {},
   "outputs": [
    {
     "name": "stdout",
     "output_type": "stream",
     "text": [
      "Single Tree:0.9629629629629629 \n",
      "Random Forest:0.9814814814814815\n"
     ]
    }
   ],
   "source": [
    "# 3.建模\n",
    "from sklearn.model_selection import train_test_split\n",
    "\n",
    "xtrain, xtest, ytrain, ytest = train_test_split(wine.data, wine.target, test_size=0.3)\n",
    "\n",
    "clf = DecisionTreeClassifier(random_state=24)\n",
    "rfc = RandomForestClassifier(random_state=24)\n",
    "clf = clf.fit(xtrain, ytrain)\n",
    "rfc = rfc.fit(xtrain, ytrain)\n",
    "score_c = clf.score(xtest, ytest)\n",
    "score_r = rfc.score(xtest, ytest)\n",
    "\n",
    "print(\"Single Tree:{}\".format(score_c),\n",
    "      \"\\nRandom Forest:{}\".format(score_r))"
   ]
  },
  {
   "cell_type": "code",
   "execution_count": 18,
   "id": "787ba15d-0d8d-465e-a77e-a6ef68a15271",
   "metadata": {},
   "outputs": [
    {
     "data": {
      "image/png": "[encoded data removed]",
      "text/plain": [
       "<Figure size 432x288 with 1 Axes>"
      ]
     },
     "metadata": {
      "needs_background": "light"
     },
     "output_type": "display_data"
    }
   ],
   "source": [
    "# 4.画出随机森林和决策树在一组交叉验证下的效果对比\n",
    "from sklearn.model_selection import cross_val_score\n",
    "import matplotlib.pyplot as plt\n",
    "\n",
    "rfc = RandomForestClassifier(n_estimators=25)\n",
    "rfc_s = cross_val_score(rfc, wine.data, wine.target, cv=10)\n",
    "\n",
    "clf = DecisionTreeClassifier()\n",
    "clf_s = cross_val_score(clf, wine.data, wine.target, cv=10)\n",
    "\n",
    "plt.plot(range(1,11), rfc_s,label=\"RandomForest\")\n",
    "plt.plot(range(1,11), clf_s,label=\"DecisionTree\")\n",
    "plt.legend()\n",
    "plt.show()\n",
    "\n",
    "#代码的另一种方法\n",
    "# label = \"RandomForest\"\n",
    "# for model in [RandomForestClassifier(n_estimators=25),DecisionTreeClassifier()]:\n",
    "#     score = cross_val_score(model, wine.data, wine.target, cv=10)\n",
    "#     print(\"{}:\".format(label)),print(score.mean())\n",
    "#     plt.plot(range(1,11), score, label=label)\n",
    "#     plt.legend()\n",
    "#     label = \"DecisionTree\"\n",
    "#     plt.show()\n"
   ]
  },
  {
   "cell_type": "code",
   "execution_count": 28,
   "id": "cc08ecd1-93dd-4f95-86f4-3eea8fc6bc0b",
   "metadata": {},
   "outputs": [
    {
     "data": {
      "image/png": "[encoded data removed]",
      "text/plain": [
       "<Figure size 432x288 with 1 Axes>"
      ]
     },
     "metadata": {
      "needs_background": "light"
     },
     "output_type": "display_data"
    }
   ],
   "source": [
    "# 5.画出随机森林和决策树在十组交叉验证下的效果对比\n",
    "rfc_l = []\n",
    "clf_l = []\n",
    "\n",
    "for i in range(10):\n",
    "    rfc = RandomForestClassifier(n_estimators=25)\n",
    "    rfc_s = cross_val_score(rfc, wine.data, wine.target, cv=10).mean()\n",
    "    rfc_l.append(rfc_s)\n",
    "    clf = DecisionTreeClassifier()\n",
    "    clf_s = cross_val_score(clf, wine.data, wine.target, cv=10).mean()\n",
    "    clf_l.append(clf_s)\n",
    "    \n",
    "plt.plot(range(1,11), rfc_l,label=\"RandomForest\")\n",
    "plt.plot(range(1,11), clf_l,label=\"DecisionTree\")\n",
    "plt.legend()\n",
    "plt.show()"
   ]
  },
  {
   "cell_type": "code",
   "execution_count": 29,
   "id": "5fd9fbe1-6faa-4d47-bdc3-9e9d70930c41",
   "metadata": {},
   "outputs": [
    {
     "name": "stdout",
     "output_type": "stream",
     "text": [
      "0.9888888888888889 19\n"
     ]
    },
    {
     "data": {
      "image/png": "[encoded data removed]",
      "text/plain": [
       "<Figure size 432x288 with 1 Axes>"
      ]
     },
     "metadata": {
      "needs_background": "light"
     },
     "output_type": "display_data"
    }
   ],
   "source": [
    "# 6.n_estimators的学习曲线\n",
    "superpa = []\n",
    "for i in range(200):\n",
    "    rfc = RandomForestClassifier(n_estimators=i+1, n_jobs=-1)\n",
    "    rfc_s = cross_val_score(rfc, wine.data, wine.target, cv=10).mean()\n",
    "    superpa.append(rfc_s)\n",
    "    \n",
    "print(max(superpa),superpa.index(max(superpa)))\n",
    "\n",
    "plt.plot(range(1,201),superpa)\n",
    "plt.show()"
   ]
  },
  {
   "cell_type": "code",
   "execution_count": 33,
   "id": "9ef24c56-c9ee-4ff6-bb17-9a3d513ff40d",
   "metadata": {},
   "outputs": [
    {
     "name": "stdout",
     "output_type": "stream",
     "text": [
      "1975759266\n",
      "1264583555\n",
      "856897728\n",
      "227008855\n",
      "2146913681\n",
      "1363601553\n",
      "945181825\n",
      "2078546276\n",
      "1550725243\n",
      "38739151\n",
      "1030109188\n",
      "1233432559\n",
      "2132261091\n",
      "2036034386\n",
      "1358699915\n",
      "509906811\n",
      "586454499\n",
      "1179518835\n",
      "1649181583\n",
      "257546471\n",
      "1376619849\n",
      "87222034\n",
      "1573739383\n",
      "706738567\n",
      "900446617\n"
     ]
    }
   ],
   "source": [
    "rfc = RandomForestClassifier(n_estimators=25, random_state=24)\n",
    "rfc = rfc.fit(xtrain, ytrain)\n",
    "\n",
    "#随机森林的重要属性之一：estimators，查看森林中树的状况\n",
    "\n",
    "for i in range(len(rfc.estimators_)):\n",
    "    print(rfc.estimators_[i].random_state)"
   ]
  },
  {
   "cell_type": "markdown",
   "id": "d40c07fd-0776-4ea2-8384-bc69544f77b6",
   "metadata": {},
   "source": [
    "## oob_score_"
   ]
  },
  {
   "cell_type": "code",
   "execution_count": 35,
   "id": "198d88f2-ecda-425b-b053-da0ebcfd9208",
   "metadata": {},
   "outputs": [
    {
     "data": {
      "text/plain": [
       "0.9606741573033708"
      ]
     },
     "execution_count": 35,
     "metadata": {},
     "output_type": "execute_result"
    }
   ],
   "source": [
    "rfc = RandomForestClassifier(n_estimators=25, oob_score=True)\n",
    "rfc = rfc.fit(wine.data, wine.target)\n",
    "\n",
    "rfc.oob_score_"
   ]
  },
  {
   "cell_type": "markdown",
   "id": "6063d01b-164c-4906-a4f4-1183386ff002",
   "metadata": {},
   "source": [
    "## 重要属性"
   ]
  },
  {
   "cell_type": "code",
   "execution_count": 36,
   "id": "1437dccd-d947-42ac-a430-26aff08d7687",
   "metadata": {},
   "outputs": [
    {
     "data": {
      "text/plain": [
       "array([0.16690397, 0.03424694, 0.01477709, 0.04116033, 0.0061899 ,\n",
       "       0.03389767, 0.10000131, 0.01952006, 0.03771112, 0.14313288,\n",
       "       0.12055666, 0.11893679, 0.16296528])"
      ]
     },
     "execution_count": 36,
     "metadata": {},
     "output_type": "execute_result"
    }
   ],
   "source": [
    "rfc.feature_importances_"
   ]
  },
  {
   "cell_type": "code",
   "execution_count": 39,
   "id": "9581ddcc-eaf2-45da-bc63-90685be033cc",
   "metadata": {},
   "outputs": [
    {
     "data": {
      "text/plain": [
       "array([[0.  , 1.  , 0.  ],\n",
       "       [0.  , 0.96, 0.04],\n",
       "       [0.  , 0.08, 0.92],\n",
       "       [0.96, 0.  , 0.04],\n",
       "       [0.92, 0.08, 0.  ],\n",
       "       [1.  , 0.  , 0.  ],\n",
       "       [0.  , 1.  , 0.  ],\n",
       "       [0.  , 1.  , 0.  ],\n",
       "       [0.  , 1.  , 0.  ],\n",
       "       [0.  , 1.  , 0.  ],\n",
       "       [1.  , 0.  , 0.  ],\n",
       "       [0.  , 1.  , 0.  ],\n",
       "       [1.  , 0.  , 0.  ],\n",
       "       [0.  , 0.04, 0.96],\n",
       "       [0.96, 0.04, 0.  ],\n",
       "       [0.  , 0.08, 0.92],\n",
       "       [0.  , 1.  , 0.  ],\n",
       "       [1.  , 0.  , 0.  ],\n",
       "       [1.  , 0.  , 0.  ],\n",
       "       [0.96, 0.04, 0.  ],\n",
       "       [0.  , 0.08, 0.92],\n",
       "       [1.  , 0.  , 0.  ],\n",
       "       [0.  , 1.  , 0.  ],\n",
       "       [1.  , 0.  , 0.  ],\n",
       "       [0.  , 1.  , 0.  ],\n",
       "       [1.  , 0.  , 0.  ],\n",
       "       [0.  , 0.08, 0.92],\n",
       "       [0.  , 0.  , 1.  ],\n",
       "       [0.04, 0.08, 0.88],\n",
       "       [0.  , 1.  , 0.  ],\n",
       "       [0.04, 0.  , 0.96],\n",
       "       [0.04, 0.96, 0.  ],\n",
       "       [0.  , 0.12, 0.88],\n",
       "       [0.  , 0.8 , 0.2 ],\n",
       "       [0.  , 1.  , 0.  ],\n",
       "       [1.  , 0.  , 0.  ],\n",
       "       [0.  , 1.  , 0.  ],\n",
       "       [0.  , 0.  , 1.  ],\n",
       "       [0.  , 1.  , 0.  ],\n",
       "       [0.  , 0.92, 0.08],\n",
       "       [0.  , 0.  , 1.  ],\n",
       "       [1.  , 0.  , 0.  ],\n",
       "       [1.  , 0.  , 0.  ],\n",
       "       [0.96, 0.04, 0.  ],\n",
       "       [1.  , 0.  , 0.  ],\n",
       "       [0.16, 0.84, 0.  ],\n",
       "       [0.  , 1.  , 0.  ],\n",
       "       [0.96, 0.04, 0.  ],\n",
       "       [0.  , 0.  , 1.  ],\n",
       "       [0.  , 0.96, 0.04],\n",
       "       [1.  , 0.  , 0.  ],\n",
       "       [0.  , 0.08, 0.92],\n",
       "       [0.04, 0.16, 0.8 ],\n",
       "       [1.  , 0.  , 0.  ]])"
      ]
     },
     "execution_count": 39,
     "metadata": {},
     "output_type": "execute_result"
    }
   ],
   "source": [
    "rfc.predict_proba(xtest)"
   ]
  },
  {
   "cell_type": "code",
   "execution_count": 41,
   "id": "7a059453-4c24-4f24-9ac7-1868d629e660",
   "metadata": {},
   "outputs": [
    {
     "data": {
      "image/png": "[encoded data removed]",
      "text/plain": [
       "<Figure size 432x288 with 1 Axes>"
      ]
     },
     "metadata": {
      "needs_background": "light"
     },
     "output_type": "display_data"
    }
   ],
   "source": [
    "import numpy as np\n",
    "from scipy.special import comb\n",
    "x = np.linspace(0,1,20)\n",
    "y = []\n",
    "for epsilon in np.linspace(0,1,20):\n",
    "    E = np.array([comb(25,i)*(epsilon**i)*((1-epsilon)**(25-i)) \n",
    "                  for i in range(13,26)]).sum()\n",
    "    y.append(E)\n",
    "plt.plot(x,y,\"o-\",label=\"when estimators are different\")\n",
    "plt.plot(x,x,\"--\",color=\"red\",label=\"if all estimators are same\")\n",
    "plt.xlabel(\"individual estimator's error\")\n",
    "plt.ylabel(\"RandomForest's error\")\n",
    "plt.legend()\n",
    "plt.show()\n"
   ]
  },
  {
   "cell_type": "markdown",
   "id": "1660980e-d1df-4dd4-9f19-a0de5105db43",
   "metadata": {},
   "source": [
    "当基分类器的误差率小于0.5，即准确率大于0.5时，集成的效果是比基分类器要好的。相反，当基分类器的误差率大于0.5，袋装的集成算法就失效了"
   ]
  }
 ],
 "metadata": {
  "kernelspec": {
   "display_name": "Python 3",
   "language": "python",
   "name": "python3"
  },
  "language_info": {
   "codemirror_mode": {
    "name": "ipython",
    "version": 3
   },
   "file_extension": ".py",
   "mimetype": "text/x-python",
   "name": "python",
   "nbconvert_exporter": "python",
   "pygments_lexer": "ipython3",
   "version": "3.8.8"
  }
 },
 "nbformat": 4,
 "nbformat_minor": 5
}
