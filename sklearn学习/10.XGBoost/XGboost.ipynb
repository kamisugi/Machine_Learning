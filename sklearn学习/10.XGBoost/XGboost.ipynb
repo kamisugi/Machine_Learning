{
 "cells": [
  {
   "cell_type": "markdown",
   "id": "3ce91c43-d14d-4e69-aae2-4973d03109d9",
   "metadata": {},
   "source": [
    "# n_estimators"
   ]
  },
  {
   "cell_type": "code",
   "execution_count": 2,
   "id": "2ccc902e-af95-459e-a6a9-adcec0ea32c8",
   "metadata": {},
   "outputs": [],
   "source": [
    "from xgboost import XGBRegressor as XGBR\n",
    "from sklearn.ensemble import RandomForestRegressor as RFR\n",
    "from sklearn.linear_model import LinearRegression as LinearR\n",
    "from sklearn.datasets import load_boston\n",
    "from sklearn.model_selection import KFold, cross_val_score as CVS, train_test_split as TTS\n",
    "from sklearn.metrics import mean_squared_error as MSE\n",
    "import pandas as pd\n",
    "import numpy as np\n",
    "import matplotlib.pyplot as plt\n",
    "from time import time\n",
    "import datetime"
   ]
  },
  {
   "cell_type": "code",
   "execution_count": 4,
   "id": "99f8a05a-0ce5-4fdf-9285-4c60b214d0a1",
   "metadata": {},
   "outputs": [
    {
     "data": {
      "text/plain": [
       "{'data': array([[6.3200e-03, 1.8000e+01, 2.3100e+00, ..., 1.5300e+01, 3.9690e+02,\n",
       "         4.9800e+00],\n",
       "        [2.7310e-02, 0.0000e+00, 7.0700e+00, ..., 1.7800e+01, 3.9690e+02,\n",
       "         9.1400e+00],\n",
       "        [2.7290e-02, 0.0000e+00, 7.0700e+00, ..., 1.7800e+01, 3.9283e+02,\n",
       "         4.0300e+00],\n",
       "        ...,\n",
       "        [6.0760e-02, 0.0000e+00, 1.1930e+01, ..., 2.1000e+01, 3.9690e+02,\n",
       "         5.6400e+00],\n",
       "        [1.0959e-01, 0.0000e+00, 1.1930e+01, ..., 2.1000e+01, 3.9345e+02,\n",
       "         6.4800e+00],\n",
       "        [4.7410e-02, 0.0000e+00, 1.1930e+01, ..., 2.1000e+01, 3.9690e+02,\n",
       "         7.8800e+00]]),\n",
       " 'target': array([24. , 21.6, 34.7, 33.4, 36.2, 28.7, 22.9, 27.1, 16.5, 18.9, 15. ,\n",
       "        18.9, 21.7, 20.4, 18.2, 19.9, 23.1, 17.5, 20.2, 18.2, 13.6, 19.6,\n",
       "        15.2, 14.5, 15.6, 13.9, 16.6, 14.8, 18.4, 21. , 12.7, 14.5, 13.2,\n",
       "        13.1, 13.5, 18.9, 20. , 21. , 24.7, 30.8, 34.9, 26.6, 25.3, 24.7,\n",
       "        21.2, 19.3, 20. , 16.6, 14.4, 19.4, 19.7, 20.5, 25. , 23.4, 18.9,\n",
       "        35.4, 24.7, 31.6, 23.3, 19.6, 18.7, 16. , 22.2, 25. , 33. , 23.5,\n",
       "        19.4, 22. , 17.4, 20.9, 24.2, 21.7, 22.8, 23.4, 24.1, 21.4, 20. ,\n",
       "        20.8, 21.2, 20.3, 28. , 23.9, 24.8, 22.9, 23.9, 26.6, 22.5, 22.2,\n",
       "        23.6, 28.7, 22.6, 22. , 22.9, 25. , 20.6, 28.4, 21.4, 38.7, 43.8,\n",
       "        33.2, 27.5, 26.5, 18.6, 19.3, 20.1, 19.5, 19.5, 20.4, 19.8, 19.4,\n",
       "        21.7, 22.8, 18.8, 18.7, 18.5, 18.3, 21.2, 19.2, 20.4, 19.3, 22. ,\n",
       "        20.3, 20.5, 17.3, 18.8, 21.4, 15.7, 16.2, 18. , 14.3, 19.2, 19.6,\n",
       "        23. , 18.4, 15.6, 18.1, 17.4, 17.1, 13.3, 17.8, 14. , 14.4, 13.4,\n",
       "        15.6, 11.8, 13.8, 15.6, 14.6, 17.8, 15.4, 21.5, 19.6, 15.3, 19.4,\n",
       "        17. , 15.6, 13.1, 41.3, 24.3, 23.3, 27. , 50. , 50. , 50. , 22.7,\n",
       "        25. , 50. , 23.8, 23.8, 22.3, 17.4, 19.1, 23.1, 23.6, 22.6, 29.4,\n",
       "        23.2, 24.6, 29.9, 37.2, 39.8, 36.2, 37.9, 32.5, 26.4, 29.6, 50. ,\n",
       "        32. , 29.8, 34.9, 37. , 30.5, 36.4, 31.1, 29.1, 50. , 33.3, 30.3,\n",
       "        34.6, 34.9, 32.9, 24.1, 42.3, 48.5, 50. , 22.6, 24.4, 22.5, 24.4,\n",
       "        20. , 21.7, 19.3, 22.4, 28.1, 23.7, 25. , 23.3, 28.7, 21.5, 23. ,\n",
       "        26.7, 21.7, 27.5, 30.1, 44.8, 50. , 37.6, 31.6, 46.7, 31.5, 24.3,\n",
       "        31.7, 41.7, 48.3, 29. , 24. , 25.1, 31.5, 23.7, 23.3, 22. , 20.1,\n",
       "        22.2, 23.7, 17.6, 18.5, 24.3, 20.5, 24.5, 26.2, 24.4, 24.8, 29.6,\n",
       "        42.8, 21.9, 20.9, 44. , 50. , 36. , 30.1, 33.8, 43.1, 48.8, 31. ,\n",
       "        36.5, 22.8, 30.7, 50. , 43.5, 20.7, 21.1, 25.2, 24.4, 35.2, 32.4,\n",
       "        32. , 33.2, 33.1, 29.1, 35.1, 45.4, 35.4, 46. , 50. , 32.2, 22. ,\n",
       "        20.1, 23.2, 22.3, 24.8, 28.5, 37.3, 27.9, 23.9, 21.7, 28.6, 27.1,\n",
       "        20.3, 22.5, 29. , 24.8, 22. , 26.4, 33.1, 36.1, 28.4, 33.4, 28.2,\n",
       "        22.8, 20.3, 16.1, 22.1, 19.4, 21.6, 23.8, 16.2, 17.8, 19.8, 23.1,\n",
       "        21. , 23.8, 23.1, 20.4, 18.5, 25. , 24.6, 23. , 22.2, 19.3, 22.6,\n",
       "        19.8, 17.1, 19.4, 22.2, 20.7, 21.1, 19.5, 18.5, 20.6, 19. , 18.7,\n",
       "        32.7, 16.5, 23.9, 31.2, 17.5, 17.2, 23.1, 24.5, 26.6, 22.9, 24.1,\n",
       "        18.6, 30.1, 18.2, 20.6, 17.8, 21.7, 22.7, 22.6, 25. , 19.9, 20.8,\n",
       "        16.8, 21.9, 27.5, 21.9, 23.1, 50. , 50. , 50. , 50. , 50. , 13.8,\n",
       "        13.8, 15. , 13.9, 13.3, 13.1, 10.2, 10.4, 10.9, 11.3, 12.3,  8.8,\n",
       "         7.2, 10.5,  7.4, 10.2, 11.5, 15.1, 23.2,  9.7, 13.8, 12.7, 13.1,\n",
       "        12.5,  8.5,  5. ,  6.3,  5.6,  7.2, 12.1,  8.3,  8.5,  5. , 11.9,\n",
       "        27.9, 17.2, 27.5, 15. , 17.2, 17.9, 16.3,  7. ,  7.2,  7.5, 10.4,\n",
       "         8.8,  8.4, 16.7, 14.2, 20.8, 13.4, 11.7,  8.3, 10.2, 10.9, 11. ,\n",
       "         9.5, 14.5, 14.1, 16.1, 14.3, 11.7, 13.4,  9.6,  8.7,  8.4, 12.8,\n",
       "        10.5, 17.1, 18.4, 15.4, 10.8, 11.8, 14.9, 12.6, 14.1, 13. , 13.4,\n",
       "        15.2, 16.1, 17.8, 14.9, 14.1, 12.7, 13.5, 14.9, 20. , 16.4, 17.7,\n",
       "        19.5, 20.2, 21.4, 19.9, 19. , 19.1, 19.1, 20.1, 19.9, 19.6, 23.2,\n",
       "        29.8, 13.8, 13.3, 16.7, 12. , 14.6, 21.4, 23. , 23.7, 25. , 21.8,\n",
       "        20.6, 21.2, 19.1, 20.6, 15.2,  7. ,  8.1, 13.6, 20.1, 21.8, 24.5,\n",
       "        23.1, 19.7, 18.3, 21.2, 17.5, 16.8, 22.4, 20.6, 23.9, 22. , 11.9]),\n",
       " 'feature_names': array(['CRIM', 'ZN', 'INDUS', 'CHAS', 'NOX', 'RM', 'AGE', 'DIS', 'RAD',\n",
       "        'TAX', 'PTRATIO', 'B', 'LSTAT'], dtype='<U7'),\n",
       " 'DESCR': \".. _boston_dataset:\\n\\nBoston house prices dataset\\n---------------------------\\n\\n**Data Set Characteristics:**  \\n\\n    :Number of Instances: 506 \\n\\n    :Number of Attributes: 13 numeric/categorical predictive. Median Value (attribute 14) is usually the target.\\n\\n    :Attribute Information (in order):\\n        - CRIM     per capita crime rate by town\\n        - ZN       proportion of residential land zoned for lots over 25,000 sq.ft.\\n        - INDUS    proportion of non-retail business acres per town\\n        - CHAS     Charles River dummy variable (= 1 if tract bounds river; 0 otherwise)\\n        - NOX      nitric oxides concentration (parts per 10 million)\\n        - RM       average number of rooms per dwelling\\n        - AGE      proportion of owner-occupied units built prior to 1940\\n        - DIS      weighted distances to five Boston employment centres\\n        - RAD      index of accessibility to radial highways\\n        - TAX      full-value property-tax rate per $10,000\\n        - PTRATIO  pupil-teacher ratio by town\\n        - B        1000(Bk - 0.63)^2 where Bk is the proportion of black people by town\\n        - LSTAT    % lower status of the population\\n        - MEDV     Median value of owner-occupied homes in $1000's\\n\\n    :Missing Attribute Values: None\\n\\n    :Creator: Harrison, D. and Rubinfeld, D.L.\\n\\nThis is a copy of UCI ML housing dataset.\\nhttps://archive.ics.uci.edu/ml/machine-learning-databases/housing/\\n\\n\\nThis dataset was taken from the StatLib library which is maintained at Carnegie Mellon University.\\n\\nThe Boston house-price data of Harrison, D. and Rubinfeld, D.L. 'Hedonic\\nprices and the demand for clean air', J. Environ. Economics & Management,\\nvol.5, 81-102, 1978.   Used in Belsley, Kuh & Welsch, 'Regression diagnostics\\n...', Wiley, 1980.   N.B. Various transformations are used in the table on\\npages 244-261 of the latter.\\n\\nThe Boston house-price data has been used in many machine learning papers that address regression\\nproblems.   \\n     \\n.. topic:: References\\n\\n   - Belsley, Kuh & Welsch, 'Regression diagnostics: Identifying Influential Data and Sources of Collinearity', Wiley, 1980. 244-261.\\n   - Quinlan,R. (1993). Combining Instance-Based and Model-Based Learning. In Proceedings on the Tenth International Conference of Machine Learning, 236-243, University of Massachusetts, Amherst. Morgan Kaufmann.\\n\",\n",
       " 'filename': 'boston_house_prices.csv',\n",
       " 'data_module': 'sklearn.datasets.data'}"
      ]
     },
     "execution_count": 4,
     "metadata": {},
     "output_type": "execute_result"
    }
   ],
   "source": [
    "data = load_boston()\n",
    "data"
   ]
  },
  {
   "cell_type": "code",
   "execution_count": 5,
   "id": "2a3395fd-2a02-44a0-a57b-20facb65aefe",
   "metadata": {},
   "outputs": [],
   "source": [
    "X = data.data\n",
    "y = data.target"
   ]
  },
  {
   "cell_type": "code",
   "execution_count": 6,
   "id": "af834cb2-d9b6-4770-a766-dcfe3b2f0a50",
   "metadata": {},
   "outputs": [
    {
     "data": {
      "text/plain": [
       "(506, 13)"
      ]
     },
     "execution_count": 6,
     "metadata": {},
     "output_type": "execute_result"
    }
   ],
   "source": [
    "X.shape"
   ]
  },
  {
   "cell_type": "code",
   "execution_count": 7,
   "id": "5e2623f9-63ac-469a-84f0-349f6e1cc2b4",
   "metadata": {},
   "outputs": [
    {
     "data": {
      "text/plain": [
       "(506,)"
      ]
     },
     "execution_count": 7,
     "metadata": {},
     "output_type": "execute_result"
    }
   ],
   "source": [
    "y.shape"
   ]
  },
  {
   "cell_type": "code",
   "execution_count": 8,
   "id": "d858505f-4e14-4cf8-a3bd-aa66b3d9634c",
   "metadata": {},
   "outputs": [
    {
     "data": {
      "text/plain": [
       "array([24. , 21.6, 34.7, 33.4, 36.2, 28.7, 22.9, 27.1, 16.5, 18.9, 15. ,\n",
       "       18.9, 21.7, 20.4, 18.2, 19.9, 23.1, 17.5, 20.2, 18.2, 13.6, 19.6,\n",
       "       15.2, 14.5, 15.6, 13.9, 16.6, 14.8, 18.4, 21. , 12.7, 14.5, 13.2,\n",
       "       13.1, 13.5, 18.9, 20. , 21. , 24.7, 30.8, 34.9, 26.6, 25.3, 24.7,\n",
       "       21.2, 19.3, 20. , 16.6, 14.4, 19.4, 19.7, 20.5, 25. , 23.4, 18.9,\n",
       "       35.4, 24.7, 31.6, 23.3, 19.6, 18.7, 16. , 22.2, 25. , 33. , 23.5,\n",
       "       19.4, 22. , 17.4, 20.9, 24.2, 21.7, 22.8, 23.4, 24.1, 21.4, 20. ,\n",
       "       20.8, 21.2, 20.3, 28. , 23.9, 24.8, 22.9, 23.9, 26.6, 22.5, 22.2,\n",
       "       23.6, 28.7, 22.6, 22. , 22.9, 25. , 20.6, 28.4, 21.4, 38.7, 43.8,\n",
       "       33.2, 27.5, 26.5, 18.6, 19.3, 20.1, 19.5, 19.5, 20.4, 19.8, 19.4,\n",
       "       21.7, 22.8, 18.8, 18.7, 18.5, 18.3, 21.2, 19.2, 20.4, 19.3, 22. ,\n",
       "       20.3, 20.5, 17.3, 18.8, 21.4, 15.7, 16.2, 18. , 14.3, 19.2, 19.6,\n",
       "       23. , 18.4, 15.6, 18.1, 17.4, 17.1, 13.3, 17.8, 14. , 14.4, 13.4,\n",
       "       15.6, 11.8, 13.8, 15.6, 14.6, 17.8, 15.4, 21.5, 19.6, 15.3, 19.4,\n",
       "       17. , 15.6, 13.1, 41.3, 24.3, 23.3, 27. , 50. , 50. , 50. , 22.7,\n",
       "       25. , 50. , 23.8, 23.8, 22.3, 17.4, 19.1, 23.1, 23.6, 22.6, 29.4,\n",
       "       23.2, 24.6, 29.9, 37.2, 39.8, 36.2, 37.9, 32.5, 26.4, 29.6, 50. ,\n",
       "       32. , 29.8, 34.9, 37. , 30.5, 36.4, 31.1, 29.1, 50. , 33.3, 30.3,\n",
       "       34.6, 34.9, 32.9, 24.1, 42.3, 48.5, 50. , 22.6, 24.4, 22.5, 24.4,\n",
       "       20. , 21.7, 19.3, 22.4, 28.1, 23.7, 25. , 23.3, 28.7, 21.5, 23. ,\n",
       "       26.7, 21.7, 27.5, 30.1, 44.8, 50. , 37.6, 31.6, 46.7, 31.5, 24.3,\n",
       "       31.7, 41.7, 48.3, 29. , 24. , 25.1, 31.5, 23.7, 23.3, 22. , 20.1,\n",
       "       22.2, 23.7, 17.6, 18.5, 24.3, 20.5, 24.5, 26.2, 24.4, 24.8, 29.6,\n",
       "       42.8, 21.9, 20.9, 44. , 50. , 36. , 30.1, 33.8, 43.1, 48.8, 31. ,\n",
       "       36.5, 22.8, 30.7, 50. , 43.5, 20.7, 21.1, 25.2, 24.4, 35.2, 32.4,\n",
       "       32. , 33.2, 33.1, 29.1, 35.1, 45.4, 35.4, 46. , 50. , 32.2, 22. ,\n",
       "       20.1, 23.2, 22.3, 24.8, 28.5, 37.3, 27.9, 23.9, 21.7, 28.6, 27.1,\n",
       "       20.3, 22.5, 29. , 24.8, 22. , 26.4, 33.1, 36.1, 28.4, 33.4, 28.2,\n",
       "       22.8, 20.3, 16.1, 22.1, 19.4, 21.6, 23.8, 16.2, 17.8, 19.8, 23.1,\n",
       "       21. , 23.8, 23.1, 20.4, 18.5, 25. , 24.6, 23. , 22.2, 19.3, 22.6,\n",
       "       19.8, 17.1, 19.4, 22.2, 20.7, 21.1, 19.5, 18.5, 20.6, 19. , 18.7,\n",
       "       32.7, 16.5, 23.9, 31.2, 17.5, 17.2, 23.1, 24.5, 26.6, 22.9, 24.1,\n",
       "       18.6, 30.1, 18.2, 20.6, 17.8, 21.7, 22.7, 22.6, 25. , 19.9, 20.8,\n",
       "       16.8, 21.9, 27.5, 21.9, 23.1, 50. , 50. , 50. , 50. , 50. , 13.8,\n",
       "       13.8, 15. , 13.9, 13.3, 13.1, 10.2, 10.4, 10.9, 11.3, 12.3,  8.8,\n",
       "        7.2, 10.5,  7.4, 10.2, 11.5, 15.1, 23.2,  9.7, 13.8, 12.7, 13.1,\n",
       "       12.5,  8.5,  5. ,  6.3,  5.6,  7.2, 12.1,  8.3,  8.5,  5. , 11.9,\n",
       "       27.9, 17.2, 27.5, 15. , 17.2, 17.9, 16.3,  7. ,  7.2,  7.5, 10.4,\n",
       "        8.8,  8.4, 16.7, 14.2, 20.8, 13.4, 11.7,  8.3, 10.2, 10.9, 11. ,\n",
       "        9.5, 14.5, 14.1, 16.1, 14.3, 11.7, 13.4,  9.6,  8.7,  8.4, 12.8,\n",
       "       10.5, 17.1, 18.4, 15.4, 10.8, 11.8, 14.9, 12.6, 14.1, 13. , 13.4,\n",
       "       15.2, 16.1, 17.8, 14.9, 14.1, 12.7, 13.5, 14.9, 20. , 16.4, 17.7,\n",
       "       19.5, 20.2, 21.4, 19.9, 19. , 19.1, 19.1, 20.1, 19.9, 19.6, 23.2,\n",
       "       29.8, 13.8, 13.3, 16.7, 12. , 14.6, 21.4, 23. , 23.7, 25. , 21.8,\n",
       "       20.6, 21.2, 19.1, 20.6, 15.2,  7. ,  8.1, 13.6, 20.1, 21.8, 24.5,\n",
       "       23.1, 19.7, 18.3, 21.2, 17.5, 16.8, 22.4, 20.6, 23.9, 22. , 11.9])"
      ]
     },
     "execution_count": 8,
     "metadata": {},
     "output_type": "execute_result"
    }
   ],
   "source": [
    "y"
   ]
  },
  {
   "cell_type": "code",
   "execution_count": 9,
   "id": "d8f2cb81-6753-4857-850a-8e0b5dcc752e",
   "metadata": {},
   "outputs": [],
   "source": [
    "Xtrain,Xtest,Ytrain,Ytest = TTS(X,y,test_size=0.3,random_state=420)"
   ]
  },
  {
   "cell_type": "code",
   "execution_count": 10,
   "id": "24354abc-6775-4d24-91b9-2ba11e606216",
   "metadata": {},
   "outputs": [],
   "source": [
    "reg = XGBR(n_estimators=100).fit(Xtrain,Ytrain)"
   ]
  },
  {
   "cell_type": "code",
   "execution_count": 11,
   "id": "f03d11b6-a7c5-41d2-be7a-32430ee27da6",
   "metadata": {},
   "outputs": [
    {
     "data": {
      "text/plain": [
       "array([ 6.6689262, 22.34918  , 31.052807 , 13.911595 ,  9.467966 ,\n",
       "       22.658588 , 14.514282 , 15.092699 , 15.293644 , 12.680115 ,\n",
       "       24.140797 , 35.890083 , 21.573483 , 27.07066  , 19.052658 ,\n",
       "        9.89033  , 23.386076 , 23.588493 , 23.311466 , 22.401644 ,\n",
       "       18.98444  , 15.766946 , 25.8352   , 20.193802 , 19.982517 ,\n",
       "       15.611423 , 22.883228 , 29.838228 , 22.815304 , 16.779037 ,\n",
       "       37.13194  , 20.133305 , 19.67352  , 23.525528 , 22.845137 ,\n",
       "       23.87397  , 15.17887  , 23.45934  , 16.685331 , 31.761686 ,\n",
       "       18.525843 , 22.441063 , 38.48728  , 17.93719  , 15.10122  ,\n",
       "       28.980541 , 46.363487 , 12.842797 ,  9.618281 , 35.40579  ,\n",
       "       25.657566 , 20.605602 , 20.800055 , 49.228447 , 31.355848 ,\n",
       "       29.382515 , 18.911947 , 21.049877 , 16.165182 , 18.098577 ,\n",
       "       14.659002 , 21.720213 , 19.413454 , 28.932102 , 30.573524 ,\n",
       "       19.228426 , 20.531511 , 15.666289 , 23.52929  , 19.30554  ,\n",
       "       28.384985 , 42.83562  , 29.429724 , 23.306015 , 19.741224 ,\n",
       "       24.202463 , 38.735516 , 26.782232 , 22.168324 , 20.67139  ,\n",
       "       19.534992 , 47.360317 , 24.008802 ,  8.184814 , 25.613977 ,\n",
       "       20.691843 , 17.127483 , 21.10027  , 22.279167 ,  7.755469 ,\n",
       "       20.0476   , 15.406112 , 42.38165  , 33.828186 , 22.788246 ,\n",
       "        9.302419 , 10.416187 , 20.033014 ,  8.241165 , 12.816478 ,\n",
       "       30.793974 , 10.078776 , 25.383692 , 21.933594 , 30.53568  ,\n",
       "       42.866497 , 19.598145 ,  8.321976 , 23.194368 , 12.547767 ,\n",
       "       46.838867 , 22.961082 , 20.244467 , 23.170694 , 18.948856 ,\n",
       "       29.682056 , 24.363865 , 19.715958 , 44.975193 , 17.64582  ,\n",
       "       24.3169   , 24.946495 , 18.23235  , 16.922577 , 14.77714  ,\n",
       "       21.757038 , 33.83876  , 10.938419 , 20.035763 , 21.085218 ,\n",
       "       19.331562 , 20.505526 ,  8.285518 , 28.01946  , 29.631227 ,\n",
       "       19.908175 , 18.30325  , 14.204149 , 10.795732 , 18.232307 ,\n",
       "       42.266888 , 17.304502 , 22.974121 , 20.946724 , 30.724297 ,\n",
       "       20.072989 , 12.772859 , 41.472908 , 27.652838 , 22.20476  ,\n",
       "       14.235871 , 25.88964  ], dtype=float32)"
      ]
     },
     "execution_count": 11,
     "metadata": {},
     "output_type": "execute_result"
    }
   ],
   "source": [
    "reg.predict(Xtest)"
   ]
  },
  {
   "cell_type": "code",
   "execution_count": 12,
   "id": "eea2d8c7-5567-4e99-b0e2-0c9942a30252",
   "metadata": {},
   "outputs": [
    {
     "data": {
      "text/plain": [
       "0.9050988968414799"
      ]
     },
     "execution_count": 12,
     "metadata": {},
     "output_type": "execute_result"
    }
   ],
   "source": [
    "reg.score(Xtest,Ytest)"
   ]
  },
  {
   "cell_type": "code",
   "execution_count": 13,
   "id": "bb7884ba-8791-4c02-8584-4fd5feefacc5",
   "metadata": {},
   "outputs": [
    {
     "data": {
      "text/plain": [
       "22.532806324110677"
      ]
     },
     "execution_count": 13,
     "metadata": {},
     "output_type": "execute_result"
    }
   ],
   "source": [
    "y.mean()"
   ]
  },
  {
   "cell_type": "code",
   "execution_count": 14,
   "id": "e44acac1-69fe-45c8-a830-a130251e7e04",
   "metadata": {},
   "outputs": [
    {
     "data": {
      "text/plain": [
       "8.830916343629323"
      ]
     },
     "execution_count": 14,
     "metadata": {},
     "output_type": "execute_result"
    }
   ],
   "source": [
    "MSE(Ytest,reg.predict(Xtest))"
   ]
  },
  {
   "cell_type": "code",
   "execution_count": 15,
   "id": "3fb89599-0b45-4fc9-b234-d6de76f838a0",
   "metadata": {},
   "outputs": [
    {
     "data": {
      "text/plain": [
       "array([0.01902167, 0.0042109 , 0.01478316, 0.00553537, 0.02222196,\n",
       "       0.37914088, 0.01679686, 0.0469872 , 0.04073574, 0.05491759,\n",
       "       0.06684221, 0.00869464, 0.3201119 ], dtype=float32)"
      ]
     },
     "execution_count": 15,
     "metadata": {},
     "output_type": "execute_result"
    }
   ],
   "source": [
    "reg.feature_importances_ "
   ]
  },
  {
   "cell_type": "code",
   "execution_count": 16,
   "id": "0142a609-c20b-478a-9672-ee013dd49a09",
   "metadata": {},
   "outputs": [],
   "source": [
    "reg = XGBR(n_estimators=100)"
   ]
  },
  {
   "cell_type": "code",
   "execution_count": 17,
   "id": "b54693f0-df45-4e69-8209-bc3aa09eefbb",
   "metadata": {},
   "outputs": [
    {
     "data": {
      "text/plain": [
       "0.7995062821902295"
      ]
     },
     "execution_count": 17,
     "metadata": {},
     "output_type": "execute_result"
    }
   ],
   "source": [
    "CVS(reg,Xtrain,Ytrain,cv=5).mean()"
   ]
  },
  {
   "cell_type": "code",
   "execution_count": 18,
   "id": "280fd4c7-b60a-4976-b37f-3a621a6d40db",
   "metadata": {},
   "outputs": [
    {
     "data": {
      "text/plain": [
       "-16.215644229762717"
      ]
     },
     "execution_count": 18,
     "metadata": {},
     "output_type": "execute_result"
    }
   ],
   "source": [
    "CVS(reg,Xtrain,Ytrain,cv=5,scoring='neg_mean_squared_error').mean()"
   ]
  },
  {
   "cell_type": "code",
   "execution_count": 19,
   "id": "c5ea6afa-f642-4610-b658-f983dc164134",
   "metadata": {},
   "outputs": [
    {
     "data": {
      "text/plain": [
       "['accuracy',\n",
       " 'adjusted_mutual_info_score',\n",
       " 'adjusted_rand_score',\n",
       " 'average_precision',\n",
       " 'balanced_accuracy',\n",
       " 'completeness_score',\n",
       " 'explained_variance',\n",
       " 'f1',\n",
       " 'f1_macro',\n",
       " 'f1_micro',\n",
       " 'f1_samples',\n",
       " 'f1_weighted',\n",
       " 'fowlkes_mallows_score',\n",
       " 'homogeneity_score',\n",
       " 'jaccard',\n",
       " 'jaccard_macro',\n",
       " 'jaccard_micro',\n",
       " 'jaccard_samples',\n",
       " 'jaccard_weighted',\n",
       " 'max_error',\n",
       " 'mutual_info_score',\n",
       " 'neg_brier_score',\n",
       " 'neg_log_loss',\n",
       " 'neg_mean_absolute_error',\n",
       " 'neg_mean_absolute_percentage_error',\n",
       " 'neg_mean_gamma_deviance',\n",
       " 'neg_mean_poisson_deviance',\n",
       " 'neg_mean_squared_error',\n",
       " 'neg_mean_squared_log_error',\n",
       " 'neg_median_absolute_error',\n",
       " 'neg_root_mean_squared_error',\n",
       " 'normalized_mutual_info_score',\n",
       " 'precision',\n",
       " 'precision_macro',\n",
       " 'precision_micro',\n",
       " 'precision_samples',\n",
       " 'precision_weighted',\n",
       " 'r2',\n",
       " 'rand_score',\n",
       " 'recall',\n",
       " 'recall_macro',\n",
       " 'recall_micro',\n",
       " 'recall_samples',\n",
       " 'recall_weighted',\n",
       " 'roc_auc',\n",
       " 'roc_auc_ovo',\n",
       " 'roc_auc_ovo_weighted',\n",
       " 'roc_auc_ovr',\n",
       " 'roc_auc_ovr_weighted',\n",
       " 'top_k_accuracy',\n",
       " 'v_measure_score']"
      ]
     },
     "execution_count": 19,
     "metadata": {},
     "output_type": "execute_result"
    }
   ],
   "source": [
    "import sklearn\n",
    "sorted(sklearn.metrics.SCORERS.keys())"
   ]
  },
  {
   "cell_type": "code",
   "execution_count": 20,
   "id": "6efa7dd2-292b-470b-a081-cf833b2c62cc",
   "metadata": {},
   "outputs": [
    {
     "data": {
      "text/plain": [
       "0.8023799994631826"
      ]
     },
     "execution_count": 20,
     "metadata": {},
     "output_type": "execute_result"
    }
   ],
   "source": [
    "#使用随机森林和线性回归进行一个对比\n",
    "rfr = RFR(n_estimators=100)\n",
    "CVS(rfr,Xtrain,Ytrain,cv=5).mean()"
   ]
  },
  {
   "cell_type": "code",
   "execution_count": 21,
   "id": "5564e8c4-59a4-4559-9605-5a5549c7d69f",
   "metadata": {},
   "outputs": [
    {
     "data": {
      "text/plain": [
       "-16.75547736072435"
      ]
     },
     "execution_count": 21,
     "metadata": {},
     "output_type": "execute_result"
    }
   ],
   "source": [
    "CVS(rfr,Xtrain,Ytrain,cv=5,scoring='neg_mean_squared_error').mean()"
   ]
  },
  {
   "cell_type": "code",
   "execution_count": 22,
   "id": "108de566-ef20-4e35-8bb5-2c2ae3ed77f4",
   "metadata": {},
   "outputs": [
    {
     "data": {
      "text/plain": [
       "0.6835070597278087"
      ]
     },
     "execution_count": 22,
     "metadata": {},
     "output_type": "execute_result"
    }
   ],
   "source": [
    "lr = LinearR()\n",
    "CVS(lr,Xtrain,Ytrain,cv=5).mean()"
   ]
  },
  {
   "cell_type": "code",
   "execution_count": 23,
   "id": "ed200639-b8d4-4660-9625-8c943f665f68",
   "metadata": {},
   "outputs": [
    {
     "data": {
      "text/plain": [
       "-25.349507493648424"
      ]
     },
     "execution_count": 23,
     "metadata": {},
     "output_type": "execute_result"
    }
   ],
   "source": [
    "CVS(lr,Xtrain,Ytrain,cv=5,scoring='neg_mean_squared_error').mean()"
   ]
  },
  {
   "cell_type": "code",
   "execution_count": 26,
   "id": "ae1f9e5a-3fae-464c-a9b7-e1be5d778dea",
   "metadata": {},
   "outputs": [
    {
     "data": {
      "text/plain": [
       "-18.633733952333067"
      ]
     },
     "execution_count": 26,
     "metadata": {},
     "output_type": "execute_result"
    }
   ],
   "source": [
    "reg = XGBR(n_estimators=10)\n",
    "CVS(reg,Xtrain,Ytrain,cv=5,scoring='neg_mean_squared_error').mean()"
   ]
  },
  {
   "cell_type": "code",
   "execution_count": 31,
   "id": "2d5f7468-00c3-4413-aef1-9d9eda20717f",
   "metadata": {},
   "outputs": [],
   "source": [
    "#定义绘制以训练样本数为横坐标的学习曲线的函数\n",
    "def plot_learning_curve(estimator,title, X, y, \n",
    "                        ax=None, \n",
    "                        ylim=None, \n",
    "                        cv=None,\n",
    "                        n_jobs=None \n",
    "                       ):\n",
    "    \n",
    "    from sklearn.model_selection import learning_curve\n",
    "    import matplotlib.pyplot as plt\n",
    "    import numpy as np\n",
    "    \n",
    "    train_sizes, train_scores, test_scores = learning_curve(estimator, X, y\n",
    "                                                            ,shuffle=True\n",
    "                                                            ,cv=cv\n",
    "                                                            ,random_state=420\n",
    "                                                            ,n_jobs=n_jobs)      \n",
    "    if ax == None:\n",
    "        ax = plt.gca()\n",
    "    else:\n",
    "        ax = plt.figure()\n",
    "    ax.set_title(title)\n",
    "    if ylim is not None:\n",
    "        ax.set_ylim(*ylim)\n",
    "    ax.set_xlabel(\"Training examples\")\n",
    "    ax.set_ylabel(\"Score\")\n",
    "    ax.grid() \n",
    "    ax.plot(train_sizes, np.mean(train_scores, axis=1), 'o-'\n",
    "            , color=\"r\",label=\"Training score\")\n",
    "    ax.plot(train_sizes, np.mean(test_scores, axis=1), 'o-'\n",
    "            , color=\"g\",label=\"Test score\")\n",
    "    ax.legend(loc=\"best\")\n",
    "    return ax"
   ]
  },
  {
   "cell_type": "code",
   "execution_count": 32,
   "id": "204744de-1952-4159-acd1-89359db4c59a",
   "metadata": {},
   "outputs": [],
   "source": [
    "cv = KFold(n_splits=5, shuffle = True, random_state=42)"
   ]
  },
  {
   "cell_type": "code",
   "execution_count": 33,
   "id": "63caec83-04a9-4857-bc2e-11445627b0b0",
   "metadata": {},
   "outputs": [
    {
     "data": {
      "image/png": "[encoded data removed]",
      "text/plain": [
       "<Figure size 432x288 with 1 Axes>"
      ]
     },
     "metadata": {
      "needs_background": "light"
     },
     "output_type": "display_data"
    }
   ],
   "source": [
    "plot_learning_curve(XGBR(n_estimators=100,random_state=420)\n",
    "                    ,\"XGB\",Xtrain,Ytrain,ax=None,cv=cv)\n",
    "plt.show()"
   ]
  },
  {
   "cell_type": "code",
   "execution_count": 34,
   "id": "787be056-7967-4afa-a3b1-8e22c2619e12",
   "metadata": {},
   "outputs": [
    {
     "name": "stdout",
     "output_type": "stream",
     "text": [
      "160 0.8320776498992342\n"
     ]
    },
    {
     "data": {
      "image/png": "[encoded data removed]",
      "text/plain": [
       "<Figure size 1440x360 with 1 Axes>"
      ]
     },
     "metadata": {
      "needs_background": "light"
     },
     "output_type": "display_data"
    }
   ],
   "source": [
    "axisx = range(10,1010,50)\n",
    "rs = []\n",
    "for i in axisx:\n",
    "    reg = XGBR(n_estimators=i,random_state=420)\n",
    "    rs.append(CVS(reg,Xtrain,Ytrain,cv=cv).mean())\n",
    "print(axisx[rs.index(max(rs))],max(rs))\n",
    "plt.figure(figsize=(20,5))\n",
    "plt.plot(axisx,rs,c=\"red\",label=\"XGB\")\n",
    "plt.legend()\n",
    "plt.show()"
   ]
  },
  {
   "cell_type": "code",
   "execution_count": 35,
   "id": "759959d2-7163-4848-a7c8-e59dcab01302",
   "metadata": {},
   "outputs": [
    {
     "name": "stdout",
     "output_type": "stream",
     "text": [
      "100 0.8320924293483107 0.005344212126112929\n",
      "100 0.8320924293483107 0.005344212126112929\n",
      "100 0.8320924293483107 0.005344212126112929 0.03353716440826495\n"
     ]
    },
    {
     "data": {
      "image/png": "[encoded data removed]",
      "text/plain": [
       "<Figure size 1440x360 with 1 Axes>"
      ]
     },
     "metadata": {
      "needs_background": "light"
     },
     "output_type": "display_data"
    }
   ],
   "source": [
    "axisx = range(50,1050,50)\n",
    "rs = []\n",
    "var = []\n",
    "ge = []\n",
    "for i in axisx:\n",
    "    reg = XGBR(n_estimators=i,random_state=420)\n",
    "    cvresult = CVS(reg,Xtrain,Ytrain,cv=cv)\n",
    "    rs.append(cvresult.mean())\n",
    "    \n",
    "    var.append(cvresult.var())\n",
    "    \n",
    "    ge.append((1 - cvresult.mean())**2+cvresult.var())\n",
    "#打印R2最高所对应的参数取值，并打印这个参数下的方差\n",
    "print(axisx[rs.index(max(rs))],max(rs),var[rs.index(max(rs))])\n",
    "#打印方差最低时对应的参数取值，并打印这个参数下的R2\n",
    "print(axisx[var.index(min(var))],rs[var.index(min(var))],min(var))\n",
    "#打印泛化误差可控部分的参数取值，并打印这个参数下的R2，方差以及泛化误差的可控部分\n",
    "print(axisx[ge.index(min(ge))],rs[ge.index(min(ge))],var[ge.index(min(ge))],min(ge))\n",
    "plt.figure(figsize=(20,5))\n",
    "plt.plot(axisx,rs,c=\"red\",label=\"XGB\")\n",
    "plt.legend()\n",
    "plt.show()"
   ]
  },
  {
   "cell_type": "code",
   "execution_count": 36,
   "id": "fbd3006a-a144-408d-ac07-8cd79eb56dc1",
   "metadata": {},
   "outputs": [
    {
     "name": "stdout",
     "output_type": "stream",
     "text": [
      "100 0.8320924293483107 0.005344212126112929\n",
      "100 0.8320924293483107 0.005344212126112929\n",
      "100 0.8320924293483107 0.005344212126112929 0.03353716440826495\n"
     ]
    },
    {
     "data": {
      "image/png": "[encoded data removed]",
      "text/plain": [
       "<Figure size 1440x360 with 1 Axes>"
      ]
     },
     "metadata": {
      "needs_background": "light"
     },
     "output_type": "display_data"
    }
   ],
   "source": [
    "#使用参数学习曲线观察n_estimators对模型的影响\n",
    "axisx = range(100,300,10)\n",
    "rs = []\n",
    "var = []\n",
    "ge = []\n",
    "for i in axisx:\n",
    "    reg = XGBR(n_estimators=i,random_state=420)\n",
    "    cvresult = CVS(reg,Xtrain,Ytrain,cv=cv)\n",
    "    rs.append(cvresult.mean())\n",
    "    var.append(cvresult.var())\n",
    "    ge.append((1 - cvresult.mean())**2+cvresult.var())\n",
    "print(axisx[rs.index(max(rs))],max(rs),var[rs.index(max(rs))])\n",
    "print(axisx[var.index(min(var))],rs[var.index(min(var))],min(var))\n",
    "print(axisx[ge.index(min(ge))],rs[ge.index(min(ge))],var[ge.index(min(ge))],min(ge))\n",
    "rs = np.array(rs)\n",
    "var = np.array(var)*0.01\n",
    "plt.figure(figsize=(20,5))\n",
    "plt.plot(axisx,rs,c=\"black\",label=\"XGB\")\n",
    "#添加方差线\n",
    "plt.plot(axisx,rs+var,c=\"red\",linestyle='-.')\n",
    "plt.plot(axisx,rs-var,c=\"red\",linestyle='-.')\n",
    "plt.legend()\n",
    "plt.show()"
   ]
  },
  {
   "cell_type": "code",
   "execution_count": 37,
   "id": "9f7d2f22-0d94-4919-bc11-db359bbc3b55",
   "metadata": {},
   "outputs": [
    {
     "data": {
      "image/png": "[encoded data removed]",
      "text/plain": [
       "<Figure size 1440x360 with 1 Axes>"
      ]
     },
     "metadata": {
      "needs_background": "light"
     },
     "output_type": "display_data"
    }
   ],
   "source": [
    "plt.figure(figsize=(20,5))\n",
    "plt.plot(axisx,ge,c=\"gray\",linestyle='-.')\n",
    "plt.show()"
   ]
  },
  {
   "cell_type": "code",
   "execution_count": 38,
   "id": "d3753ea7-ba19-4e20-bfd8-0fb62e21a7d5",
   "metadata": {},
   "outputs": [
    {
     "name": "stdout",
     "output_type": "stream",
     "text": [
      "0.9050988968414799\n",
      "0.12573003768920898\n"
     ]
    }
   ],
   "source": [
    "time0 = time()\n",
    "print(XGBR(n_estimators=100,random_state=420).fit(Xtrain,Ytrain).score(Xtest,Ytest))\n",
    "print(time()-time0)"
   ]
  },
  {
   "cell_type": "code",
   "execution_count": 41,
   "id": "fe919b00-5ffe-45e9-bf93-38c1c7fc018a",
   "metadata": {},
   "outputs": [
    {
     "name": "stdout",
     "output_type": "stream",
     "text": [
      "0.9050526026617368\n",
      "0.18010306358337402\n"
     ]
    }
   ],
   "source": [
    "time0 = time()\n",
    "print(XGBR(n_estimators=160,random_state=420).fit(Xtrain,Ytrain).score(Xtest,Ytest))\n",
    "print(time()-time0)"
   ]
  },
  {
   "cell_type": "markdown",
   "id": "26aed03a-54e6-4da3-a887-4869e8a312d2",
   "metadata": {},
   "source": [
    "# subsample"
   ]
  },
  {
   "cell_type": "code",
   "execution_count": 42,
   "id": "0592a129-45ac-4302-999b-050ca39ef9c3",
   "metadata": {},
   "outputs": [
    {
     "name": "stdout",
     "output_type": "stream",
     "text": [
      "1.0 0.8320775188717384\n"
     ]
    },
    {
     "data": {
      "image/png": "[encoded data removed]",
      "text/plain": [
       "<Figure size 1440x360 with 1 Axes>"
      ]
     },
     "metadata": {
      "needs_background": "light"
     },
     "output_type": "display_data"
    }
   ],
   "source": [
    "axisx = np.linspace(0,1,20)\n",
    "rs = []\n",
    "for i in axisx:\n",
    "    reg = XGBR(n_estimators=180,subsample=i,random_state=420)\n",
    "    rs.append(CVS(reg,Xtrain,Ytrain,cv=cv).mean())\n",
    "print(axisx[rs.index(max(rs))],max(rs))\n",
    "plt.figure(figsize=(20,5))\n",
    "plt.plot(axisx,rs,c=\"green\",label=\"XGB\")\n",
    "plt.legend()\n",
    "plt.show()"
   ]
  },
  {
   "cell_type": "code",
   "execution_count": 47,
   "id": "e0290b4f-75a1-4259-9ecb-d3264e9d2bf8",
   "metadata": {},
   "outputs": [
    {
     "name": "stdout",
     "output_type": "stream",
     "text": [
      "1.0 0.8320776498992342 0.005351395694609409\n",
      "0.75 0.817335230885076 0.0026742987368480855\n",
      "1.0 0.8320776498992342 0.005351395694609409 0.03354931135797358\n"
     ]
    },
    {
     "data": {
      "image/png": "[encoded data removed]",
      "text/plain": [
       "<Figure size 1440x360 with 1 Axes>"
      ]
     },
     "metadata": {
      "needs_background": "light"
     },
     "output_type": "display_data"
    }
   ],
   "source": [
    "#继续细化学习曲线\n",
    "axisx = np.linspace(0.05,1,20)\n",
    "rs = []\n",
    "var = []\n",
    "ge = []\n",
    "for i in axisx:\n",
    "    reg = XGBR(n_estimators=160,subsample=i,random_state=420)\n",
    "    cvresult = CVS(reg,Xtrain,Ytrain,cv=cv)\n",
    "    rs.append(cvresult.mean())\n",
    "    var.append(cvresult.var())\n",
    "    ge.append((1 - cvresult.mean())**2+cvresult.var())\n",
    "print(axisx[rs.index(max(rs))],max(rs),var[rs.index(max(rs))])\n",
    "print(axisx[var.index(min(var))],rs[var.index(min(var))],min(var))\n",
    "print(axisx[ge.index(min(ge))],rs[ge.index(min(ge))],var[ge.index(min(ge))],min(ge))\n",
    "rs = np.array(rs)\n",
    "var = np.array(var)\n",
    "plt.figure(figsize=(20,5))\n",
    "plt.plot(axisx,rs,c=\"black\",label=\"XGB\")\n",
    "plt.plot(axisx,rs+var,c=\"red\",linestyle='-.')\n",
    "plt.plot(axisx,rs-var,c=\"red\",linestyle='-.')\n",
    "plt.legend()\n",
    "plt.show()"
   ]
  },
  {
   "cell_type": "code",
   "execution_count": 48,
   "id": "3dbd2e86-101f-4c6f-9db2-a516d2332b9a",
   "metadata": {},
   "outputs": [
    {
     "name": "stdout",
     "output_type": "stream",
     "text": [
      "1.0 0.8320776498992342 0.005351395694609409\n",
      "0.9375 0.8213396591900601 0.002302095690752414\n",
      "1.0 0.8320776498992342 0.005351395694609409 0.03354931135797358\n"
     ]
    },
    {
     "data": {
      "image/png": "[encoded data removed]",
      "text/plain": [
       "<Figure size 1440x360 with 1 Axes>"
      ]
     },
     "metadata": {
      "needs_background": "light"
     },
     "output_type": "display_data"
    }
   ],
   "source": [
    "#细化学习曲线\n",
    "axisx = np.linspace(0.75,1,25)\n",
    "rs = []\n",
    "var = []\n",
    "ge = []\n",
    "for i in axisx:\n",
    "    reg = XGBR(n_estimators=160,subsample=i,random_state=420)\n",
    "    cvresult = CVS(reg,Xtrain,Ytrain,cv=cv)\n",
    "    rs.append(cvresult.mean())\n",
    "    var.append(cvresult.var())\n",
    "    ge.append((1 - cvresult.mean())**2+cvresult.var())\n",
    "print(axisx[rs.index(max(rs))],max(rs),var[rs.index(max(rs))])\n",
    "print(axisx[var.index(min(var))],rs[var.index(min(var))],min(var))\n",
    "print(axisx[ge.index(min(ge))],rs[ge.index(min(ge))],var[ge.index(min(ge))],min(ge))\n",
    "rs = np.array(rs)\n",
    "var = np.array(var)\n",
    "plt.figure(figsize=(20,5))\n",
    "plt.plot(axisx,rs,c=\"black\",label=\"XGB\")\n",
    "plt.plot(axisx,rs+var,c=\"red\",linestyle='-.')\n",
    "plt.plot(axisx,rs-var,c=\"red\",linestyle='-.')\n",
    "plt.legend()\n",
    "plt.show()"
   ]
  },
  {
   "cell_type": "code",
   "execution_count": 49,
   "id": "4a108b16-fe0f-44db-af58-8338e386f3cd",
   "metadata": {},
   "outputs": [
    {
     "data": {
      "text/plain": [
       "0.9050526026617368"
      ]
     },
     "execution_count": 49,
     "metadata": {},
     "output_type": "execute_result"
    }
   ],
   "source": [
    "reg = XGBR(n_estimators=160\n",
    "           ,random_state=420).fit(Xtrain,Ytrain)\n",
    "reg.score(Xtest,Ytest)"
   ]
  },
  {
   "cell_type": "code",
   "execution_count": 50,
   "id": "76b53abf-2756-4d27-82e7-0f0e92288ee1",
   "metadata": {},
   "outputs": [
    {
     "data": {
      "text/plain": [
       "8.835224196909236"
      ]
     },
     "execution_count": 50,
     "metadata": {},
     "output_type": "execute_result"
    }
   ],
   "source": [
    "MSE(Ytest,reg.predict(Xtest))"
   ]
  },
  {
   "cell_type": "markdown",
   "id": "e96de18e-00ad-4b8c-a9b9-4d3524421a33",
   "metadata": {},
   "source": [
    "# eta"
   ]
  },
  {
   "cell_type": "code",
   "execution_count": 51,
   "id": "2ab9c683-7560-4dd1-80de-8ecbbe36e4e0",
   "metadata": {},
   "outputs": [],
   "source": [
    "def regassess(reg,Xtrain,Ytrain,cv,scoring = [\"r2\"],show=True):\n",
    "    score = []\n",
    "    for i in range(len(scoring)):\n",
    "        if show:\n",
    "            print(\"{}:{:.2f}\".format(scoring[i] #模型评估指标的名字\n",
    "                                     ,CVS(reg\n",
    "                                          ,Xtrain,Ytrain\n",
    "                                          ,cv=cv,scoring=scoring[i]).mean()))\n",
    "        score.append(CVS(reg,Xtrain,Ytrain,cv=cv,scoring=scoring[i]).mean())\n",
    "    return score"
   ]
  },
  {
   "cell_type": "code",
   "execution_count": 54,
   "id": "b50390ca-61a9-4cd6-baa5-467b5decf48c",
   "metadata": {},
   "outputs": [],
   "source": [
    "reg = XGBR(n_estimators=160,random_state=420)"
   ]
  },
  {
   "cell_type": "code",
   "execution_count": 55,
   "id": "9a262f18-2adf-43f2-b28e-a80165cef6e0",
   "metadata": {},
   "outputs": [
    {
     "name": "stdout",
     "output_type": "stream",
     "text": [
      "r2:0.83\n",
      "neg_mean_squared_error:-12.11\n"
     ]
    },
    {
     "data": {
      "text/plain": [
       "[0.8320776498992342, -12.108517056692513]"
      ]
     },
     "execution_count": 55,
     "metadata": {},
     "output_type": "execute_result"
    }
   ],
   "source": [
    "regassess(reg,Xtrain,Ytrain,cv,scoring = [\"r2\",\"neg_mean_squared_error\"])"
   ]
  },
  {
   "cell_type": "code",
   "execution_count": 56,
   "id": "ac74d6fb-bf31-44b1-9a1c-c4daf7a2ab2d",
   "metadata": {},
   "outputs": [
    {
     "data": {
      "text/plain": [
       "[0.8320776498992342, -12.108517056692513]"
      ]
     },
     "execution_count": 56,
     "metadata": {},
     "output_type": "execute_result"
    }
   ],
   "source": [
    "regassess(reg,Xtrain,Ytrain,cv,scoring = [\"r2\",\"neg_mean_squared_error\"],show=False)"
   ]
  },
  {
   "cell_type": "code",
   "execution_count": 59,
   "id": "832117e2-3ab1-4031-9d39-b0353ab41e57",
   "metadata": {},
   "outputs": [
    {
     "name": "stdout",
     "output_type": "stream",
     "text": [
      "learning_rate = 0\n",
      "r2:-6.76\n",
      "neg_mean_squared_error:-567.55\n",
      "00:02:074213\n",
      "\t\n",
      "learning_rate = 0.2\n",
      "r2:0.83\n",
      "neg_mean_squared_error:-12.29\n",
      "00:03:405210\n",
      "\t\n",
      "learning_rate = 0.5\n",
      "r2:0.82\n",
      "neg_mean_squared_error:-12.48\n",
      "00:01:987428\n",
      "\t\n",
      "learning_rate = 1\n",
      "r2:0.71\n",
      "neg_mean_squared_error:-20.06\n",
      "00:01:393002\n",
      "\t\n"
     ]
    }
   ],
   "source": [
    "from time import time\n",
    "import datetime\n",
    "\n",
    "for i in [0,0.2,0.5,1]:\n",
    "    time0=time()\n",
    "    reg = XGBR(n_estimators=160,random_state=420,learning_rate=i)\n",
    "    print(\"learning_rate = {}\".format(i))\n",
    "    regassess(reg,Xtrain,Ytrain,cv,scoring = [\"r2\",\"neg_mean_squared_error\"])\n",
    "    print(datetime.datetime.fromtimestamp(time()-time0).strftime(\"%M:%S:%f\"))\n",
    "    print(\"\\t\")"
   ]
  },
  {
   "cell_type": "code",
   "execution_count": 60,
   "id": "f22924cf-90f7-47b3-875a-795eac2441fe",
   "metadata": {},
   "outputs": [
    {
     "name": "stdout",
     "output_type": "stream",
     "text": [
      "0.1 0.8356335731247263\n"
     ]
    },
    {
     "data": {
      "image/png": "[encoded data removed]",
      "text/plain": [
       "<Figure size 1440x360 with 1 Axes>"
      ]
     },
     "metadata": {
      "needs_background": "light"
     },
     "output_type": "display_data"
    }
   ],
   "source": [
    "axisx = np.arange(0.05,1,0.05)\n",
    "rs = []\n",
    "te = []\n",
    "for i in axisx:\n",
    "    reg = XGBR(n_estimators=160,random_state=420,learning_rate=i)\n",
    "    score = regassess(reg,Xtrain,Ytrain,cv,scoring = [\"r2\",\"neg_mean_squared_error\"],show=False)\n",
    "    test = reg.fit(Xtrain,Ytrain).score(Xtest,Ytest)\n",
    "    rs.append(score[0])\n",
    "    te.append(test)\n",
    "print(axisx[rs.index(max(rs))],max(rs))\n",
    "plt.figure(figsize=(20,5))\n",
    "plt.plot(axisx,te,c=\"gray\",label=\"test\")\n",
    "plt.plot(axisx,rs,c=\"green\",label=\"train\")\n",
    "plt.legend()\n",
    "plt.show()"
   ]
  },
  {
   "cell_type": "markdown",
   "id": "d83820ec-a72a-4290-8627-6041cbbf97b1",
   "metadata": {},
   "source": [
    "# booster"
   ]
  },
  {
   "cell_type": "code",
   "execution_count": 61,
   "id": "99d079a1-dbea-4b2f-8395-6849bff05c58",
   "metadata": {},
   "outputs": [
    {
     "name": "stdout",
     "output_type": "stream",
     "text": [
      "gbtree\n",
      "0.9260984369386971\n",
      "gblinear\n",
      "0.6502419239850123\n",
      "dart\n",
      "0.9260984459922119\n"
     ]
    }
   ],
   "source": [
    "for booster in [\"gbtree\",\"gblinear\",\"dart\"]:\n",
    "    reg = XGBR(n_estimators=180\n",
    "               ,learning_rate=0.1\n",
    "               ,random_state=420\n",
    "               ,booster=booster).fit(Xtrain,Ytrain)\n",
    "    print(booster)\n",
    "    print(reg.score(Xtest,Ytest))"
   ]
  },
  {
   "cell_type": "code",
   "execution_count": 62,
   "id": "dedb5794-9dba-4563-9380-61d81034b392",
   "metadata": {},
   "outputs": [
    {
     "data": {
      "text/plain": [
       "0.9050526026617368"
      ]
     },
     "execution_count": 62,
     "metadata": {},
     "output_type": "execute_result"
    }
   ],
   "source": [
    "reg = XGBR(n_estimators=180,random_state=420).fit(Xtrain,Ytrain)\n",
    "reg.score(Xtest, Ytest)"
   ]
  },
  {
   "cell_type": "code",
   "execution_count": 63,
   "id": "1c3ad6a3-45d1-4200-94b2-533639ac3911",
   "metadata": {},
   "outputs": [
    {
     "data": {
      "text/plain": [
       "8.835224196909236"
      ]
     },
     "execution_count": 63,
     "metadata": {},
     "output_type": "execute_result"
    }
   ],
   "source": [
    "MSE(Ytest,reg.predict(Xtest))"
   ]
  },
  {
   "cell_type": "code",
   "execution_count": 64,
   "id": "e79f7cac-1538-45d6-aad2-0a34ded81e6b",
   "metadata": {},
   "outputs": [
    {
     "data": {
      "text/plain": [
       "<xgboost.core.DMatrix at 0x205d942b820>"
      ]
     },
     "execution_count": 64,
     "metadata": {},
     "output_type": "execute_result"
    }
   ],
   "source": [
    "import xgboost as xgb\n",
    "dtrain = xgb.DMatrix(Xtrain,Ytrain)\n",
    "dtest = xgb.DMatrix(Xtest,Ytest)\n",
    "dtrain"
   ]
  },
  {
   "cell_type": "code",
   "execution_count": 65,
   "id": "a53d06e7-b1c0-494d-897b-2351c39caaed",
   "metadata": {},
   "outputs": [
    {
     "data": {
      "text/html": [
       "<div>\n",
       "<style scoped>\n",
       "    .dataframe tbody tr th:only-of-type {\n",
       "        vertical-align: middle;\n",
       "    }\n",
       "\n",
       "    .dataframe tbody tr th {\n",
       "        vertical-align: top;\n",
       "    }\n",
       "\n",
       "    .dataframe thead th {\n",
       "        text-align: right;\n",
       "    }\n",
       "</style>\n",
       "<table border=\"1\" class=\"dataframe\">\n",
       "  <thead>\n",
       "    <tr style=\"text-align: right;\">\n",
       "      <th></th>\n",
       "      <th>0</th>\n",
       "      <th>1</th>\n",
       "      <th>2</th>\n",
       "      <th>3</th>\n",
       "      <th>4</th>\n",
       "      <th>5</th>\n",
       "      <th>6</th>\n",
       "      <th>7</th>\n",
       "      <th>8</th>\n",
       "      <th>9</th>\n",
       "      <th>10</th>\n",
       "      <th>11</th>\n",
       "      <th>12</th>\n",
       "    </tr>\n",
       "  </thead>\n",
       "  <tbody>\n",
       "    <tr>\n",
       "      <th>0</th>\n",
       "      <td>0.03041</td>\n",
       "      <td>0.0</td>\n",
       "      <td>5.19</td>\n",
       "      <td>0.0</td>\n",
       "      <td>0.515</td>\n",
       "      <td>5.895</td>\n",
       "      <td>59.6</td>\n",
       "      <td>5.6150</td>\n",
       "      <td>5.0</td>\n",
       "      <td>224.0</td>\n",
       "      <td>20.2</td>\n",
       "      <td>394.81</td>\n",
       "      <td>10.56</td>\n",
       "    </tr>\n",
       "    <tr>\n",
       "      <th>1</th>\n",
       "      <td>0.04113</td>\n",
       "      <td>25.0</td>\n",
       "      <td>4.86</td>\n",
       "      <td>0.0</td>\n",
       "      <td>0.426</td>\n",
       "      <td>6.727</td>\n",
       "      <td>33.5</td>\n",
       "      <td>5.4007</td>\n",
       "      <td>4.0</td>\n",
       "      <td>281.0</td>\n",
       "      <td>19.0</td>\n",
       "      <td>396.90</td>\n",
       "      <td>5.29</td>\n",
       "    </tr>\n",
       "    <tr>\n",
       "      <th>2</th>\n",
       "      <td>10.23300</td>\n",
       "      <td>0.0</td>\n",
       "      <td>18.10</td>\n",
       "      <td>0.0</td>\n",
       "      <td>0.614</td>\n",
       "      <td>6.185</td>\n",
       "      <td>96.7</td>\n",
       "      <td>2.1705</td>\n",
       "      <td>24.0</td>\n",
       "      <td>666.0</td>\n",
       "      <td>20.2</td>\n",
       "      <td>379.70</td>\n",
       "      <td>18.03</td>\n",
       "    </tr>\n",
       "    <tr>\n",
       "      <th>3</th>\n",
       "      <td>0.17142</td>\n",
       "      <td>0.0</td>\n",
       "      <td>6.91</td>\n",
       "      <td>0.0</td>\n",
       "      <td>0.448</td>\n",
       "      <td>5.682</td>\n",
       "      <td>33.8</td>\n",
       "      <td>5.1004</td>\n",
       "      <td>3.0</td>\n",
       "      <td>233.0</td>\n",
       "      <td>17.9</td>\n",
       "      <td>396.90</td>\n",
       "      <td>10.21</td>\n",
       "    </tr>\n",
       "    <tr>\n",
       "      <th>4</th>\n",
       "      <td>0.05059</td>\n",
       "      <td>0.0</td>\n",
       "      <td>4.49</td>\n",
       "      <td>0.0</td>\n",
       "      <td>0.449</td>\n",
       "      <td>6.389</td>\n",
       "      <td>48.0</td>\n",
       "      <td>4.7794</td>\n",
       "      <td>3.0</td>\n",
       "      <td>247.0</td>\n",
       "      <td>18.5</td>\n",
       "      <td>396.90</td>\n",
       "      <td>9.62</td>\n",
       "    </tr>\n",
       "    <tr>\n",
       "      <th>...</th>\n",
       "      <td>...</td>\n",
       "      <td>...</td>\n",
       "      <td>...</td>\n",
       "      <td>...</td>\n",
       "      <td>...</td>\n",
       "      <td>...</td>\n",
       "      <td>...</td>\n",
       "      <td>...</td>\n",
       "      <td>...</td>\n",
       "      <td>...</td>\n",
       "      <td>...</td>\n",
       "      <td>...</td>\n",
       "      <td>...</td>\n",
       "    </tr>\n",
       "    <tr>\n",
       "      <th>349</th>\n",
       "      <td>0.03871</td>\n",
       "      <td>52.5</td>\n",
       "      <td>5.32</td>\n",
       "      <td>0.0</td>\n",
       "      <td>0.405</td>\n",
       "      <td>6.209</td>\n",
       "      <td>31.3</td>\n",
       "      <td>7.3172</td>\n",
       "      <td>6.0</td>\n",
       "      <td>293.0</td>\n",
       "      <td>16.6</td>\n",
       "      <td>396.90</td>\n",
       "      <td>7.14</td>\n",
       "    </tr>\n",
       "    <tr>\n",
       "      <th>350</th>\n",
       "      <td>0.12650</td>\n",
       "      <td>25.0</td>\n",
       "      <td>5.13</td>\n",
       "      <td>0.0</td>\n",
       "      <td>0.453</td>\n",
       "      <td>6.762</td>\n",
       "      <td>43.4</td>\n",
       "      <td>7.9809</td>\n",
       "      <td>8.0</td>\n",
       "      <td>284.0</td>\n",
       "      <td>19.7</td>\n",
       "      <td>395.58</td>\n",
       "      <td>9.50</td>\n",
       "    </tr>\n",
       "    <tr>\n",
       "      <th>351</th>\n",
       "      <td>6.96215</td>\n",
       "      <td>0.0</td>\n",
       "      <td>18.10</td>\n",
       "      <td>0.0</td>\n",
       "      <td>0.700</td>\n",
       "      <td>5.713</td>\n",
       "      <td>97.0</td>\n",
       "      <td>1.9265</td>\n",
       "      <td>24.0</td>\n",
       "      <td>666.0</td>\n",
       "      <td>20.2</td>\n",
       "      <td>394.43</td>\n",
       "      <td>17.11</td>\n",
       "    </tr>\n",
       "    <tr>\n",
       "      <th>352</th>\n",
       "      <td>0.09164</td>\n",
       "      <td>0.0</td>\n",
       "      <td>10.81</td>\n",
       "      <td>0.0</td>\n",
       "      <td>0.413</td>\n",
       "      <td>6.065</td>\n",
       "      <td>7.8</td>\n",
       "      <td>5.2873</td>\n",
       "      <td>4.0</td>\n",
       "      <td>305.0</td>\n",
       "      <td>19.2</td>\n",
       "      <td>390.91</td>\n",
       "      <td>5.52</td>\n",
       "    </tr>\n",
       "    <tr>\n",
       "      <th>353</th>\n",
       "      <td>5.58107</td>\n",
       "      <td>0.0</td>\n",
       "      <td>18.10</td>\n",
       "      <td>0.0</td>\n",
       "      <td>0.713</td>\n",
       "      <td>6.436</td>\n",
       "      <td>87.9</td>\n",
       "      <td>2.3158</td>\n",
       "      <td>24.0</td>\n",
       "      <td>666.0</td>\n",
       "      <td>20.2</td>\n",
       "      <td>100.19</td>\n",
       "      <td>16.22</td>\n",
       "    </tr>\n",
       "  </tbody>\n",
       "</table>\n",
       "<p>354 rows × 13 columns</p>\n",
       "</div>"
      ],
      "text/plain": [
       "           0     1      2    3      4      5     6       7     8      9   \\\n",
       "0     0.03041   0.0   5.19  0.0  0.515  5.895  59.6  5.6150   5.0  224.0   \n",
       "1     0.04113  25.0   4.86  0.0  0.426  6.727  33.5  5.4007   4.0  281.0   \n",
       "2    10.23300   0.0  18.10  0.0  0.614  6.185  96.7  2.1705  24.0  666.0   \n",
       "3     0.17142   0.0   6.91  0.0  0.448  5.682  33.8  5.1004   3.0  233.0   \n",
       "4     0.05059   0.0   4.49  0.0  0.449  6.389  48.0  4.7794   3.0  247.0   \n",
       "..        ...   ...    ...  ...    ...    ...   ...     ...   ...    ...   \n",
       "349   0.03871  52.5   5.32  0.0  0.405  6.209  31.3  7.3172   6.0  293.0   \n",
       "350   0.12650  25.0   5.13  0.0  0.453  6.762  43.4  7.9809   8.0  284.0   \n",
       "351   6.96215   0.0  18.10  0.0  0.700  5.713  97.0  1.9265  24.0  666.0   \n",
       "352   0.09164   0.0  10.81  0.0  0.413  6.065   7.8  5.2873   4.0  305.0   \n",
       "353   5.58107   0.0  18.10  0.0  0.713  6.436  87.9  2.3158  24.0  666.0   \n",
       "\n",
       "       10      11     12  \n",
       "0    20.2  394.81  10.56  \n",
       "1    19.0  396.90   5.29  \n",
       "2    20.2  379.70  18.03  \n",
       "3    17.9  396.90  10.21  \n",
       "4    18.5  396.90   9.62  \n",
       "..    ...     ...    ...  \n",
       "349  16.6  396.90   7.14  \n",
       "350  19.7  395.58   9.50  \n",
       "351  20.2  394.43  17.11  \n",
       "352  19.2  390.91   5.52  \n",
       "353  20.2  100.19  16.22  \n",
       "\n",
       "[354 rows x 13 columns]"
      ]
     },
     "execution_count": 65,
     "metadata": {},
     "output_type": "execute_result"
    }
   ],
   "source": [
    "import pandas as pd\n",
    "pd.DataFrame(Xtrain)"
   ]
  },
  {
   "cell_type": "code",
   "execution_count": 66,
   "id": "b3ddada4-6cd4-4805-993a-03506e925a82",
   "metadata": {},
   "outputs": [],
   "source": [
    "param = {'objective':'reg:linear'\n",
    "         ,\"eta\":0.1}\n",
    "num_round = 160 "
   ]
  },
  {
   "cell_type": "code",
   "execution_count": 67,
   "id": "ee70e73e-cc94-4a05-8419-5343cf5f6d79",
   "metadata": {},
   "outputs": [
    {
     "name": "stdout",
     "output_type": "stream",
     "text": [
      "[10:40:00] WARNING: c:\\ci\\xgboost-split_1638290375667\\work\\src\\objective\\regression_obj.cu:188: reg:linear is now deprecated in favor of reg:squarederror.\n",
      "[10:40:00] WARNING: ..\\src\\learner.cc:576: \n",
      "Parameters: { \"silent\" } might not be used.\n",
      "\n",
      "  This could be a false alarm, with some parameters getting used by language bindings but\n",
      "  then being mistakenly passed down to XGBoost core, or some parameter actually being used\n",
      "  but getting flagged wrongly here. Please open an issue if you find any such cases.\n",
      "\n",
      "\n"
     ]
    }
   ],
   "source": [
    "bst = xgb.train(param, dtrain, num_round)"
   ]
  },
  {
   "cell_type": "code",
   "execution_count": 68,
   "id": "ec0d5669-7274-4f01-a718-6b8fa86ce143",
   "metadata": {},
   "outputs": [],
   "source": [
    "preds = bst.predict(dtest)"
   ]
  },
  {
   "cell_type": "code",
   "execution_count": 69,
   "id": "1f092e6d-95d0-4d52-83c6-ff2b5c0c2ef3",
   "metadata": {},
   "outputs": [
    {
     "data": {
      "text/plain": [
       "array([ 6.455705 , 22.094864 , 30.780926 , 13.3854065,  8.404386 ,\n",
       "       23.60258  , 14.235775 , 15.949026 , 15.523221 , 14.114215 ,\n",
       "       24.063562 , 34.36054  , 21.45416  , 28.812864 , 19.5613   ,\n",
       "       10.17152  , 19.422009 , 23.556221 , 22.850714 , 23.171673 ,\n",
       "       17.833193 , 16.103    , 27.601276 , 20.78776  , 20.887596 ,\n",
       "       15.854918 , 22.09172  , 29.281677 , 22.82485  , 15.7689295,\n",
       "       36.676235 , 21.046375 , 20.162252 , 23.797886 , 22.755018 ,\n",
       "       23.851278 , 15.590613 , 24.5704   , 17.716793 , 33.970375 ,\n",
       "       18.812212 , 20.463076 , 37.11063  , 18.0787   , 12.729707 ,\n",
       "       31.156633 , 45.911175 , 12.708427 , 10.771535 , 36.06169  ,\n",
       "       26.267761 , 19.934822 , 20.70839  , 48.836052 , 27.543344 ,\n",
       "       25.270641 , 17.15841  , 21.252327 , 17.45341  , 18.479298 ,\n",
       "       14.6937   , 22.837267 , 18.869286 , 30.04693  , 29.922459 ,\n",
       "       18.732492 , 18.782242 , 16.391432 , 23.147203 , 19.126724 ,\n",
       "       29.737858 , 42.125793 , 31.545622 , 23.023172 , 19.547653 ,\n",
       "       23.84327  , 41.82074  , 28.66696  , 20.062956 , 21.721684 ,\n",
       "       19.567923 , 46.351036 , 23.103193 ,  8.07689  , 26.348124 ,\n",
       "       24.84833  , 17.035515 , 20.074825 , 18.531479 ,  7.145148 ,\n",
       "       20.602612 , 15.498318 , 45.127308 , 34.433495 , 22.949747 ,\n",
       "       10.138343 , 10.792201 , 18.426605 ,  7.8303905, 11.784183 ,\n",
       "       30.76399  , 10.815276 , 26.141096 , 22.58198  , 31.219969 ,\n",
       "       42.32155  , 19.311377 ,  7.377825 , 23.049068 , 14.297424 ,\n",
       "       45.135075 , 21.249565 , 19.740374 , 24.565197 , 18.266375 ,\n",
       "       28.388979 , 23.406471 , 19.910866 , 45.905315 , 17.51269  ,\n",
       "       24.08759  , 26.121485 , 18.404058 , 17.654095 , 14.498106 ,\n",
       "       20.593798 , 32.558506 , 10.200989 , 20.545673 , 21.45246  ,\n",
       "       17.374586 , 20.151344 ,  7.9912148, 30.441961 , 29.678778 ,\n",
       "       20.368382 , 18.262043 , 14.134474 , 10.0980625, 18.764297 ,\n",
       "       41.849968 , 17.458435 , 22.909796 , 21.027386 , 29.793764 ,\n",
       "       20.219791 , 12.396116 , 45.765682 , 25.566902 , 22.007114 ,\n",
       "       14.208567 , 27.087427 ], dtype=float32)"
      ]
     },
     "execution_count": 69,
     "metadata": {},
     "output_type": "execute_result"
    }
   ],
   "source": [
    "preds"
   ]
  },
  {
   "cell_type": "code",
   "execution_count": 70,
   "id": "92da2afd-8934-4a45-b24f-ab0bf926e48e",
   "metadata": {},
   "outputs": [
    {
     "data": {
      "text/plain": [
       "0.9262354628669508"
      ]
     },
     "execution_count": 70,
     "metadata": {},
     "output_type": "execute_result"
    }
   ],
   "source": [
    "from sklearn.metrics import r2_score\n",
    "r2_score(Ytest,preds)"
   ]
  },
  {
   "cell_type": "code",
   "execution_count": 71,
   "id": "d3c0ab06-12ad-4825-90f0-3aa3eb81660a",
   "metadata": {},
   "outputs": [
    {
     "data": {
      "text/plain": [
       "6.864076758521994"
      ]
     },
     "execution_count": 71,
     "metadata": {},
     "output_type": "execute_result"
    }
   ],
   "source": [
    "MSE(Ytest,preds)"
   ]
  },
  {
   "cell_type": "markdown",
   "id": "3d38668f-e31a-45ef-84b7-4f98111428c1",
   "metadata": {},
   "source": [
    "# gmma"
   ]
  },
  {
   "cell_type": "code",
   "execution_count": 72,
   "id": "67899b15-eb81-49db-a3f3-5c6aa3d5abcc",
   "metadata": {},
   "outputs": [],
   "source": [
    "import xgboost as xgb\n",
    "\n",
    "dfull = xgb.DMatrix(X,y)"
   ]
  },
  {
   "cell_type": "code",
   "execution_count": 84,
   "id": "f88c0d8b-a4dc-4a6c-bd56-98f896ff3d24",
   "metadata": {},
   "outputs": [],
   "source": [
    "param1 = {'objective':'reg:squarederror',\"gamma\":0}\n",
    "num_round = 180\n",
    "n_fold=5 "
   ]
  },
  {
   "cell_type": "code",
   "execution_count": 85,
   "id": "3ff5e482-be84-4f97-a607-cd00cb7de89c",
   "metadata": {},
   "outputs": [
    {
     "name": "stdout",
     "output_type": "stream",
     "text": [
      "00:00:857133\n"
     ]
    }
   ],
   "source": [
    "time0 = time()\n",
    "cvresult1 = xgb.cv(param1, dfull, num_round,n_fold)\n",
    "print(datetime.datetime.fromtimestamp(time()-time0).strftime(\"%M:%S:%f\"))"
   ]
  },
  {
   "cell_type": "code",
   "execution_count": 86,
   "id": "0f8b548a-5b59-4a77-b85b-76ebae1fde20",
   "metadata": {},
   "outputs": [
    {
     "data": {
      "text/html": [
       "<div>\n",
       "<style scoped>\n",
       "    .dataframe tbody tr th:only-of-type {\n",
       "        vertical-align: middle;\n",
       "    }\n",
       "\n",
       "    .dataframe tbody tr th {\n",
       "        vertical-align: top;\n",
       "    }\n",
       "\n",
       "    .dataframe thead th {\n",
       "        text-align: right;\n",
       "    }\n",
       "</style>\n",
       "<table border=\"1\" class=\"dataframe\">\n",
       "  <thead>\n",
       "    <tr style=\"text-align: right;\">\n",
       "      <th></th>\n",
       "      <th>train-rmse-mean</th>\n",
       "      <th>train-rmse-std</th>\n",
       "      <th>test-rmse-mean</th>\n",
       "      <th>test-rmse-std</th>\n",
       "    </tr>\n",
       "  </thead>\n",
       "  <tbody>\n",
       "    <tr>\n",
       "      <th>0</th>\n",
       "      <td>17.105577</td>\n",
       "      <td>0.129117</td>\n",
       "      <td>17.163215</td>\n",
       "      <td>0.584296</td>\n",
       "    </tr>\n",
       "    <tr>\n",
       "      <th>1</th>\n",
       "      <td>12.337973</td>\n",
       "      <td>0.097557</td>\n",
       "      <td>12.519735</td>\n",
       "      <td>0.473458</td>\n",
       "    </tr>\n",
       "    <tr>\n",
       "      <th>2</th>\n",
       "      <td>8.994071</td>\n",
       "      <td>0.065756</td>\n",
       "      <td>9.404534</td>\n",
       "      <td>0.472309</td>\n",
       "    </tr>\n",
       "    <tr>\n",
       "      <th>3</th>\n",
       "      <td>6.629481</td>\n",
       "      <td>0.050323</td>\n",
       "      <td>7.250335</td>\n",
       "      <td>0.500342</td>\n",
       "    </tr>\n",
       "    <tr>\n",
       "      <th>4</th>\n",
       "      <td>4.954406</td>\n",
       "      <td>0.033209</td>\n",
       "      <td>5.920812</td>\n",
       "      <td>0.591874</td>\n",
       "    </tr>\n",
       "    <tr>\n",
       "      <th>...</th>\n",
       "      <td>...</td>\n",
       "      <td>...</td>\n",
       "      <td>...</td>\n",
       "      <td>...</td>\n",
       "    </tr>\n",
       "    <tr>\n",
       "      <th>175</th>\n",
       "      <td>0.001299</td>\n",
       "      <td>0.000289</td>\n",
       "      <td>3.669898</td>\n",
       "      <td>0.857676</td>\n",
       "    </tr>\n",
       "    <tr>\n",
       "      <th>176</th>\n",
       "      <td>0.001285</td>\n",
       "      <td>0.000261</td>\n",
       "      <td>3.669897</td>\n",
       "      <td>0.857677</td>\n",
       "    </tr>\n",
       "    <tr>\n",
       "      <th>177</th>\n",
       "      <td>0.001275</td>\n",
       "      <td>0.000239</td>\n",
       "      <td>3.669903</td>\n",
       "      <td>0.857669</td>\n",
       "    </tr>\n",
       "    <tr>\n",
       "      <th>178</th>\n",
       "      <td>0.001263</td>\n",
       "      <td>0.000217</td>\n",
       "      <td>3.669901</td>\n",
       "      <td>0.857672</td>\n",
       "    </tr>\n",
       "    <tr>\n",
       "      <th>179</th>\n",
       "      <td>0.001259</td>\n",
       "      <td>0.000208</td>\n",
       "      <td>3.669901</td>\n",
       "      <td>0.857671</td>\n",
       "    </tr>\n",
       "  </tbody>\n",
       "</table>\n",
       "<p>180 rows × 4 columns</p>\n",
       "</div>"
      ],
      "text/plain": [
       "     train-rmse-mean  train-rmse-std  test-rmse-mean  test-rmse-std\n",
       "0          17.105577        0.129117       17.163215       0.584296\n",
       "1          12.337973        0.097557       12.519735       0.473458\n",
       "2           8.994071        0.065756        9.404534       0.472309\n",
       "3           6.629481        0.050323        7.250335       0.500342\n",
       "4           4.954406        0.033209        5.920812       0.591874\n",
       "..               ...             ...             ...            ...\n",
       "175         0.001299        0.000289        3.669898       0.857676\n",
       "176         0.001285        0.000261        3.669897       0.857677\n",
       "177         0.001275        0.000239        3.669903       0.857669\n",
       "178         0.001263        0.000217        3.669901       0.857672\n",
       "179         0.001259        0.000208        3.669901       0.857671\n",
       "\n",
       "[180 rows x 4 columns]"
      ]
     },
     "execution_count": 86,
     "metadata": {},
     "output_type": "execute_result"
    }
   ],
   "source": [
    "cvresult1"
   ]
  },
  {
   "cell_type": "code",
   "execution_count": 88,
   "id": "aa27b49f-76dd-4f8a-97bc-2b19a68e4940",
   "metadata": {},
   "outputs": [
    {
     "data": {
      "image/png": "[encoded data removed]",
      "text/plain": [
       "<Figure size 1440x360 with 1 Axes>"
      ]
     },
     "metadata": {
      "needs_background": "light"
     },
     "output_type": "display_data"
    }
   ],
   "source": [
    "plt.figure(figsize=(20,5))\n",
    "plt.grid()\n",
    "plt.plot(range(1,181),cvresult1.iloc[:,0],c=\"red\",label=\"train,gamma=0\")\n",
    "plt.plot(range(1,181),cvresult1.iloc[:,2],c=\"orange\",label=\"test,gamma=0\")\n",
    "plt.legend()\n",
    "plt.show()"
   ]
  },
  {
   "cell_type": "code",
   "execution_count": 89,
   "id": "05c1e6de-ec20-49d1-a8df-7e40b810f37a",
   "metadata": {},
   "outputs": [
    {
     "data": {
      "image/png": "[encoded data removed]",
      "text/plain": [
       "<Figure size 1440x360 with 1 Axes>"
      ]
     },
     "metadata": {
      "needs_background": "light"
     },
     "output_type": "display_data"
    }
   ],
   "source": [
    "param1 = {'objective':'reg:squarederror',\"gamma\":0,\"eval_metric\":\"mae\"}\n",
    "cvresult1 = xgb.cv(param1, dfull, num_round,n_fold)\n",
    "\n",
    "plt.figure(figsize=(20,5))\n",
    "plt.grid()\n",
    "plt.plot(range(1,181),cvresult1.iloc[:,0],c=\"red\",label=\"train,gamma=0\")\n",
    "plt.plot(range(1,181),cvresult1.iloc[:,2],c=\"orange\",label=\"test,gamma=0\")\n",
    "plt.legend()\n",
    "plt.show()"
   ]
  },
  {
   "cell_type": "code",
   "execution_count": 92,
   "id": "d6d757a5-23fe-4a11-b4af-7dc6afe4a96a",
   "metadata": {},
   "outputs": [
    {
     "name": "stdout",
     "output_type": "stream",
     "text": [
      "00:00:852719\n"
     ]
    }
   ],
   "source": [
    "param1 = {'objective':'reg:squarederror',\"gamma\":0}\n",
    "param2 = {'objective':'reg:squarederror',\"gamma\":20}\n",
    "num_round = 180\n",
    "n_fold=5\n",
    "\n",
    "time0 = time()\n",
    "cvresult1 = xgb.cv(param1, dfull, num_round,n_fold)\n",
    "print(datetime.datetime.fromtimestamp(time()-time0).strftime(\"%M:%S:%f\"))"
   ]
  },
  {
   "cell_type": "code",
   "execution_count": 93,
   "id": "bc9830a9-650e-4902-b8e0-18ffc987866f",
   "metadata": {},
   "outputs": [
    {
     "name": "stdout",
     "output_type": "stream",
     "text": [
      "00:00:919149\n"
     ]
    }
   ],
   "source": [
    "time0 = time()\n",
    "cvresult2 = xgb.cv(param2, dfull, num_round,n_fold)\n",
    "print(datetime.datetime.fromtimestamp(time()-time0).strftime(\"%M:%S:%f\"))"
   ]
  },
  {
   "cell_type": "code",
   "execution_count": 94,
   "id": "886c7ee7-cf93-4720-ac50-6757fb261474",
   "metadata": {},
   "outputs": [
    {
     "data": {
      "image/png": "[encoded data removed]",
      "text/plain": [
       "<Figure size 1440x360 with 1 Axes>"
      ]
     },
     "metadata": {
      "needs_background": "light"
     },
     "output_type": "display_data"
    }
   ],
   "source": [
    "plt.figure(figsize=(20,5))\n",
    "plt.grid()\n",
    "plt.plot(range(1,181),cvresult1.iloc[:,0],c=\"red\",label=\"train,gamma=0\")\n",
    "plt.plot(range(1,181),cvresult1.iloc[:,2],c=\"orange\",label=\"test,gamma=0\")\n",
    "plt.plot(range(1,181),cvresult2.iloc[:,0],c=\"green\",label=\"train,gamma=20\")\n",
    "plt.plot(range(1,181),cvresult2.iloc[:,2],c=\"blue\",label=\"test,gamma=20\")\n",
    "plt.legend()\n",
    "plt.show()"
   ]
  },
  {
   "cell_type": "code",
   "execution_count": 95,
   "id": "12044e19-0ec7-4f4a-adbb-cc6d52a9e456",
   "metadata": {},
   "outputs": [],
   "source": [
    "import xgboost as xgb\n",
    "import matplotlib.pyplot as plt\n",
    "from time import time\n",
    "import datetime"
   ]
  },
  {
   "cell_type": "code",
   "execution_count": 102,
   "id": "303e851c-6998-4429-8bb3-b51a7a3e0800",
   "metadata": {},
   "outputs": [],
   "source": [
    "from sklearn.datasets import load_breast_cancer\n",
    "data2 = load_breast_cancer()\n",
    "\n",
    "x2 = data2.data\n",
    "y2 = data2.target\n",
    "\n",
    "dfull2 = xgb.DMatrix(x2,y2)\n",
    "\n",
    "param1 = {'objective':'binary:logistic',\"gamma\":0\n",
    "          ,\"eval_metric\":\"error\"\n",
    "         }\n",
    "param2 = {'objective':'binary:logistic',\"gamma\":1}\n",
    "num_round = 100"
   ]
  },
  {
   "cell_type": "code",
   "execution_count": 103,
   "id": "6d7b6950-7b10-461b-b309-2714031d132d",
   "metadata": {},
   "outputs": [
    {
     "name": "stdout",
     "output_type": "stream",
     "text": [
      "00:00:177521\n"
     ]
    }
   ],
   "source": [
    "time0 = time()\n",
    "cvresult1 = xgb.cv(param1, dfull2, num_round,metrics=(\"error\"))\n",
    "print(datetime.datetime.fromtimestamp(time()-time0).strftime(\"%M:%S:%f\"))"
   ]
  },
  {
   "cell_type": "code",
   "execution_count": 104,
   "id": "52c62afd-9640-4598-9f94-1734b06a209d",
   "metadata": {},
   "outputs": [
    {
     "name": "stdout",
     "output_type": "stream",
     "text": [
      "00:00:226394\n"
     ]
    }
   ],
   "source": [
    "time0 = time()\n",
    "cvresult2 = xgb.cv(param2, dfull2, num_round,metrics=(\"error\")) \n",
    "print(datetime.datetime.fromtimestamp(time()-time0).strftime(\"%M:%S:%f\"))"
   ]
  },
  {
   "cell_type": "code",
   "execution_count": 105,
   "id": "be79d574-90de-4d86-9c69-8cae53f95b81",
   "metadata": {},
   "outputs": [
    {
     "data": {
      "image/png": "[encoded data removed]",
      "text/plain": [
       "<Figure size 1440x360 with 1 Axes>"
      ]
     },
     "metadata": {
      "needs_background": "light"
     },
     "output_type": "display_data"
    }
   ],
   "source": [
    "plt.figure(figsize=(20,5))\n",
    "plt.grid()\n",
    "plt.plot(range(1,101),cvresult1.iloc[:,0],c=\"red\",label=\"train,gamma=0\")\n",
    "plt.plot(range(1,101),cvresult1.iloc[:,2],c=\"orange\",label=\"test,gamma=0\")\n",
    "plt.plot(range(1,101),cvresult2.iloc[:,0],c=\"green\",label=\"train,gamma=1\")\n",
    "plt.plot(range(1,101),cvresult2.iloc[:,2],c=\"blue\",label=\"test,gamma=1\")\n",
    "plt.legend()\n",
    "plt.show()"
   ]
  },
  {
   "cell_type": "markdown",
   "id": "8616edaf-f4d8-46c4-afc6-81dea1de2462",
   "metadata": {},
   "source": [
    "# 过拟合"
   ]
  },
  {
   "cell_type": "code",
   "execution_count": 108,
   "id": "e8465381-f473-44e4-aa77-ea7b4f0ae21a",
   "metadata": {},
   "outputs": [],
   "source": [
    "dfull = xgb.DMatrix(X,y)\n",
    "\n",
    "param1 = {'objective':'reg:squarederror'\n",
    "          ,\"subsample\":1\n",
    "          ,\"max_depth\":6\n",
    "          ,\"eta\":0.3\n",
    "          ,\"gamma\":0\n",
    "          ,\"lambda\":1\n",
    "          ,\"alpha\":0\n",
    "          ,\"colsample_bytree\":1\n",
    "          ,\"colsample_bylevel\":1\n",
    "          ,\"colsample_bynode\":1}\n",
    "num_round = 200"
   ]
  },
  {
   "cell_type": "code",
   "execution_count": 109,
   "id": "271cbcc5-2165-4173-b7b5-a59b9c7e3af7",
   "metadata": {},
   "outputs": [
    {
     "name": "stdout",
     "output_type": "stream",
     "text": [
      "00:00:523127\n"
     ]
    },
    {
     "data": {
      "image/png": "[encoded data removed]",
      "text/plain": [
       "<Figure size 1080x576 with 1 Axes>"
      ]
     },
     "metadata": {
      "needs_background": "light"
     },
     "output_type": "display_data"
    }
   ],
   "source": [
    "time0 = time()\n",
    "cvresult1 = xgb.cv(param1, dfull, num_round)\n",
    "print(datetime.datetime.fromtimestamp(time()-time0).strftime(\"%M:%S:%f\"))\n",
    "\n",
    "fig,ax = plt.subplots(1,figsize=(15,8))\n",
    "ax.set_ylim(top=5)\n",
    "ax.grid()\n",
    "ax.plot(range(1,201),cvresult1.iloc[:,0],c=\"red\",label=\"train,original\")\n",
    "ax.plot(range(1,201),cvresult1.iloc[:,2],c=\"orange\",label=\"test,original\")\n",
    "ax.legend(fontsize=\"xx-large\")\n",
    "plt.show()"
   ]
  },
  {
   "cell_type": "code",
   "execution_count": 111,
   "id": "900ec880-2925-4944-95dc-c4cc28f3bff4",
   "metadata": {},
   "outputs": [
    {
     "name": "stdout",
     "output_type": "stream",
     "text": [
      "00:00:524170\n",
      "00:00:283838\n",
      "00:00:374919\n"
     ]
    },
    {
     "data": {
      "image/png": "[encoded data removed]",
      "text/plain": [
       "<Figure size 1080x576 with 1 Axes>"
      ]
     },
     "metadata": {
      "needs_background": "light"
     },
     "output_type": "display_data"
    }
   ],
   "source": [
    "param1 = {'objective':'reg:squarederror'\n",
    "          ,\"subsample\":1\n",
    "          ,\"max_depth\":6\n",
    "          ,\"eta\":0.3\n",
    "          ,\"gamma\":0\n",
    "          ,\"lambda\":1\n",
    "          ,\"alpha\":0\n",
    "          ,\"colsample_bytree\":1\n",
    "          ,\"colsample_bylevel\":1\n",
    "          ,\"colsample_bynode\":1}\n",
    "num_round = 200\n",
    "\n",
    "time0 = time()\n",
    "cvresult1 = xgb.cv(param1, dfull, num_round)\n",
    "print(datetime.datetime.fromtimestamp(time()-time0).strftime(\"%M:%S:%f\"))\n",
    "\n",
    "fig,ax = plt.subplots(1,figsize=(15,8))\n",
    "ax.set_ylim(top=5)\n",
    "ax.grid()\n",
    "ax.plot(range(1,201),cvresult1.iloc[:,0],c=\"red\",label=\"train,original\")\n",
    "ax.plot(range(1,201),cvresult1.iloc[:,2],c=\"orange\",label=\"test,original\")\n",
    "\n",
    "param2 = {'objective':'reg:squarederror'\n",
    "          ,\"max_depth\":2\n",
    "          ,\"eta\":0.05\n",
    "          ,\"gamma\":0\n",
    "          ,\"lambda\":1\n",
    "          ,\"alpha\":0\n",
    "          ,\"colsample_bytree\":1\n",
    "          ,\"colsample_bylevel\":0.4\n",
    "          ,\"colsample_bynode\":1}\n",
    "\n",
    "param3 = {'objective':'reg:squarederror'\n",
    "          ,\"subsample\":1\n",
    "          ,\"eta\":0.05\n",
    "          ,\"gamma\":20\n",
    "          ,\"lambda\":3.5\n",
    "          ,\"alpha\":0.2\n",
    "          ,\"max_depth\":4\n",
    "          ,\"colsample_bytree\":0.4\n",
    "          ,\"colsample_bylevel\":0.6\n",
    "          ,\"colsample_bynode\":1}\n",
    "\n",
    "time0 = time()\n",
    "cvresult2 = xgb.cv(param2, dfull, num_round)\n",
    "print(datetime.datetime.fromtimestamp(time()-time0).strftime(\"%M:%S:%f\"))\n",
    "\n",
    "time0 = time()\n",
    "cvresult3 = xgb.cv(param3, dfull, num_round)\n",
    "print(datetime.datetime.fromtimestamp(time()-time0).strftime(\"%M:%S:%f\"))\n",
    "\n",
    "ax.plot(range(1,201),cvresult2.iloc[:,0],c=\"green\",label=\"train,last\")\n",
    "ax.plot(range(1,201),cvresult2.iloc[:,2],c=\"blue\",label=\"test,last\")\n",
    "ax.plot(range(1,201),cvresult3.iloc[:,0],c=\"gray\",label=\"train,this\")\n",
    "ax.plot(range(1,201),cvresult3.iloc[:,2],c=\"pink\",label=\"test,this\")\n",
    "ax.legend(fontsize=\"xx-large\")\n",
    "plt.show()"
   ]
  },
  {
   "cell_type": "markdown",
   "id": "a9074078-f50d-4807-a77b-e47565ef9256",
   "metadata": {},
   "source": [
    "# 保存模型"
   ]
  },
  {
   "cell_type": "code",
   "execution_count": 114,
   "id": "13b99b4d-4d41-44b1-84f6-b8cf8b088a4c",
   "metadata": {},
   "outputs": [],
   "source": [
    "import pickle\n",
    "dtrain = xgb.DMatrix(Xtrain,Ytrain)\n",
    "\n",
    "#设定参数，对模型进行训练\n",
    "param = {'objective':'reg:squarederror'\n",
    "          ,\"subsample\":1\n",
    "          ,\"eta\":0.05\n",
    "          ,\"gamma\":20\n",
    "          ,\"lambda\":3.5\n",
    "          ,\"alpha\":0.2\n",
    "          ,\"max_depth\":4\n",
    "          ,\"colsample_bytree\":0.4\n",
    "          ,\"colsample_bylevel\":0.6\n",
    "          ,\"colsample_bynode\":1}\n",
    "num_round = 180\n",
    "\n",
    "bst = xgb.train(param, dtrain, num_round)"
   ]
  },
  {
   "cell_type": "code",
   "execution_count": 115,
   "id": "1a7fedfd-14ce-4566-9abd-3bf355737dc0",
   "metadata": {},
   "outputs": [],
   "source": [
    "pickle.dump(bst, open(\"xgboostonboston.dat\",\"wb\"))"
   ]
  },
  {
   "cell_type": "code",
   "execution_count": 116,
   "id": "e33afb7f-a324-4630-850a-c8f21cc00a07",
   "metadata": {},
   "outputs": [
    {
     "data": {
      "text/plain": [
       "['C:\\\\Users\\\\inori\\\\Documents\\\\github\\\\Sci-kit Learn\\\\12.XGBoost',\n",
       " 'C:\\\\ProgramData\\\\Anaconda3\\\\python38.zip',\n",
       " 'C:\\\\ProgramData\\\\Anaconda3\\\\DLLs',\n",
       " 'C:\\\\ProgramData\\\\Anaconda3\\\\lib',\n",
       " 'C:\\\\ProgramData\\\\Anaconda3',\n",
       " '',\n",
       " 'C:\\\\ProgramData\\\\Anaconda3\\\\lib\\\\site-packages',\n",
       " 'C:\\\\ProgramData\\\\Anaconda3\\\\lib\\\\site-packages\\\\locket-0.2.1-py3.8.egg',\n",
       " 'C:\\\\ProgramData\\\\Anaconda3\\\\lib\\\\site-packages\\\\win32',\n",
       " 'C:\\\\ProgramData\\\\Anaconda3\\\\lib\\\\site-packages\\\\win32\\\\lib',\n",
       " 'C:\\\\ProgramData\\\\Anaconda3\\\\lib\\\\site-packages\\\\Pythonwin',\n",
       " 'C:\\\\ProgramData\\\\Anaconda3\\\\lib\\\\site-packages\\\\IPython\\\\extensions',\n",
       " 'C:\\\\Users\\\\inori\\\\.ipython']"
      ]
     },
     "execution_count": 116,
     "metadata": {},
     "output_type": "execute_result"
    }
   ],
   "source": [
    "import sys\n",
    "sys.path"
   ]
  },
  {
   "cell_type": "code",
   "execution_count": 118,
   "id": "49e009c3-d261-4368-ae9c-2fd35fbf3155",
   "metadata": {},
   "outputs": [],
   "source": [
    "from sklearn.datasets import load_boston\n",
    "from sklearn.model_selection import train_test_split as TTS\n",
    "from sklearn.metrics import mean_squared_error as MSE\n",
    "import pickle\n",
    "import xgboost as xgb"
   ]
  },
  {
   "cell_type": "code",
   "execution_count": 119,
   "id": "26131dfd-9450-45db-b111-6f5ae26fd204",
   "metadata": {},
   "outputs": [],
   "source": [
    "data = load_boston()\n",
    "\n",
    "X = data.data\n",
    "y = data.target\n",
    "\n",
    "Xtrain,Xtest,Ytrain,Ytest = TTS(X,y,test_size=0.3,random_state=420)"
   ]
  },
  {
   "cell_type": "code",
   "execution_count": 120,
   "id": "3e68a89a-cf87-4869-baa6-bc86a8ba69de",
   "metadata": {},
   "outputs": [
    {
     "name": "stdout",
     "output_type": "stream",
     "text": [
      "Loaded model from: xgboostonboston.dat\n"
     ]
    }
   ],
   "source": [
    "dtest = xgb.DMatrix(Xtest,Ytest)\n",
    "loaded_model = pickle.load(open(\"xgboostonboston.dat\", \"rb\"))\n",
    "print(\"Loaded model from: xgboostonboston.dat\")"
   ]
  },
  {
   "cell_type": "code",
   "execution_count": 121,
   "id": "e4f5c6fe-1935-4883-b5f3-7ca56e38cecb",
   "metadata": {},
   "outputs": [
    {
     "data": {
      "text/plain": [
       "array([ 9.278189 , 22.734112 , 29.49379  , 12.983151 ,  9.501983 ,\n",
       "       20.643223 , 15.942372 , 15.831039 , 15.698411 , 15.967683 ,\n",
       "       21.101307 , 35.83475  , 20.486403 , 29.231373 , 20.785269 ,\n",
       "       12.0639305, 17.634281 , 26.05238  , 25.247683 , 23.5034   ,\n",
       "       18.00751  , 16.483337 , 25.402018 , 22.421213 , 20.117733 ,\n",
       "       16.29775  , 21.58729  , 25.936457 , 23.091265 , 16.585093 ,\n",
       "       35.39749  , 20.128454 , 20.370457 , 23.711693 , 23.2132   ,\n",
       "       24.522055 , 16.185257 , 23.857044 , 18.04799  , 34.886368 ,\n",
       "       17.500023 , 21.3877   , 33.37537  , 18.835125 , 15.2021055,\n",
       "       28.557238 , 42.054836 , 16.839176 , 10.032375 , 37.126007 ,\n",
       "       26.214668 , 21.136717 , 20.56424  , 47.07938  , 27.928053 ,\n",
       "       25.919254 , 18.91586  , 20.73725  , 17.170164 , 18.296001 ,\n",
       "       15.074967 , 23.753801 , 19.82896  , 31.379152 , 29.385721 ,\n",
       "       20.15055  , 20.949522 , 17.336159 , 22.490997 , 16.978098 ,\n",
       "       28.754507 , 40.5415   , 30.079725 , 22.954508 , 20.131071 ,\n",
       "       23.611767 , 39.112865 , 27.09449  , 21.863207 , 20.840895 ,\n",
       "       18.106676 , 45.172653 , 23.532963 ,  9.185723 , 26.472696 ,\n",
       "       23.175745 , 17.478828 , 20.660913 , 15.487839 , 13.609945 ,\n",
       "       21.267662 , 19.99994  , 39.685055 , 32.446346 , 23.493828 ,\n",
       "       11.488627 , 15.72672  , 21.053246 ,  9.769615 , 11.224182 ,\n",
       "       32.408775 , 16.89148  , 24.925585 , 24.327538 , 33.56309  ,\n",
       "       41.950325 , 20.534348 ,  9.128101 , 22.954508 , 14.764961 ,\n",
       "       44.470955 , 20.587046 , 22.605795 , 24.460056 , 19.11823  ,\n",
       "       28.227682 , 23.851608 , 19.594564 , 42.40337  , 18.06053  ,\n",
       "       24.152496 , 25.261152 , 16.51031  , 18.09877  , 15.671002 ,\n",
       "       22.91     , 32.17411  , 10.821065 , 21.38708  , 19.205914 ,\n",
       "       15.028279 , 19.736324 ,  9.437382 , 28.889278 , 29.728348 ,\n",
       "       20.992556 , 18.890804 , 22.11941  , 10.96947  , 17.206701 ,\n",
       "       41.021526 , 17.42233  , 23.244827 , 20.014555 , 32.103203 ,\n",
       "       19.674358 , 11.808359 , 38.164032 , 24.953072 , 23.238205 ,\n",
       "       16.352705 , 24.270111 ], dtype=float32)"
      ]
     },
     "execution_count": 121,
     "metadata": {},
     "output_type": "execute_result"
    }
   ],
   "source": [
    "ypreds = loaded_model.predict(dtest)\n",
    "ypreds"
   ]
  },
  {
   "cell_type": "code",
   "execution_count": 122,
   "id": "3d655bf1-c76c-4642-b954-429d46eac4b2",
   "metadata": {},
   "outputs": [
    {
     "data": {
      "text/plain": [
       "9.178375452806907"
      ]
     },
     "execution_count": 122,
     "metadata": {},
     "output_type": "execute_result"
    }
   ],
   "source": [
    "from sklearn.metrics import mean_squared_error as MSE, r2_score\n",
    "MSE(Ytest,ypreds)"
   ]
  },
  {
   "cell_type": "code",
   "execution_count": 123,
   "id": "e6518ebe-88b6-4b5c-a8a7-6b2cbfe79b5d",
   "metadata": {},
   "outputs": [
    {
     "data": {
      "text/plain": [
       "0.9013649408758324"
      ]
     },
     "execution_count": 123,
     "metadata": {},
     "output_type": "execute_result"
    }
   ],
   "source": [
    "r2_score(Ytest,ypreds)"
   ]
  },
  {
   "cell_type": "code",
   "execution_count": 124,
   "id": "69d9c28e-5084-4fc2-82a2-5fb4388097a4",
   "metadata": {},
   "outputs": [],
   "source": [
    "bst = xgb.train(param, dtrain, num_round)"
   ]
  },
  {
   "cell_type": "code",
   "execution_count": 125,
   "id": "0fe25ea9-6765-48aa-98fa-b388bbc94060",
   "metadata": {},
   "outputs": [
    {
     "data": {
      "text/plain": [
       "['xgboost-boston.dat']"
      ]
     },
     "execution_count": 125,
     "metadata": {},
     "output_type": "execute_result"
    }
   ],
   "source": [
    "import joblib\n",
    "\n",
    "joblib.dump(bst,\"xgboost-boston.dat\")"
   ]
  },
  {
   "cell_type": "code",
   "execution_count": 126,
   "id": "4f7ad94a-19c8-4fbf-9a6d-b5b3626411e5",
   "metadata": {},
   "outputs": [],
   "source": [
    "loaded_model = joblib.load(\"xgboost-boston.dat\")"
   ]
  },
  {
   "cell_type": "code",
   "execution_count": 127,
   "id": "f6a90a11-465c-41b9-8018-58171e2a644c",
   "metadata": {},
   "outputs": [],
   "source": [
    "dtest = xgb.DMatrix(Xtest,Ytest)\n",
    "ypreds = loaded_model.predict(dtest)"
   ]
  },
  {
   "cell_type": "code",
   "execution_count": 128,
   "id": "6398f15f-aff5-45e3-9782-4f138934281a",
   "metadata": {},
   "outputs": [
    {
     "data": {
      "text/plain": [
       "array([ 9.278189 , 22.734112 , 29.49379  , 12.983151 ,  9.501983 ,\n",
       "       20.643223 , 15.942372 , 15.831039 , 15.698411 , 15.967683 ,\n",
       "       21.101307 , 35.83475  , 20.486403 , 29.231373 , 20.785269 ,\n",
       "       12.0639305, 17.634281 , 26.05238  , 25.247683 , 23.5034   ,\n",
       "       18.00751  , 16.483337 , 25.402018 , 22.421213 , 20.117733 ,\n",
       "       16.29775  , 21.58729  , 25.936457 , 23.091265 , 16.585093 ,\n",
       "       35.39749  , 20.128454 , 20.370457 , 23.711693 , 23.2132   ,\n",
       "       24.522055 , 16.185257 , 23.857044 , 18.04799  , 34.886368 ,\n",
       "       17.500023 , 21.3877   , 33.37537  , 18.835125 , 15.2021055,\n",
       "       28.557238 , 42.054836 , 16.839176 , 10.032375 , 37.126007 ,\n",
       "       26.214668 , 21.136717 , 20.56424  , 47.07938  , 27.928053 ,\n",
       "       25.919254 , 18.91586  , 20.73725  , 17.170164 , 18.296001 ,\n",
       "       15.074967 , 23.753801 , 19.82896  , 31.379152 , 29.385721 ,\n",
       "       20.15055  , 20.949522 , 17.336159 , 22.490997 , 16.978098 ,\n",
       "       28.754507 , 40.5415   , 30.079725 , 22.954508 , 20.131071 ,\n",
       "       23.611767 , 39.112865 , 27.09449  , 21.863207 , 20.840895 ,\n",
       "       18.106676 , 45.172653 , 23.532963 ,  9.185723 , 26.472696 ,\n",
       "       23.175745 , 17.478828 , 20.660913 , 15.487839 , 13.609945 ,\n",
       "       21.267662 , 19.99994  , 39.685055 , 32.446346 , 23.493828 ,\n",
       "       11.488627 , 15.72672  , 21.053246 ,  9.769615 , 11.224182 ,\n",
       "       32.408775 , 16.89148  , 24.925585 , 24.327538 , 33.56309  ,\n",
       "       41.950325 , 20.534348 ,  9.128101 , 22.954508 , 14.764961 ,\n",
       "       44.470955 , 20.587046 , 22.605795 , 24.460056 , 19.11823  ,\n",
       "       28.227682 , 23.851608 , 19.594564 , 42.40337  , 18.06053  ,\n",
       "       24.152496 , 25.261152 , 16.51031  , 18.09877  , 15.671002 ,\n",
       "       22.91     , 32.17411  , 10.821065 , 21.38708  , 19.205914 ,\n",
       "       15.028279 , 19.736324 ,  9.437382 , 28.889278 , 29.728348 ,\n",
       "       20.992556 , 18.890804 , 22.11941  , 10.96947  , 17.206701 ,\n",
       "       41.021526 , 17.42233  , 23.244827 , 20.014555 , 32.103203 ,\n",
       "       19.674358 , 11.808359 , 38.164032 , 24.953072 , 23.238205 ,\n",
       "       16.352705 , 24.270111 ], dtype=float32)"
      ]
     },
     "execution_count": 128,
     "metadata": {},
     "output_type": "execute_result"
    }
   ],
   "source": [
    "ypreds"
   ]
  },
  {
   "cell_type": "code",
   "execution_count": 129,
   "id": "3494caca-9265-4a7f-a7d7-09c9a625d4f8",
   "metadata": {},
   "outputs": [
    {
     "data": {
      "text/plain": [
       "9.178375452806907"
      ]
     },
     "execution_count": 129,
     "metadata": {},
     "output_type": "execute_result"
    }
   ],
   "source": [
    "MSE(Ytest, ypreds)"
   ]
  },
  {
   "cell_type": "code",
   "execution_count": 130,
   "id": "2d299b17-83eb-4df8-a6cc-3e381c9f8a01",
   "metadata": {},
   "outputs": [
    {
     "data": {
      "text/plain": [
       "0.9013649408758324"
      ]
     },
     "execution_count": 130,
     "metadata": {},
     "output_type": "execute_result"
    }
   ],
   "source": [
    "r2_score(Ytest,ypreds)"
   ]
  },
  {
   "cell_type": "code",
   "execution_count": 131,
   "id": "875d88a2-5c41-4ebd-9a76-bcda8d229efc",
   "metadata": {},
   "outputs": [],
   "source": [
    "from xgboost import XGBRegressor as XGBR\n",
    "\n",
    "bst = XGBR(n_estimators=200\n",
    "           ,eta=0.05,gamma=20\n",
    "           ,reg_lambda=3.5\n",
    "           ,reg_alpha=0.2\n",
    "           ,max_depth=4\n",
    "           ,colsample_bytree=0.4\n",
    "           ,colsample_bylevel=0.6).fit(Xtrain,Ytrain)"
   ]
  },
  {
   "cell_type": "code",
   "execution_count": 132,
   "id": "cd37e860-f732-4706-9dc1-2bd82e1b7f1a",
   "metadata": {},
   "outputs": [
    {
     "data": {
      "text/plain": [
       "['xgboost-boston-sklearn.dat']"
      ]
     },
     "execution_count": 132,
     "metadata": {},
     "output_type": "execute_result"
    }
   ],
   "source": [
    "joblib.dump(bst,\"xgboost-boston-sklearn.dat\")"
   ]
  },
  {
   "cell_type": "code",
   "execution_count": 133,
   "id": "afb5fa15-06f2-4e46-b34a-371711fcecb6",
   "metadata": {},
   "outputs": [
    {
     "data": {
      "text/plain": [
       "array([[4.15292e+01, 0.00000e+00, 1.81000e+01, ..., 2.02000e+01,\n",
       "        3.29460e+02, 2.73800e+01],\n",
       "       [2.73100e-02, 0.00000e+00, 7.07000e+00, ..., 1.78000e+01,\n",
       "        3.96900e+02, 9.14000e+00],\n",
       "       [3.15000e-02, 9.50000e+01, 1.47000e+00, ..., 1.70000e+01,\n",
       "        3.96900e+02, 4.56000e+00],\n",
       "       ...,\n",
       "       [5.08300e-02, 0.00000e+00, 5.19000e+00, ..., 2.02000e+01,\n",
       "        3.89710e+02, 5.68000e+00],\n",
       "       [3.77498e+00, 0.00000e+00, 1.81000e+01, ..., 2.02000e+01,\n",
       "        2.20100e+01, 1.71500e+01],\n",
       "       [1.96091e+01, 0.00000e+00, 1.81000e+01, ..., 2.02000e+01,\n",
       "        3.96900e+02, 1.34400e+01]])"
      ]
     },
     "execution_count": 133,
     "metadata": {},
     "output_type": "execute_result"
    }
   ],
   "source": [
    "loaded_model = joblib.load(\"xgboost-boston-sklearn.dat\")\n",
    "ypreds = loaded_model.predict(Xtest)\n",
    "Xtest"
   ]
  },
  {
   "cell_type": "code",
   "execution_count": 134,
   "id": "dcf4e86e-5ff2-48e6-8de2-dca845a4066a",
   "metadata": {},
   "outputs": [
    {
     "data": {
      "text/plain": [
       "<xgboost.core.DMatrix at 0x205db19efa0>"
      ]
     },
     "execution_count": 134,
     "metadata": {},
     "output_type": "execute_result"
    }
   ],
   "source": [
    "dtest"
   ]
  },
  {
   "cell_type": "code",
   "execution_count": 135,
   "id": "60241843-78c8-4cc5-bea9-eac9121bfa49",
   "metadata": {},
   "outputs": [
    {
     "data": {
      "text/plain": [
       "array([ 9.209096 , 22.70573  , 29.492292 , 12.896596 ,  9.380931 ,\n",
       "       20.598948 , 15.930355 , 15.803482 , 15.670854 , 15.964941 ,\n",
       "       21.098568 , 35.83325  , 20.443174 , 29.229876 , 20.717224 ,\n",
       "       12.092506 , 17.78799  , 26.038475 , 25.238808 , 23.554081 ,\n",
       "       17.9599   , 16.415293 , 25.361229 , 22.430357 , 20.073458 ,\n",
       "       16.253475 , 21.560781 , 26.077642 , 23.089767 , 16.53853  ,\n",
       "       35.38861  , 20.125715 , 20.407557 , 23.721558 , 23.204325 ,\n",
       "       24.524542 , 16.116165 , 23.840025 , 18.020435 , 34.884865 ,\n",
       "       17.455748 , 21.375666 , 33.334576 , 18.818806 , 15.237378 ,\n",
       "       28.55574  , 42.143997 , 17.188314 , 10.274554 , 37.110027 ,\n",
       "       26.213171 , 21.206903 , 20.553146 , 47.0634   , 27.926361 ,\n",
       "       25.937069 , 18.871584 , 20.754017 , 17.125889 , 18.293262 ,\n",
       "       15.072226 , 23.72542  , 19.820786 , 31.370277 , 29.376846 ,\n",
       "       20.147812 , 20.909628 , 17.267067 , 22.507765 , 16.909006 ,\n",
       "       28.764372 , 40.577892 , 30.116125 , 22.956995 , 20.086796 ,\n",
       "       23.621632 , 39.299065 , 27.158384 , 21.881021 , 20.877995 ,\n",
       "       18.0624   , 45.261814 , 23.537197 ,  9.192714 , 26.463821 ,\n",
       "       23.158726 , 17.434553 , 20.71752  , 15.730018 , 13.616936 ,\n",
       "       21.251343 , 19.997202 , 39.68355  , 32.430367 , 23.49233  ,\n",
       "       11.485886 , 15.682443 , 21.004986 ,  9.803841 , 11.179905 ,\n",
       "       32.477985 , 16.87516  , 24.961985 , 24.318663 , 33.54711  ,\n",
       "       42.246696 , 20.518028 ,  9.111778 , 22.956995 , 14.737404 ,\n",
       "       44.657154 , 20.672129 , 22.568897 , 24.431675 , 19.073956 ,\n",
       "       28.22599  , 23.854095 , 19.591825 , 42.49253  , 18.05779  ,\n",
       "       24.21578  , 25.244133 , 16.466034 , 18.054495 , 15.60191  ,\n",
       "       22.908503 , 32.15813  , 10.776788 , 21.375986 , 19.203175 ,\n",
       "       15.0255375, 19.692049 ,  9.367598 , 28.887781 , 29.719473 ,\n",
       "       20.944296 , 18.835167 , 22.56017  , 10.848418 , 17.162426 ,\n",
       "       41.103146 , 17.406012 , 23.32718  , 20.011816 , 32.094322 ,\n",
       "       19.67162  , 11.764082 , 38.330032 , 24.96984  , 23.236708 ,\n",
       "       16.266153 , 24.512293 ], dtype=float32)"
      ]
     },
     "execution_count": 135,
     "metadata": {},
     "output_type": "execute_result"
    }
   ],
   "source": [
    "ypreds"
   ]
  },
  {
   "cell_type": "code",
   "execution_count": 136,
   "id": "d08bf203-e5f9-41f1-9309-78d2ca10caf1",
   "metadata": {},
   "outputs": [
    {
     "data": {
      "text/plain": [
       "9.18818551539731"
      ]
     },
     "execution_count": 136,
     "metadata": {},
     "output_type": "execute_result"
    }
   ],
   "source": [
    "MSE(Ytest, ypreds)"
   ]
  },
  {
   "cell_type": "code",
   "execution_count": 137,
   "id": "886214a3-2a18-414c-a88c-b8d9ee26d1f3",
   "metadata": {},
   "outputs": [
    {
     "data": {
      "text/plain": [
       "0.9012595174151566"
      ]
     },
     "execution_count": 137,
     "metadata": {},
     "output_type": "execute_result"
    }
   ],
   "source": [
    "r2_score(Ytest,ypreds)"
   ]
  },
  {
   "cell_type": "markdown",
   "id": "2490c293-29a2-4ee7-89f3-43c186083ad5",
   "metadata": {},
   "source": [
    "# XGB中的样本不均衡问题"
   ]
  },
  {
   "cell_type": "code",
   "execution_count": 138,
   "id": "a54944ab-fcae-450c-bc34-aa961c140e59",
   "metadata": {},
   "outputs": [],
   "source": [
    "import numpy as np\n",
    "import xgboost as xgb\n",
    "import matplotlib.pyplot as plt\n",
    "from xgboost import XGBClassifier as XGBC\n",
    "from sklearn.datasets import make_blobs #自创数据集\n",
    "from sklearn.model_selection import train_test_split as TTS\n",
    "from sklearn.metrics import confusion_matrix as cm, recall_score as recall, roc_auc_score as auc"
   ]
  },
  {
   "cell_type": "code",
   "execution_count": 139,
   "id": "d47893f5-de66-40f0-aa27-f9781a88aafe",
   "metadata": {},
   "outputs": [],
   "source": [
    "class_1 = 500 \n",
    "class_2 = 50 \n",
    "centers = [[0.0, 0.0], [2.0, 2.0]] \n",
    "clusters_std = [1.5, 0.5] \n",
    "X, y = make_blobs(n_samples=[class_1, class_2],\n",
    "                  centers=centers,\n",
    "                  cluster_std=clusters_std,\n",
    "                  random_state=0, shuffle=False)"
   ]
  },
  {
   "cell_type": "code",
   "execution_count": 140,
   "id": "e25c0cc3-2a03-4f9c-8b90-a8b19e6423f3",
   "metadata": {},
   "outputs": [
    {
     "data": {
      "text/plain": [
       "(550, 2)"
      ]
     },
     "execution_count": 140,
     "metadata": {},
     "output_type": "execute_result"
    }
   ],
   "source": [
    "X.shape"
   ]
  },
  {
   "cell_type": "code",
   "execution_count": 141,
   "id": "2d2cce07-bb9f-4462-a0e5-82292315c41b",
   "metadata": {},
   "outputs": [
    {
     "data": {
      "text/plain": [
       "array([0, 0, 0, 0, 0, 0, 0, 0, 0, 0, 0, 0, 0, 0, 0, 0, 0, 0, 0, 0, 0, 0,\n",
       "       0, 0, 0, 0, 0, 0, 0, 0, 0, 0, 0, 0, 0, 0, 0, 0, 0, 0, 0, 0, 0, 0,\n",
       "       0, 0, 0, 0, 0, 0, 0, 0, 0, 0, 0, 0, 0, 0, 0, 0, 0, 0, 0, 0, 0, 0,\n",
       "       0, 0, 0, 0, 0, 0, 0, 0, 0, 0, 0, 0, 0, 0, 0, 0, 0, 0, 0, 0, 0, 0,\n",
       "       0, 0, 0, 0, 0, 0, 0, 0, 0, 0, 0, 0, 0, 0, 0, 0, 0, 0, 0, 0, 0, 0,\n",
       "       0, 0, 0, 0, 0, 0, 0, 0, 0, 0, 0, 0, 0, 0, 0, 0, 0, 0, 0, 0, 0, 0,\n",
       "       0, 0, 0, 0, 0, 0, 0, 0, 0, 0, 0, 0, 0, 0, 0, 0, 0, 0, 0, 0, 0, 0,\n",
       "       0, 0, 0, 0, 0, 0, 0, 0, 0, 0, 0, 0, 0, 0, 0, 0, 0, 0, 0, 0, 0, 0,\n",
       "       0, 0, 0, 0, 0, 0, 0, 0, 0, 0, 0, 0, 0, 0, 0, 0, 0, 0, 0, 0, 0, 0,\n",
       "       0, 0, 0, 0, 0, 0, 0, 0, 0, 0, 0, 0, 0, 0, 0, 0, 0, 0, 0, 0, 0, 0,\n",
       "       0, 0, 0, 0, 0, 0, 0, 0, 0, 0, 0, 0, 0, 0, 0, 0, 0, 0, 0, 0, 0, 0,\n",
       "       0, 0, 0, 0, 0, 0, 0, 0, 0, 0, 0, 0, 0, 0, 0, 0, 0, 0, 0, 0, 0, 0,\n",
       "       0, 0, 0, 0, 0, 0, 0, 0, 0, 0, 0, 0, 0, 0, 0, 0, 0, 0, 0, 0, 0, 0,\n",
       "       0, 0, 0, 0, 0, 0, 0, 0, 0, 0, 0, 0, 0, 0, 0, 0, 0, 0, 0, 0, 0, 0,\n",
       "       0, 0, 0, 0, 0, 0, 0, 0, 0, 0, 0, 0, 0, 0, 0, 0, 0, 0, 0, 0, 0, 0,\n",
       "       0, 0, 0, 0, 0, 0, 0, 0, 0, 0, 0, 0, 0, 0, 0, 0, 0, 0, 0, 0, 0, 0,\n",
       "       0, 0, 0, 0, 0, 0, 0, 0, 0, 0, 0, 0, 0, 0, 0, 0, 0, 0, 0, 0, 0, 0,\n",
       "       0, 0, 0, 0, 0, 0, 0, 0, 0, 0, 0, 0, 0, 0, 0, 0, 0, 0, 0, 0, 0, 0,\n",
       "       0, 0, 0, 0, 0, 0, 0, 0, 0, 0, 0, 0, 0, 0, 0, 0, 0, 0, 0, 0, 0, 0,\n",
       "       0, 0, 0, 0, 0, 0, 0, 0, 0, 0, 0, 0, 0, 0, 0, 0, 0, 0, 0, 0, 0, 0,\n",
       "       0, 0, 0, 0, 0, 0, 0, 0, 0, 0, 0, 0, 0, 0, 0, 0, 0, 0, 0, 0, 0, 0,\n",
       "       0, 0, 0, 0, 0, 0, 0, 0, 0, 0, 0, 0, 0, 0, 0, 0, 0, 0, 0, 0, 0, 0,\n",
       "       0, 0, 0, 0, 0, 0, 0, 0, 0, 0, 0, 0, 0, 0, 0, 0, 1, 1, 1, 1, 1, 1,\n",
       "       1, 1, 1, 1, 1, 1, 1, 1, 1, 1, 1, 1, 1, 1, 1, 1, 1, 1, 1, 1, 1, 1,\n",
       "       1, 1, 1, 1, 1, 1, 1, 1, 1, 1, 1, 1, 1, 1, 1, 1, 1, 1, 1, 1, 1, 1])"
      ]
     },
     "execution_count": 141,
     "metadata": {},
     "output_type": "execute_result"
    }
   ],
   "source": [
    "y"
   ]
  },
  {
   "cell_type": "code",
   "execution_count": 142,
   "id": "ba21b8e2-f08f-4560-a814-0153208bf7cb",
   "metadata": {},
   "outputs": [
    {
     "data": {
      "text/plain": [
       "0.09090909090909091"
      ]
     },
     "execution_count": 142,
     "metadata": {},
     "output_type": "execute_result"
    }
   ],
   "source": [
    "(y == 1).sum() / y.shape[0]"
   ]
  },
  {
   "cell_type": "code",
   "execution_count": 143,
   "id": "3af9c8fb-6b9b-4bbd-b06e-33d7f6562f5e",
   "metadata": {},
   "outputs": [
    {
     "name": "stdout",
     "output_type": "stream",
     "text": [
      "[11:08:56] WARNING: ..\\src\\learner.cc:1115: Starting in XGBoost 1.3.0, the default evaluation metric used with the objective 'binary:logistic' was changed from 'error' to 'logloss'. Explicitly set eval_metric if you'd like to restore the old behavior.\n"
     ]
    },
    {
     "name": "stderr",
     "output_type": "stream",
     "text": [
      "C:\\ProgramData\\Anaconda3\\lib\\site-packages\\xgboost\\sklearn.py:1224: UserWarning: The use of label encoder in XGBClassifier is deprecated and will be removed in a future release. To remove this warning, do the following: 1) Pass option use_label_encoder=False when constructing XGBClassifier object; and 2) Encode your labels (y) as integers starting with 0, i.e. 0, 1, 2, ..., [num_class - 1].\n",
      "  warnings.warn(label_encoder_deprecation_msg, UserWarning)\n"
     ]
    },
    {
     "data": {
      "text/plain": [
       "array([0, 0, 0, 0, 1, 0, 0, 0, 0, 0, 0, 0, 0, 0, 0, 0, 0, 0, 0, 0, 0, 0,\n",
       "       0, 0, 0, 0, 0, 0, 0, 0, 0, 0, 0, 0, 0, 0, 0, 0, 0, 0, 0, 0, 0, 0,\n",
       "       0, 0, 0, 0, 0, 0, 0, 0, 0, 0, 0, 0, 0, 1, 0, 0, 0, 0, 0, 0, 0, 0,\n",
       "       0, 0, 0, 0, 0, 0, 0, 0, 1, 0, 0, 1, 0, 0, 0, 0, 0, 0, 1, 0, 0, 0,\n",
       "       1, 0, 0, 0, 0, 0, 1, 0, 1, 0, 0, 0, 0, 1, 0, 0, 0, 0, 0, 0, 0, 0,\n",
       "       0, 0, 0, 1, 0, 1, 0, 0, 0, 0, 0, 0, 0, 0, 0, 0, 0, 0, 0, 0, 0, 0,\n",
       "       0, 0, 0, 0, 1, 0, 0, 0, 0, 1, 0, 0, 0, 0, 0, 0, 0, 0, 1, 0, 0, 0,\n",
       "       0, 0, 0, 0, 0, 0, 0, 0, 1, 1, 1])"
      ]
     },
     "execution_count": 143,
     "metadata": {},
     "output_type": "execute_result"
    }
   ],
   "source": [
    "Xtrain, Xtest, Ytrain, Ytest = TTS(X,y,test_size=0.3,random_state=420)\n",
    "clf = XGBC().fit(Xtrain,Ytrain)\n",
    "ypred = clf.predict(Xtest)\n",
    "ypred"
   ]
  },
  {
   "cell_type": "code",
   "execution_count": 144,
   "id": "42b4f409-91ff-4b95-b93e-a57560bb9139",
   "metadata": {},
   "outputs": [
    {
     "data": {
      "text/plain": [
       "0.9272727272727272"
      ]
     },
     "execution_count": 144,
     "metadata": {},
     "output_type": "execute_result"
    }
   ],
   "source": [
    "clf.score(Xtest,Ytest)"
   ]
  },
  {
   "cell_type": "code",
   "execution_count": 145,
   "id": "6fa8c31b-fa1d-4951-91d4-07ac3ececb6c",
   "metadata": {},
   "outputs": [
    {
     "data": {
      "text/plain": [
       "array([[  9,   4],\n",
       "       [  8, 144]], dtype=int64)"
      ]
     },
     "execution_count": 145,
     "metadata": {},
     "output_type": "execute_result"
    }
   ],
   "source": [
    "cm(Ytest,ypred,labels=[1,0])"
   ]
  },
  {
   "cell_type": "code",
   "execution_count": 146,
   "id": "61fa9f9c-d912-4955-a167-866cb1ff32b4",
   "metadata": {},
   "outputs": [
    {
     "data": {
      "text/plain": [
       "0.6923076923076923"
      ]
     },
     "execution_count": 146,
     "metadata": {},
     "output_type": "execute_result"
    }
   ],
   "source": [
    "recall(Ytest,ypred)"
   ]
  },
  {
   "cell_type": "code",
   "execution_count": 147,
   "id": "26066552-ce2e-4bbf-8ad0-ebbaac293951",
   "metadata": {},
   "outputs": [
    {
     "data": {
      "text/plain": [
       "0.9701417004048585"
      ]
     },
     "execution_count": 147,
     "metadata": {},
     "output_type": "execute_result"
    }
   ],
   "source": [
    "auc(Ytest,clf.predict_proba(Xtest)[:,1])"
   ]
  },
  {
   "cell_type": "code",
   "execution_count": 148,
   "id": "f19d56db-46a5-422b-9dd0-5044b80996b2",
   "metadata": {},
   "outputs": [
    {
     "name": "stdout",
     "output_type": "stream",
     "text": [
      "[11:12:06] WARNING: ..\\src\\learner.cc:1115: Starting in XGBoost 1.3.0, the default evaluation metric used with the objective 'binary:logistic' was changed from 'error' to 'logloss'. Explicitly set eval_metric if you'd like to restore the old behavior.\n"
     ]
    },
    {
     "name": "stderr",
     "output_type": "stream",
     "text": [
      "C:\\ProgramData\\Anaconda3\\lib\\site-packages\\xgboost\\sklearn.py:1224: UserWarning: The use of label encoder in XGBClassifier is deprecated and will be removed in a future release. To remove this warning, do the following: 1) Pass option use_label_encoder=False when constructing XGBClassifier object; and 2) Encode your labels (y) as integers starting with 0, i.e. 0, 1, 2, ..., [num_class - 1].\n",
      "  warnings.warn(label_encoder_deprecation_msg, UserWarning)\n"
     ]
    },
    {
     "data": {
      "text/plain": [
       "0.9696356275303644"
      ]
     },
     "execution_count": 148,
     "metadata": {},
     "output_type": "execute_result"
    }
   ],
   "source": [
    "clf_ = XGBC(scale_pos_weight=10).fit(Xtrain,Ytrain)\n",
    "ypred_ = clf_.predict(Xtest)\n",
    "clf_.score(Xtest,Ytest)\n",
    "\n",
    "cm(Ytest,ypred_,labels=[1,0])\n",
    "\n",
    "recall(Ytest,ypred_)\n",
    "\n",
    "auc(Ytest,clf_.predict_proba(Xtest)[:,1])"
   ]
  },
  {
   "cell_type": "code",
   "execution_count": 150,
   "id": "2d8a55c5-c7e0-4e42-b0ac-307aefda3047",
   "metadata": {},
   "outputs": [
    {
     "name": "stdout",
     "output_type": "stream",
     "text": [
      "[11:13:38] WARNING: ..\\src\\learner.cc:1115: Starting in XGBoost 1.3.0, the default evaluation metric used with the objective 'binary:logistic' was changed from 'error' to 'logloss'. Explicitly set eval_metric if you'd like to restore the old behavior.\n",
      "1\n",
      "\tAccuracy:0.9272727272727272\n",
      "\tRecall:0.6923076923076923\n",
      "\tAUC:0.9701417004048585\n",
      "[11:13:38] WARNING: ..\\src\\learner.cc:1115: Starting in XGBoost 1.3.0, the default evaluation metric used with the objective 'binary:logistic' was changed from 'error' to 'logloss'. Explicitly set eval_metric if you'd like to restore the old behavior.\n",
      "5\n",
      "\tAccuracy:0.9393939393939394\n",
      "\tRecall:0.8461538461538461\n",
      "\tAUC:0.9660931174089069\n",
      "[11:13:38] WARNING: ..\\src\\learner.cc:1115: Starting in XGBoost 1.3.0, the default evaluation metric used with the objective 'binary:logistic' was changed from 'error' to 'logloss'. Explicitly set eval_metric if you'd like to restore the old behavior.\n",
      "10\n",
      "\tAccuracy:0.9333333333333333\n",
      "\tRecall:0.7692307692307693\n",
      "\tAUC:0.9696356275303644\n",
      "[11:13:38] WARNING: ..\\src\\learner.cc:1115: Starting in XGBoost 1.3.0, the default evaluation metric used with the objective 'binary:logistic' was changed from 'error' to 'logloss'. Explicitly set eval_metric if you'd like to restore the old behavior.\n",
      "20\n",
      "\tAccuracy:0.9333333333333333\n",
      "\tRecall:0.7692307692307693\n",
      "\tAUC:0.9686234817813765\n",
      "[11:13:38] WARNING: ..\\src\\learner.cc:1115: Starting in XGBoost 1.3.0, the default evaluation metric used with the objective 'binary:logistic' was changed from 'error' to 'logloss'. Explicitly set eval_metric if you'd like to restore the old behavior.\n",
      "30\n",
      "\tAccuracy:0.9393939393939394\n",
      "\tRecall:0.8461538461538461\n",
      "\tAUC:0.9701417004048583\n"
     ]
    }
   ],
   "source": [
    "import warnings\n",
    "warnings.filterwarnings('ignore')\n",
    "\n",
    "\n",
    "for i in [1,5,10,20,30]:\n",
    "    clf_ = XGBC(scale_pos_weight=i).fit(Xtrain,Ytrain)\n",
    "    ypred_ = clf_.predict(Xtest)\n",
    "    print(i)\n",
    "    print(\"\\tAccuracy:{}\".format(clf_.score(Xtest,Ytest)))\n",
    "    print(\"\\tRecall:{}\".format(recall(Ytest,ypred_)))\n",
    "    print(\"\\tAUC:{}\".format(auc(Ytest,clf_.predict_proba(Xtest)[:,1])))"
   ]
  },
  {
   "cell_type": "code",
   "execution_count": 151,
   "id": "06ed5e11-5c68-47e9-a672-ee1005a406f5",
   "metadata": {},
   "outputs": [
    {
     "name": "stdout",
     "output_type": "stream",
     "text": [
      "[11:13:52] WARNING: ..\\src\\learner.cc:1115: Starting in XGBoost 1.3.0, the default evaluation metric used with the objective 'binary:logistic' was changed from 'error' to 'logloss'. Explicitly set eval_metric if you'd like to restore the old behavior.\n"
     ]
    },
    {
     "data": {
      "text/plain": [
       "0.9333333333333333"
      ]
     },
     "execution_count": 151,
     "metadata": {},
     "output_type": "execute_result"
    }
   ],
   "source": [
    "clf_ = XGBC(scale_pos_weight=20).fit(Xtrain,Ytrain)\n",
    "ypred_ = clf_.predict(Xtest)\n",
    "clf_.score(Xtest,Ytest)"
   ]
  },
  {
   "cell_type": "code",
   "execution_count": 152,
   "id": "e049840e-7f26-4f8f-a25c-de380f143371",
   "metadata": {},
   "outputs": [
    {
     "data": {
      "text/plain": [
       "array([[ 10,   3],\n",
       "       [  8, 144]], dtype=int64)"
      ]
     },
     "execution_count": 152,
     "metadata": {},
     "output_type": "execute_result"
    }
   ],
   "source": [
    "cm(Ytest,ypred_,labels=[1,0])"
   ]
  },
  {
   "cell_type": "code",
   "execution_count": 153,
   "id": "b148fa31-569c-4c99-a7c5-700d0209e539",
   "metadata": {},
   "outputs": [
    {
     "data": {
      "text/plain": [
       "0.7692307692307693"
      ]
     },
     "execution_count": 153,
     "metadata": {},
     "output_type": "execute_result"
    }
   ],
   "source": [
    "recall(Ytest,ypred_)"
   ]
  },
  {
   "cell_type": "code",
   "execution_count": 154,
   "id": "e5180f6a-92a1-435d-bc15-ac54b5f964d6",
   "metadata": {},
   "outputs": [
    {
     "data": {
      "text/plain": [
       "0.9686234817813765"
      ]
     },
     "execution_count": 154,
     "metadata": {},
     "output_type": "execute_result"
    }
   ],
   "source": [
    "auc(Ytest,clf_.predict_proba(Xtest)[:,1])"
   ]
  },
  {
   "cell_type": "code",
   "execution_count": 155,
   "id": "62602891-783d-43cb-983e-da97daa0bfa5",
   "metadata": {},
   "outputs": [],
   "source": [
    "dtrain = xgb.DMatrix(Xtrain,Ytrain)\n",
    "dtest = xgb.DMatrix(Xtest,Ytest)"
   ]
  },
  {
   "cell_type": "code",
   "execution_count": 156,
   "id": "a725c364-4a0b-4a3f-be98-182402c37fa3",
   "metadata": {},
   "outputs": [],
   "source": [
    "param = {'objective':'binary:logistic',\"eta\":0.1,\"scale_pos_weight\":1}\n",
    "num_round = 100"
   ]
  },
  {
   "cell_type": "code",
   "execution_count": 157,
   "id": "bb2fb1b5-309a-45ad-a9ae-a415ef452f19",
   "metadata": {},
   "outputs": [
    {
     "name": "stdout",
     "output_type": "stream",
     "text": [
      "[11:15:00] WARNING: ..\\src\\learner.cc:1115: Starting in XGBoost 1.3.0, the default evaluation metric used with the objective 'binary:logistic' was changed from 'error' to 'logloss'. Explicitly set eval_metric if you'd like to restore the old behavior.\n"
     ]
    }
   ],
   "source": [
    "bst = xgb.train(param, dtrain, num_round)"
   ]
  },
  {
   "cell_type": "code",
   "execution_count": 158,
   "id": "ed787508-2295-4c56-af53-7aab42e814ff",
   "metadata": {},
   "outputs": [
    {
     "data": {
      "text/plain": [
       "array([0.00110357, 0.00761518, 0.00110357, 0.00110357, 0.93531454,\n",
       "       0.00466839, 0.00110357, 0.00110357, 0.00110357, 0.00110357,\n",
       "       0.00110357, 0.00410493, 0.00454478, 0.00571528, 0.00751026,\n",
       "       0.00110357, 0.00110357, 0.00110357, 0.00110357, 0.00110357,\n",
       "       0.00110357, 0.00110357, 0.00110357, 0.00110357, 0.00110357,\n",
       "       0.00712637, 0.00110357, 0.00110357, 0.00110357, 0.00110357,\n",
       "       0.00110357, 0.00110357, 0.00110357, 0.00793251, 0.00466839,\n",
       "       0.00110357, 0.00339395, 0.00657186, 0.00110357, 0.00457053,\n",
       "       0.00571528, 0.0026763 , 0.00110357, 0.00110357, 0.00110357,\n",
       "       0.00884932, 0.00712637, 0.00110357, 0.00712637, 0.00466839,\n",
       "       0.00110357, 0.00110357, 0.00712637, 0.00110357, 0.00110357,\n",
       "       0.00110357, 0.00110357, 0.63748044, 0.00110357, 0.00793251,\n",
       "       0.00110357, 0.00451971, 0.00644181, 0.00110357, 0.00110357,\n",
       "       0.00110357, 0.00110357, 0.00751026, 0.00712637, 0.00110357,\n",
       "       0.00866458, 0.00110357, 0.00110357, 0.00110357, 0.91610426,\n",
       "       0.00110357, 0.00110357, 0.89246494, 0.0026763 , 0.00501714,\n",
       "       0.00761518, 0.00884932, 0.00339395, 0.00110357, 0.93531454,\n",
       "       0.00110357, 0.00110357, 0.00110357, 0.82530665, 0.00751026,\n",
       "       0.00110357, 0.35174078, 0.00110357, 0.00110357, 0.70393246,\n",
       "       0.00110357, 0.76804197, 0.00110357, 0.00110357, 0.00110357,\n",
       "       0.00110357, 0.96656513, 0.00110357, 0.00571528, 0.25400913,\n",
       "       0.00110357, 0.00110357, 0.00110357, 0.00110357, 0.00457053,\n",
       "       0.00110357, 0.00110357, 0.00110357, 0.89246494, 0.00110357,\n",
       "       0.9518535 , 0.0026763 , 0.00712637, 0.00110357, 0.00501714,\n",
       "       0.00110357, 0.00110357, 0.00571528, 0.00110357, 0.00110357,\n",
       "       0.00712637, 0.00110357, 0.00110357, 0.00712637, 0.00110357,\n",
       "       0.25136763, 0.00110357, 0.00110357, 0.00110357, 0.00110357,\n",
       "       0.00110357, 0.8904051 , 0.3876418 , 0.00110357, 0.00457053,\n",
       "       0.00657186, 0.9366597 , 0.00866458, 0.00110357, 0.00501714,\n",
       "       0.00501714, 0.00110357, 0.00110357, 0.00368543, 0.00501714,\n",
       "       0.9830577 , 0.00110357, 0.00644181, 0.00110357, 0.00571528,\n",
       "       0.00110357, 0.00110357, 0.00110357, 0.00110357, 0.00466839,\n",
       "       0.00110357, 0.00110357, 0.92388713, 0.90231985, 0.80084217],\n",
       "      dtype=float32)"
      ]
     },
     "execution_count": 158,
     "metadata": {},
     "output_type": "execute_result"
    }
   ],
   "source": [
    "preds = bst.predict(dtest)\n",
    "preds"
   ]
  },
  {
   "cell_type": "code",
   "execution_count": 159,
   "id": "21a752f8-01dc-4ccb-a750-dd72ccc782a7",
   "metadata": {},
   "outputs": [],
   "source": [
    "ypred = preds.copy()"
   ]
  },
  {
   "cell_type": "code",
   "execution_count": 160,
   "id": "91e3e129-a25d-417c-8d47-83de9bd73818",
   "metadata": {},
   "outputs": [],
   "source": [
    "ypred[preds > 0.5] = 1"
   ]
  },
  {
   "cell_type": "code",
   "execution_count": 161,
   "id": "aa12c7f9-532e-43b3-a6e4-1f442bc4bfd6",
   "metadata": {},
   "outputs": [],
   "source": [
    "ypred[ypred != 1] = 0"
   ]
  },
  {
   "cell_type": "code",
   "execution_count": 162,
   "id": "dbf58cf7-c40c-425b-b020-db3b315e527b",
   "metadata": {},
   "outputs": [],
   "source": [
    "scale_pos_weight = [1,5,10]\n",
    "names = [\"negative vs positive: 1\"\n",
    "         ,\"negative vs positive: 5\"\n",
    "         ,\"negative vs positive: 10\"]"
   ]
  },
  {
   "cell_type": "code",
   "execution_count": 163,
   "id": "abbbdccd-4d3b-4893-82a2-17ea9d5690e2",
   "metadata": {},
   "outputs": [
    {
     "data": {
      "text/plain": [
       "[('negative vs positive: 1', 1),\n",
       " ('negative vs positive: 5', 5),\n",
       " ('negative vs positive: 10', 10)]"
      ]
     },
     "execution_count": 163,
     "metadata": {},
     "output_type": "execute_result"
    }
   ],
   "source": [
    "[*zip(names,scale_pos_weight)]"
   ]
  },
  {
   "cell_type": "code",
   "execution_count": 164,
   "id": "440a885b-8b9e-4ded-a856-4d1523089b83",
   "metadata": {},
   "outputs": [
    {
     "name": "stdout",
     "output_type": "stream",
     "text": [
      "[11:16:11] WARNING: ..\\src\\learner.cc:576: \n",
      "Parameters: { \"silent\" } might not be used.\n",
      "\n",
      "  This could be a false alarm, with some parameters getting used by language bindings but\n",
      "  then being mistakenly passed down to XGBoost core, or some parameter actually being used\n",
      "  but getting flagged wrongly here. Please open an issue if you find any such cases.\n",
      "\n",
      "\n",
      "[11:16:11] WARNING: ..\\src\\learner.cc:1115: Starting in XGBoost 1.3.0, the default evaluation metric used with the objective 'binary:logistic' was changed from 'error' to 'logloss'. Explicitly set eval_metric if you'd like to restore the old behavior.\n",
      "negative vs positive: 1\n",
      "\tAccuracy:0.9272727272727272\n",
      "\tRecall:0.6923076923076923\n",
      "\tAUC:0.9741902834008097\n",
      "[11:16:11] WARNING: ..\\src\\learner.cc:576: \n",
      "Parameters: { \"silent\" } might not be used.\n",
      "\n",
      "  This could be a false alarm, with some parameters getting used by language bindings but\n",
      "  then being mistakenly passed down to XGBoost core, or some parameter actually being used\n",
      "  but getting flagged wrongly here. Please open an issue if you find any such cases.\n",
      "\n",
      "\n",
      "[11:16:11] WARNING: ..\\src\\learner.cc:1115: Starting in XGBoost 1.3.0, the default evaluation metric used with the objective 'binary:logistic' was changed from 'error' to 'logloss'. Explicitly set eval_metric if you'd like to restore the old behavior.\n",
      "negative vs positive: 5\n",
      "\tAccuracy:0.9393939393939394\n",
      "\tRecall:0.8461538461538461\n",
      "\tAUC:0.9635627530364372\n",
      "[11:16:11] WARNING: ..\\src\\learner.cc:576: \n",
      "Parameters: { \"silent\" } might not be used.\n",
      "\n",
      "  This could be a false alarm, with some parameters getting used by language bindings but\n",
      "  then being mistakenly passed down to XGBoost core, or some parameter actually being used\n",
      "  but getting flagged wrongly here. Please open an issue if you find any such cases.\n",
      "\n",
      "\n",
      "[11:16:11] WARNING: ..\\src\\learner.cc:1115: Starting in XGBoost 1.3.0, the default evaluation metric used with the objective 'binary:logistic' was changed from 'error' to 'logloss'. Explicitly set eval_metric if you'd like to restore the old behavior.\n",
      "negative vs positive: 10\n",
      "\tAccuracy:0.9515151515151515\n",
      "\tRecall:1.0\n",
      "\tAUC:0.9665991902834008\n"
     ]
    }
   ],
   "source": [
    "from sklearn.metrics import accuracy_score as accuracy, recall_score as recall, roc_auc_score as auc\n",
    "\n",
    "for name,i in zip(names,scale_pos_weight):\n",
    "    param = {'silent':True,'objective':'binary:logistic'\n",
    "            ,\"eta\":0.1,\"scale_pos_weight\":i}\n",
    "    num_round = 100\n",
    "    clf = xgb.train(param, dtrain, num_round)\n",
    "    preds = clf.predict(dtest)\n",
    "    ypred = preds.copy()\n",
    "    ypred[preds > 0.5] = 1\n",
    "    ypred[ypred != 1] = 0\n",
    "    print(name)\n",
    "    print(\"\\tAccuracy:{}\".format(accuracy(Ytest,ypred)))\n",
    "    print(\"\\tRecall:{}\".format(recall(Ytest,ypred)))\n",
    "    print(\"\\tAUC:{}\".format(auc(Ytest,preds)))"
   ]
  },
  {
   "cell_type": "code",
   "execution_count": 166,
   "id": "e4485800-4dec-4819-b52f-d1a2f3f7e270",
   "metadata": {},
   "outputs": [
    {
     "name": "stdout",
     "output_type": "stream",
     "text": [
      "[11:16:40] WARNING: ..\\src\\learner.cc:1115: Starting in XGBoost 1.3.0, the default evaluation metric used with the objective 'binary:logistic' was changed from 'error' to 'logloss'. Explicitly set eval_metric if you'd like to restore the old behavior.\n",
      "negative vs positive: 1,thresholds:0.3\n",
      "\tAccuracy:0.9393939393939394\n",
      "\tRecall:0.8461538461538461\n",
      "\tAUC:0.9741902834008097\n",
      "[11:16:40] WARNING: ..\\src\\learner.cc:1115: Starting in XGBoost 1.3.0, the default evaluation metric used with the objective 'binary:logistic' was changed from 'error' to 'logloss'. Explicitly set eval_metric if you'd like to restore the old behavior.\n",
      "negative vs positive: 1,thresholds:0.5\n",
      "\tAccuracy:0.9272727272727272\n",
      "\tRecall:0.6923076923076923\n",
      "\tAUC:0.9741902834008097\n",
      "[11:16:40] WARNING: ..\\src\\learner.cc:1115: Starting in XGBoost 1.3.0, the default evaluation metric used with the objective 'binary:logistic' was changed from 'error' to 'logloss'. Explicitly set eval_metric if you'd like to restore the old behavior.\n",
      "negative vs positive: 1,thresholds:0.7\n",
      "\tAccuracy:0.9212121212121213\n",
      "\tRecall:0.6153846153846154\n",
      "\tAUC:0.9741902834008097\n",
      "[11:16:40] WARNING: ..\\src\\learner.cc:1115: Starting in XGBoost 1.3.0, the default evaluation metric used with the objective 'binary:logistic' was changed from 'error' to 'logloss'. Explicitly set eval_metric if you'd like to restore the old behavior.\n",
      "negative vs positive: 1,thresholds:0.9\n",
      "\tAccuracy:0.9515151515151515\n",
      "\tRecall:0.5384615384615384\n",
      "\tAUC:0.9741902834008097\n",
      "[11:16:40] WARNING: ..\\src\\learner.cc:1115: Starting in XGBoost 1.3.0, the default evaluation metric used with the objective 'binary:logistic' was changed from 'error' to 'logloss'. Explicitly set eval_metric if you'd like to restore the old behavior.\n",
      "negative vs positive: 5,thresholds:0.3\n",
      "\tAccuracy:0.9515151515151515\n",
      "\tRecall:1.0\n",
      "\tAUC:0.9635627530364372\n",
      "[11:16:40] WARNING: ..\\src\\learner.cc:1115: Starting in XGBoost 1.3.0, the default evaluation metric used with the objective 'binary:logistic' was changed from 'error' to 'logloss'. Explicitly set eval_metric if you'd like to restore the old behavior.\n",
      "negative vs positive: 5,thresholds:0.5\n",
      "\tAccuracy:0.9393939393939394\n",
      "\tRecall:0.8461538461538461\n",
      "\tAUC:0.9635627530364372\n",
      "[11:16:40] WARNING: ..\\src\\learner.cc:1115: Starting in XGBoost 1.3.0, the default evaluation metric used with the objective 'binary:logistic' was changed from 'error' to 'logloss'. Explicitly set eval_metric if you'd like to restore the old behavior.\n",
      "negative vs positive: 5,thresholds:0.7\n",
      "\tAccuracy:0.9272727272727272\n",
      "\tRecall:0.6923076923076923\n",
      "\tAUC:0.9635627530364372\n",
      "[11:16:40] WARNING: ..\\src\\learner.cc:1115: Starting in XGBoost 1.3.0, the default evaluation metric used with the objective 'binary:logistic' was changed from 'error' to 'logloss'. Explicitly set eval_metric if you'd like to restore the old behavior.\n",
      "negative vs positive: 5,thresholds:0.9\n",
      "\tAccuracy:0.9212121212121213\n",
      "\tRecall:0.6153846153846154\n",
      "\tAUC:0.9635627530364372\n",
      "[11:16:40] WARNING: ..\\src\\learner.cc:1115: Starting in XGBoost 1.3.0, the default evaluation metric used with the objective 'binary:logistic' was changed from 'error' to 'logloss'. Explicitly set eval_metric if you'd like to restore the old behavior.\n",
      "negative vs positive: 10,thresholds:0.3\n",
      "\tAccuracy:0.9515151515151515\n",
      "\tRecall:1.0\n",
      "\tAUC:0.9665991902834008\n",
      "[11:16:40] WARNING: ..\\src\\learner.cc:1115: Starting in XGBoost 1.3.0, the default evaluation metric used with the objective 'binary:logistic' was changed from 'error' to 'logloss'. Explicitly set eval_metric if you'd like to restore the old behavior.\n",
      "negative vs positive: 10,thresholds:0.5\n",
      "\tAccuracy:0.9515151515151515\n",
      "\tRecall:1.0\n",
      "\tAUC:0.9665991902834008\n",
      "[11:16:40] WARNING: ..\\src\\learner.cc:1115: Starting in XGBoost 1.3.0, the default evaluation metric used with the objective 'binary:logistic' was changed from 'error' to 'logloss'. Explicitly set eval_metric if you'd like to restore the old behavior.\n",
      "negative vs positive: 10,thresholds:0.7\n",
      "\tAccuracy:0.9393939393939394\n",
      "\tRecall:0.8461538461538461\n",
      "\tAUC:0.9665991902834008\n",
      "[11:16:40] WARNING: ..\\src\\learner.cc:1115: Starting in XGBoost 1.3.0, the default evaluation metric used with the objective 'binary:logistic' was changed from 'error' to 'logloss'. Explicitly set eval_metric if you'd like to restore the old behavior.\n",
      "negative vs positive: 10,thresholds:0.9\n",
      "\tAccuracy:0.9212121212121213\n",
      "\tRecall:0.6153846153846154\n",
      "\tAUC:0.9665991902834008\n"
     ]
    }
   ],
   "source": [
    "for name,i in zip(names,scale_pos_weight):\n",
    "    for thres in [0.3,0.5,0.7,0.9]:\n",
    "        param= {'objective':'binary:logistic'\n",
    "                ,\"eta\":0.1,\"scale_pos_weight\":i}\n",
    "        clf = xgb.train(param, dtrain, num_round)\n",
    "        preds = clf.predict(dtest)\n",
    "        ypred = preds.copy()\n",
    "        ypred[preds > thres] = 1\n",
    "        ypred[ypred != 1] = 0\n",
    "        print(\"{},thresholds:{}\".format(name,thres))\n",
    "        print(\"\\tAccuracy:{}\".format(accuracy(Ytest,ypred)))\n",
    "        print(\"\\tRecall:{}\".format(recall(Ytest,ypred)))\n",
    "        print(\"\\tAUC:{}\".format(auc(Ytest,preds)))"
   ]
  },
  {
   "cell_type": "code",
   "execution_count": null,
   "id": "a1deda35-8a12-45af-aa20-53ace2657f6a",
   "metadata": {},
   "outputs": [],
   "source": []
  }
 ],
 "metadata": {
  "kernelspec": {
   "display_name": "Python 3",
   "language": "python",
   "name": "python3"
  },
  "language_info": {
   "codemirror_mode": {
    "name": "ipython",
    "version": 3
   },
   "file_extension": ".py",
   "mimetype": "text/x-python",
   "name": "python",
   "nbconvert_exporter": "python",
   "pygments_lexer": "ipython3",
   "version": "3.8.8"
  }
 },
 "nbformat": 4,
 "nbformat_minor": 5
}
