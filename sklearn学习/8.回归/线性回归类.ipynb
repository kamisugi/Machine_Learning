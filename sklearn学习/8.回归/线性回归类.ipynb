{
 "cells": [
  {
   "cell_type": "code",
   "execution_count": 1,
   "id": "f48927ca-d462-4b0f-b42f-f2b78b6e57e1",
   "metadata": {},
   "outputs": [],
   "source": [
    "from sklearn.linear_model import LinearRegression as LR\n",
    "from sklearn.model_selection import train_test_split\n",
    "from sklearn.model_selection import cross_val_score\n",
    "from sklearn.datasets import fetch_california_housing as fch #加利福尼亚房屋价值数据集\n",
    "import pandas as pd"
   ]
  },
  {
   "cell_type": "code",
   "execution_count": 2,
   "id": "5dcc8732-216a-4a37-b436-11478b994f04",
   "metadata": {},
   "outputs": [
    {
     "data": {
      "text/plain": [
       "array([[   8.3252    ,   41.        ,    6.98412698, ...,    2.55555556,\n",
       "          37.88      , -122.23      ],\n",
       "       [   8.3014    ,   21.        ,    6.23813708, ...,    2.10984183,\n",
       "          37.86      , -122.22      ],\n",
       "       [   7.2574    ,   52.        ,    8.28813559, ...,    2.80225989,\n",
       "          37.85      , -122.24      ],\n",
       "       ...,\n",
       "       [   1.7       ,   17.        ,    5.20554273, ...,    2.3256351 ,\n",
       "          39.43      , -121.22      ],\n",
       "       [   1.8672    ,   18.        ,    5.32951289, ...,    2.12320917,\n",
       "          39.43      , -121.32      ],\n",
       "       [   2.3886    ,   16.        ,    5.25471698, ...,    2.61698113,\n",
       "          39.37      , -121.24      ]])"
      ]
     },
     "execution_count": 2,
     "metadata": {},
     "output_type": "execute_result"
    }
   ],
   "source": [
    "housevalue = fch()\n",
    "housevalue.data"
   ]
  },
  {
   "cell_type": "code",
   "execution_count": 3,
   "id": "09bf4288-8bca-4285-9cd4-32fb2e250976",
   "metadata": {},
   "outputs": [
    {
     "data": {
      "text/plain": [
       "(20640, 8)"
      ]
     },
     "execution_count": 3,
     "metadata": {},
     "output_type": "execute_result"
    }
   ],
   "source": [
    "X = pd.DataFrame(housevalue.data)\n",
    "X.shape"
   ]
  },
  {
   "cell_type": "code",
   "execution_count": 4,
   "id": "2f82e019-00eb-4dbb-8326-a163fde8b871",
   "metadata": {},
   "outputs": [
    {
     "data": {
      "text/plain": [
       "0.14999"
      ]
     },
     "execution_count": 4,
     "metadata": {},
     "output_type": "execute_result"
    }
   ],
   "source": [
    "y = housevalue.target\n",
    "y.min()"
   ]
  },
  {
   "cell_type": "code",
   "execution_count": 5,
   "id": "6576222b-dbaa-4be9-a87c-b8e27992625a",
   "metadata": {},
   "outputs": [
    {
     "data": {
      "text/plain": [
       "5.00001"
      ]
     },
     "execution_count": 5,
     "metadata": {},
     "output_type": "execute_result"
    }
   ],
   "source": [
    "y.max()"
   ]
  },
  {
   "cell_type": "code",
   "execution_count": 6,
   "id": "74583a2b-4e7d-4154-89de-6cc5d70307d4",
   "metadata": {},
   "outputs": [
    {
     "data": {
      "text/plain": [
       "(20640,)"
      ]
     },
     "execution_count": 6,
     "metadata": {},
     "output_type": "execute_result"
    }
   ],
   "source": [
    "y.shape"
   ]
  },
  {
   "cell_type": "code",
   "execution_count": 7,
   "id": "13b1527f-6674-41fb-b428-07ae5fe5f02d",
   "metadata": {},
   "outputs": [
    {
     "data": {
      "text/html": [
       "<div>\n",
       "<style scoped>\n",
       "    .dataframe tbody tr th:only-of-type {\n",
       "        vertical-align: middle;\n",
       "    }\n",
       "\n",
       "    .dataframe tbody tr th {\n",
       "        vertical-align: top;\n",
       "    }\n",
       "\n",
       "    .dataframe thead th {\n",
       "        text-align: right;\n",
       "    }\n",
       "</style>\n",
       "<table border=\"1\" class=\"dataframe\">\n",
       "  <thead>\n",
       "    <tr style=\"text-align: right;\">\n",
       "      <th></th>\n",
       "      <th>0</th>\n",
       "      <th>1</th>\n",
       "      <th>2</th>\n",
       "      <th>3</th>\n",
       "      <th>4</th>\n",
       "      <th>5</th>\n",
       "      <th>6</th>\n",
       "      <th>7</th>\n",
       "    </tr>\n",
       "  </thead>\n",
       "  <tbody>\n",
       "    <tr>\n",
       "      <th>0</th>\n",
       "      <td>8.3252</td>\n",
       "      <td>41.0</td>\n",
       "      <td>6.984127</td>\n",
       "      <td>1.023810</td>\n",
       "      <td>322.0</td>\n",
       "      <td>2.555556</td>\n",
       "      <td>37.88</td>\n",
       "      <td>-122.23</td>\n",
       "    </tr>\n",
       "    <tr>\n",
       "      <th>1</th>\n",
       "      <td>8.3014</td>\n",
       "      <td>21.0</td>\n",
       "      <td>6.238137</td>\n",
       "      <td>0.971880</td>\n",
       "      <td>2401.0</td>\n",
       "      <td>2.109842</td>\n",
       "      <td>37.86</td>\n",
       "      <td>-122.22</td>\n",
       "    </tr>\n",
       "    <tr>\n",
       "      <th>2</th>\n",
       "      <td>7.2574</td>\n",
       "      <td>52.0</td>\n",
       "      <td>8.288136</td>\n",
       "      <td>1.073446</td>\n",
       "      <td>496.0</td>\n",
       "      <td>2.802260</td>\n",
       "      <td>37.85</td>\n",
       "      <td>-122.24</td>\n",
       "    </tr>\n",
       "    <tr>\n",
       "      <th>3</th>\n",
       "      <td>5.6431</td>\n",
       "      <td>52.0</td>\n",
       "      <td>5.817352</td>\n",
       "      <td>1.073059</td>\n",
       "      <td>558.0</td>\n",
       "      <td>2.547945</td>\n",
       "      <td>37.85</td>\n",
       "      <td>-122.25</td>\n",
       "    </tr>\n",
       "    <tr>\n",
       "      <th>4</th>\n",
       "      <td>3.8462</td>\n",
       "      <td>52.0</td>\n",
       "      <td>6.281853</td>\n",
       "      <td>1.081081</td>\n",
       "      <td>565.0</td>\n",
       "      <td>2.181467</td>\n",
       "      <td>37.85</td>\n",
       "      <td>-122.25</td>\n",
       "    </tr>\n",
       "  </tbody>\n",
       "</table>\n",
       "</div>"
      ],
      "text/plain": [
       "        0     1         2         3       4         5      6       7\n",
       "0  8.3252  41.0  6.984127  1.023810   322.0  2.555556  37.88 -122.23\n",
       "1  8.3014  21.0  6.238137  0.971880  2401.0  2.109842  37.86 -122.22\n",
       "2  7.2574  52.0  8.288136  1.073446   496.0  2.802260  37.85 -122.24\n",
       "3  5.6431  52.0  5.817352  1.073059   558.0  2.547945  37.85 -122.25\n",
       "4  3.8462  52.0  6.281853  1.081081   565.0  2.181467  37.85 -122.25"
      ]
     },
     "execution_count": 7,
     "metadata": {},
     "output_type": "execute_result"
    }
   ],
   "source": [
    "X.head()"
   ]
  },
  {
   "cell_type": "code",
   "execution_count": 8,
   "id": "0568f99a-20a1-4a59-98c7-12a179afcbd8",
   "metadata": {},
   "outputs": [
    {
     "data": {
      "text/plain": [
       "['MedInc',\n",
       " 'HouseAge',\n",
       " 'AveRooms',\n",
       " 'AveBedrms',\n",
       " 'Population',\n",
       " 'AveOccup',\n",
       " 'Latitude',\n",
       " 'Longitude']"
      ]
     },
     "execution_count": 8,
     "metadata": {},
     "output_type": "execute_result"
    }
   ],
   "source": [
    "housevalue.feature_names"
   ]
  },
  {
   "cell_type": "code",
   "execution_count": 9,
   "id": "123ad84d-31e0-418a-b08a-5ceb0381931e",
   "metadata": {},
   "outputs": [],
   "source": [
    "X.columns = housevalue.feature_names"
   ]
  },
  {
   "cell_type": "markdown",
   "id": "2d37f380-054d-47fa-88bc-a5359840ecf1",
   "metadata": {},
   "source": [
    "MedInc：该街区住户的收入中位数\n",
    "HouseAge：该街区房屋使用年代的中位数\n",
    "AveRooms：该街区平均的房间数目\n",
    "AveBedrms：该街区平均的卧室数目\n",
    "Population：街区人口\n",
    "AveOccup：平均入住率\n",
    "Latitude：街区的纬度\n",
    "Longitude：街区的经度"
   ]
  },
  {
   "cell_type": "code",
   "execution_count": 10,
   "id": "d7152ea7-5585-4ed6-8bd8-ea8b8c7d3fba",
   "metadata": {},
   "outputs": [],
   "source": [
    "Xtrain, Xtest, Ytrain, Ytest = train_test_split(X,y,test_size=0.3,random_state=420)"
   ]
  },
  {
   "cell_type": "code",
   "execution_count": 11,
   "id": "3a01b871-4ac0-4781-8cef-1e67fb195156",
   "metadata": {},
   "outputs": [
    {
     "data": {
      "text/html": [
       "<div>\n",
       "<style scoped>\n",
       "    .dataframe tbody tr th:only-of-type {\n",
       "        vertical-align: middle;\n",
       "    }\n",
       "\n",
       "    .dataframe tbody tr th {\n",
       "        vertical-align: top;\n",
       "    }\n",
       "\n",
       "    .dataframe thead th {\n",
       "        text-align: right;\n",
       "    }\n",
       "</style>\n",
       "<table border=\"1\" class=\"dataframe\">\n",
       "  <thead>\n",
       "    <tr style=\"text-align: right;\">\n",
       "      <th></th>\n",
       "      <th>MedInc</th>\n",
       "      <th>HouseAge</th>\n",
       "      <th>AveRooms</th>\n",
       "      <th>AveBedrms</th>\n",
       "      <th>Population</th>\n",
       "      <th>AveOccup</th>\n",
       "      <th>Latitude</th>\n",
       "      <th>Longitude</th>\n",
       "    </tr>\n",
       "  </thead>\n",
       "  <tbody>\n",
       "    <tr>\n",
       "      <th>5156</th>\n",
       "      <td>1.7656</td>\n",
       "      <td>42.0</td>\n",
       "      <td>4.144703</td>\n",
       "      <td>1.031008</td>\n",
       "      <td>1581.0</td>\n",
       "      <td>4.085271</td>\n",
       "      <td>33.96</td>\n",
       "      <td>-118.28</td>\n",
       "    </tr>\n",
       "    <tr>\n",
       "      <th>19714</th>\n",
       "      <td>1.5281</td>\n",
       "      <td>29.0</td>\n",
       "      <td>5.095890</td>\n",
       "      <td>1.095890</td>\n",
       "      <td>1137.0</td>\n",
       "      <td>3.115068</td>\n",
       "      <td>39.29</td>\n",
       "      <td>-121.68</td>\n",
       "    </tr>\n",
       "    <tr>\n",
       "      <th>18471</th>\n",
       "      <td>4.1750</td>\n",
       "      <td>14.0</td>\n",
       "      <td>5.604699</td>\n",
       "      <td>1.045965</td>\n",
       "      <td>2823.0</td>\n",
       "      <td>2.883555</td>\n",
       "      <td>37.14</td>\n",
       "      <td>-121.64</td>\n",
       "    </tr>\n",
       "    <tr>\n",
       "      <th>16156</th>\n",
       "      <td>3.0278</td>\n",
       "      <td>52.0</td>\n",
       "      <td>5.172932</td>\n",
       "      <td>1.085714</td>\n",
       "      <td>1663.0</td>\n",
       "      <td>2.500752</td>\n",
       "      <td>37.78</td>\n",
       "      <td>-122.49</td>\n",
       "    </tr>\n",
       "    <tr>\n",
       "      <th>7028</th>\n",
       "      <td>4.5000</td>\n",
       "      <td>36.0</td>\n",
       "      <td>4.940447</td>\n",
       "      <td>0.982630</td>\n",
       "      <td>1306.0</td>\n",
       "      <td>3.240695</td>\n",
       "      <td>33.95</td>\n",
       "      <td>-118.09</td>\n",
       "    </tr>\n",
       "  </tbody>\n",
       "</table>\n",
       "</div>"
      ],
      "text/plain": [
       "       MedInc  HouseAge  AveRooms  AveBedrms  Population  AveOccup  Latitude  \\\n",
       "5156   1.7656      42.0  4.144703   1.031008      1581.0  4.085271     33.96   \n",
       "19714  1.5281      29.0  5.095890   1.095890      1137.0  3.115068     39.29   \n",
       "18471  4.1750      14.0  5.604699   1.045965      2823.0  2.883555     37.14   \n",
       "16156  3.0278      52.0  5.172932   1.085714      1663.0  2.500752     37.78   \n",
       "7028   4.5000      36.0  4.940447   0.982630      1306.0  3.240695     33.95   \n",
       "\n",
       "       Longitude  \n",
       "5156     -118.28  \n",
       "19714    -121.68  \n",
       "18471    -121.64  \n",
       "16156    -122.49  \n",
       "7028     -118.09  "
      ]
     },
     "execution_count": 11,
     "metadata": {},
     "output_type": "execute_result"
    }
   ],
   "source": [
    "Xtest.head()"
   ]
  },
  {
   "cell_type": "code",
   "execution_count": 12,
   "id": "27dd6f18-710e-4898-afa9-f4e439411911",
   "metadata": {},
   "outputs": [
    {
     "data": {
      "text/html": [
       "<div>\n",
       "<style scoped>\n",
       "    .dataframe tbody tr th:only-of-type {\n",
       "        vertical-align: middle;\n",
       "    }\n",
       "\n",
       "    .dataframe tbody tr th {\n",
       "        vertical-align: top;\n",
       "    }\n",
       "\n",
       "    .dataframe thead th {\n",
       "        text-align: right;\n",
       "    }\n",
       "</style>\n",
       "<table border=\"1\" class=\"dataframe\">\n",
       "  <thead>\n",
       "    <tr style=\"text-align: right;\">\n",
       "      <th></th>\n",
       "      <th>MedInc</th>\n",
       "      <th>HouseAge</th>\n",
       "      <th>AveRooms</th>\n",
       "      <th>AveBedrms</th>\n",
       "      <th>Population</th>\n",
       "      <th>AveOccup</th>\n",
       "      <th>Latitude</th>\n",
       "      <th>Longitude</th>\n",
       "    </tr>\n",
       "  </thead>\n",
       "  <tbody>\n",
       "    <tr>\n",
       "      <th>17073</th>\n",
       "      <td>4.1776</td>\n",
       "      <td>35.0</td>\n",
       "      <td>4.425172</td>\n",
       "      <td>1.030683</td>\n",
       "      <td>5380.0</td>\n",
       "      <td>3.368817</td>\n",
       "      <td>37.48</td>\n",
       "      <td>-122.19</td>\n",
       "    </tr>\n",
       "    <tr>\n",
       "      <th>16956</th>\n",
       "      <td>5.3261</td>\n",
       "      <td>38.0</td>\n",
       "      <td>6.267516</td>\n",
       "      <td>1.089172</td>\n",
       "      <td>429.0</td>\n",
       "      <td>2.732484</td>\n",
       "      <td>37.53</td>\n",
       "      <td>-122.30</td>\n",
       "    </tr>\n",
       "    <tr>\n",
       "      <th>20012</th>\n",
       "      <td>1.9439</td>\n",
       "      <td>26.0</td>\n",
       "      <td>5.768977</td>\n",
       "      <td>1.141914</td>\n",
       "      <td>891.0</td>\n",
       "      <td>2.940594</td>\n",
       "      <td>36.02</td>\n",
       "      <td>-119.08</td>\n",
       "    </tr>\n",
       "    <tr>\n",
       "      <th>13072</th>\n",
       "      <td>2.5000</td>\n",
       "      <td>22.0</td>\n",
       "      <td>4.916000</td>\n",
       "      <td>1.012000</td>\n",
       "      <td>733.0</td>\n",
       "      <td>2.932000</td>\n",
       "      <td>38.57</td>\n",
       "      <td>-121.31</td>\n",
       "    </tr>\n",
       "    <tr>\n",
       "      <th>8457</th>\n",
       "      <td>3.8250</td>\n",
       "      <td>34.0</td>\n",
       "      <td>5.036765</td>\n",
       "      <td>1.098039</td>\n",
       "      <td>1134.0</td>\n",
       "      <td>2.779412</td>\n",
       "      <td>33.91</td>\n",
       "      <td>-118.35</td>\n",
       "    </tr>\n",
       "  </tbody>\n",
       "</table>\n",
       "</div>"
      ],
      "text/plain": [
       "       MedInc  HouseAge  AveRooms  AveBedrms  Population  AveOccup  Latitude  \\\n",
       "17073  4.1776      35.0  4.425172   1.030683      5380.0  3.368817     37.48   \n",
       "16956  5.3261      38.0  6.267516   1.089172       429.0  2.732484     37.53   \n",
       "20012  1.9439      26.0  5.768977   1.141914       891.0  2.940594     36.02   \n",
       "13072  2.5000      22.0  4.916000   1.012000       733.0  2.932000     38.57   \n",
       "8457   3.8250      34.0  5.036765   1.098039      1134.0  2.779412     33.91   \n",
       "\n",
       "       Longitude  \n",
       "17073    -122.19  \n",
       "16956    -122.30  \n",
       "20012    -119.08  \n",
       "13072    -121.31  \n",
       "8457     -118.35  "
      ]
     },
     "execution_count": 12,
     "metadata": {},
     "output_type": "execute_result"
    }
   ],
   "source": [
    "Xtrain.head()"
   ]
  },
  {
   "cell_type": "code",
   "execution_count": 13,
   "id": "211cb890-8cee-47c4-840a-47d1ff2c548d",
   "metadata": {},
   "outputs": [],
   "source": [
    "for i in [Xtrain, Xtest]:\n",
    "    i.index = range(i.shape[0])"
   ]
  },
  {
   "cell_type": "code",
   "execution_count": 14,
   "id": "cd1417fc-6c85-472b-a342-af0b166d75c0",
   "metadata": {},
   "outputs": [
    {
     "data": {
      "text/plain": [
       "(14448, 8)"
      ]
     },
     "execution_count": 14,
     "metadata": {},
     "output_type": "execute_result"
    }
   ],
   "source": [
    "Xtrain.shape"
   ]
  },
  {
   "cell_type": "code",
   "execution_count": 15,
   "id": "2747b698-7665-48c5-afd1-2693a9b82c02",
   "metadata": {},
   "outputs": [
    {
     "data": {
      "text/plain": [
       "-0.6528439725035895"
      ]
     },
     "execution_count": 15,
     "metadata": {},
     "output_type": "execute_result"
    }
   ],
   "source": [
    "reg = LR().fit(Xtrain, Ytrain)\n",
    "yhat = reg.predict(Xtest)\n",
    "yhat.min()"
   ]
  },
  {
   "cell_type": "code",
   "execution_count": 16,
   "id": "c0fe3ce3-13bb-4e90-a238-540950483bf4",
   "metadata": {},
   "outputs": [
    {
     "data": {
      "text/plain": [
       "7.146198214270882"
      ]
     },
     "execution_count": 16,
     "metadata": {},
     "output_type": "execute_result"
    }
   ],
   "source": [
    "yhat.max()"
   ]
  },
  {
   "cell_type": "code",
   "execution_count": 17,
   "id": "49524564-928a-4f05-ba58-43feda1cfae4",
   "metadata": {},
   "outputs": [
    {
     "data": {
      "text/plain": [
       "array([ 4.37358931e-01,  1.02112683e-02, -1.07807216e-01,  6.26433828e-01,\n",
       "        5.21612535e-07, -3.34850965e-03, -4.13095938e-01, -4.26210954e-01])"
      ]
     },
     "execution_count": 17,
     "metadata": {},
     "output_type": "execute_result"
    }
   ],
   "source": [
    "reg.coef_"
   ]
  },
  {
   "cell_type": "code",
   "execution_count": 18,
   "id": "3bc99ea9-ff6e-4c02-918a-efca000774a0",
   "metadata": {},
   "outputs": [
    {
     "data": {
      "text/plain": [
       "Index(['MedInc', 'HouseAge', 'AveRooms', 'AveBedrms', 'Population', 'AveOccup',\n",
       "       'Latitude', 'Longitude'],\n",
       "      dtype='object')"
      ]
     },
     "execution_count": 18,
     "metadata": {},
     "output_type": "execute_result"
    }
   ],
   "source": [
    "Xtrain.columns"
   ]
  },
  {
   "cell_type": "code",
   "execution_count": 19,
   "id": "73b8f7e5-3384-4cf4-8db9-f9ed4ab58c03",
   "metadata": {},
   "outputs": [
    {
     "data": {
      "text/plain": [
       "[('MedInc', 0.43735893059684033),\n",
       " ('HouseAge', 0.010211268294494024),\n",
       " ('AveRooms', -0.10780721617317683),\n",
       " ('AveBedrms', 0.6264338275363768),\n",
       " ('Population', 5.216125353123053e-07),\n",
       " ('AveOccup', -0.003348509646333473),\n",
       " ('Latitude', -0.41309593789477156),\n",
       " ('Longitude', -0.4262109536208467)]"
      ]
     },
     "execution_count": 19,
     "metadata": {},
     "output_type": "execute_result"
    }
   ],
   "source": [
    "[*zip(Xtrain.columns,reg.coef_)]"
   ]
  },
  {
   "cell_type": "code",
   "execution_count": 20,
   "id": "8bfadb6c-d77f-452a-9c20-97141db1d456",
   "metadata": {},
   "outputs": [
    {
     "data": {
      "text/plain": [
       "-36.25689322920383"
      ]
     },
     "execution_count": 20,
     "metadata": {},
     "output_type": "execute_result"
    }
   ],
   "source": [
    "reg.intercept_"
   ]
  },
  {
   "cell_type": "code",
   "execution_count": 21,
   "id": "42128a82-f70d-4b83-8c55-c3741244b1d3",
   "metadata": {},
   "outputs": [
    {
     "data": {
      "text/plain": [
       "0.530901263932457"
      ]
     },
     "execution_count": 21,
     "metadata": {},
     "output_type": "execute_result"
    }
   ],
   "source": [
    "from sklearn.metrics import mean_squared_error as MSE\n",
    "MSE(yhat,Ytest)"
   ]
  },
  {
   "cell_type": "code",
   "execution_count": 22,
   "id": "46368429-619b-4e5a-a24b-3075de185047",
   "metadata": {},
   "outputs": [
    {
     "data": {
      "text/plain": [
       "2.0819292877906976"
      ]
     },
     "execution_count": 22,
     "metadata": {},
     "output_type": "execute_result"
    }
   ],
   "source": [
    "Ytest.mean()"
   ]
  },
  {
   "cell_type": "code",
   "execution_count": 23,
   "id": "a19e33f6-fe4f-43eb-a012-9a8b203864be",
   "metadata": {},
   "outputs": [
    {
     "data": {
      "text/plain": [
       "5.00001"
      ]
     },
     "execution_count": 23,
     "metadata": {},
     "output_type": "execute_result"
    }
   ],
   "source": [
    "y.max()"
   ]
  },
  {
   "cell_type": "code",
   "execution_count": 24,
   "id": "adde42e8-dc74-4fd0-a84f-5af9ef2989e1",
   "metadata": {},
   "outputs": [
    {
     "data": {
      "text/plain": [
       "0.14999"
      ]
     },
     "execution_count": 24,
     "metadata": {},
     "output_type": "execute_result"
    }
   ],
   "source": [
    "y.min()"
   ]
  },
  {
   "cell_type": "code",
   "execution_count": 25,
   "id": "8bb09a7c-b87e-4109-997f-a3389b4e3a52",
   "metadata": {},
   "outputs": [
    {
     "data": {
      "text/plain": [
       "['accuracy',\n",
       " 'adjusted_mutual_info_score',\n",
       " 'adjusted_rand_score',\n",
       " 'average_precision',\n",
       " 'balanced_accuracy',\n",
       " 'completeness_score',\n",
       " 'explained_variance',\n",
       " 'f1',\n",
       " 'f1_macro',\n",
       " 'f1_micro',\n",
       " 'f1_samples',\n",
       " 'f1_weighted',\n",
       " 'fowlkes_mallows_score',\n",
       " 'homogeneity_score',\n",
       " 'jaccard',\n",
       " 'jaccard_macro',\n",
       " 'jaccard_micro',\n",
       " 'jaccard_samples',\n",
       " 'jaccard_weighted',\n",
       " 'max_error',\n",
       " 'mutual_info_score',\n",
       " 'neg_brier_score',\n",
       " 'neg_log_loss',\n",
       " 'neg_mean_absolute_error',\n",
       " 'neg_mean_absolute_percentage_error',\n",
       " 'neg_mean_gamma_deviance',\n",
       " 'neg_mean_poisson_deviance',\n",
       " 'neg_mean_squared_error',\n",
       " 'neg_mean_squared_log_error',\n",
       " 'neg_median_absolute_error',\n",
       " 'neg_root_mean_squared_error',\n",
       " 'normalized_mutual_info_score',\n",
       " 'precision',\n",
       " 'precision_macro',\n",
       " 'precision_micro',\n",
       " 'precision_samples',\n",
       " 'precision_weighted',\n",
       " 'r2',\n",
       " 'rand_score',\n",
       " 'recall',\n",
       " 'recall_macro',\n",
       " 'recall_micro',\n",
       " 'recall_samples',\n",
       " 'recall_weighted',\n",
       " 'roc_auc',\n",
       " 'roc_auc_ovo',\n",
       " 'roc_auc_ovo_weighted',\n",
       " 'roc_auc_ovr',\n",
       " 'roc_auc_ovr_weighted',\n",
       " 'top_k_accuracy',\n",
       " 'v_measure_score']"
      ]
     },
     "execution_count": 25,
     "metadata": {},
     "output_type": "execute_result"
    }
   ],
   "source": [
    "import sklearn\n",
    "sorted(sklearn.metrics.SCORERS.keys())"
   ]
  },
  {
   "cell_type": "code",
   "execution_count": 26,
   "id": "ae71d2a8-df37-4136-b223-515cb19ec982",
   "metadata": {},
   "outputs": [
    {
     "data": {
      "text/plain": [
       "array([-0.48922052, -0.43335865, -0.8864377 , -0.39091641, -0.7479731 ,\n",
       "       -0.52980278, -0.28798456, -0.77326441, -0.64305557, -0.3275106 ])"
      ]
     },
     "execution_count": 26,
     "metadata": {},
     "output_type": "execute_result"
    }
   ],
   "source": [
    "cross_val_score(reg,X,y,cv=10,scoring=\"neg_mean_squared_error\")"
   ]
  },
  {
   "cell_type": "code",
   "execution_count": 27,
   "id": "cbb622c6-0153-4432-8683-9d6453f45ea9",
   "metadata": {},
   "outputs": [
    {
     "data": {
      "text/plain": [
       "0.33806537615560117"
      ]
     },
     "execution_count": 27,
     "metadata": {},
     "output_type": "execute_result"
    }
   ],
   "source": [
    "from sklearn.metrics import r2_score\n",
    "r2_score(yhat,Ytest)"
   ]
  },
  {
   "cell_type": "code",
   "execution_count": 28,
   "id": "1e90de18-5667-4ba3-b6b0-b9a764188588",
   "metadata": {},
   "outputs": [
    {
     "data": {
      "text/plain": [
       "0.6043668160178818"
      ]
     },
     "execution_count": 28,
     "metadata": {},
     "output_type": "execute_result"
    }
   ],
   "source": [
    "r2 = reg.score(Xtest,Ytest)\n",
    "r2"
   ]
  },
  {
   "cell_type": "code",
   "execution_count": 29,
   "id": "707db5fb-1f4d-4ad2-80f7-9806a8ceef08",
   "metadata": {},
   "outputs": [
    {
     "data": {
      "text/plain": [
       "0.6043668160178818"
      ]
     },
     "execution_count": 29,
     "metadata": {},
     "output_type": "execute_result"
    }
   ],
   "source": [
    "r2_score(Ytest,yhat)"
   ]
  },
  {
   "cell_type": "code",
   "execution_count": 30,
   "id": "e59c60e8-fddd-4762-b47b-2de1747cb98b",
   "metadata": {},
   "outputs": [
    {
     "data": {
      "text/plain": [
       "0.6043668160178818"
      ]
     },
     "execution_count": 30,
     "metadata": {},
     "output_type": "execute_result"
    }
   ],
   "source": [
    "r2_score(y_true = Ytest,y_pred = yhat)"
   ]
  },
  {
   "cell_type": "code",
   "execution_count": 31,
   "id": "57bf2206-4034-45ef-9ffc-fffcc197eecd",
   "metadata": {},
   "outputs": [
    {
     "data": {
      "text/plain": [
       "0.511006861052455"
      ]
     },
     "execution_count": 31,
     "metadata": {},
     "output_type": "execute_result"
    }
   ],
   "source": [
    "cross_val_score(reg,X,y,cv=10,scoring=\"r2\").mean()"
   ]
  },
  {
   "cell_type": "code",
   "execution_count": 32,
   "id": "192eafdf-75f2-4d9a-a43b-4239e2d7ab00",
   "metadata": {
    "scrolled": true,
    "tags": []
   },
   "outputs": [
    {
     "data": {
      "text/plain": [
       "[0.14999,\n",
       " 0.14999,\n",
       " 0.225,\n",
       " 0.325,\n",
       " 0.35,\n",
       " 0.375,\n",
       " 0.388,\n",
       " 0.392,\n",
       " 0.394,\n",
       " 0.396,\n",
       " 0.4,\n",
       " 0.404,\n",
       " 0.409,\n",
       " 0.41,\n",
       " 0.43,\n",
       " 0.435,\n",
       " 0.437,\n",
       " 0.439,\n",
       " 0.44,\n",
       " 0.44,\n",
       " 0.444,\n",
       " 0.446,\n",
       " 0.45,\n",
       " 0.45,\n",
       " 0.45,\n",
       " 0.45,\n",
       " 0.455,\n",
       " 0.455,\n",
       " 0.455,\n",
       " 0.456,\n",
       " 0.462,\n",
       " 0.463,\n",
       " 0.471,\n",
       " 0.475,\n",
       " 0.478,\n",
       " 0.478,\n",
       " 0.481,\n",
       " 0.481,\n",
       " 0.483,\n",
       " 0.483,\n",
       " 0.485,\n",
       " 0.485,\n",
       " 0.488,\n",
       " 0.489,\n",
       " 0.49,\n",
       " 0.492,\n",
       " 0.494,\n",
       " 0.494,\n",
       " 0.494,\n",
       " 0.495,\n",
       " 0.496,\n",
       " 0.5,\n",
       " 0.5,\n",
       " 0.504,\n",
       " 0.505,\n",
       " 0.506,\n",
       " 0.506,\n",
       " 0.508,\n",
       " 0.508,\n",
       " 0.51,\n",
       " 0.516,\n",
       " 0.519,\n",
       " 0.52,\n",
       " 0.521,\n",
       " 0.523,\n",
       " 0.523,\n",
       " 0.525,\n",
       " 0.525,\n",
       " 0.525,\n",
       " 0.525,\n",
       " 0.525,\n",
       " 0.527,\n",
       " 0.527,\n",
       " 0.528,\n",
       " 0.529,\n",
       " 0.53,\n",
       " 0.531,\n",
       " 0.532,\n",
       " 0.534,\n",
       " 0.535,\n",
       " 0.535,\n",
       " 0.535,\n",
       " 0.538,\n",
       " 0.538,\n",
       " 0.539,\n",
       " 0.539,\n",
       " 0.539,\n",
       " 0.541,\n",
       " 0.541,\n",
       " 0.542,\n",
       " 0.542,\n",
       " 0.542,\n",
       " 0.543,\n",
       " 0.543,\n",
       " 0.544,\n",
       " 0.544,\n",
       " 0.546,\n",
       " 0.547,\n",
       " 0.55,\n",
       " 0.55,\n",
       " 0.55,\n",
       " 0.55,\n",
       " 0.55,\n",
       " 0.55,\n",
       " 0.55,\n",
       " 0.55,\n",
       " 0.551,\n",
       " 0.553,\n",
       " 0.553,\n",
       " 0.553,\n",
       " 0.554,\n",
       " 0.554,\n",
       " 0.554,\n",
       " 0.555,\n",
       " 0.556,\n",
       " 0.556,\n",
       " 0.557,\n",
       " 0.558,\n",
       " 0.558,\n",
       " 0.559,\n",
       " 0.559,\n",
       " 0.559,\n",
       " 0.559,\n",
       " 0.56,\n",
       " 0.56,\n",
       " 0.562,\n",
       " 0.566,\n",
       " 0.567,\n",
       " 0.567,\n",
       " 0.567,\n",
       " 0.567,\n",
       " 0.567,\n",
       " 0.568,\n",
       " 0.57,\n",
       " 0.571,\n",
       " 0.572,\n",
       " 0.574,\n",
       " 0.574,\n",
       " 0.575,\n",
       " 0.575,\n",
       " 0.575,\n",
       " 0.575,\n",
       " 0.576,\n",
       " 0.577,\n",
       " 0.577,\n",
       " 0.577,\n",
       " 0.578,\n",
       " 0.579,\n",
       " 0.579,\n",
       " 0.579,\n",
       " 0.58,\n",
       " 0.58,\n",
       " 0.58,\n",
       " 0.58,\n",
       " 0.58,\n",
       " 0.58,\n",
       " 0.581,\n",
       " 0.581,\n",
       " 0.581,\n",
       " 0.581,\n",
       " 0.582,\n",
       " 0.583,\n",
       " 0.583,\n",
       " 0.583,\n",
       " 0.583,\n",
       " 0.584,\n",
       " 0.586,\n",
       " 0.586,\n",
       " 0.587,\n",
       " 0.588,\n",
       " 0.588,\n",
       " 0.59,\n",
       " 0.59,\n",
       " 0.59,\n",
       " 0.59,\n",
       " 0.591,\n",
       " 0.591,\n",
       " 0.593,\n",
       " 0.593,\n",
       " 0.594,\n",
       " 0.594,\n",
       " 0.594,\n",
       " 0.594,\n",
       " 0.595,\n",
       " 0.596,\n",
       " 0.596,\n",
       " 0.597,\n",
       " 0.598,\n",
       " 0.598,\n",
       " 0.6,\n",
       " 0.6,\n",
       " 0.6,\n",
       " 0.602,\n",
       " 0.602,\n",
       " 0.603,\n",
       " 0.604,\n",
       " 0.604,\n",
       " 0.604,\n",
       " 0.605,\n",
       " 0.606,\n",
       " 0.606,\n",
       " 0.608,\n",
       " 0.608,\n",
       " 0.608,\n",
       " 0.609,\n",
       " 0.609,\n",
       " 0.611,\n",
       " 0.612,\n",
       " 0.612,\n",
       " 0.613,\n",
       " 0.613,\n",
       " 0.613,\n",
       " 0.614,\n",
       " 0.615,\n",
       " 0.616,\n",
       " 0.616,\n",
       " 0.616,\n",
       " 0.616,\n",
       " 0.618,\n",
       " 0.618,\n",
       " 0.618,\n",
       " 0.619,\n",
       " 0.619,\n",
       " 0.62,\n",
       " 0.62,\n",
       " 0.62,\n",
       " 0.62,\n",
       " 0.62,\n",
       " 0.62,\n",
       " 0.62,\n",
       " 0.62,\n",
       " 0.621,\n",
       " 0.621,\n",
       " 0.621,\n",
       " 0.622,\n",
       " 0.623,\n",
       " 0.625,\n",
       " 0.625,\n",
       " 0.625,\n",
       " 0.627,\n",
       " 0.627,\n",
       " 0.628,\n",
       " 0.628,\n",
       " 0.629,\n",
       " 0.63,\n",
       " 0.63,\n",
       " 0.63,\n",
       " 0.63,\n",
       " 0.631,\n",
       " 0.631,\n",
       " 0.632,\n",
       " 0.632,\n",
       " 0.633,\n",
       " 0.633,\n",
       " 0.633,\n",
       " 0.634,\n",
       " 0.634,\n",
       " 0.635,\n",
       " 0.635,\n",
       " 0.635,\n",
       " 0.635,\n",
       " 0.635,\n",
       " 0.637,\n",
       " 0.637,\n",
       " 0.637,\n",
       " 0.637,\n",
       " 0.638,\n",
       " 0.639,\n",
       " 0.643,\n",
       " 0.644,\n",
       " 0.644,\n",
       " 0.646,\n",
       " 0.646,\n",
       " 0.646,\n",
       " 0.646,\n",
       " 0.647,\n",
       " 0.647,\n",
       " 0.647,\n",
       " 0.648,\n",
       " 0.65,\n",
       " 0.65,\n",
       " 0.65,\n",
       " 0.652,\n",
       " 0.652,\n",
       " 0.654,\n",
       " 0.654,\n",
       " 0.654,\n",
       " 0.655,\n",
       " 0.656,\n",
       " 0.656,\n",
       " 0.656,\n",
       " 0.656,\n",
       " 0.657,\n",
       " 0.658,\n",
       " 0.658,\n",
       " 0.659,\n",
       " 0.659,\n",
       " 0.659,\n",
       " 0.659,\n",
       " 0.659,\n",
       " 0.66,\n",
       " 0.661,\n",
       " 0.661,\n",
       " 0.662,\n",
       " 0.662,\n",
       " 0.663,\n",
       " 0.664,\n",
       " 0.664,\n",
       " 0.664,\n",
       " 0.668,\n",
       " 0.669,\n",
       " 0.669,\n",
       " 0.67,\n",
       " 0.67,\n",
       " 0.67,\n",
       " 0.67,\n",
       " 0.67,\n",
       " 0.67,\n",
       " 0.672,\n",
       " 0.672,\n",
       " 0.672,\n",
       " 0.673,\n",
       " 0.673,\n",
       " 0.674,\n",
       " 0.675,\n",
       " 0.675,\n",
       " 0.675,\n",
       " 0.675,\n",
       " 0.675,\n",
       " 0.675,\n",
       " 0.675,\n",
       " 0.675,\n",
       " 0.675,\n",
       " 0.675,\n",
       " 0.675,\n",
       " 0.675,\n",
       " 0.675,\n",
       " 0.676,\n",
       " 0.676,\n",
       " 0.677,\n",
       " 0.678,\n",
       " 0.68,\n",
       " 0.68,\n",
       " 0.681,\n",
       " 0.682,\n",
       " 0.682,\n",
       " 0.682,\n",
       " 0.682,\n",
       " 0.683,\n",
       " 0.683,\n",
       " 0.683,\n",
       " 0.684,\n",
       " 0.684,\n",
       " 0.685,\n",
       " 0.685,\n",
       " 0.685,\n",
       " 0.685,\n",
       " 0.686,\n",
       " 0.686,\n",
       " 0.687,\n",
       " 0.688,\n",
       " 0.689,\n",
       " 0.689,\n",
       " 0.689,\n",
       " 0.69,\n",
       " 0.69,\n",
       " 0.691,\n",
       " 0.691,\n",
       " 0.692,\n",
       " 0.693,\n",
       " 0.694,\n",
       " 0.694,\n",
       " 0.694,\n",
       " 0.694,\n",
       " 0.694,\n",
       " 0.695,\n",
       " 0.695,\n",
       " 0.695,\n",
       " 0.696,\n",
       " 0.696,\n",
       " 0.697,\n",
       " 0.698,\n",
       " 0.699,\n",
       " 0.699,\n",
       " 0.7,\n",
       " 0.7,\n",
       " 0.7,\n",
       " 0.7,\n",
       " 0.7,\n",
       " 0.7,\n",
       " 0.701,\n",
       " 0.701,\n",
       " 0.701,\n",
       " 0.702,\n",
       " 0.702,\n",
       " 0.703,\n",
       " 0.704,\n",
       " 0.704,\n",
       " 0.705,\n",
       " 0.705,\n",
       " 0.706,\n",
       " 0.707,\n",
       " 0.707,\n",
       " 0.707,\n",
       " 0.708,\n",
       " 0.709,\n",
       " 0.71,\n",
       " 0.71,\n",
       " 0.71,\n",
       " 0.711,\n",
       " 0.712,\n",
       " 0.712,\n",
       " 0.713,\n",
       " 0.713,\n",
       " 0.713,\n",
       " 0.714,\n",
       " 0.715,\n",
       " 0.716,\n",
       " 0.718,\n",
       " 0.719,\n",
       " 0.72,\n",
       " 0.72,\n",
       " 0.72,\n",
       " 0.721,\n",
       " 0.722,\n",
       " 0.723,\n",
       " 0.723,\n",
       " 0.723,\n",
       " 0.723,\n",
       " 0.723,\n",
       " 0.725,\n",
       " 0.725,\n",
       " 0.727,\n",
       " 0.727,\n",
       " 0.728,\n",
       " 0.729,\n",
       " 0.729,\n",
       " 0.73,\n",
       " 0.73,\n",
       " 0.73,\n",
       " 0.73,\n",
       " 0.73,\n",
       " 0.731,\n",
       " 0.731,\n",
       " 0.731,\n",
       " 0.731,\n",
       " 0.732,\n",
       " 0.733,\n",
       " 0.733,\n",
       " 0.734,\n",
       " 0.735,\n",
       " 0.735,\n",
       " 0.737,\n",
       " 0.738,\n",
       " 0.738,\n",
       " 0.738,\n",
       " 0.74,\n",
       " 0.74,\n",
       " 0.74,\n",
       " 0.741,\n",
       " 0.741,\n",
       " 0.741,\n",
       " 0.743,\n",
       " 0.746,\n",
       " 0.746,\n",
       " 0.747,\n",
       " 0.748,\n",
       " 0.749,\n",
       " 0.75,\n",
       " 0.75,\n",
       " 0.75,\n",
       " 0.75,\n",
       " 0.75,\n",
       " 0.75,\n",
       " 0.75,\n",
       " 0.752,\n",
       " 0.752,\n",
       " 0.754,\n",
       " 0.756,\n",
       " 0.756,\n",
       " 0.757,\n",
       " 0.759,\n",
       " 0.759,\n",
       " 0.759,\n",
       " 0.76,\n",
       " 0.76,\n",
       " 0.761,\n",
       " 0.762,\n",
       " 0.762,\n",
       " 0.762,\n",
       " 0.762,\n",
       " 0.763,\n",
       " 0.764,\n",
       " 0.764,\n",
       " 0.765,\n",
       " 0.766,\n",
       " 0.768,\n",
       " 0.769,\n",
       " 0.77,\n",
       " 0.771,\n",
       " 0.771,\n",
       " 0.771,\n",
       " 0.772,\n",
       " 0.772,\n",
       " 0.773,\n",
       " 0.774,\n",
       " 0.774,\n",
       " 0.775,\n",
       " 0.777,\n",
       " 0.777,\n",
       " 0.779,\n",
       " 0.78,\n",
       " 0.78,\n",
       " 0.78,\n",
       " 0.781,\n",
       " 0.783,\n",
       " 0.783,\n",
       " 0.785,\n",
       " 0.786,\n",
       " 0.786,\n",
       " 0.786,\n",
       " 0.786,\n",
       " 0.788,\n",
       " 0.788,\n",
       " 0.788,\n",
       " 0.788,\n",
       " 0.788,\n",
       " 0.79,\n",
       " 0.79,\n",
       " 0.79,\n",
       " 0.792,\n",
       " 0.792,\n",
       " 0.792,\n",
       " 0.795,\n",
       " 0.795,\n",
       " 0.795,\n",
       " 0.797,\n",
       " 0.797,\n",
       " 0.798,\n",
       " 0.799,\n",
       " 0.8,\n",
       " 0.801,\n",
       " 0.802,\n",
       " 0.803,\n",
       " 0.804,\n",
       " 0.804,\n",
       " 0.804,\n",
       " 0.806,\n",
       " 0.806,\n",
       " 0.808,\n",
       " 0.808,\n",
       " 0.808,\n",
       " 0.809,\n",
       " 0.81,\n",
       " 0.81,\n",
       " 0.811,\n",
       " 0.813,\n",
       " 0.813,\n",
       " 0.813,\n",
       " 0.813,\n",
       " 0.813,\n",
       " 0.813,\n",
       " 0.813,\n",
       " 0.813,\n",
       " 0.813,\n",
       " 0.813,\n",
       " 0.813,\n",
       " 0.813,\n",
       " 0.813,\n",
       " 0.813,\n",
       " 0.814,\n",
       " 0.814,\n",
       " 0.816,\n",
       " 0.817,\n",
       " 0.817,\n",
       " 0.817,\n",
       " 0.821,\n",
       " 0.821,\n",
       " 0.821,\n",
       " 0.823,\n",
       " 0.823,\n",
       " 0.824,\n",
       " 0.825,\n",
       " 0.825,\n",
       " 0.825,\n",
       " 0.826,\n",
       " 0.827,\n",
       " 0.827,\n",
       " 0.828,\n",
       " 0.828,\n",
       " 0.828,\n",
       " 0.83,\n",
       " 0.83,\n",
       " 0.83,\n",
       " 0.831,\n",
       " 0.831,\n",
       " 0.831,\n",
       " 0.832,\n",
       " 0.832,\n",
       " 0.832,\n",
       " 0.833,\n",
       " 0.833,\n",
       " 0.834,\n",
       " 0.835,\n",
       " 0.835,\n",
       " 0.836,\n",
       " 0.836,\n",
       " 0.837,\n",
       " 0.838,\n",
       " 0.839,\n",
       " 0.839,\n",
       " 0.839,\n",
       " 0.839,\n",
       " 0.84,\n",
       " 0.841,\n",
       " 0.842,\n",
       " 0.842,\n",
       " 0.842,\n",
       " 0.843,\n",
       " 0.843,\n",
       " 0.844,\n",
       " 0.844,\n",
       " 0.844,\n",
       " 0.845,\n",
       " 0.845,\n",
       " 0.845,\n",
       " 0.845,\n",
       " 0.846,\n",
       " 0.846,\n",
       " 0.846,\n",
       " 0.846,\n",
       " 0.847,\n",
       " 0.847,\n",
       " 0.847,\n",
       " 0.847,\n",
       " 0.847,\n",
       " 0.847,\n",
       " 0.848,\n",
       " 0.849,\n",
       " 0.849,\n",
       " 0.85,\n",
       " 0.85,\n",
       " 0.85,\n",
       " 0.851,\n",
       " 0.851,\n",
       " 0.851,\n",
       " 0.851,\n",
       " 0.852,\n",
       " 0.853,\n",
       " 0.853,\n",
       " 0.854,\n",
       " 0.854,\n",
       " 0.854,\n",
       " 0.855,\n",
       " 0.855,\n",
       " 0.855,\n",
       " 0.855,\n",
       " 0.856,\n",
       " 0.857,\n",
       " 0.857,\n",
       " 0.857,\n",
       " 0.857,\n",
       " 0.857,\n",
       " 0.858,\n",
       " 0.859,\n",
       " 0.859,\n",
       " 0.859,\n",
       " 0.859,\n",
       " 0.859,\n",
       " 0.861,\n",
       " 0.862,\n",
       " 0.863,\n",
       " 0.863,\n",
       " 0.863,\n",
       " 0.864,\n",
       " 0.864,\n",
       " 0.864,\n",
       " 0.864,\n",
       " 0.865,\n",
       " 0.865,\n",
       " 0.865,\n",
       " 0.866,\n",
       " 0.867,\n",
       " 0.867,\n",
       " 0.868,\n",
       " 0.869,\n",
       " 0.869,\n",
       " 0.869,\n",
       " 0.869,\n",
       " 0.87,\n",
       " 0.87,\n",
       " 0.871,\n",
       " 0.871,\n",
       " 0.872,\n",
       " 0.872,\n",
       " 0.872,\n",
       " 0.873,\n",
       " 0.874,\n",
       " 0.875,\n",
       " 0.875,\n",
       " 0.875,\n",
       " 0.875,\n",
       " 0.875,\n",
       " 0.875,\n",
       " 0.875,\n",
       " 0.875,\n",
       " 0.875,\n",
       " 0.875,\n",
       " 0.875,\n",
       " 0.875,\n",
       " 0.875,\n",
       " 0.875,\n",
       " 0.875,\n",
       " 0.875,\n",
       " 0.875,\n",
       " 0.875,\n",
       " 0.875,\n",
       " 0.875,\n",
       " 0.875,\n",
       " 0.875,\n",
       " 0.875,\n",
       " 0.875,\n",
       " 0.876,\n",
       " 0.876,\n",
       " 0.877,\n",
       " 0.877,\n",
       " 0.878,\n",
       " 0.878,\n",
       " 0.878,\n",
       " 0.879,\n",
       " 0.879,\n",
       " 0.879,\n",
       " 0.88,\n",
       " 0.88,\n",
       " 0.881,\n",
       " 0.881,\n",
       " 0.882,\n",
       " 0.882,\n",
       " 0.882,\n",
       " 0.882,\n",
       " 0.883,\n",
       " 0.883,\n",
       " 0.883,\n",
       " 0.883,\n",
       " 0.883,\n",
       " 0.883,\n",
       " 0.884,\n",
       " 0.885,\n",
       " 0.885,\n",
       " 0.886,\n",
       " 0.887,\n",
       " 0.887,\n",
       " 0.887,\n",
       " 0.888,\n",
       " 0.888,\n",
       " 0.888,\n",
       " 0.889,\n",
       " 0.889,\n",
       " 0.889,\n",
       " 0.889,\n",
       " 0.889,\n",
       " 0.89,\n",
       " 0.891,\n",
       " 0.892,\n",
       " 0.892,\n",
       " 0.892,\n",
       " 0.893,\n",
       " 0.893,\n",
       " 0.894,\n",
       " 0.895,\n",
       " 0.896,\n",
       " 0.896,\n",
       " 0.897,\n",
       " 0.897,\n",
       " 0.898,\n",
       " 0.898,\n",
       " 0.899,\n",
       " 0.9,\n",
       " 0.9,\n",
       " 0.9,\n",
       " 0.901,\n",
       " 0.901,\n",
       " 0.901,\n",
       " 0.902,\n",
       " 0.903,\n",
       " 0.903,\n",
       " 0.904,\n",
       " 0.904,\n",
       " 0.904,\n",
       " 0.905,\n",
       " 0.905,\n",
       " 0.905,\n",
       " 0.905,\n",
       " 0.906,\n",
       " 0.906,\n",
       " 0.906,\n",
       " 0.906,\n",
       " 0.907,\n",
       " 0.907,\n",
       " 0.908,\n",
       " 0.911,\n",
       " 0.911,\n",
       " 0.912,\n",
       " 0.914,\n",
       " 0.915,\n",
       " 0.915,\n",
       " 0.916,\n",
       " 0.916,\n",
       " 0.917,\n",
       " 0.917,\n",
       " 0.917,\n",
       " 0.917,\n",
       " 0.918,\n",
       " 0.918,\n",
       " 0.918,\n",
       " 0.919,\n",
       " 0.919,\n",
       " 0.919,\n",
       " 0.92,\n",
       " 0.92,\n",
       " 0.922,\n",
       " 0.922,\n",
       " 0.922,\n",
       " 0.922,\n",
       " 0.922,\n",
       " 0.924,\n",
       " 0.925,\n",
       " 0.925,\n",
       " 0.925,\n",
       " 0.925,\n",
       " 0.926,\n",
       " 0.926,\n",
       " 0.926,\n",
       " 0.926,\n",
       " 0.926,\n",
       " 0.926,\n",
       " 0.926,\n",
       " 0.926,\n",
       " 0.926,\n",
       " 0.926,\n",
       " 0.927,\n",
       " 0.927,\n",
       " 0.927,\n",
       " 0.927,\n",
       " 0.928,\n",
       " 0.928,\n",
       " 0.928,\n",
       " 0.928,\n",
       " 0.928,\n",
       " 0.929,\n",
       " 0.93,\n",
       " 0.93,\n",
       " 0.931,\n",
       " 0.931,\n",
       " 0.931,\n",
       " 0.931,\n",
       " 0.931,\n",
       " 0.931,\n",
       " 0.932,\n",
       " 0.932,\n",
       " 0.932,\n",
       " 0.932,\n",
       " 0.933,\n",
       " 0.933,\n",
       " 0.933,\n",
       " 0.934,\n",
       " 0.934,\n",
       " 0.934,\n",
       " 0.934,\n",
       " 0.934,\n",
       " 0.935,\n",
       " 0.935,\n",
       " 0.935,\n",
       " 0.936,\n",
       " 0.936,\n",
       " 0.936,\n",
       " 0.936,\n",
       " 0.938,\n",
       " 0.938,\n",
       " 0.938,\n",
       " 0.938,\n",
       " 0.938,\n",
       " 0.938,\n",
       " 0.938,\n",
       " 0.938,\n",
       " 0.938,\n",
       " 0.938,\n",
       " 0.938,\n",
       " 0.939,\n",
       " 0.939,\n",
       " 0.94,\n",
       " 0.94,\n",
       " 0.942,\n",
       " 0.942,\n",
       " 0.943,\n",
       " 0.943,\n",
       " 0.944,\n",
       " 0.944,\n",
       " 0.944,\n",
       " 0.945,\n",
       " 0.945,\n",
       " 0.946,\n",
       " 0.946,\n",
       " 0.946,\n",
       " 0.946,\n",
       " 0.946,\n",
       " 0.946,\n",
       " 0.946,\n",
       " 0.947,\n",
       " 0.947,\n",
       " 0.948,\n",
       " 0.948,\n",
       " 0.948,\n",
       " 0.949,\n",
       " 0.949,\n",
       " 0.95,\n",
       " 0.95,\n",
       " 0.95,\n",
       " 0.95,\n",
       " 0.95,\n",
       " 0.951,\n",
       " 0.952,\n",
       " 0.952,\n",
       " 0.953,\n",
       " 0.953,\n",
       " 0.953,\n",
       " 0.953,\n",
       " 0.954,\n",
       " 0.955,\n",
       " 0.955,\n",
       " 0.955,\n",
       " 0.955,\n",
       " 0.955,\n",
       " 0.956,\n",
       " 0.957,\n",
       " 0.957,\n",
       " 0.957,\n",
       " 0.958,\n",
       " 0.958,\n",
       " 0.958,\n",
       " 0.958,\n",
       " 0.958,\n",
       " 0.958,\n",
       " 0.96,\n",
       " 0.96,\n",
       " 0.96,\n",
       " 0.96,\n",
       " 0.96,\n",
       " 0.96,\n",
       " 0.961,\n",
       " 0.961,\n",
       " 0.962,\n",
       " 0.962,\n",
       " 0.962,\n",
       " 0.962,\n",
       " 0.962,\n",
       " 0.962,\n",
       " 0.962,\n",
       " 0.963,\n",
       " 0.964,\n",
       " 0.964,\n",
       " 0.964,\n",
       " 0.964,\n",
       " 0.965,\n",
       " 0.965,\n",
       " 0.965,\n",
       " 0.966,\n",
       " 0.966,\n",
       " 0.966,\n",
       " 0.967,\n",
       " 0.967,\n",
       " 0.967,\n",
       " 0.968,\n",
       " 0.968,\n",
       " 0.969,\n",
       " 0.969,\n",
       " 0.969,\n",
       " 0.969,\n",
       " 0.97,\n",
       " 0.971,\n",
       " 0.972,\n",
       " 0.972,\n",
       " 0.973,\n",
       " 0.973,\n",
       " 0.973,\n",
       " 0.974,\n",
       " 0.974,\n",
       " 0.974,\n",
       " 0.974,\n",
       " 0.976,\n",
       " 0.976,\n",
       " 0.976,\n",
       " 0.976,\n",
       " 0.977,\n",
       " 0.977,\n",
       " 0.978,\n",
       " 0.978,\n",
       " 0.978,\n",
       " 0.979,\n",
       " 0.979,\n",
       " ...]"
      ]
     },
     "execution_count": 32,
     "metadata": {},
     "output_type": "execute_result"
    }
   ],
   "source": [
    "import matplotlib.pyplot as plt\n",
    "sorted(Ytest)"
   ]
  },
  {
   "cell_type": "code",
   "execution_count": 33,
   "id": "c35b612f-701a-4065-90bf-d2c83b47dc7f",
   "metadata": {},
   "outputs": [
    {
     "data": {
      "image/png": "[encoded data removed]",
      "text/plain": [
       "<Figure size 432x288 with 1 Axes>"
      ]
     },
     "metadata": {
      "needs_background": "light"
     },
     "output_type": "display_data"
    }
   ],
   "source": [
    "plt.plot(range(len(Ytest)),sorted(Ytest),c=\"black\",label= \"Data\")\n",
    "plt.plot(range(len(yhat)),sorted(yhat),c=\"red\",label = \"Predict\")\n",
    "plt.legend()\n",
    "plt.show()"
   ]
  },
  {
   "cell_type": "code",
   "execution_count": 34,
   "id": "3f85c763-2a68-4e68-8082-0a531d7601cd",
   "metadata": {},
   "outputs": [
    {
     "data": {
      "text/plain": [
       "array([-179.12952605,   -5.692624  ,  -15.61747513,  -78.68042858,\n",
       "        -59.5311006 ])"
      ]
     },
     "execution_count": 34,
     "metadata": {},
     "output_type": "execute_result"
    }
   ],
   "source": [
    "import numpy as np\n",
    "rng = np.random.RandomState(42)\n",
    "X = rng.randn(100, 80)\n",
    "y = rng.randn(100)\n",
    "cross_val_score(LR(), X, y, cv=5, scoring='r2')"
   ]
  },
  {
   "cell_type": "code",
   "execution_count": 35,
   "id": "4a930e59-757c-4714-aa16-c2190283bbc4",
   "metadata": {},
   "outputs": [],
   "source": [
    "import numpy as np\n",
    "import pandas as pd\n",
    "from sklearn.linear_model import Ridge, LinearRegression, Lasso\n",
    "from sklearn.model_selection import train_test_split as TTS\n",
    "from sklearn.datasets import fetch_california_housing as fch\n",
    "import matplotlib.pyplot as plt\n",
    "\n",
    "housevalue = fch()\n",
    "\n",
    "X = pd.DataFrame(housevalue.data)\n",
    "y = housevalue.target\n",
    "X.columns = [\"住户收入中位数\",\"房屋使用年代中位数\",\"平均房间数目\"\n",
    "            ,\"平均卧室数目\",\"街区人口\",\"平均入住率\",\"街区的纬度\",\"街区的经度\"]"
   ]
  },
  {
   "cell_type": "code",
   "execution_count": 36,
   "id": "e47eeb9a-6d5b-46eb-8997-0b0efc735670",
   "metadata": {},
   "outputs": [
    {
     "data": {
      "text/html": [
       "<div>\n",
       "<style scoped>\n",
       "    .dataframe tbody tr th:only-of-type {\n",
       "        vertical-align: middle;\n",
       "    }\n",
       "\n",
       "    .dataframe tbody tr th {\n",
       "        vertical-align: top;\n",
       "    }\n",
       "\n",
       "    .dataframe thead th {\n",
       "        text-align: right;\n",
       "    }\n",
       "</style>\n",
       "<table border=\"1\" class=\"dataframe\">\n",
       "  <thead>\n",
       "    <tr style=\"text-align: right;\">\n",
       "      <th></th>\n",
       "      <th>住户收入中位数</th>\n",
       "      <th>房屋使用年代中位数</th>\n",
       "      <th>平均房间数目</th>\n",
       "      <th>平均卧室数目</th>\n",
       "      <th>街区人口</th>\n",
       "      <th>平均入住率</th>\n",
       "      <th>街区的纬度</th>\n",
       "      <th>街区的经度</th>\n",
       "    </tr>\n",
       "  </thead>\n",
       "  <tbody>\n",
       "    <tr>\n",
       "      <th>0</th>\n",
       "      <td>8.3252</td>\n",
       "      <td>41.0</td>\n",
       "      <td>6.984127</td>\n",
       "      <td>1.023810</td>\n",
       "      <td>322.0</td>\n",
       "      <td>2.555556</td>\n",
       "      <td>37.88</td>\n",
       "      <td>-122.23</td>\n",
       "    </tr>\n",
       "    <tr>\n",
       "      <th>1</th>\n",
       "      <td>8.3014</td>\n",
       "      <td>21.0</td>\n",
       "      <td>6.238137</td>\n",
       "      <td>0.971880</td>\n",
       "      <td>2401.0</td>\n",
       "      <td>2.109842</td>\n",
       "      <td>37.86</td>\n",
       "      <td>-122.22</td>\n",
       "    </tr>\n",
       "    <tr>\n",
       "      <th>2</th>\n",
       "      <td>7.2574</td>\n",
       "      <td>52.0</td>\n",
       "      <td>8.288136</td>\n",
       "      <td>1.073446</td>\n",
       "      <td>496.0</td>\n",
       "      <td>2.802260</td>\n",
       "      <td>37.85</td>\n",
       "      <td>-122.24</td>\n",
       "    </tr>\n",
       "    <tr>\n",
       "      <th>3</th>\n",
       "      <td>5.6431</td>\n",
       "      <td>52.0</td>\n",
       "      <td>5.817352</td>\n",
       "      <td>1.073059</td>\n",
       "      <td>558.0</td>\n",
       "      <td>2.547945</td>\n",
       "      <td>37.85</td>\n",
       "      <td>-122.25</td>\n",
       "    </tr>\n",
       "    <tr>\n",
       "      <th>4</th>\n",
       "      <td>3.8462</td>\n",
       "      <td>52.0</td>\n",
       "      <td>6.281853</td>\n",
       "      <td>1.081081</td>\n",
       "      <td>565.0</td>\n",
       "      <td>2.181467</td>\n",
       "      <td>37.85</td>\n",
       "      <td>-122.25</td>\n",
       "    </tr>\n",
       "  </tbody>\n",
       "</table>\n",
       "</div>"
      ],
      "text/plain": [
       "   住户收入中位数  房屋使用年代中位数    平均房间数目    平均卧室数目    街区人口     平均入住率  街区的纬度   街区的经度\n",
       "0   8.3252       41.0  6.984127  1.023810   322.0  2.555556  37.88 -122.23\n",
       "1   8.3014       21.0  6.238137  0.971880  2401.0  2.109842  37.86 -122.22\n",
       "2   7.2574       52.0  8.288136  1.073446   496.0  2.802260  37.85 -122.24\n",
       "3   5.6431       52.0  5.817352  1.073059   558.0  2.547945  37.85 -122.25\n",
       "4   3.8462       52.0  6.281853  1.081081   565.0  2.181467  37.85 -122.25"
      ]
     },
     "execution_count": 36,
     "metadata": {},
     "output_type": "execute_result"
    }
   ],
   "source": [
    "X.head()"
   ]
  },
  {
   "cell_type": "code",
   "execution_count": 37,
   "id": "7d5d4d8c-56ff-4084-9857-f529617ddfc0",
   "metadata": {},
   "outputs": [],
   "source": [
    "Xtrain,Xtest,Ytrain,Ytest = TTS(X,y,test_size=0.3,random_state=420)"
   ]
  },
  {
   "cell_type": "code",
   "execution_count": 38,
   "id": "0177e489-79c2-41e2-96e4-a0a2925eba4d",
   "metadata": {},
   "outputs": [],
   "source": [
    "for i in [Xtrain,Xtest]:\n",
    "    i.index = range(i.shape[0])"
   ]
  },
  {
   "cell_type": "code",
   "execution_count": 39,
   "id": "5bd08083-01a4-4c8c-a5bb-d83f8094a14e",
   "metadata": {},
   "outputs": [
    {
     "data": {
      "text/html": [
       "<div>\n",
       "<style scoped>\n",
       "    .dataframe tbody tr th:only-of-type {\n",
       "        vertical-align: middle;\n",
       "    }\n",
       "\n",
       "    .dataframe tbody tr th {\n",
       "        vertical-align: top;\n",
       "    }\n",
       "\n",
       "    .dataframe thead th {\n",
       "        text-align: right;\n",
       "    }\n",
       "</style>\n",
       "<table border=\"1\" class=\"dataframe\">\n",
       "  <thead>\n",
       "    <tr style=\"text-align: right;\">\n",
       "      <th></th>\n",
       "      <th>住户收入中位数</th>\n",
       "      <th>房屋使用年代中位数</th>\n",
       "      <th>平均房间数目</th>\n",
       "      <th>平均卧室数目</th>\n",
       "      <th>街区人口</th>\n",
       "      <th>平均入住率</th>\n",
       "      <th>街区的纬度</th>\n",
       "      <th>街区的经度</th>\n",
       "    </tr>\n",
       "  </thead>\n",
       "  <tbody>\n",
       "    <tr>\n",
       "      <th>0</th>\n",
       "      <td>4.1776</td>\n",
       "      <td>35.0</td>\n",
       "      <td>4.425172</td>\n",
       "      <td>1.030683</td>\n",
       "      <td>5380.0</td>\n",
       "      <td>3.368817</td>\n",
       "      <td>37.48</td>\n",
       "      <td>-122.19</td>\n",
       "    </tr>\n",
       "    <tr>\n",
       "      <th>1</th>\n",
       "      <td>5.3261</td>\n",
       "      <td>38.0</td>\n",
       "      <td>6.267516</td>\n",
       "      <td>1.089172</td>\n",
       "      <td>429.0</td>\n",
       "      <td>2.732484</td>\n",
       "      <td>37.53</td>\n",
       "      <td>-122.30</td>\n",
       "    </tr>\n",
       "    <tr>\n",
       "      <th>2</th>\n",
       "      <td>1.9439</td>\n",
       "      <td>26.0</td>\n",
       "      <td>5.768977</td>\n",
       "      <td>1.141914</td>\n",
       "      <td>891.0</td>\n",
       "      <td>2.940594</td>\n",
       "      <td>36.02</td>\n",
       "      <td>-119.08</td>\n",
       "    </tr>\n",
       "    <tr>\n",
       "      <th>3</th>\n",
       "      <td>2.5000</td>\n",
       "      <td>22.0</td>\n",
       "      <td>4.916000</td>\n",
       "      <td>1.012000</td>\n",
       "      <td>733.0</td>\n",
       "      <td>2.932000</td>\n",
       "      <td>38.57</td>\n",
       "      <td>-121.31</td>\n",
       "    </tr>\n",
       "    <tr>\n",
       "      <th>4</th>\n",
       "      <td>3.8250</td>\n",
       "      <td>34.0</td>\n",
       "      <td>5.036765</td>\n",
       "      <td>1.098039</td>\n",
       "      <td>1134.0</td>\n",
       "      <td>2.779412</td>\n",
       "      <td>33.91</td>\n",
       "      <td>-118.35</td>\n",
       "    </tr>\n",
       "  </tbody>\n",
       "</table>\n",
       "</div>"
      ],
      "text/plain": [
       "   住户收入中位数  房屋使用年代中位数    平均房间数目    平均卧室数目    街区人口     平均入住率  街区的纬度   街区的经度\n",
       "0   4.1776       35.0  4.425172  1.030683  5380.0  3.368817  37.48 -122.19\n",
       "1   5.3261       38.0  6.267516  1.089172   429.0  2.732484  37.53 -122.30\n",
       "2   1.9439       26.0  5.768977  1.141914   891.0  2.940594  36.02 -119.08\n",
       "3   2.5000       22.0  4.916000  1.012000   733.0  2.932000  38.57 -121.31\n",
       "4   3.8250       34.0  5.036765  1.098039  1134.0  2.779412  33.91 -118.35"
      ]
     },
     "execution_count": 39,
     "metadata": {},
     "output_type": "execute_result"
    }
   ],
   "source": [
    "Xtrain.head()"
   ]
  },
  {
   "cell_type": "code",
   "execution_count": 40,
   "id": "142bfcc2-f716-4a1f-a9c1-a0e898485f58",
   "metadata": {},
   "outputs": [
    {
     "data": {
      "text/plain": [
       "0.6043610352312278"
      ]
     },
     "execution_count": 40,
     "metadata": {},
     "output_type": "execute_result"
    }
   ],
   "source": [
    "reg = Ridge(alpha=1).fit(Xtrain,Ytrain)\n",
    "reg.score(Xtest,Ytest)"
   ]
  },
  {
   "cell_type": "code",
   "execution_count": 41,
   "id": "42963497-4ba6-47a2-ae71-96b65aed587b",
   "metadata": {},
   "outputs": [
    {
     "data": {
      "image/png": "[encoded data removed]",
      "text/plain": [
       "<Figure size 432x288 with 1 Axes>"
      ]
     },
     "metadata": {
      "needs_background": "light"
     },
     "output_type": "display_data"
    }
   ],
   "source": [
    "alpharange = np.arange(1,1001,100)\n",
    "ridge, lr = [], []\n",
    "for alpha in alpharange:\n",
    "    reg = Ridge(alpha=alpha)\n",
    "    linear = LinearRegression()\n",
    "    regs = cross_val_score(reg,X,y,cv=5,scoring = \"r2\").mean()\n",
    "    linears = cross_val_score(linear,X,y,cv=5,scoring = \"r2\").mean()\n",
    "    ridge.append(regs)\n",
    "    lr.append(linears)\n",
    "plt.plot(alpharange,ridge,color=\"red\",label=\"Ridge\")\n",
    "plt.plot(alpharange,lr,color=\"orange\",label=\"LR\")\n",
    "plt.title(\"Mean\")\n",
    "plt.legend()\n",
    "plt.show()"
   ]
  },
  {
   "cell_type": "code",
   "execution_count": 42,
   "id": "1981b11a-bdeb-4219-b061-44e3e437ccb9",
   "metadata": {},
   "outputs": [
    {
     "data": {
      "text/plain": [
       "0.6043668160178814"
      ]
     },
     "execution_count": 42,
     "metadata": {},
     "output_type": "execute_result"
    }
   ],
   "source": [
    "reg = Ridge(alpha=0).fit(Xtrain,Ytrain)\n",
    "reg.score(Xtest,Ytest)"
   ]
  },
  {
   "cell_type": "code",
   "execution_count": 43,
   "id": "dd8faef2-0968-4000-bb7a-f37bddb67f01",
   "metadata": {},
   "outputs": [
    {
     "data": {
      "image/png": "[encoded data removed]",
      "text/plain": [
       "<Figure size 432x288 with 1 Axes>"
      ]
     },
     "metadata": {
      "needs_background": "light"
     },
     "output_type": "display_data"
    }
   ],
   "source": [
    "alpharange = np.arange(1,201,10)\n",
    "ridge, lr = [], []\n",
    "for alpha in alpharange:\n",
    "    reg = Ridge(alpha=alpha)\n",
    "    linear = LinearRegression()\n",
    "    regs = cross_val_score(reg,X,y,cv=5,scoring = \"r2\").mean()\n",
    "    linears = cross_val_score(linear,X,y,cv=5,scoring = \"r2\").mean()\n",
    "    ridge.append(regs)\n",
    "    lr.append(linears)\n",
    "plt.plot(alpharange,ridge,color=\"red\",label=\"Ridge\")\n",
    "plt.plot(alpharange,lr,color=\"orange\",label=\"LR\")\n",
    "plt.title(\"Mean\")\n",
    "plt.legend()\n",
    "plt.show()"
   ]
  },
  {
   "cell_type": "code",
   "execution_count": 44,
   "id": "e8493b75-14a2-4ac4-b4f7-24bbf9d7453b",
   "metadata": {},
   "outputs": [
    {
     "data": {
      "image/png": "[encoded data removed]",
      "text/plain": [
       "<Figure size 432x288 with 1 Axes>"
      ]
     },
     "metadata": {
      "needs_background": "light"
     },
     "output_type": "display_data"
    }
   ],
   "source": [
    "alpharange = np.arange(1,1001,100)\n",
    "ridge, lr = [], []\n",
    "for alpha in alpharange:\n",
    "    reg = Ridge(alpha=alpha)\n",
    "    linear = LinearRegression()\n",
    "    varR = cross_val_score(reg,X,y,cv=5,scoring=\"r2\").var()\n",
    "    varLR = cross_val_score(linear,X,y,cv=5,scoring=\"r2\").var()\n",
    "    ridge.append(varR)\n",
    "    lr.append(varLR)\n",
    "plt.plot(alpharange,ridge,color=\"red\",label=\"Ridge\")\n",
    "plt.plot(alpharange,lr,color=\"orange\",label=\"LR\")\n",
    "plt.title(\"Variance\")\n",
    "plt.legend()\n",
    "plt.show()"
   ]
  },
  {
   "cell_type": "code",
   "execution_count": 45,
   "id": "eb7546cd-4271-4c0b-b48a-c761419e9836",
   "metadata": {},
   "outputs": [
    {
     "name": "stderr",
     "output_type": "stream",
     "text": [
      "C:\\ProgramData\\Anaconda3\\lib\\site-packages\\sklearn\\utils\\deprecation.py:87: FutureWarning: Function load_boston is deprecated; `load_boston` is deprecated in 1.0 and will be removed in 1.2.\n",
      "\n",
      "    The Boston housing prices dataset has an ethical problem. You can refer to\n",
      "    the documentation of this function for further details.\n",
      "\n",
      "    The scikit-learn maintainers therefore strongly discourage the use of this\n",
      "    dataset unless the purpose of the code is to study and educate about\n",
      "    ethical issues in data science and machine learning.\n",
      "\n",
      "    In this special case, you can fetch the dataset from the original\n",
      "    source::\n",
      "\n",
      "        import pandas as pd\n",
      "        import numpy as np\n",
      "\n",
      "\n",
      "        data_url = \"http://lib.stat.cmu.edu/datasets/boston\"\n",
      "        raw_df = pd.read_csv(data_url, sep=\"\\s+\", skiprows=22, header=None)\n",
      "        data = np.hstack([raw_df.values[::2, :], raw_df.values[1::2, :2]])\n",
      "        target = raw_df.values[1::2, 2]\n",
      "\n",
      "    Alternative datasets include the California housing dataset (i.e.\n",
      "    :func:`~sklearn.datasets.fetch_california_housing`) and the Ames housing\n",
      "    dataset. You can load the datasets as follows::\n",
      "\n",
      "        from sklearn.datasets import fetch_california_housing\n",
      "        housing = fetch_california_housing()\n",
      "\n",
      "    for the California housing dataset and::\n",
      "\n",
      "        from sklearn.datasets import fetch_openml\n",
      "        housing = fetch_openml(name=\"house_prices\", as_frame=True)\n",
      "\n",
      "    for the Ames housing dataset.\n",
      "    \n",
      "  warnings.warn(msg, category=FutureWarning)\n"
     ]
    }
   ],
   "source": [
    "from sklearn.datasets import load_boston\n",
    "from sklearn.model_selection import cross_val_score\n",
    "\n",
    "X = load_boston().data\n",
    "y = load_boston().target\n",
    "\n",
    "Xtrain,Xtest,Ytrain,Ytest = TTS(X,y,test_size=0.3,random_state=420)"
   ]
  },
  {
   "cell_type": "code",
   "execution_count": 46,
   "id": "7f45d4c0-7b97-4d6b-9158-46b7edbf61aa",
   "metadata": {},
   "outputs": [
    {
     "data": {
      "text/plain": [
       "(506, 13)"
      ]
     },
     "execution_count": 46,
     "metadata": {},
     "output_type": "execute_result"
    }
   ],
   "source": [
    "X.shape"
   ]
  },
  {
   "cell_type": "code",
   "execution_count": 47,
   "id": "9d95921c-3fae-45a7-a0fe-0bf6b8d73e1d",
   "metadata": {},
   "outputs": [
    {
     "data": {
      "image/png": "[encoded data removed]",
      "text/plain": [
       "<Figure size 432x288 with 1 Axes>"
      ]
     },
     "metadata": {
      "needs_background": "light"
     },
     "output_type": "display_data"
    }
   ],
   "source": [
    "alpharange = np.arange(1,1001,100)\n",
    "ridge, lr = [], []\n",
    "for alpha in alpharange:\n",
    "    reg = Ridge(alpha=alpha)\n",
    "    linear = LinearRegression()\n",
    "    varR = cross_val_score(reg,X,y,cv=5,scoring=\"r2\").var()\n",
    "    varLR = cross_val_score(linear,X,y,cv=5,scoring=\"r2\").var()\n",
    "    ridge.append(varR)\n",
    "    lr.append(varLR)\n",
    "plt.plot(alpharange,ridge,color=\"red\",label=\"Ridge\")\n",
    "plt.plot(alpharange,lr,color=\"orange\",label=\"LR\")\n",
    "plt.title(\"Variance\")\n",
    "plt.legend()\n",
    "plt.show()"
   ]
  },
  {
   "cell_type": "code",
   "execution_count": 48,
   "id": "a0ecf3f2-2568-4699-afe2-ececc4554943",
   "metadata": {},
   "outputs": [
    {
     "data": {
      "image/png": "[encoded data removed]",
      "text/plain": [
       "<Figure size 432x288 with 1 Axes>"
      ]
     },
     "metadata": {
      "needs_background": "light"
     },
     "output_type": "display_data"
    }
   ],
   "source": [
    "alpharange = np.arange(1,1001,100)\n",
    "ridge, lr = [], []\n",
    "for alpha in alpharange:\n",
    "    reg = Ridge(alpha=alpha)\n",
    "    linear = LinearRegression()\n",
    "    regs = cross_val_score(reg,X,y,cv=5,scoring = \"r2\").mean()\n",
    "    linears = cross_val_score(linear,X,y,cv=5,scoring = \"r2\").mean()\n",
    "    ridge.append(regs)\n",
    "    lr.append(linears)\n",
    "plt.plot(alpharange,ridge,color=\"red\",label=\"Ridge\")\n",
    "plt.plot(alpharange,lr,color=\"orange\",label=\"LR\")\n",
    "plt.title(\"Mean\")\n",
    "plt.legend()\n",
    "plt.show()"
   ]
  },
  {
   "cell_type": "code",
   "execution_count": 49,
   "id": "de612cde-b741-477a-a271-5139a6028dd1",
   "metadata": {},
   "outputs": [
    {
     "data": {
      "image/png": "[encoded data removed]",
      "text/plain": [
       "<Figure size 432x288 with 1 Axes>"
      ]
     },
     "metadata": {
      "needs_background": "light"
     },
     "output_type": "display_data"
    }
   ],
   "source": [
    "alpharange = np.arange(100,300,10)\n",
    "ridge, lr = [], []\n",
    "for alpha in alpharange:\n",
    "    reg = Ridge(alpha=alpha)\n",
    "    #linear = LinearRegression()\n",
    "    regs = cross_val_score(reg,X,y,cv=5,scoring = \"r2\").mean()\n",
    "    #linears = cross_val_score(linear,X,y,cv=5,scoring = \"r2\").mean()\n",
    "    ridge.append(regs)\n",
    "    lr.append(linears)\n",
    "plt.plot(alpharange,ridge,color=\"red\",label=\"Ridge\")\n",
    "#plt.plot(alpharange,lr,color=\"orange\",label=\"LR\")\n",
    "plt.title(\"Mean\")\n",
    "plt.legend()\n",
    "plt.show()"
   ]
  },
  {
   "cell_type": "code",
   "execution_count": 50,
   "id": "405702f4-a3c1-4204-ade6-231af78030d2",
   "metadata": {},
   "outputs": [],
   "source": [
    "import numpy as np\n",
    "import pandas as pd\n",
    "from sklearn.linear_model import RidgeCV, LinearRegression\n",
    "from sklearn.model_selection import train_test_split as TTS\n",
    "from sklearn.datasets import fetch_california_housing as fch\n",
    "import matplotlib.pyplot as plt\n",
    "\n",
    "housevalue = fch()\n",
    "\n",
    "X = pd.DataFrame(housevalue.data)\n",
    "y = housevalue.target\n",
    "X.columns = [\"住户收入中位数\",\"房屋使用年代中位数\",\"平均房间数目\"\n",
    "            ,\"平均卧室数目\",\"街区人口\",\"平均入住率\",\"街区的纬度\",\"街区的经度\"]\n",
    "\n",
    "Ridge_ = RidgeCV(alphas=np.arange(1,1001,100)\n",
    "                 #,scoring=\"neg_mean_squared_error\"\n",
    "                 ,store_cv_values=True\n",
    "                 #,cv=5\n",
    "                ).fit(X, y)"
   ]
  },
  {
   "cell_type": "code",
   "execution_count": 51,
   "id": "07801965-a334-41ba-9dec-b9991b783243",
   "metadata": {},
   "outputs": [
    {
     "data": {
      "text/plain": [
       "0.6060251767338437"
      ]
     },
     "execution_count": 51,
     "metadata": {},
     "output_type": "execute_result"
    }
   ],
   "source": [
    "Ridge_.score(X,y)"
   ]
  },
  {
   "cell_type": "code",
   "execution_count": 52,
   "id": "ba3a1fe5-3e28-42df-9e5c-e988c667bc04",
   "metadata": {},
   "outputs": [
    {
     "data": {
      "text/plain": [
       "array([[0.1557472 , 0.16301246, 0.16892723, ..., 0.18881663, 0.19182353,\n",
       "        0.19466385],\n",
       "       [0.15334566, 0.13922075, 0.12849014, ..., 0.09744906, 0.09344092,\n",
       "        0.08981868],\n",
       "       [0.02429857, 0.03043271, 0.03543001, ..., 0.04971514, 0.05126165,\n",
       "        0.05253834],\n",
       "       ...,\n",
       "       [0.56545783, 0.5454654 , 0.52655917, ..., 0.44532597, 0.43130136,\n",
       "        0.41790336],\n",
       "       [0.27883123, 0.2692305 , 0.25944481, ..., 0.21328675, 0.20497018,\n",
       "        0.19698274],\n",
       "       [0.14313527, 0.13967826, 0.13511341, ..., 0.1078647 , 0.10251737,\n",
       "        0.0973334 ]])"
      ]
     },
     "execution_count": 52,
     "metadata": {},
     "output_type": "execute_result"
    }
   ],
   "source": [
    "Ridge_.cv_values_"
   ]
  },
  {
   "cell_type": "code",
   "execution_count": 53,
   "id": "40394197-3fcb-45e0-8f36-8f8caac451dd",
   "metadata": {},
   "outputs": [
    {
     "data": {
      "text/plain": [
       "array([0.52823795, 0.52787439, 0.52807763, 0.52855759, 0.52917958,\n",
       "       0.52987689, 0.53061486, 0.53137481, 0.53214638, 0.53292369])"
      ]
     },
     "execution_count": 53,
     "metadata": {},
     "output_type": "execute_result"
    }
   ],
   "source": [
    "Ridge_.cv_values_.mean(axis=0)"
   ]
  },
  {
   "cell_type": "code",
   "execution_count": 54,
   "id": "cbdb89d7-0ef1-483a-b9ba-d99287f97522",
   "metadata": {},
   "outputs": [
    {
     "data": {
      "text/plain": [
       "101"
      ]
     },
     "execution_count": 54,
     "metadata": {},
     "output_type": "execute_result"
    }
   ],
   "source": [
    "Ridge_.alpha_"
   ]
  },
  {
   "cell_type": "code",
   "execution_count": 55,
   "id": "de29385c-f512-4b06-a22a-717ab9a198ad",
   "metadata": {},
   "outputs": [
    {
     "data": {
      "text/html": [
       "<div>\n",
       "<style scoped>\n",
       "    .dataframe tbody tr th:only-of-type {\n",
       "        vertical-align: middle;\n",
       "    }\n",
       "\n",
       "    .dataframe tbody tr th {\n",
       "        vertical-align: top;\n",
       "    }\n",
       "\n",
       "    .dataframe thead th {\n",
       "        text-align: right;\n",
       "    }\n",
       "</style>\n",
       "<table border=\"1\" class=\"dataframe\">\n",
       "  <thead>\n",
       "    <tr style=\"text-align: right;\">\n",
       "      <th></th>\n",
       "      <th>住户收入中位数</th>\n",
       "      <th>房屋使用年代中位数</th>\n",
       "      <th>平均房间数目</th>\n",
       "      <th>平均卧室数目</th>\n",
       "      <th>街区人口</th>\n",
       "      <th>平均入住率</th>\n",
       "      <th>街区的纬度</th>\n",
       "      <th>街区的经度</th>\n",
       "    </tr>\n",
       "  </thead>\n",
       "  <tbody>\n",
       "    <tr>\n",
       "      <th>0</th>\n",
       "      <td>8.3252</td>\n",
       "      <td>41.0</td>\n",
       "      <td>6.984127</td>\n",
       "      <td>1.023810</td>\n",
       "      <td>322.0</td>\n",
       "      <td>2.555556</td>\n",
       "      <td>37.88</td>\n",
       "      <td>-122.23</td>\n",
       "    </tr>\n",
       "    <tr>\n",
       "      <th>1</th>\n",
       "      <td>8.3014</td>\n",
       "      <td>21.0</td>\n",
       "      <td>6.238137</td>\n",
       "      <td>0.971880</td>\n",
       "      <td>2401.0</td>\n",
       "      <td>2.109842</td>\n",
       "      <td>37.86</td>\n",
       "      <td>-122.22</td>\n",
       "    </tr>\n",
       "    <tr>\n",
       "      <th>2</th>\n",
       "      <td>7.2574</td>\n",
       "      <td>52.0</td>\n",
       "      <td>8.288136</td>\n",
       "      <td>1.073446</td>\n",
       "      <td>496.0</td>\n",
       "      <td>2.802260</td>\n",
       "      <td>37.85</td>\n",
       "      <td>-122.24</td>\n",
       "    </tr>\n",
       "    <tr>\n",
       "      <th>3</th>\n",
       "      <td>5.6431</td>\n",
       "      <td>52.0</td>\n",
       "      <td>5.817352</td>\n",
       "      <td>1.073059</td>\n",
       "      <td>558.0</td>\n",
       "      <td>2.547945</td>\n",
       "      <td>37.85</td>\n",
       "      <td>-122.25</td>\n",
       "    </tr>\n",
       "    <tr>\n",
       "      <th>4</th>\n",
       "      <td>3.8462</td>\n",
       "      <td>52.0</td>\n",
       "      <td>6.281853</td>\n",
       "      <td>1.081081</td>\n",
       "      <td>565.0</td>\n",
       "      <td>2.181467</td>\n",
       "      <td>37.85</td>\n",
       "      <td>-122.25</td>\n",
       "    </tr>\n",
       "  </tbody>\n",
       "</table>\n",
       "</div>"
      ],
      "text/plain": [
       "   住户收入中位数  房屋使用年代中位数    平均房间数目    平均卧室数目    街区人口     平均入住率  街区的纬度   街区的经度\n",
       "0   8.3252       41.0  6.984127  1.023810   322.0  2.555556  37.88 -122.23\n",
       "1   8.3014       21.0  6.238137  0.971880  2401.0  2.109842  37.86 -122.22\n",
       "2   7.2574       52.0  8.288136  1.073446   496.0  2.802260  37.85 -122.24\n",
       "3   5.6431       52.0  5.817352  1.073059   558.0  2.547945  37.85 -122.25\n",
       "4   3.8462       52.0  6.281853  1.081081   565.0  2.181467  37.85 -122.25"
      ]
     },
     "execution_count": 55,
     "metadata": {},
     "output_type": "execute_result"
    }
   ],
   "source": [
    "import numpy as np\n",
    "import pandas as pd\n",
    "from sklearn.linear_model import Ridge, LinearRegression, Lasso\n",
    "from sklearn.model_selection import train_test_split as TTS\n",
    "from sklearn.datasets import fetch_california_housing as fch\n",
    "import matplotlib.pyplot as plt\n",
    "\n",
    "housevalue = fch()\n",
    "\n",
    "X = pd.DataFrame(housevalue.data)\n",
    "y = housevalue.target\n",
    "X.columns = [\"住户收入中位数\",\"房屋使用年代中位数\",\"平均房间数目\"\n",
    "            ,\"平均卧室数目\",\"街区人口\",\"平均入住率\",\"街区的纬度\",\"街区的经度\"]\n",
    "\n",
    "X.head()"
   ]
  },
  {
   "cell_type": "code",
   "execution_count": 56,
   "id": "9e2b0f26-3cdd-4483-8ab7-bd50aedc26e8",
   "metadata": {},
   "outputs": [],
   "source": [
    "Xtrain,Xtest,Ytrain,Ytest = TTS(X,y,test_size=0.3,random_state=420)"
   ]
  },
  {
   "cell_type": "code",
   "execution_count": 57,
   "id": "d80312c9-acaf-4231-bcaf-a64a7489791b",
   "metadata": {},
   "outputs": [],
   "source": [
    "for i in [Xtrain,Xtest]:\n",
    "    i.index = range(i.shape[0])"
   ]
  },
  {
   "cell_type": "code",
   "execution_count": 58,
   "id": "bdb43170-363f-4f87-b5ba-69e88e1596a5",
   "metadata": {},
   "outputs": [
    {
     "data": {
      "text/plain": [
       "[43.73589305968403,\n",
       " 1.0211268294494025,\n",
       " -10.780721617317683,\n",
       " 62.64338275363768,\n",
       " 5.216125353123053e-05,\n",
       " -0.3348509646333473,\n",
       " -41.309593789477155,\n",
       " -42.621095362084674]"
      ]
     },
     "execution_count": 58,
     "metadata": {},
     "output_type": "execute_result"
    }
   ],
   "source": [
    "reg = LinearRegression().fit(Xtrain,Ytrain)\n",
    "(reg.coef_*100).tolist()"
   ]
  },
  {
   "cell_type": "code",
   "execution_count": 59,
   "id": "b2b9c37a-4c50-4823-96ff-92c90041609e",
   "metadata": {},
   "outputs": [
    {
     "data": {
      "text/plain": [
       "[43.73589305968403,\n",
       " 1.0211268294494154,\n",
       " -10.780721617317607,\n",
       " 62.643382753637326,\n",
       " 5.216125353271531e-05,\n",
       " -0.3348509646333586,\n",
       " -41.30959378947669,\n",
       " -42.62109536208426]"
      ]
     },
     "execution_count": 59,
     "metadata": {},
     "output_type": "execute_result"
    }
   ],
   "source": [
    "Ridge_ = Ridge(alpha=0).fit(Xtrain,Ytrain)\n",
    "(Ridge_.coef_*100).tolist()"
   ]
  },
  {
   "cell_type": "code",
   "execution_count": 60,
   "id": "929769ab-fb0e-4c02-8f30-9de3de3198b8",
   "metadata": {},
   "outputs": [
    {
     "name": "stderr",
     "output_type": "stream",
     "text": [
      "<ipython-input-60-4c1e85f69c4a>:1: UserWarning: With alpha=0, this algorithm does not converge well. You are advised to use the LinearRegression estimator\n",
      "  lasso_ = Lasso(alpha=0).fit(Xtrain,Ytrain)\n",
      "C:\\ProgramData\\Anaconda3\\lib\\site-packages\\sklearn\\linear_model\\_coordinate_descent.py:647: UserWarning: Coordinate descent with no regularization may lead to unexpected results and is discouraged.\n",
      "  model = cd_fast.enet_coordinate_descent(\n",
      "C:\\ProgramData\\Anaconda3\\lib\\site-packages\\sklearn\\linear_model\\_coordinate_descent.py:647: ConvergenceWarning: Objective did not converge. You might want to increase the number of iterations, check the scale of the features or consider increasing regularisation. Duality gap: 3.770e+03, tolerance: 1.917e+00 Linear regression models with null weight for the l1 regularization term are more efficiently fitted using one of the solvers implemented in sklearn.linear_model.Ridge/RidgeCV instead.\n",
      "  model = cd_fast.enet_coordinate_descent(\n"
     ]
    },
    {
     "data": {
      "text/plain": [
       "[43.73589305968403,\n",
       " 1.0211268294494054,\n",
       " -10.780721617317662,\n",
       " 62.64338275363783,\n",
       " 5.216125353266305e-05,\n",
       " -0.33485096463335706,\n",
       " -41.309593789477205,\n",
       " -42.62109536208479]"
      ]
     },
     "execution_count": 60,
     "metadata": {},
     "output_type": "execute_result"
    }
   ],
   "source": [
    "lasso_ = Lasso(alpha=0).fit(Xtrain,Ytrain)\n",
    "(lasso_.coef_*100).tolist()"
   ]
  },
  {
   "cell_type": "code",
   "execution_count": 61,
   "id": "e81bf737-0072-4986-acca-21b107f06964",
   "metadata": {},
   "outputs": [
    {
     "data": {
      "text/plain": [
       "[43.73453480786962,\n",
       " 1.021150851842571,\n",
       " -10.778109335481922,\n",
       " 62.62978997580449,\n",
       " 5.2255520319394335e-05,\n",
       " -0.3348478363544376,\n",
       " -41.30937006538731,\n",
       " -42.62068050768427]"
      ]
     },
     "execution_count": 61,
     "metadata": {},
     "output_type": "execute_result"
    }
   ],
   "source": [
    "Ridge_ = Ridge(alpha=0.1).fit(Xtrain,Ytrain)\n",
    "(Ridge_.coef_*100).tolist()"
   ]
  },
  {
   "cell_type": "code",
   "execution_count": 62,
   "id": "81eddd15-91c8-4635-a30a-9fd9a96c690e",
   "metadata": {},
   "outputs": [
    {
     "data": {
      "text/plain": [
       "[39.08851438329683,\n",
       " 1.6054695654279871,\n",
       " -0.0,\n",
       " 0.0,\n",
       " 0.0023777014839091353,\n",
       " -0.30501868956381134,\n",
       " -10.771509301655533,\n",
       " -9.294344477958068]"
      ]
     },
     "execution_count": 62,
     "metadata": {},
     "output_type": "execute_result"
    }
   ],
   "source": [
    "lasso_ = Lasso(alpha=0.1).fit(Xtrain,Ytrain)\n",
    "(lasso_.coef_*100).tolist()"
   ]
  },
  {
   "cell_type": "code",
   "execution_count": 63,
   "id": "2d6b13a6-986e-411f-9b14-0739c0cc66a3",
   "metadata": {},
   "outputs": [
    {
     "data": {
      "text/plain": [
       "[0.00021838533330206371,\n",
       " 0.00021344956264503443,\n",
       " 6.213673042878624e-05,\n",
       " -3.828084920732733e-06,\n",
       " -0.0014984087286952854,\n",
       " -4.1752437146538365e-05,\n",
       " -5.295061194474958e-05,\n",
       " -1.3268982521957723e-05]"
      ]
     },
     "execution_count": 63,
     "metadata": {},
     "output_type": "execute_result"
    }
   ],
   "source": [
    "Ridge_ = Ridge(alpha=10**10).fit(Xtrain,Ytrain)\n",
    "(Ridge_.coef_*100).tolist()"
   ]
  },
  {
   "cell_type": "code",
   "execution_count": 64,
   "id": "2cd2a97c-2cdc-4e44-8d4e-bc5fadec0a91",
   "metadata": {},
   "outputs": [
    {
     "data": {
      "text/plain": [
       "[0.0, 0.0, 0.0, -0.0, -0.0, -0.0, -0.0, -0.0]"
      ]
     },
     "execution_count": 64,
     "metadata": {},
     "output_type": "execute_result"
    }
   ],
   "source": [
    "lasso_ = Lasso(alpha=10**4).fit(Xtrain,Ytrain)\n",
    "(lasso_.coef_*100).tolist()"
   ]
  },
  {
   "cell_type": "code",
   "execution_count": 65,
   "id": "f1f777ce-9801-412c-a01a-4c3e4a2d0617",
   "metadata": {},
   "outputs": [
    {
     "data": {
      "text/plain": [
       "[14.581141247629423,\n",
       " 0.6209347344423873,\n",
       " 0.0,\n",
       " -0.0,\n",
       " -0.0002806598632901001,\n",
       " -0.0,\n",
       " -0.0,\n",
       " -0.0]"
      ]
     },
     "execution_count": 65,
     "metadata": {},
     "output_type": "execute_result"
    }
   ],
   "source": [
    "lasso_ = Lasso(alpha=1).fit(Xtrain,Ytrain)\n",
    "(lasso_.coef_*100).tolist()"
   ]
  },
  {
   "cell_type": "code",
   "execution_count": 66,
   "id": "2d55c426-82c5-4a19-80f2-ed015a32a3c4",
   "metadata": {},
   "outputs": [
    {
     "data": {
      "image/png": "[encoded data removed]",
      "text/plain": [
       "<Figure size 432x288 with 1 Axes>"
      ]
     },
     "metadata": {
      "needs_background": "light"
     },
     "output_type": "display_data"
    }
   ],
   "source": [
    "plt.plot(range(1,9),(reg.coef_*100).tolist(),color=\"red\",label=\"LR\")\n",
    "plt.plot(range(1,9),(Ridge_.coef_*100).tolist(),color=\"orange\",label=\"Ridge\")\n",
    "plt.plot(range(1,9),(lasso_.coef_*100).tolist(),color=\"k\",label=\"Lasso\")\n",
    "plt.plot(range(1,9),[0]*8,color=\"grey\",linestyle=\"--\")\n",
    "plt.xlabel('w')\n",
    "plt.legend()\n",
    "plt.show()"
   ]
  },
  {
   "cell_type": "code",
   "execution_count": 67,
   "id": "6991c10d-bf3b-4387-b8bd-531c1804ab53",
   "metadata": {},
   "outputs": [
    {
     "data": {
      "text/plain": [
       "(200,)"
      ]
     },
     "execution_count": 67,
     "metadata": {},
     "output_type": "execute_result"
    }
   ],
   "source": [
    "from sklearn.linear_model import LassoCV\n",
    "alpharange = np.logspace(-10, -2, 200,base=10)\n",
    "alpharange.shape"
   ]
  },
  {
   "cell_type": "code",
   "execution_count": 68,
   "id": "131a30c6-03b7-4b8e-9e21-8f047c301d11",
   "metadata": {},
   "outputs": [
    {
     "data": {
      "text/html": [
       "<div>\n",
       "<style scoped>\n",
       "    .dataframe tbody tr th:only-of-type {\n",
       "        vertical-align: middle;\n",
       "    }\n",
       "\n",
       "    .dataframe tbody tr th {\n",
       "        vertical-align: top;\n",
       "    }\n",
       "\n",
       "    .dataframe thead th {\n",
       "        text-align: right;\n",
       "    }\n",
       "</style>\n",
       "<table border=\"1\" class=\"dataframe\">\n",
       "  <thead>\n",
       "    <tr style=\"text-align: right;\">\n",
       "      <th></th>\n",
       "      <th>住户收入中位数</th>\n",
       "      <th>房屋使用年代中位数</th>\n",
       "      <th>平均房间数目</th>\n",
       "      <th>平均卧室数目</th>\n",
       "      <th>街区人口</th>\n",
       "      <th>平均入住率</th>\n",
       "      <th>街区的纬度</th>\n",
       "      <th>街区的经度</th>\n",
       "    </tr>\n",
       "  </thead>\n",
       "  <tbody>\n",
       "    <tr>\n",
       "      <th>0</th>\n",
       "      <td>4.1776</td>\n",
       "      <td>35.0</td>\n",
       "      <td>4.425172</td>\n",
       "      <td>1.030683</td>\n",
       "      <td>5380.0</td>\n",
       "      <td>3.368817</td>\n",
       "      <td>37.48</td>\n",
       "      <td>-122.19</td>\n",
       "    </tr>\n",
       "    <tr>\n",
       "      <th>1</th>\n",
       "      <td>5.3261</td>\n",
       "      <td>38.0</td>\n",
       "      <td>6.267516</td>\n",
       "      <td>1.089172</td>\n",
       "      <td>429.0</td>\n",
       "      <td>2.732484</td>\n",
       "      <td>37.53</td>\n",
       "      <td>-122.30</td>\n",
       "    </tr>\n",
       "    <tr>\n",
       "      <th>2</th>\n",
       "      <td>1.9439</td>\n",
       "      <td>26.0</td>\n",
       "      <td>5.768977</td>\n",
       "      <td>1.141914</td>\n",
       "      <td>891.0</td>\n",
       "      <td>2.940594</td>\n",
       "      <td>36.02</td>\n",
       "      <td>-119.08</td>\n",
       "    </tr>\n",
       "    <tr>\n",
       "      <th>3</th>\n",
       "      <td>2.5000</td>\n",
       "      <td>22.0</td>\n",
       "      <td>4.916000</td>\n",
       "      <td>1.012000</td>\n",
       "      <td>733.0</td>\n",
       "      <td>2.932000</td>\n",
       "      <td>38.57</td>\n",
       "      <td>-121.31</td>\n",
       "    </tr>\n",
       "    <tr>\n",
       "      <th>4</th>\n",
       "      <td>3.8250</td>\n",
       "      <td>34.0</td>\n",
       "      <td>5.036765</td>\n",
       "      <td>1.098039</td>\n",
       "      <td>1134.0</td>\n",
       "      <td>2.779412</td>\n",
       "      <td>33.91</td>\n",
       "      <td>-118.35</td>\n",
       "    </tr>\n",
       "  </tbody>\n",
       "</table>\n",
       "</div>"
      ],
      "text/plain": [
       "   住户收入中位数  房屋使用年代中位数    平均房间数目    平均卧室数目    街区人口     平均入住率  街区的纬度   街区的经度\n",
       "0   4.1776       35.0  4.425172  1.030683  5380.0  3.368817  37.48 -122.19\n",
       "1   5.3261       38.0  6.267516  1.089172   429.0  2.732484  37.53 -122.30\n",
       "2   1.9439       26.0  5.768977  1.141914   891.0  2.940594  36.02 -119.08\n",
       "3   2.5000       22.0  4.916000  1.012000   733.0  2.932000  38.57 -121.31\n",
       "4   3.8250       34.0  5.036765  1.098039  1134.0  2.779412  33.91 -118.35"
      ]
     },
     "execution_count": 68,
     "metadata": {},
     "output_type": "execute_result"
    }
   ],
   "source": [
    "Xtrain.head()"
   ]
  },
  {
   "cell_type": "code",
   "execution_count": 69,
   "id": "4f584b80-15d9-456a-b27d-02eeda1f8676",
   "metadata": {},
   "outputs": [],
   "source": [
    "lasso_ = LassoCV(alphas=alpharange \n",
    "                ,cv=5 \n",
    "                ).fit(Xtrain, Ytrain)"
   ]
  },
  {
   "cell_type": "code",
   "execution_count": 70,
   "id": "938258ec-733b-4d2b-98d5-2d97c21b9ad2",
   "metadata": {},
   "outputs": [
    {
     "data": {
      "text/plain": [
       "0.0020729217795953697"
      ]
     },
     "execution_count": 70,
     "metadata": {},
     "output_type": "execute_result"
    }
   ],
   "source": [
    "lasso_.alpha_"
   ]
  },
  {
   "cell_type": "code",
   "execution_count": 71,
   "id": "f2ed364d-0934-4774-94fb-62ced2263ff1",
   "metadata": {
    "scrolled": true,
    "tags": []
   },
   "outputs": [
    {
     "data": {
      "text/plain": [
       "array([[0.52454913, 0.49856261, 0.55984312, 0.50526576, 0.55262557],\n",
       "       [0.52361933, 0.49748809, 0.55887637, 0.50429373, 0.55283734],\n",
       "       [0.52281927, 0.49655113, 0.55803797, 0.5034594 , 0.55320522],\n",
       "       [0.52213811, 0.49574741, 0.55731858, 0.50274517, 0.55367515],\n",
       "       [0.52155715, 0.49505688, 0.55669995, 0.50213252, 0.55421553],\n",
       "       [0.52106069, 0.49446226, 0.55616707, 0.50160604, 0.55480104],\n",
       "       [0.5206358 , 0.49394903, 0.55570702, 0.50115266, 0.55541214],\n",
       "       [0.52027135, 0.49350539, 0.55530895, 0.50076146, 0.55603333],\n",
       "       [0.51995825, 0.49312085, 0.5549639 , 0.50042318, 0.55665306],\n",
       "       [0.5196886 , 0.49278705, 0.55466406, 0.50013007, 0.55726225],\n",
       "       [0.51945602, 0.49249647, 0.55440306, 0.49987554, 0.55785451],\n",
       "       [0.51925489, 0.49224316, 0.55417527, 0.49965404, 0.55842496],\n",
       "       [0.51908068, 0.49202169, 0.55397615, 0.49946088, 0.55897049],\n",
       "       [0.51892938, 0.49182782, 0.55380162, 0.49929206, 0.55948886],\n",
       "       [0.51879778, 0.49165759, 0.55364841, 0.49914421, 0.55997905],\n",
       "       [0.51868299, 0.49150788, 0.55351357, 0.49901446, 0.5604405 ],\n",
       "       [0.51858268, 0.49137604, 0.55339469, 0.49890035, 0.56087323],\n",
       "       [0.51849488, 0.49125956, 0.55328972, 0.4987998 , 0.56127784],\n",
       "       [0.5184178 , 0.49115652, 0.55319678, 0.49871101, 0.56165507],\n",
       "       [0.51835002, 0.49106526, 0.55311438, 0.49863248, 0.5620059 ],\n",
       "       [0.51829033, 0.49098418, 0.55304118, 0.49856287, 0.56233145],\n",
       "       [0.51823761, 0.49091208, 0.55297609, 0.49850108, 0.56263308],\n",
       "       [0.51819098, 0.49084785, 0.55291806, 0.49844612, 0.56291204],\n",
       "       [0.51814966, 0.49079058, 0.55286626, 0.49839716, 0.56316966],\n",
       "       [0.51811298, 0.49073937, 0.55281996, 0.49835348, 0.56340721],\n",
       "       [0.51808038, 0.49069355, 0.55277854, 0.49831445, 0.5636261 ],\n",
       "       [0.51805132, 0.49065249, 0.5527414 , 0.49827953, 0.56382754],\n",
       "       [0.5180254 , 0.49061566, 0.55270806, 0.49824828, 0.56401276],\n",
       "       [0.51800224, 0.49058258, 0.55267812, 0.49822015, 0.56418292],\n",
       "       [0.51798152, 0.49055285, 0.55265118, 0.49819493, 0.56433912],\n",
       "       [0.51796296, 0.49052608, 0.55262693, 0.49817225, 0.56448243],\n",
       "       [0.5179463 , 0.49050195, 0.55260507, 0.49815185, 0.56461379],\n",
       "       [0.51793135, 0.49048019, 0.55258536, 0.49813345, 0.5647342 ],\n",
       "       [0.51791791, 0.49046055, 0.55256757, 0.49811687, 0.56484448],\n",
       "       [0.5179058 , 0.49044281, 0.55255149, 0.4981019 , 0.56494544],\n",
       "       [0.5178949 , 0.49042677, 0.55253695, 0.49808838, 0.56503784],\n",
       "       [0.51788506, 0.49041226, 0.55252379, 0.49807615, 0.56512236],\n",
       "       [0.51787619, 0.49039913, 0.55251189, 0.4980651 , 0.56519967],\n",
       "       [0.51786817, 0.49038724, 0.5525011 , 0.49805509, 0.56527034],\n",
       "       [0.51786092, 0.49037646, 0.55249132, 0.49804603, 0.56533494],\n",
       "       [0.51785437, 0.49036669, 0.55248246, 0.49803782, 0.56539397],\n",
       "       [0.51784843, 0.49035783, 0.55247442, 0.49803037, 0.5654479 ],\n",
       "       [0.51784306, 0.49034979, 0.55246712, 0.49802362, 0.56549716],\n",
       "       [0.51783819, 0.49034249, 0.5524605 , 0.49801749, 0.56554215],\n",
       "       [0.51783377, 0.49033586, 0.55245448, 0.49801193, 0.56558322],\n",
       "       [0.51782977, 0.49032984, 0.55244901, 0.49800688, 0.56562073],\n",
       "       [0.51782614, 0.49032437, 0.55244405, 0.49800229, 0.56565496],\n",
       "       [0.51782284, 0.49031939, 0.55243953, 0.49799812, 0.56568621],\n",
       "       [0.51781984, 0.49031487, 0.55243543, 0.49799434, 0.56571472],\n",
       "       [0.51781712, 0.49031076, 0.55243169, 0.49799089, 0.56574074],\n",
       "       [0.51781465, 0.49030702, 0.5524283 , 0.49798776, 0.56576449],\n",
       "       [0.5178124 , 0.49030362, 0.55242521, 0.49798491, 0.56578615],\n",
       "       [0.51781036, 0.49030052, 0.5524224 , 0.49798232, 0.56580591],\n",
       "       [0.5178085 , 0.4902977 , 0.55241984, 0.49797996, 0.56582394],\n",
       "       [0.51780681, 0.49029514, 0.55241751, 0.49797781, 0.56584039],\n",
       "       [0.51780528, 0.4902928 , 0.55241539, 0.49797586, 0.56585539],\n",
       "       [0.51780388, 0.49029068, 0.55241346, 0.49797408, 0.56586907],\n",
       "       [0.51780261, 0.49028874, 0.55241171, 0.49797246, 0.56588155],\n",
       "       [0.51780145, 0.49028698, 0.55241011, 0.49797099, 0.56589293],\n",
       "       [0.51780039, 0.49028538, 0.55240865, 0.49796965, 0.56590331],\n",
       "       [0.51779943, 0.49028392, 0.55240732, 0.49796843, 0.56591277],\n",
       "       [0.51779856, 0.49028258, 0.55240611, 0.49796731, 0.5659214 ],\n",
       "       [0.51779777, 0.49028137, 0.55240501, 0.4979663 , 0.56592927],\n",
       "       [0.51779704, 0.49028027, 0.55240401, 0.49796538, 0.56593645],\n",
       "       [0.51779638, 0.49027926, 0.5524031 , 0.49796454, 0.56594299],\n",
       "       [0.51779578, 0.49027834, 0.55240226, 0.49796377, 0.56594896],\n",
       "       [0.51779523, 0.49027751, 0.55240151, 0.49796307, 0.5659544 ],\n",
       "       [0.51779473, 0.49027675, 0.55240081, 0.49796243, 0.56595936],\n",
       "       [0.51779428, 0.49027605, 0.55240018, 0.49796185, 0.56596388],\n",
       "       [0.51779386, 0.49027542, 0.55239961, 0.49796133, 0.565968  ],\n",
       "       [0.51779349, 0.49027485, 0.55239909, 0.49796085, 0.56597176],\n",
       "       [0.51779314, 0.49027432, 0.55239861, 0.49796041, 0.56597519],\n",
       "       [0.51779283, 0.49027384, 0.55239818, 0.49796001, 0.56597831],\n",
       "       [0.51779254, 0.49027341, 0.55239778, 0.49795964, 0.56598116],\n",
       "       [0.51779228, 0.49027301, 0.55239742, 0.49795931, 0.56598376],\n",
       "       [0.51779205, 0.49027265, 0.55239709, 0.49795901, 0.56598613],\n",
       "       [0.51779183, 0.49027232, 0.55239679, 0.49795873, 0.56598828],\n",
       "       [0.51779163, 0.49027202, 0.55239652, 0.49795848, 0.56599025],\n",
       "       [0.51779146, 0.49027174, 0.55239627, 0.49795825, 0.56599205],\n",
       "       [0.51779129, 0.49027149, 0.55239604, 0.49795804, 0.56599368],\n",
       "       [0.51779114, 0.49027127, 0.55239584, 0.49795785, 0.56599517],\n",
       "       [0.51779101, 0.49027106, 0.55239565, 0.49795768, 0.56599653],\n",
       "       [0.51779088, 0.49027087, 0.55239548, 0.49795752, 0.56599777],\n",
       "       [0.51779077, 0.4902707 , 0.55239532, 0.49795738, 0.5659989 ],\n",
       "       [0.51779067, 0.49027054, 0.55239518, 0.49795725, 0.56599993],\n",
       "       [0.51779057, 0.4902704 , 0.55239505, 0.49795713, 0.56600087],\n",
       "       [0.51779049, 0.49027027, 0.55239493, 0.49795702, 0.56600172],\n",
       "       [0.51779041, 0.49027015, 0.55239482, 0.49795692, 0.5660025 ],\n",
       "       [0.51779034, 0.49027004, 0.55239472, 0.49795683, 0.56600322],\n",
       "       [0.51779027, 0.49026994, 0.55239463, 0.49795675, 0.56600386],\n",
       "       [0.51779022, 0.49026985, 0.55239455, 0.49795667, 0.56600446],\n",
       "       [0.51779016, 0.49026977, 0.55239448, 0.4979566 , 0.56600499],\n",
       "       [0.51779011, 0.49026969, 0.55239441, 0.49795654, 0.56600549],\n",
       "       [0.51779007, 0.49026962, 0.55239435, 0.49795648, 0.56600593],\n",
       "       [0.51779003, 0.49026956, 0.55239429, 0.49795643, 0.56600634],\n",
       "       [0.51778999, 0.49026951, 0.55239424, 0.49795638, 0.56600671],\n",
       "       [0.51778996, 0.49026945, 0.55239419, 0.49795634, 0.56600705],\n",
       "       [0.51778993, 0.49026941, 0.55239415, 0.4979563 , 0.56600736],\n",
       "       [0.5177899 , 0.49026936, 0.55239411, 0.49795626, 0.56600764],\n",
       "       [0.51778987, 0.49026932, 0.55239407, 0.49795623, 0.5660079 ],\n",
       "       [0.51778985, 0.49026929, 0.55239404, 0.4979562 , 0.56600813],\n",
       "       [0.51778983, 0.49026926, 0.55239401, 0.49795617, 0.56600835],\n",
       "       [0.51778981, 0.49026923, 0.55239398, 0.49795615, 0.56600854],\n",
       "       [0.51778979, 0.4902692 , 0.55239396, 0.49795613, 0.56600872],\n",
       "       [0.51778977, 0.49026918, 0.55239394, 0.49795611, 0.56600888],\n",
       "       [0.51778976, 0.49026915, 0.55239392, 0.49795609, 0.56600903],\n",
       "       [0.51778975, 0.49026913, 0.5523939 , 0.49795607, 0.56600916],\n",
       "       [0.51778973, 0.49026911, 0.55239388, 0.49795605, 0.56600929],\n",
       "       [0.51778972, 0.4902691 , 0.55239387, 0.49795604, 0.5660094 ],\n",
       "       [0.51778971, 0.49026908, 0.55239385, 0.49795603, 0.5660095 ],\n",
       "       [0.5177897 , 0.49026907, 0.55239384, 0.49795602, 0.56600959],\n",
       "       [0.5177897 , 0.49026905, 0.55239383, 0.49795601, 0.56600968],\n",
       "       [0.51778969, 0.49026904, 0.55239382, 0.497956  , 0.56600975],\n",
       "       [0.51778968, 0.49026903, 0.55239381, 0.49795599, 0.56600983],\n",
       "       [0.51778967, 0.49026902, 0.5523938 , 0.49795598, 0.56600989],\n",
       "       [0.51778967, 0.49026901, 0.55239379, 0.49795597, 0.56600995],\n",
       "       [0.51778966, 0.490269  , 0.55239378, 0.49795596, 0.56601   ],\n",
       "       [0.51778966, 0.490269  , 0.55239378, 0.49795596, 0.56601005],\n",
       "       [0.51778965, 0.49026899, 0.55239377, 0.49795595, 0.56601009],\n",
       "       [0.51778965, 0.49026898, 0.55239376, 0.49795595, 0.56601013],\n",
       "       [0.51778965, 0.49026898, 0.55239376, 0.49795594, 0.56601017],\n",
       "       [0.51778964, 0.49026897, 0.55239375, 0.49795594, 0.5660102 ],\n",
       "       [0.51778964, 0.49026897, 0.55239375, 0.49795593, 0.56601023],\n",
       "       [0.51778964, 0.49026896, 0.55239375, 0.49795593, 0.56601026],\n",
       "       [0.51778963, 0.49026896, 0.55239374, 0.49795593, 0.56601029],\n",
       "       [0.51778963, 0.49026896, 0.55239374, 0.49795592, 0.56601031],\n",
       "       [0.51778963, 0.49026895, 0.55239374, 0.49795592, 0.56601033],\n",
       "       [0.51778963, 0.49026895, 0.55239373, 0.49795592, 0.56601035],\n",
       "       [0.51778963, 0.49026895, 0.55239373, 0.49795592, 0.56601037],\n",
       "       [0.51778962, 0.49026895, 0.55239373, 0.49795591, 0.56601039],\n",
       "       [0.51778962, 0.49026894, 0.55239373, 0.49795591, 0.5660104 ],\n",
       "       [0.51778962, 0.49026894, 0.55239372, 0.49795591, 0.56601041],\n",
       "       [0.51778962, 0.49026894, 0.55239372, 0.49795591, 0.56601043],\n",
       "       [0.51778962, 0.49026894, 0.55239372, 0.49795591, 0.56601044],\n",
       "       [0.51778962, 0.49026894, 0.55239372, 0.49795591, 0.56601045],\n",
       "       [0.51778962, 0.49026894, 0.55239372, 0.49795591, 0.56601046],\n",
       "       [0.51778962, 0.49026893, 0.55239372, 0.4979559 , 0.56601046],\n",
       "       [0.51778962, 0.49026893, 0.55239372, 0.4979559 , 0.56601047],\n",
       "       [0.51778962, 0.49026893, 0.55239372, 0.4979559 , 0.56601048],\n",
       "       [0.51778961, 0.49026893, 0.55239371, 0.4979559 , 0.56601048],\n",
       "       [0.51778961, 0.49026893, 0.55239371, 0.4979559 , 0.56601049],\n",
       "       [0.51778961, 0.49026893, 0.55239371, 0.4979559 , 0.5660105 ],\n",
       "       [0.51778961, 0.49026893, 0.55239371, 0.4979559 , 0.5660105 ],\n",
       "       [0.51778961, 0.49026893, 0.55239371, 0.4979559 , 0.5660105 ],\n",
       "       [0.51778961, 0.49026893, 0.55239371, 0.4979559 , 0.56601051],\n",
       "       [0.51778961, 0.49026893, 0.55239371, 0.4979559 , 0.56601051],\n",
       "       [0.51778961, 0.49026893, 0.55239371, 0.4979559 , 0.56601052],\n",
       "       [0.51778961, 0.49026893, 0.55239371, 0.4979559 , 0.56601052],\n",
       "       [0.51778961, 0.49026893, 0.55239371, 0.4979559 , 0.56601052],\n",
       "       [0.51778961, 0.49026892, 0.55239371, 0.4979559 , 0.56601052],\n",
       "       [0.51778961, 0.49026892, 0.55239371, 0.4979559 , 0.56601053],\n",
       "       [0.51778961, 0.49026892, 0.55239371, 0.4979559 , 0.56601053],\n",
       "       [0.51778961, 0.49026892, 0.55239371, 0.4979559 , 0.56601053],\n",
       "       [0.51778961, 0.49026892, 0.55239371, 0.4979559 , 0.56601053],\n",
       "       [0.51778961, 0.49026892, 0.55239371, 0.4979559 , 0.56601053],\n",
       "       [0.51778961, 0.49026892, 0.55239371, 0.4979559 , 0.56601054],\n",
       "       [0.51778961, 0.49026892, 0.55239371, 0.4979559 , 0.56601054],\n",
       "       [0.51778961, 0.49026892, 0.55239371, 0.4979559 , 0.56601054],\n",
       "       [0.51778961, 0.49026892, 0.55239371, 0.4979559 , 0.56601054],\n",
       "       [0.51778961, 0.49026892, 0.55239371, 0.4979559 , 0.56601054],\n",
       "       [0.51778961, 0.49026892, 0.55239371, 0.4979559 , 0.56601054],\n",
       "       [0.51778961, 0.49026892, 0.55239371, 0.4979559 , 0.56601054],\n",
       "       [0.51778961, 0.49026892, 0.55239371, 0.49795589, 0.56601054],\n",
       "       [0.51778961, 0.49026892, 0.55239371, 0.49795589, 0.56601054],\n",
       "       [0.51778961, 0.49026892, 0.55239371, 0.49795589, 0.56601054],\n",
       "       [0.51778961, 0.49026892, 0.55239371, 0.49795589, 0.56601054],\n",
       "       [0.51778961, 0.49026892, 0.55239371, 0.49795589, 0.56601054],\n",
       "       [0.51778961, 0.49026892, 0.55239371, 0.49795589, 0.56601055],\n",
       "       [0.51778961, 0.49026892, 0.55239371, 0.49795589, 0.56601055],\n",
       "       [0.51778961, 0.49026892, 0.55239371, 0.49795589, 0.56601055],\n",
       "       [0.51778961, 0.49026892, 0.55239371, 0.49795589, 0.56601055],\n",
       "       [0.51778961, 0.49026892, 0.55239371, 0.49795589, 0.56601055],\n",
       "       [0.51778961, 0.49026892, 0.55239371, 0.49795589, 0.56601055],\n",
       "       [0.51778961, 0.49026892, 0.55239371, 0.49795589, 0.56601055],\n",
       "       [0.51778961, 0.49026892, 0.55239371, 0.49795589, 0.56601055],\n",
       "       [0.51778961, 0.49026892, 0.55239371, 0.49795589, 0.56601055],\n",
       "       [0.51778961, 0.49026892, 0.55239371, 0.49795589, 0.56601055],\n",
       "       [0.51778961, 0.49026892, 0.55239371, 0.49795589, 0.56601055],\n",
       "       [0.51778961, 0.49026892, 0.55239371, 0.49795589, 0.56601055],\n",
       "       [0.51778961, 0.49026892, 0.55239371, 0.49795589, 0.56601055],\n",
       "       [0.51778961, 0.49026892, 0.55239371, 0.49795589, 0.56601055],\n",
       "       [0.51778961, 0.49026892, 0.55239371, 0.49795589, 0.56601055],\n",
       "       [0.51778961, 0.49026892, 0.55239371, 0.49795589, 0.56601055],\n",
       "       [0.51778961, 0.49026892, 0.55239371, 0.49795589, 0.56601055],\n",
       "       [0.51778961, 0.49026892, 0.55239371, 0.49795589, 0.56601055],\n",
       "       [0.51778961, 0.49026892, 0.55239371, 0.49795589, 0.56601055],\n",
       "       [0.51778961, 0.49026892, 0.55239371, 0.49795589, 0.56601055],\n",
       "       [0.51778961, 0.49026892, 0.55239371, 0.49795589, 0.56601055],\n",
       "       [0.51778961, 0.49026892, 0.55239371, 0.49795589, 0.56601055],\n",
       "       [0.51778961, 0.49026892, 0.55239371, 0.49795589, 0.56601055],\n",
       "       [0.51778961, 0.49026892, 0.55239371, 0.49795589, 0.56601055],\n",
       "       [0.51778961, 0.49026892, 0.55239371, 0.49795589, 0.56601055],\n",
       "       [0.51778961, 0.49026892, 0.55239371, 0.49795589, 0.56601055],\n",
       "       [0.51778961, 0.49026892, 0.55239371, 0.49795589, 0.56601055],\n",
       "       [0.51778961, 0.49026892, 0.55239371, 0.49795589, 0.56601055],\n",
       "       [0.51778961, 0.49026892, 0.55239371, 0.49795589, 0.56601055],\n",
       "       [0.51778961, 0.49026892, 0.55239371, 0.49795589, 0.56601055],\n",
       "       [0.51778961, 0.49026892, 0.55239371, 0.49795589, 0.56601055],\n",
       "       [0.51778961, 0.49026892, 0.55239371, 0.49795589, 0.56601055],\n",
       "       [0.51778961, 0.49026892, 0.55239371, 0.49795589, 0.56601055]])"
      ]
     },
     "execution_count": 71,
     "metadata": {},
     "output_type": "execute_result"
    }
   ],
   "source": [
    "lasso_.mse_path_"
   ]
  },
  {
   "cell_type": "code",
   "execution_count": 72,
   "id": "e71abf6a-152e-48b9-ab6f-ff9753427959",
   "metadata": {},
   "outputs": [
    {
     "data": {
      "text/plain": [
       "(200, 5)"
      ]
     },
     "execution_count": 72,
     "metadata": {},
     "output_type": "execute_result"
    }
   ],
   "source": [
    "lasso_.mse_path_.shape"
   ]
  },
  {
   "cell_type": "code",
   "execution_count": 73,
   "id": "5fd99d03-ee79-4723-8a45-bd267c98ec41",
   "metadata": {
    "scrolled": true,
    "tags": []
   },
   "outputs": [
    {
     "data": {
      "text/plain": [
       "array([0.52816924, 0.52742297, 0.5268146 , 0.52632488, 0.52593241,\n",
       "       0.52561942, 0.52537133, 0.5251761 , 0.52502385, 0.52490641,\n",
       "       0.52481712, 0.52475046, 0.52470198, 0.52466795, 0.52464541,\n",
       "       0.52463188, 0.5246254 , 0.52462436, 0.52462744, 0.52463361,\n",
       "       0.52464201, 0.52465199, 0.52466301, 0.52467466, 0.5246866 ,\n",
       "       0.5246986 , 0.52471046, 0.52472203, 0.5247332 , 0.52474392,\n",
       "       0.52475413, 0.52476379, 0.52477291, 0.52478147, 0.52478949,\n",
       "       0.52479697, 0.52480393, 0.52481039, 0.52481639, 0.52482193,\n",
       "       0.52482706, 0.52483179, 0.52483615, 0.52484016, 0.52484385,\n",
       "       0.52484725, 0.52485036, 0.52485322, 0.52485584, 0.52485824,\n",
       "       0.52486044, 0.52486246, 0.5248643 , 0.52486599, 0.52486753,\n",
       "       0.52486895, 0.52487024, 0.52487141, 0.52487249, 0.52487348,\n",
       "       0.52487437, 0.52487519, 0.52487594, 0.52487663, 0.52487725,\n",
       "       0.52487782, 0.52487834, 0.52487882, 0.52487925, 0.52487965,\n",
       "       0.52488001, 0.52488033, 0.52488063, 0.52488091, 0.52488116,\n",
       "       0.52488138, 0.52488159, 0.52488178, 0.52488195, 0.52488211,\n",
       "       0.52488225, 0.52488239, 0.5248825 , 0.52488261, 0.52488271,\n",
       "       0.5248828 , 0.52488289, 0.52488296, 0.52488303, 0.52488309,\n",
       "       0.52488315, 0.5248832 , 0.52488325, 0.52488329, 0.52488333,\n",
       "       0.52488337, 0.5248834 , 0.52488343, 0.52488346, 0.52488348,\n",
       "       0.5248835 , 0.52488352, 0.52488354, 0.52488356, 0.52488357,\n",
       "       0.52488359, 0.5248836 , 0.52488361, 0.52488362, 0.52488363,\n",
       "       0.52488364, 0.52488365, 0.52488366, 0.52488367, 0.52488367,\n",
       "       0.52488368, 0.52488368, 0.52488369, 0.52488369, 0.5248837 ,\n",
       "       0.5248837 , 0.5248837 , 0.52488371, 0.52488371, 0.52488371,\n",
       "       0.52488371, 0.52488371, 0.52488372, 0.52488372, 0.52488372,\n",
       "       0.52488372, 0.52488372, 0.52488372, 0.52488372, 0.52488373,\n",
       "       0.52488373, 0.52488373, 0.52488373, 0.52488373, 0.52488373,\n",
       "       0.52488373, 0.52488373, 0.52488373, 0.52488373, 0.52488373,\n",
       "       0.52488373, 0.52488373, 0.52488373, 0.52488373, 0.52488373,\n",
       "       0.52488373, 0.52488373, 0.52488373, 0.52488373, 0.52488373,\n",
       "       0.52488373, 0.52488373, 0.52488373, 0.52488373, 0.52488373,\n",
       "       0.52488373, 0.52488373, 0.52488374, 0.52488374, 0.52488374,\n",
       "       0.52488374, 0.52488374, 0.52488374, 0.52488374, 0.52488374,\n",
       "       0.52488374, 0.52488374, 0.52488374, 0.52488374, 0.52488374,\n",
       "       0.52488374, 0.52488374, 0.52488374, 0.52488374, 0.52488374,\n",
       "       0.52488374, 0.52488374, 0.52488374, 0.52488374, 0.52488374,\n",
       "       0.52488374, 0.52488374, 0.52488374, 0.52488374, 0.52488374,\n",
       "       0.52488374, 0.52488374, 0.52488374, 0.52488374, 0.52488374,\n",
       "       0.52488374, 0.52488374, 0.52488374, 0.52488374, 0.52488374])"
      ]
     },
     "execution_count": 73,
     "metadata": {},
     "output_type": "execute_result"
    }
   ],
   "source": [
    "lasso_.mse_path_.mean(axis=1)"
   ]
  },
  {
   "cell_type": "code",
   "execution_count": 74,
   "id": "b2dcb25e-43e9-406f-8640-78c3e5263312",
   "metadata": {},
   "outputs": [
    {
     "data": {
      "text/plain": [
       "array([ 4.29867301e-01,  1.03623683e-02, -9.32648616e-02,  5.51755252e-01,\n",
       "        1.14732262e-06, -3.31941716e-03, -4.10451223e-01, -4.22410330e-01])"
      ]
     },
     "execution_count": 74,
     "metadata": {},
     "output_type": "execute_result"
    }
   ],
   "source": [
    "lasso_.coef_"
   ]
  },
  {
   "cell_type": "code",
   "execution_count": 75,
   "id": "51a6efbd-3961-4665-b4b7-2c91a36e3a5c",
   "metadata": {},
   "outputs": [
    {
     "data": {
      "text/plain": [
       "0.6038982670571438"
      ]
     },
     "execution_count": 75,
     "metadata": {},
     "output_type": "execute_result"
    }
   ],
   "source": [
    "lasso_.score(Xtest,Ytest)"
   ]
  },
  {
   "cell_type": "code",
   "execution_count": 76,
   "id": "5d75f334-6d76-493d-b2be-bca4f8d58af6",
   "metadata": {},
   "outputs": [
    {
     "data": {
      "text/plain": [
       "0.6043668160178818"
      ]
     },
     "execution_count": 76,
     "metadata": {},
     "output_type": "execute_result"
    }
   ],
   "source": [
    "reg = LinearRegression().fit(Xtrain,Ytrain)\n",
    "reg.score(Xtest,Ytest)"
   ]
  },
  {
   "cell_type": "code",
   "execution_count": 77,
   "id": "e40e12ca-4dcd-4f8d-aee0-f63a89550523",
   "metadata": {},
   "outputs": [
    {
     "data": {
      "text/plain": [
       "array([2.94059737e+01, 2.82952253e+01, 2.72264331e+01, 2.61980122e+01,\n",
       "       2.52084378e+01, 2.42562424e+01, 2.33400142e+01, 2.24583946e+01,\n",
       "       2.16100763e+01, 2.07938014e+01, 2.00083596e+01, 1.92525862e+01,\n",
       "       1.85253605e+01, 1.78256042e+01, 1.71522798e+01, 1.65043887e+01,\n",
       "       1.58809704e+01, 1.52811004e+01, 1.47038891e+01, 1.41484809e+01,\n",
       "       1.36140520e+01, 1.30998100e+01, 1.26049924e+01, 1.21288655e+01,\n",
       "       1.16707233e+01, 1.12298864e+01, 1.08057012e+01, 1.03975388e+01,\n",
       "       1.00047937e+01, 9.62688384e+00, 9.26324869e+00, 8.91334908e+00,\n",
       "       8.57666619e+00, 8.25270079e+00, 7.94097249e+00, 7.64101907e+00,\n",
       "       7.35239575e+00, 7.07467457e+00, 6.80744372e+00, 6.55030695e+00,\n",
       "       6.30288297e+00, 6.06480491e+00, 5.83571975e+00, 5.61528779e+00,\n",
       "       5.40318218e+00, 5.19908842e+00, 5.00270386e+00, 4.81373731e+00,\n",
       "       4.63190858e+00, 4.45694804e+00, 4.28859627e+00, 4.12660362e+00,\n",
       "       3.97072991e+00, 3.82074399e+00, 3.67642348e+00, 3.53755437e+00,\n",
       "       3.40393074e+00, 3.27535446e+00, 3.15163488e+00, 3.03258855e+00,\n",
       "       2.91803894e+00, 2.80781620e+00, 2.70175688e+00, 2.59970374e+00,\n",
       "       2.50150543e+00, 2.40701636e+00, 2.31609642e+00, 2.22861078e+00,\n",
       "       2.14442973e+00, 2.06342843e+00, 1.98548679e+00, 1.91048923e+00,\n",
       "       1.83832455e+00, 1.76888573e+00, 1.70206982e+00, 1.63777773e+00,\n",
       "       1.57591415e+00, 1.51638733e+00, 1.45910901e+00, 1.40399425e+00,\n",
       "       1.35096134e+00, 1.29993164e+00, 1.25082947e+00, 1.20358204e+00,\n",
       "       1.15811928e+00, 1.11437377e+00, 1.07228066e+00, 1.03177753e+00,\n",
       "       9.92804320e-01, 9.55303239e-01, 9.19218682e-01, 8.84497142e-01,\n",
       "       8.51087135e-01, 8.18939121e-01, 7.88005430e-01, 7.58240193e-01,\n",
       "       7.29599275e-01, 7.02040207e-01, 6.75522125e-01, 6.50005707e-01,\n",
       "       6.25453118e-01, 6.01827951e-01, 5.79095174e-01, 5.57221080e-01,\n",
       "       5.36173234e-01, 5.15920425e-01, 4.96432623e-01, 4.77680932e-01,\n",
       "       4.59637546e-01, 4.42275711e-01, 4.25569683e-01, 4.09494689e-01,\n",
       "       3.94026894e-01, 3.79143363e-01, 3.64822025e-01, 3.51041645e-01,\n",
       "       3.37781790e-01, 3.25022798e-01, 3.12745750e-01, 3.00932442e-01,\n",
       "       2.89565356e-01, 2.78627638e-01, 2.68103069e-01, 2.57976043e-01,\n",
       "       2.48231544e-01, 2.38855123e-01, 2.29832877e-01, 2.21151426e-01,\n",
       "       2.12797900e-01, 2.04759910e-01, 1.97025538e-01, 1.89583315e-01,\n",
       "       1.82422207e-01, 1.75531594e-01, 1.68901260e-01, 1.62521372e-01,\n",
       "       1.56382472e-01, 1.50475455e-01, 1.44791563e-01, 1.39322368e-01,\n",
       "       1.34059761e-01, 1.28995937e-01, 1.24123389e-01, 1.19434891e-01,\n",
       "       1.14923491e-01, 1.10582499e-01, 1.06405479e-01, 1.02386238e-01,\n",
       "       9.85188143e-02, 9.47974747e-02, 9.12167008e-02, 8.77711831e-02,\n",
       "       8.44558125e-02, 8.12656730e-02, 7.81960343e-02, 7.52423447e-02,\n",
       "       7.24002244e-02, 6.96654592e-02, 6.70339940e-02, 6.45019268e-02,\n",
       "       6.20655031e-02, 5.97211101e-02, 5.74652717e-02, 5.52946427e-02,\n",
       "       5.32060046e-02, 5.11962605e-02, 4.92624301e-02, 4.74016461e-02,\n",
       "       4.56111493e-02, 4.38882847e-02, 4.22304977e-02, 4.06353301e-02,\n",
       "       3.91004165e-02, 3.76234811e-02, 3.62023337e-02, 3.48348672e-02,\n",
       "       3.35190539e-02, 3.22529426e-02, 3.10346560e-02, 2.98623876e-02,\n",
       "       2.87343991e-02, 2.76490180e-02, 2.66046349e-02, 2.55997012e-02,\n",
       "       2.46327267e-02, 2.37022776e-02, 2.28069742e-02, 2.19454891e-02,\n",
       "       2.11165447e-02, 2.03189119e-02, 1.95514080e-02, 1.88128950e-02,\n",
       "       1.81022777e-02, 1.74185025e-02, 1.67605555e-02, 1.61274610e-02,\n",
       "       1.55182803e-02, 1.49321101e-02, 1.43680812e-02, 1.38253574e-02,\n",
       "       1.33031338e-02, 1.28006361e-02, 1.23171192e-02, 1.18518661e-02,\n",
       "       1.14041869e-02, 1.09734179e-02, 1.05589203e-02, 1.01600794e-02,\n",
       "       9.77630394e-03, 9.40702475e-03, 9.05169431e-03, 8.70978573e-03,\n",
       "       8.38079201e-03, 8.06422534e-03, 7.75961630e-03, 7.46651323e-03,\n",
       "       7.18448150e-03, 6.91310292e-03, 6.65197510e-03, 6.40071082e-03,\n",
       "       6.15893752e-03, 5.92629670e-03, 5.70244339e-03, 5.48704566e-03,\n",
       "       5.27978413e-03, 5.08035147e-03, 4.88845195e-03, 4.70380102e-03,\n",
       "       4.52612490e-03, 4.35516012e-03, 4.19065316e-03, 4.03236011e-03,\n",
       "       3.88004625e-03, 3.73348572e-03, 3.59246120e-03, 3.45676358e-03,\n",
       "       3.32619166e-03, 3.20055181e-03, 3.07965774e-03, 2.96333019e-03,\n",
       "       2.85139667e-03, 2.74369120e-03, 2.64005407e-03, 2.54033162e-03,\n",
       "       2.44437597e-03, 2.35204484e-03, 2.26320133e-03, 2.17771369e-03,\n",
       "       2.09545517e-03, 2.01630379e-03, 1.94014218e-03, 1.86685742e-03,\n",
       "       1.79634083e-03, 1.72848786e-03, 1.66319789e-03, 1.60037411e-03,\n",
       "       1.53992337e-03, 1.48175602e-03, 1.42578583e-03, 1.37192979e-03,\n",
       "       1.32010804e-03, 1.27024376e-03, 1.22226299e-03, 1.17609459e-03,\n",
       "       1.13167011e-03, 1.08892367e-03, 1.04779188e-03, 1.00821376e-03,\n",
       "       9.70130622e-04, 9.33485992e-04, 8.98225535e-04, 8.64296967e-04,\n",
       "       8.31649980e-04, 8.00236162e-04, 7.70008936e-04, 7.40923479e-04,\n",
       "       7.12936663e-04, 6.86006990e-04, 6.60094529e-04, 6.35160855e-04,\n",
       "       6.11168999e-04, 5.88083384e-04, 5.65869780e-04, 5.44495247e-04,\n",
       "       5.23928092e-04, 5.04137817e-04, 4.85095079e-04, 4.66771639e-04,\n",
       "       4.49140329e-04, 4.32175004e-04, 4.15850508e-04, 4.00142636e-04,\n",
       "       3.85028095e-04, 3.70484474e-04, 3.56490207e-04, 3.43024545e-04,\n",
       "       3.30067519e-04, 3.17599917e-04, 3.05603253e-04, 2.94059737e-04])"
      ]
     },
     "execution_count": 77,
     "metadata": {},
     "output_type": "execute_result"
    }
   ],
   "source": [
    "ls_ = LassoCV(eps=0.00001\n",
    "              ,n_alphas=300\n",
    "              ,cv=5\n",
    "                ).fit(Xtrain, Ytrain)\n",
    "ls_.alphas_"
   ]
  },
  {
   "cell_type": "code",
   "execution_count": 78,
   "id": "4a3bb798-eeaa-4578-a375-417291595df9",
   "metadata": {},
   "outputs": [
    {
     "data": {
      "text/plain": [
       "(300,)"
      ]
     },
     "execution_count": 78,
     "metadata": {},
     "output_type": "execute_result"
    }
   ],
   "source": [
    "ls_.alphas_.shape"
   ]
  },
  {
   "cell_type": "code",
   "execution_count": 79,
   "id": "9c07fbc0-7381-4925-9385-b0232ebe8483",
   "metadata": {},
   "outputs": [
    {
     "data": {
      "text/plain": [
       "0.6038915423819199"
      ]
     },
     "execution_count": 79,
     "metadata": {},
     "output_type": "execute_result"
    }
   ],
   "source": [
    "ls_.score(Xtest,Ytest)"
   ]
  },
  {
   "cell_type": "code",
   "execution_count": 80,
   "id": "220664ea-5eb5-406d-bf6d-d798e6c8e5b8",
   "metadata": {},
   "outputs": [
    {
     "data": {
      "text/plain": [
       "array([ 4.29785372e-01,  1.03639989e-02, -9.31060823e-02,  5.50940621e-01,\n",
       "        1.15407943e-06, -3.31909776e-03, -4.10423420e-01, -4.22369926e-01])"
      ]
     },
     "execution_count": 80,
     "metadata": {},
     "output_type": "execute_result"
    }
   ],
   "source": [
    "ls_.coef_"
   ]
  },
  {
   "cell_type": "code",
   "execution_count": 81,
   "id": "daef2dee-f4df-47ee-898b-5ca0dde03fe9",
   "metadata": {},
   "outputs": [],
   "source": [
    "import numpy as np\n",
    "import matplotlib.pyplot as plt\n",
    "from sklearn.linear_model import LinearRegression\n",
    "from sklearn.tree import DecisionTreeRegressor"
   ]
  },
  {
   "cell_type": "code",
   "execution_count": 82,
   "id": "3b4d3b17-3fb5-4a62-8181-bf5b4f884b74",
   "metadata": {},
   "outputs": [
    {
     "data": {
      "text/plain": [
       "array([-0.75275929,  2.70428584,  1.39196365,  0.59195091, -2.06388816,\n",
       "       -2.06403288, -2.65149833,  2.19705687,  0.60669007,  1.24843547,\n",
       "       -2.87649303,  2.81945911,  1.99465584, -1.72596534, -1.9090502 ,\n",
       "       -1.89957294, -1.17454654,  0.14853859, -0.40832989, -1.25262516,\n",
       "        0.67111737, -2.16303684, -1.24713211, -0.80182894, -0.26358009,\n",
       "        1.71105577, -1.80195731,  0.08540663,  0.55448741, -2.72129752,\n",
       "        0.64526911, -1.97685526, -2.60969044,  2.69331322,  2.7937922 ,\n",
       "        1.85038409, -1.17231738, -2.41396732,  1.10539816, -0.35908504,\n",
       "       -2.26777059, -0.02893854, -2.79366887,  2.45592241, -1.44732011,\n",
       "        0.97513371, -1.12973354,  0.12040813,  0.28026168, -1.89087327,\n",
       "        2.81750777,  1.65079694,  2.63699365,  2.3689641 ,  0.58739987,\n",
       "        2.53124541, -2.46904499, -1.82410283, -2.72863627, -1.04801802,\n",
       "       -0.66793626, -1.37190581,  1.97242505, -0.85948004, -1.31439294,\n",
       "        0.2561765 , -2.15445465,  1.81318188, -2.55269614,  2.92132162,\n",
       "        1.63346862, -1.80770591, -2.9668673 ,  1.89276857,  1.24114406,\n",
       "        1.37404301,  1.62762208, -2.55573209, -0.84920563, -2.30478564,\n",
       "        2.17862056,  0.73978876, -1.01461185, -2.6186499 , -1.13410607,\n",
       "       -1.04890007,  1.37763707,  0.82534483,  2.32327646, -0.16671045,\n",
       "       -2.28243452,  1.27946872,  1.56471029,  0.36766319,  1.62580308,\n",
       "       -0.03722642,  0.13639698, -0.43475389, -2.84748524, -2.35265144])"
      ]
     },
     "execution_count": 82,
     "metadata": {},
     "output_type": "execute_result"
    }
   ],
   "source": [
    "rnd = np.random.RandomState(42) #设置随机数种子\n",
    "X = rnd.uniform(-3, 3, size=100)\n",
    "X"
   ]
  },
  {
   "cell_type": "code",
   "execution_count": 83,
   "id": "2d8382c6-a4f7-4ca0-a110-6f3e541e2646",
   "metadata": {},
   "outputs": [],
   "source": [
    "y = np.sin(X) + rnd.normal(size=len(X)) / 3"
   ]
  },
  {
   "cell_type": "code",
   "execution_count": 84,
   "id": "c0189fc8-fd02-413d-a8d5-78ab224b770f",
   "metadata": {},
   "outputs": [
    {
     "data": {
      "image/png": "[encoded data removed]",
      "text/plain": [
       "<Figure size 432x288 with 1 Axes>"
      ]
     },
     "metadata": {
      "needs_background": "light"
     },
     "output_type": "display_data"
    }
   ],
   "source": [
    "plt.scatter(X, y,marker='o',c='k',s=20)\n",
    "plt.show()"
   ]
  },
  {
   "cell_type": "code",
   "execution_count": 85,
   "id": "359cda9c-a4d6-4ec2-89de-0c06a95b2bcf",
   "metadata": {},
   "outputs": [
    {
     "data": {
      "text/plain": [
       "(100,)"
      ]
     },
     "execution_count": 85,
     "metadata": {},
     "output_type": "execute_result"
    }
   ],
   "source": [
    "X.shape"
   ]
  },
  {
   "cell_type": "code",
   "execution_count": 86,
   "id": "f2b261ce-f934-439c-aba3-0cd6560d9f46",
   "metadata": {},
   "outputs": [
    {
     "data": {
      "text/plain": [
       "(100, 1)"
      ]
     },
     "execution_count": 86,
     "metadata": {},
     "output_type": "execute_result"
    }
   ],
   "source": [
    "X = X.reshape(-1, 1)\n",
    "X.shape"
   ]
  },
  {
   "cell_type": "code",
   "execution_count": 87,
   "id": "0112ec36-968a-448e-89f8-a196b586c7f3",
   "metadata": {},
   "outputs": [],
   "source": [
    "LinearR = LinearRegression().fit(X, y)\n",
    "TreeR = DecisionTreeRegressor(random_state=0).fit(X, y)"
   ]
  },
  {
   "cell_type": "code",
   "execution_count": 88,
   "id": "33d2f8a0-38db-44c8-b0bc-1b7eea2cdf00",
   "metadata": {},
   "outputs": [
    {
     "data": {
      "image/png": "[encoded data removed]",
      "text/plain": [
       "<Figure size 432x288 with 1 Axes>"
      ]
     },
     "metadata": {
      "needs_background": "light"
     },
     "output_type": "display_data"
    }
   ],
   "source": [
    "\n",
    "fig, ax1 = plt.subplots(1)\n",
    "\n",
    "line = np.linspace(-3, 3, 1000, endpoint=False).reshape(-1, 1)\n",
    "\n",
    "ax1.plot(line, LinearR.predict(line), linewidth=2, color='green',\n",
    "         label=\"linear regression\")\n",
    "ax1.plot(line, TreeR.predict(line), linewidth=2, color='red',\n",
    "         label=\"decision tree\")\n",
    "\n",
    "ax1.plot(X[:, 0], y, 'o', c='k')\n",
    "\n",
    "ax1.legend(loc=\"best\")\n",
    "ax1.set_ylabel(\"Regression output\")\n",
    "ax1.set_xlabel(\"Input feature\")\n",
    "ax1.set_title(\"Result before discretization\")\n",
    "plt.tight_layout()\n",
    "plt.show()\n"
   ]
  },
  {
   "cell_type": "code",
   "execution_count": 89,
   "id": "1735018d-168e-4393-8256-d9a2da958a90",
   "metadata": {},
   "outputs": [
    {
     "data": {
      "text/plain": [
       "(100, 10)"
      ]
     },
     "execution_count": 89,
     "metadata": {},
     "output_type": "execute_result"
    }
   ],
   "source": [
    "from sklearn.preprocessing import KBinsDiscretizer\n",
    "\n",
    "#将数据分箱\n",
    "enc = KBinsDiscretizer(n_bins=10 #分几类？\n",
    "                       ,encode=\"onehot\") #ordinal\n",
    "X_binned = enc.fit_transform(X)\n",
    "X_binned.shape"
   ]
  },
  {
   "cell_type": "code",
   "execution_count": 90,
   "id": "98a074b9-e865-4448-9661-ae869a3a80ce",
   "metadata": {},
   "outputs": [
    {
     "data": {
      "text/plain": [
       "(1000, 1)"
      ]
     },
     "execution_count": 90,
     "metadata": {},
     "output_type": "execute_result"
    }
   ],
   "source": [
    "line.shape"
   ]
  },
  {
   "cell_type": "code",
   "execution_count": 91,
   "id": "1e0b7a24-d882-4ba3-89b0-9be260f1ea23",
   "metadata": {
    "scrolled": true,
    "tags": []
   },
   "outputs": [
    {
     "data": {
      "text/plain": [
       "array([-0.22510103, -0.22510103, -0.22510103, -0.22510103, -0.22510103,\n",
       "       -0.22510103, -0.22510103, -0.22510103, -0.22510103, -0.22510103,\n",
       "       -0.22510103, -0.22510103, -0.22510103, -0.22510103, -0.22510103,\n",
       "       -0.22510103, -0.22510103, -0.22510103, -0.22510103, -0.22510103,\n",
       "       -0.22510103, -0.22510103, -0.22510103, -0.22510103, -0.22510103,\n",
       "       -0.22510103, -0.22510103, -0.22510103, -0.22510103, -0.22510103,\n",
       "       -0.22510103, -0.22510103, -0.22510103, -0.22510103, -0.22510103,\n",
       "       -0.22510103, -0.22510103, -0.22510103, -0.22510103, -0.22510103,\n",
       "       -0.22510103, -0.22510103, -0.22510103, -0.22510103, -0.22510103,\n",
       "       -0.22510103, -0.22510103, -0.22510103, -0.22510103, -0.22510103,\n",
       "       -0.22510103, -0.22510103, -0.22510103, -0.22510103, -0.22510103,\n",
       "       -0.22510103, -0.22510103, -0.22510103, -0.22510103, -0.22510103,\n",
       "       -0.22510103, -0.22510103, -0.22510103, -0.22510103, -0.22510103,\n",
       "       -0.22510103, -0.22510103, -0.22510103, -0.22510103, -0.22510103,\n",
       "       -0.22510103, -0.22510103, -0.22510103, -0.22510103, -0.22510103,\n",
       "       -0.68407735, -0.68407735, -0.68407735, -0.68407735, -0.68407735,\n",
       "       -0.68407735, -0.68407735, -0.68407735, -0.68407735, -0.68407735,\n",
       "       -0.68407735, -0.68407735, -0.68407735, -0.68407735, -0.68407735,\n",
       "       -0.68407735, -0.68407735, -0.68407735, -0.68407735, -0.68407735,\n",
       "       -0.68407735, -0.68407735, -0.68407735, -0.68407735, -0.68407735,\n",
       "       -0.68407735, -0.68407735, -0.68407735, -0.68407735, -0.68407735,\n",
       "       -0.68407735, -0.68407735, -0.68407735, -0.68407735, -0.68407735,\n",
       "       -0.68407735, -0.68407735, -0.68407735, -0.68407735, -0.68407735,\n",
       "       -0.68407735, -0.68407735, -0.68407735, -0.68407735, -0.68407735,\n",
       "       -0.68407735, -0.68407735, -0.68407735, -0.68407735, -0.68407735,\n",
       "       -0.68407735, -0.68407735, -0.68407735, -0.68407735, -0.68407735,\n",
       "       -0.68407735, -0.68407735, -0.68407735, -0.68407735, -0.68407735,\n",
       "       -0.68407735, -0.68407735, -0.68407735, -0.68407735, -0.68407735,\n",
       "       -0.68407735, -0.68407735, -0.68407735, -0.68407735, -0.68407735,\n",
       "       -0.68407735, -0.68407735, -0.68407735, -0.68407735, -0.68407735,\n",
       "       -0.68407735, -0.68407735, -0.68407735, -0.68407735, -0.68407735,\n",
       "       -0.68407735, -0.68407735, -0.84238714, -0.84238714, -0.84238714,\n",
       "       -0.84238714, -0.84238714, -0.84238714, -0.84238714, -0.84238714,\n",
       "       -0.84238714, -0.84238714, -0.84238714, -0.84238714, -0.84238714,\n",
       "       -0.84238714, -0.84238714, -0.84238714, -0.84238714, -0.84238714,\n",
       "       -0.84238714, -0.84238714, -0.84238714, -0.84238714, -0.84238714,\n",
       "       -0.84238714, -0.84238714, -0.84238714, -0.84238714, -0.84238714,\n",
       "       -0.84238714, -0.84238714, -0.84238714, -0.84238714, -0.84238714,\n",
       "       -0.84238714, -0.84238714, -0.84238714, -0.84238714, -0.84238714,\n",
       "       -0.84238714, -0.84238714, -0.84238714, -0.84238714, -0.84238714,\n",
       "       -0.84238714, -0.84238714, -0.84238714, -0.84238714, -0.84238714,\n",
       "       -0.84238714, -0.84238714, -0.84238714, -0.84238714, -0.84238714,\n",
       "       -0.84238714, -0.84238714, -0.84238714, -0.84238714, -0.84238714,\n",
       "       -0.84238714, -0.84238714, -0.84238714, -0.84238714, -0.84238714,\n",
       "       -0.84238714, -0.84238714, -0.84238714, -0.84238714, -0.84238714,\n",
       "       -0.84238714, -0.84238714, -0.84238714, -0.84238714, -0.84238714,\n",
       "       -0.84238714, -0.84238714, -0.84238714, -0.84238714, -0.84238714,\n",
       "       -0.84238714, -0.84238714, -0.84238714, -0.84238714, -0.84238714,\n",
       "       -0.84238714, -0.84238714, -0.84238714, -0.84238714, -0.84238714,\n",
       "       -0.84238714, -0.84238714, -0.84238714, -0.84238714, -0.84238714,\n",
       "       -0.84238714, -0.84238714, -0.84238714, -0.84238714, -0.84238714,\n",
       "       -0.84238714, -0.84238714, -0.84238714, -0.84238714, -0.84238714,\n",
       "       -0.84238714, -0.84238714, -0.84238714, -0.84238714, -0.84238714,\n",
       "       -0.84238714, -0.84238714, -0.84238714, -0.90433112, -0.90433112,\n",
       "       -0.90433112, -0.90433112, -0.90433112, -0.90433112, -0.90433112,\n",
       "       -0.90433112, -0.90433112, -0.90433112, -0.90433112, -0.90433112,\n",
       "       -0.90433112, -0.90433112, -0.90433112, -0.90433112, -0.90433112,\n",
       "       -0.90433112, -0.90433112, -0.90433112, -0.90433112, -0.90433112,\n",
       "       -0.90433112, -0.90433112, -0.90433112, -0.90433112, -0.90433112,\n",
       "       -0.90433112, -0.90433112, -0.90433112, -0.90433112, -0.90433112,\n",
       "       -0.90433112, -0.90433112, -0.90433112, -0.90433112, -0.90433112,\n",
       "       -0.90433112, -0.90433112, -0.90433112, -0.90433112, -0.90433112,\n",
       "       -0.90433112, -0.90433112, -0.90433112, -0.90433112, -0.90433112,\n",
       "       -0.90433112, -0.90433112, -0.90433112, -0.90433112, -0.90433112,\n",
       "       -0.90433112, -0.90433112, -0.90433112, -0.90433112, -0.90433112,\n",
       "       -0.90433112, -0.90433112, -0.90433112, -0.90433112, -0.72176296,\n",
       "       -0.72176296, -0.72176296, -0.72176296, -0.72176296, -0.72176296,\n",
       "       -0.72176296, -0.72176296, -0.72176296, -0.72176296, -0.72176296,\n",
       "       -0.72176296, -0.72176296, -0.72176296, -0.72176296, -0.72176296,\n",
       "       -0.72176296, -0.72176296, -0.72176296, -0.72176296, -0.72176296,\n",
       "       -0.72176296, -0.72176296, -0.72176296, -0.72176296, -0.72176296,\n",
       "       -0.72176296, -0.72176296, -0.72176296, -0.72176296, -0.72176296,\n",
       "       -0.72176296, -0.72176296, -0.72176296, -0.72176296, -0.72176296,\n",
       "       -0.72176296, -0.72176296, -0.72176296, -0.72176296, -0.72176296,\n",
       "       -0.72176296, -0.72176296, -0.72176296, -0.72176296, -0.72176296,\n",
       "       -0.72176296, -0.72176296, -0.72176296, -0.72176296, -0.72176296,\n",
       "       -0.72176296, -0.72176296, -0.72176296, -0.72176296, -0.72176296,\n",
       "       -0.72176296, -0.72176296, -0.72176296, -0.72176296, -0.72176296,\n",
       "       -0.72176296, -0.72176296, -0.72176296, -0.72176296, -0.72176296,\n",
       "       -0.72176296, -0.72176296, -0.72176296, -0.72176296, -0.72176296,\n",
       "       -0.72176296, -0.72176296, -0.72176296, -0.72176296, -0.72176296,\n",
       "       -0.72176296, -0.72176296, -0.72176296, -0.72176296, -0.72176296,\n",
       "       -0.72176296, -0.72176296, -0.72176296, -0.72176296, -0.72176296,\n",
       "       -0.72176296, -0.72176296, -0.72176296, -0.72176296, -0.72176296,\n",
       "       -0.72176296, -0.72176296, -0.72176296, -0.72176296, -0.72176296,\n",
       "       -0.72176296, -0.72176296, -0.72176296, -0.72176296, -0.72176296,\n",
       "       -0.72176296, -0.72176296, -0.72176296, -0.72176296, -0.72176296,\n",
       "       -0.72176296, -0.72176296, -0.72176296, -0.72176296, -0.72176296,\n",
       "       -0.72176296, -0.72176296, -0.72176296, -0.72176296, -0.72176296,\n",
       "       -0.72176296, -0.72176296, -0.72176296, -0.72176296, -0.72176296,\n",
       "       -0.72176296, -0.72176296, -0.72176296, -0.72176296, -0.72176296,\n",
       "       -0.72176296, -0.72176296, -0.72176296, -0.72176296, -0.72176296,\n",
       "       -0.72176296, -0.72176296, -0.72176296, -0.72176296, -0.72176296,\n",
       "        0.01332773,  0.01332773,  0.01332773,  0.01332773,  0.01332773,\n",
       "        0.01332773,  0.01332773,  0.01332773,  0.01332773,  0.01332773,\n",
       "        0.01332773,  0.01332773,  0.01332773,  0.01332773,  0.01332773,\n",
       "        0.01332773,  0.01332773,  0.01332773,  0.01332773,  0.01332773,\n",
       "        0.01332773,  0.01332773,  0.01332773,  0.01332773,  0.01332773,\n",
       "        0.01332773,  0.01332773,  0.01332773,  0.01332773,  0.01332773,\n",
       "        0.01332773,  0.01332773,  0.01332773,  0.01332773,  0.01332773,\n",
       "        0.01332773,  0.01332773,  0.01332773,  0.01332773,  0.01332773,\n",
       "        0.01332773,  0.01332773,  0.01332773,  0.01332773,  0.01332773,\n",
       "        0.01332773,  0.01332773,  0.01332773,  0.01332773,  0.01332773,\n",
       "        0.01332773,  0.01332773,  0.01332773,  0.01332773,  0.01332773,\n",
       "        0.01332773,  0.01332773,  0.01332773,  0.01332773,  0.01332773,\n",
       "        0.01332773,  0.01332773,  0.01332773,  0.01332773,  0.01332773,\n",
       "        0.01332773,  0.01332773,  0.01332773,  0.01332773,  0.01332773,\n",
       "        0.01332773,  0.01332773,  0.01332773,  0.01332773,  0.01332773,\n",
       "        0.01332773,  0.01332773,  0.01332773,  0.01332773,  0.01332773,\n",
       "        0.01332773,  0.01332773,  0.01332773,  0.01332773,  0.01332773,\n",
       "        0.01332773,  0.01332773,  0.01332773,  0.01332773,  0.01332773,\n",
       "        0.01332773,  0.01332773,  0.01332773,  0.01332773,  0.01332773,\n",
       "        0.01332773,  0.01332773,  0.01332773,  0.01332773,  0.01332773,\n",
       "        0.01332773,  0.01332773,  0.01332773,  0.01332773,  0.01332773,\n",
       "        0.01332773,  0.01332773,  0.01332773,  0.01332773,  0.53043458,\n",
       "        0.53043458,  0.53043458,  0.53043458,  0.53043458,  0.53043458,\n",
       "        0.53043458,  0.53043458,  0.53043458,  0.53043458,  0.53043458,\n",
       "        0.53043458,  0.53043458,  0.53043458,  0.53043458,  0.53043458,\n",
       "        0.53043458,  0.53043458,  0.53043458,  0.53043458,  0.53043458,\n",
       "        0.53043458,  0.53043458,  0.53043458,  0.53043458,  0.53043458,\n",
       "        0.53043458,  0.53043458,  0.53043458,  0.53043458,  0.53043458,\n",
       "        0.53043458,  0.53043458,  0.53043458,  0.53043458,  0.53043458,\n",
       "        0.53043458,  0.53043458,  0.53043458,  0.53043458,  0.53043458,\n",
       "        0.53043458,  0.53043458,  0.53043458,  0.53043458,  0.53043458,\n",
       "        0.53043458,  0.53043458,  0.53043458,  0.53043458,  0.53043458,\n",
       "        0.53043458,  0.53043458,  0.53043458,  0.53043458,  0.53043458,\n",
       "        0.53043458,  0.53043458,  0.53043458,  0.53043458,  0.53043458,\n",
       "        0.53043458,  0.53043458,  0.53043458,  0.53043458,  0.53043458,\n",
       "        0.53043458,  0.53043458,  0.53043458,  0.53043458,  0.53043458,\n",
       "        0.53043458,  0.53043458,  0.53043458,  0.53043458,  0.53043458,\n",
       "        0.53043458,  0.53043458,  0.53043458,  0.53043458,  0.53043458,\n",
       "        0.53043458,  0.53043458,  0.53043458,  0.53043458,  0.53043458,\n",
       "        0.53043458,  0.53043458,  0.53043458,  0.53043458,  0.53043458,\n",
       "        0.53043458,  0.53043458,  0.53043458,  0.53043458,  0.53043458,\n",
       "        0.53043458,  0.53043458,  0.53043458,  0.53043458,  0.53043458,\n",
       "        0.53043458,  0.53043458,  0.53043458,  0.53043458,  0.53043458,\n",
       "        0.53043458,  0.53043458,  0.53043458,  0.53043458,  0.53043458,\n",
       "        0.53043458,  0.53043458,  0.53043458,  0.53043458,  0.53043458,\n",
       "        0.53043458,  0.53043458,  0.98570463,  0.98570463,  0.98570463,\n",
       "        0.98570463,  0.98570463,  0.98570463,  0.98570463,  0.98570463,\n",
       "        0.98570463,  0.98570463,  0.98570463,  0.98570463,  0.98570463,\n",
       "        0.98570463,  0.98570463,  0.98570463,  0.98570463,  0.98570463,\n",
       "        0.98570463,  0.98570463,  0.98570463,  0.98570463,  0.98570463,\n",
       "        0.98570463,  0.98570463,  0.98570463,  0.98570463,  0.98570463,\n",
       "        0.98570463,  0.98570463,  0.98570463,  0.98570463,  0.98570463,\n",
       "        0.98570463,  0.98570463,  0.98570463,  0.98570463,  0.98570463,\n",
       "        0.98570463,  0.98570463,  0.98570463,  0.98570463,  0.98570463,\n",
       "        0.98570463,  0.98570463,  0.98570463,  0.98570463,  0.98570463,\n",
       "        0.98570463,  0.98570463,  0.98570463,  0.98570463,  0.98570463,\n",
       "        0.98570463,  0.98570463,  0.98570463,  0.98570463,  0.98570463,\n",
       "        0.98570463,  0.98570463,  0.98570463,  0.98570463,  0.98570463,\n",
       "        0.98570463,  0.98570463,  0.98570463,  0.98570463,  0.98570463,\n",
       "        0.98570463,  0.98570463,  0.98570463,  0.98570463,  0.98570463,\n",
       "        0.98570463,  0.98570463,  0.98570463,  0.98570463,  0.98570463,\n",
       "        0.98570463,  0.98570463,  0.98570463,  0.97481791,  0.97481791,\n",
       "        0.97481791,  0.97481791,  0.97481791,  0.97481791,  0.97481791,\n",
       "        0.97481791,  0.97481791,  0.97481791,  0.97481791,  0.97481791,\n",
       "        0.97481791,  0.97481791,  0.97481791,  0.97481791,  0.97481791,\n",
       "        0.97481791,  0.97481791,  0.97481791,  0.97481791,  0.97481791,\n",
       "        0.97481791,  0.97481791,  0.97481791,  0.97481791,  0.97481791,\n",
       "        0.97481791,  0.97481791,  0.97481791,  0.97481791,  0.97481791,\n",
       "        0.97481791,  0.97481791,  0.97481791,  0.97481791,  0.97481791,\n",
       "        0.97481791,  0.97481791,  0.97481791,  0.97481791,  0.97481791,\n",
       "        0.97481791,  0.97481791,  0.97481791,  0.97481791,  0.97481791,\n",
       "        0.97481791,  0.97481791,  0.97481791,  0.97481791,  0.97481791,\n",
       "        0.97481791,  0.97481791,  0.97481791,  0.97481791,  0.97481791,\n",
       "        0.97481791,  0.97481791,  0.97481791,  0.97481791,  0.97481791,\n",
       "        0.97481791,  0.97481791,  0.97481791,  0.97481791,  0.97481791,\n",
       "        0.97481791,  0.97481791,  0.97481791,  0.97481791,  0.97481791,\n",
       "        0.97481791,  0.97481791,  0.97481791,  0.97481791,  0.97481791,\n",
       "        0.97481791,  0.97481791,  0.97481791,  0.97481791,  0.97481791,\n",
       "        0.97481791,  0.97481791,  0.97481791,  0.97481791,  0.97481791,\n",
       "        0.97481791,  0.97481791,  0.97481791,  0.97481791,  0.97481791,\n",
       "        0.97481791,  0.97481791,  0.97481791,  0.97481791,  0.97481791,\n",
       "        0.97481791,  0.97481791,  0.97481791,  0.97481791,  0.97481791,\n",
       "        0.97481791,  0.97481791,  0.97481791,  0.97481791,  0.97481791,\n",
       "        0.97481791,  0.97481791,  0.97481791,  0.97481791,  0.97481791,\n",
       "        0.97481791,  0.97481791,  0.97481791,  0.38539229,  0.38539229,\n",
       "        0.38539229,  0.38539229,  0.38539229,  0.38539229,  0.38539229,\n",
       "        0.38539229,  0.38539229,  0.38539229,  0.38539229,  0.38539229,\n",
       "        0.38539229,  0.38539229,  0.38539229,  0.38539229,  0.38539229,\n",
       "        0.38539229,  0.38539229,  0.38539229,  0.38539229,  0.38539229,\n",
       "        0.38539229,  0.38539229,  0.38539229,  0.38539229,  0.38539229,\n",
       "        0.38539229,  0.38539229,  0.38539229,  0.38539229,  0.38539229,\n",
       "        0.38539229,  0.38539229,  0.38539229,  0.38539229,  0.38539229,\n",
       "        0.38539229,  0.38539229,  0.38539229,  0.38539229,  0.38539229,\n",
       "        0.38539229,  0.38539229,  0.38539229,  0.38539229,  0.38539229,\n",
       "        0.38539229,  0.38539229,  0.38539229,  0.38539229,  0.38539229,\n",
       "        0.38539229,  0.38539229,  0.38539229,  0.38539229,  0.38539229,\n",
       "        0.38539229,  0.38539229,  0.38539229,  0.38539229,  0.38539229,\n",
       "        0.38539229,  0.38539229,  0.38539229,  0.38539229,  0.38539229,\n",
       "        0.38539229,  0.38539229,  0.38539229,  0.38539229,  0.38539229,\n",
       "        0.38539229,  0.38539229,  0.38539229,  0.38539229,  0.38539229,\n",
       "        0.38539229,  0.38539229,  0.38539229,  0.38539229,  0.38539229,\n",
       "        0.38539229,  0.38539229,  0.38539229,  0.38539229,  0.38539229,\n",
       "        0.38539229,  0.38539229,  0.38539229,  0.38539229,  0.38539229,\n",
       "        0.38539229,  0.38539229,  0.38539229,  0.38539229,  0.38539229,\n",
       "        0.38539229,  0.38539229,  0.38539229,  0.38539229,  0.38539229,\n",
       "        0.38539229,  0.38539229,  0.38539229,  0.38539229,  0.38539229,\n",
       "        0.38539229,  0.38539229,  0.38539229,  0.38539229,  0.38539229])"
      ]
     },
     "execution_count": 91,
     "metadata": {},
     "output_type": "execute_result"
    }
   ],
   "source": [
    "import pandas as pd\n",
    "pd.DataFrame(X_binned.toarray()).head()\n",
    "\n",
    "LinearR_ = LinearRegression().fit(X_binned, y)\n",
    "\n",
    "line_binned = enc.transform(line)\n",
    "LinearR_.predict(line_binned)"
   ]
  },
  {
   "cell_type": "code",
   "execution_count": 92,
   "id": "a8e91504-a39c-4a33-a78b-40958ed1acb6",
   "metadata": {},
   "outputs": [
    {
     "data": {
      "text/plain": [
       "array([-2.9668673 , -2.55299973, -2.0639171 , -1.3945301 , -1.02797432,\n",
       "       -0.21514527,  0.44239288,  1.14612193,  1.63693428,  2.32784522,\n",
       "        2.92132162])"
      ]
     },
     "execution_count": 92,
     "metadata": {},
     "output_type": "execute_result"
    }
   ],
   "source": [
    "enc.bin_edges_[0]"
   ]
  },
  {
   "cell_type": "code",
   "execution_count": 93,
   "id": "1bcc0ff4-d385-404f-a71a-40229c882712",
   "metadata": {},
   "outputs": [
    {
     "data": {
      "text/plain": [
       "[0.0, 1.0]"
      ]
     },
     "execution_count": 93,
     "metadata": {},
     "output_type": "execute_result"
    },
    {
     "data": {
      "image/png": "[encoded data removed]",
      "text/plain": [
       "<Figure size 432x288 with 1 Axes>"
      ]
     },
     "metadata": {
      "needs_background": "light"
     },
     "output_type": "display_data"
    }
   ],
   "source": [
    "[*plt.gca().get_ylim()]"
   ]
  },
  {
   "cell_type": "code",
   "execution_count": 94,
   "id": "22bf2de2-63a6-4466-95b0-1c98abd5b803",
   "metadata": {},
   "outputs": [
    {
     "data": {
      "image/png": "[encoded data removed]",
      "text/plain": [
       "<Figure size 720x288 with 2 Axes>"
      ]
     },
     "metadata": {
      "needs_background": "light"
     },
     "output_type": "display_data"
    }
   ],
   "source": [
    "enc = KBinsDiscretizer(n_bins=10,encode=\"onehot\")\n",
    "X_binned = enc.fit_transform(X)\n",
    "line_binned = enc.transform(line)\n",
    "\n",
    "\n",
    "fig, (ax1, ax2) = plt.subplots(ncols=2\n",
    "                               , sharey=True \n",
    "                               , figsize=(10, 4))\n",
    "\n",
    "\n",
    "ax1.plot(line, LinearR.predict(line), linewidth=2, color='green',\n",
    "         label=\"linear regression\")\n",
    "ax1.plot(line, TreeR.predict(line), linewidth=2, color='red',\n",
    "         label=\"decision tree\")\n",
    "ax1.plot(X[:, 0], y, 'o', c='k')\n",
    "ax1.legend(loc=\"best\")\n",
    "ax1.set_ylabel(\"Regression output\")\n",
    "ax1.set_xlabel(\"Input feature\")\n",
    "ax1.set_title(\"Result before discretization\")\n",
    "\n",
    "\n",
    "LinearR_ = LinearRegression().fit(X_binned, y)\n",
    "TreeR_ = DecisionTreeRegressor(random_state=0).fit(X_binned, y)\n",
    "\n",
    "\n",
    "ax2.plot(line\n",
    "         , LinearR_.predict(line_binned) \n",
    "         , linewidth=2\n",
    "         , color='green'\n",
    "         , linestyle='-'\n",
    "         , label='linear regression')\n",
    "\n",
    "ax2.plot(line, TreeR_.predict(line_binned), linewidth=2, color='red',\n",
    "         linestyle=':', label='decision tree')\n",
    "\n",
    "\n",
    "ax2.vlines(enc.bin_edges_[0] \n",
    "           , *plt.gca().get_ylim() \n",
    "           , linewidth=1\n",
    "           , alpha=.2)\n",
    "\n",
    "\n",
    "ax2.plot(X[:, 0], y, 'o', c='k')\n",
    "\n",
    "ax2.legend(loc=\"best\")\n",
    "ax2.set_xlabel(\"Input feature\")\n",
    "ax2.set_title(\"Result after discretization\")\n",
    "plt.tight_layout()\n",
    "plt.show()"
   ]
  },
  {
   "cell_type": "code",
   "execution_count": 95,
   "id": "131b5cb4-f2c7-4eef-861c-e01fbb1b280f",
   "metadata": {},
   "outputs": [
    {
     "name": "stdout",
     "output_type": "stream",
     "text": [
      "0.9590978882491229\n"
     ]
    },
    {
     "data": {
      "image/png": "[encoded data removed]",
      "text/plain": [
       "<Figure size 360x288 with 1 Axes>"
      ]
     },
     "metadata": {
      "needs_background": "light"
     },
     "output_type": "display_data"
    }
   ],
   "source": [
    "enc = KBinsDiscretizer(n_bins=15,encode=\"onehot\")\n",
    "X_binned = enc.fit_transform(X)\n",
    "line_binned = enc.transform(line)\n",
    "\n",
    "fig, ax2 = plt.subplots(1,figsize=(5,4))\n",
    "\n",
    "LinearR_ = LinearRegression().fit(X_binned, y)\n",
    "print(LinearR_.score(line_binned,np.sin(line)))\n",
    "TreeR_ = DecisionTreeRegressor(random_state=0).fit(X_binned, y)\n",
    "\n",
    "ax2.plot(line \n",
    "         , LinearR_.predict(line_binned)\n",
    "         , linewidth=2\n",
    "         , color='green'\n",
    "         , linestyle='-'\n",
    "         , label='linear regression')\n",
    "ax2.plot(line, TreeR_.predict(line_binned), linewidth=2, color='red',\n",
    "         linestyle=':', label='decision tree')\n",
    "ax2.vlines(enc.bin_edges_[0], *plt.gca().get_ylim(), linewidth=1, alpha=.2)\n",
    "ax2.plot(X[:, 0], y, 'o', c='k')\n",
    "ax2.legend(loc=\"best\")\n",
    "ax2.set_xlabel(\"Input feature\")\n",
    "ax2.set_title(\"Result after discretization\")\n",
    "plt.tight_layout()\n",
    "plt.show()"
   ]
  },
  {
   "cell_type": "code",
   "execution_count": 96,
   "id": "76f429c0-a7dc-4302-ada0-fea4bc277ea1",
   "metadata": {},
   "outputs": [],
   "source": [
    "from sklearn.model_selection import cross_val_score as CVS\n",
    "import numpy as np"
   ]
  },
  {
   "cell_type": "code",
   "execution_count": 97,
   "id": "ab44c47a-1640-4509-89ae-990ce636ff8c",
   "metadata": {},
   "outputs": [
    {
     "data": {
      "image/png": "[encoded data removed]",
      "text/plain": [
       "<Figure size 432x360 with 1 Axes>"
      ]
     },
     "metadata": {
      "needs_background": "light"
     },
     "output_type": "display_data"
    }
   ],
   "source": [
    "pred,score,var = [], [], []\n",
    "binsrange = [2,5,10,15,20,30]\n",
    "for i in binsrange:\n",
    "\n",
    "    enc = KBinsDiscretizer(n_bins=i,encode=\"onehot\")\n",
    "\n",
    "    X_binned = enc.fit_transform(X)\n",
    "    line_binned = enc.transform(line)\n",
    "\n",
    "    LinearR_ = LinearRegression()\n",
    "\n",
    "    cvresult = CVS(LinearR_,X_binned,y,cv=5)\n",
    "    score.append(cvresult.mean())\n",
    "    var.append(cvresult.var())\n",
    "\n",
    "    pred.append(LinearR_.fit(X_binned,y).score(line_binned,np.sin(line)))\n",
    "\n",
    "plt.figure(figsize=(6,5))\n",
    "plt.plot(binsrange,pred,c=\"orange\",label=\"test\")\n",
    "plt.plot(binsrange,score,c=\"k\",label=\"full data\")\n",
    "plt.plot(binsrange,score+np.array(var)*0.5,c=\"red\",linestyle=\"--\",label = \"var\")\n",
    "plt.plot(binsrange,score-np.array(var)*0.5,c=\"red\",linestyle=\"--\")\n",
    "plt.legend()\n",
    "plt.show()"
   ]
  },
  {
   "cell_type": "code",
   "execution_count": 98,
   "id": "28cb0d00-7b5a-4a97-a728-04c709881c85",
   "metadata": {},
   "outputs": [],
   "source": [
    "from sklearn.preprocessing import PolynomialFeatures\n",
    "import numpy as np"
   ]
  },
  {
   "cell_type": "code",
   "execution_count": 99,
   "id": "b6f4b39b-5963-4b2a-8bb8-32cb357affa8",
   "metadata": {},
   "outputs": [
    {
     "data": {
      "text/plain": [
       "array([[1],\n",
       "       [2],\n",
       "       [3]])"
      ]
     },
     "execution_count": 99,
     "metadata": {},
     "output_type": "execute_result"
    }
   ],
   "source": [
    "X = np.arange(1,4).reshape(-1,1)\n",
    "X"
   ]
  },
  {
   "cell_type": "code",
   "execution_count": 100,
   "id": "1965d5f0-4619-42c5-a692-5ba7c74539dc",
   "metadata": {},
   "outputs": [],
   "source": [
    "poly = PolynomialFeatures(degree=2)"
   ]
  },
  {
   "cell_type": "code",
   "execution_count": 101,
   "id": "86c0c961-5e20-4a5c-8a06-4843c1e2d173",
   "metadata": {},
   "outputs": [
    {
     "data": {
      "text/plain": [
       "array([[1., 1., 1.],\n",
       "       [1., 2., 4.],\n",
       "       [1., 3., 9.]])"
      ]
     },
     "execution_count": 101,
     "metadata": {},
     "output_type": "execute_result"
    }
   ],
   "source": [
    "X_ = poly.fit_transform(X)\n",
    "X_"
   ]
  },
  {
   "cell_type": "code",
   "execution_count": 102,
   "id": "ee528985-1397-4cae-ae94-366131999e78",
   "metadata": {},
   "outputs": [
    {
     "data": {
      "text/plain": [
       "array([[ 1.,  1.,  1.,  1.],\n",
       "       [ 1.,  2.,  4.,  8.],\n",
       "       [ 1.,  3.,  9., 27.]])"
      ]
     },
     "execution_count": 102,
     "metadata": {},
     "output_type": "execute_result"
    }
   ],
   "source": [
    "PolynomialFeatures(degree=3).fit_transform(X)"
   ]
  },
  {
   "cell_type": "code",
   "execution_count": 103,
   "id": "292f0408-ae2d-4a06-99fc-e78fdbffc57e",
   "metadata": {},
   "outputs": [
    {
     "data": {
      "text/plain": [
       "array([[ 1.,  1.,  1.],\n",
       "       [ 2.,  4.,  8.],\n",
       "       [ 3.,  9., 27.]])"
      ]
     },
     "execution_count": 103,
     "metadata": {},
     "output_type": "execute_result"
    }
   ],
   "source": [
    "PolynomialFeatures(degree=3,include_bias=False).fit_transform(X)"
   ]
  },
  {
   "cell_type": "code",
   "execution_count": 104,
   "id": "d94608d7-07c8-4288-aa51-3714b157af28",
   "metadata": {},
   "outputs": [],
   "source": [
    "xxx = PolynomialFeatures(degree=3).fit_transform(X)"
   ]
  },
  {
   "cell_type": "code",
   "execution_count": 105,
   "id": "3f56d8c8-c4f1-4102-9551-b4e05301bfca",
   "metadata": {},
   "outputs": [
    {
     "data": {
      "text/plain": [
       "(3, 4)"
      ]
     },
     "execution_count": 105,
     "metadata": {},
     "output_type": "execute_result"
    }
   ],
   "source": [
    "xxx.shape"
   ]
  },
  {
   "cell_type": "code",
   "execution_count": 106,
   "id": "ac6e41b5-b631-4adb-b51d-64fe742581da",
   "metadata": {},
   "outputs": [
    {
     "data": {
      "text/plain": [
       "array([ 0.49671415, -0.1382643 ,  0.64768854])"
      ]
     },
     "execution_count": 106,
     "metadata": {},
     "output_type": "execute_result"
    }
   ],
   "source": [
    "rnd = np.random.RandomState(42) #设置随机数种子\n",
    "y = rnd.randn(3)\n",
    "\n",
    "y"
   ]
  },
  {
   "cell_type": "code",
   "execution_count": 107,
   "id": "2f676b22-9523-48ef-b9fc-3bdedbd56533",
   "metadata": {},
   "outputs": [
    {
     "data": {
      "text/plain": [
       "array([ 1.36002321e-15, -3.51045297e-01, -6.06987134e-01,  2.19575463e-01])"
      ]
     },
     "execution_count": 107,
     "metadata": {},
     "output_type": "execute_result"
    }
   ],
   "source": [
    "LinearRegression().fit(xxx,y).coef_"
   ]
  },
  {
   "cell_type": "code",
   "execution_count": 108,
   "id": "63a4486e-24ca-4900-9162-4c456acc77f2",
   "metadata": {},
   "outputs": [
    {
     "data": {
      "text/plain": [
       "1.2351711202036895"
      ]
     },
     "execution_count": 108,
     "metadata": {},
     "output_type": "execute_result"
    }
   ],
   "source": [
    "LinearRegression().fit(xxx,y).intercept_"
   ]
  },
  {
   "cell_type": "code",
   "execution_count": 109,
   "id": "be1a6c73-70b7-4037-a462-e41f7a7368b1",
   "metadata": {},
   "outputs": [
    {
     "data": {
      "text/plain": [
       "array([ 1.00596411,  0.06916756, -0.83619415,  0.25777663])"
      ]
     },
     "execution_count": 109,
     "metadata": {},
     "output_type": "execute_result"
    }
   ],
   "source": [
    "LinearRegression(fit_intercept=False).fit(xxx,y).coef_"
   ]
  },
  {
   "cell_type": "code",
   "execution_count": 110,
   "id": "21b041e4-4f08-4785-889a-272aa20c5ab0",
   "metadata": {},
   "outputs": [
    {
     "data": {
      "text/plain": [
       "0.0"
      ]
     },
     "execution_count": 110,
     "metadata": {},
     "output_type": "execute_result"
    }
   ],
   "source": [
    "LinearRegression(fit_intercept=False).fit(xxx,y).intercept_"
   ]
  },
  {
   "cell_type": "code",
   "execution_count": 111,
   "id": "551c306e-2f1c-49b0-a560-fde0b009b03a",
   "metadata": {},
   "outputs": [
    {
     "data": {
      "text/plain": [
       "array([[0, 1],\n",
       "       [2, 3],\n",
       "       [4, 5]])"
      ]
     },
     "execution_count": 111,
     "metadata": {},
     "output_type": "execute_result"
    }
   ],
   "source": [
    "X = np.arange(6).reshape(3, 2)\n",
    "X"
   ]
  },
  {
   "cell_type": "code",
   "execution_count": 112,
   "id": "58559d45-d34b-4f6d-86c1-9949757bc22b",
   "metadata": {},
   "outputs": [
    {
     "data": {
      "text/plain": [
       "array([[ 1.,  0.,  1.,  0.,  0.,  1.],\n",
       "       [ 1.,  2.,  3.,  4.,  6.,  9.],\n",
       "       [ 1.,  4.,  5., 16., 20., 25.]])"
      ]
     },
     "execution_count": 112,
     "metadata": {},
     "output_type": "execute_result"
    }
   ],
   "source": [
    "PolynomialFeatures(degree=2).fit_transform(X)"
   ]
  },
  {
   "cell_type": "code",
   "execution_count": 113,
   "id": "d31017ee-dafa-4881-9202-e793dd715a3c",
   "metadata": {},
   "outputs": [
    {
     "data": {
      "text/plain": [
       "array([[  1.,   0.,   1.,   0.,   0.,   1.,   0.,   0.,   0.,   1.],\n",
       "       [  1.,   2.,   3.,   4.,   6.,   9.,   8.,  12.,  18.,  27.],\n",
       "       [  1.,   4.,   5.,  16.,  20.,  25.,  64.,  80., 100., 125.]])"
      ]
     },
     "execution_count": 113,
     "metadata": {},
     "output_type": "execute_result"
    }
   ],
   "source": [
    "PolynomialFeatures(degree=3).fit_transform(X)"
   ]
  },
  {
   "cell_type": "code",
   "execution_count": 114,
   "id": "7b3966ee-fcca-4644-a1e4-280bcbafcd9a",
   "metadata": {},
   "outputs": [
    {
     "data": {
      "text/plain": [
       "array([[ 1.,  0.,  1.,  0.,  0.,  1.],\n",
       "       [ 1.,  2.,  3.,  4.,  6.,  9.],\n",
       "       [ 1.,  4.,  5., 16., 20., 25.]])"
      ]
     },
     "execution_count": 114,
     "metadata": {},
     "output_type": "execute_result"
    }
   ],
   "source": [
    "PolynomialFeatures(degree=2).fit_transform(X)"
   ]
  },
  {
   "cell_type": "code",
   "execution_count": 115,
   "id": "548f4bd5-1fd7-40b8-a288-5869b9d731fa",
   "metadata": {},
   "outputs": [
    {
     "data": {
      "text/plain": [
       "array([[ 1.,  0.,  1.,  0.],\n",
       "       [ 1.,  2.,  3.,  6.],\n",
       "       [ 1.,  4.,  5., 20.]])"
      ]
     },
     "execution_count": 115,
     "metadata": {},
     "output_type": "execute_result"
    }
   ],
   "source": [
    "PolynomialFeatures(degree=2,interaction_only=True).fit_transform(X)"
   ]
  },
  {
   "cell_type": "code",
   "execution_count": 116,
   "id": "ea833642-78f3-4c9a-ad0a-2d4b3d2bf207",
   "metadata": {},
   "outputs": [
    {
     "data": {
      "text/plain": [
       "array([[ 0,  1,  2,  3,  4,  5,  6,  7,  8,  9],\n",
       "       [10, 11, 12, 13, 14, 15, 16, 17, 18, 19]])"
      ]
     },
     "execution_count": 116,
     "metadata": {},
     "output_type": "execute_result"
    }
   ],
   "source": [
    "X = np.arange(20).reshape(2, 10)\n",
    "X"
   ]
  },
  {
   "cell_type": "code",
   "execution_count": 117,
   "id": "3b6cfc0c-204c-47d9-927e-5849300bbfad",
   "metadata": {},
   "outputs": [
    {
     "data": {
      "text/plain": [
       "(2, 66)"
      ]
     },
     "execution_count": 117,
     "metadata": {},
     "output_type": "execute_result"
    }
   ],
   "source": [
    "PolynomialFeatures(degree=2).fit_transform(X).shape"
   ]
  },
  {
   "cell_type": "code",
   "execution_count": 118,
   "id": "28d84f50-04eb-4f70-ada3-efff25f4dc14",
   "metadata": {},
   "outputs": [
    {
     "data": {
      "text/plain": [
       "(2, 286)"
      ]
     },
     "execution_count": 118,
     "metadata": {},
     "output_type": "execute_result"
    }
   ],
   "source": [
    "PolynomialFeatures(degree=3).fit_transform(X).shape"
   ]
  },
  {
   "cell_type": "code",
   "execution_count": 119,
   "id": "d6991801-00e1-480e-9b8d-a8d8c71d9bb8",
   "metadata": {},
   "outputs": [
    {
     "data": {
      "text/plain": [
       "(2, 30045015)"
      ]
     },
     "execution_count": 119,
     "metadata": {},
     "output_type": "execute_result"
    }
   ],
   "source": [
    "X_ = PolynomialFeatures(degree=20).fit_transform(X)\n",
    "\n",
    "X_.shape"
   ]
  },
  {
   "cell_type": "code",
   "execution_count": 120,
   "id": "f61f54fc-42ed-41f8-9425-de0512adc751",
   "metadata": {},
   "outputs": [],
   "source": [
    "from sklearn.preprocessing import PolynomialFeatures as PF\n",
    "from sklearn.linear_model import LinearRegression\n",
    "import numpy as np\n",
    "\n",
    "rnd = np.random.RandomState(42) \n",
    "X = rnd.uniform(-3, 3, size=100)\n",
    "y = np.sin(X) + rnd.normal(size=len(X)) / 3\n",
    "\n",
    "\n",
    "X = X.reshape(-1,1)\n",
    "\n",
    "line = np.linspace(-3, 3, 1000, endpoint=False).reshape(-1, 1)"
   ]
  },
  {
   "cell_type": "code",
   "execution_count": 121,
   "id": "e44e91dc-e18e-402c-b780-3e37d91e5663",
   "metadata": {},
   "outputs": [
    {
     "data": {
      "text/plain": [
       "0.5361526059318595"
      ]
     },
     "execution_count": 121,
     "metadata": {},
     "output_type": "execute_result"
    }
   ],
   "source": [
    "\n",
    "LinearR = LinearRegression().fit(X, y)\n",
    "LinearR.score(X,y)"
   ]
  },
  {
   "cell_type": "code",
   "execution_count": 122,
   "id": "4bd4e5d3-2aaa-4870-95d0-0afa02c026f9",
   "metadata": {},
   "outputs": [
    {
     "data": {
      "text/plain": [
       "0.6800102369793312"
      ]
     },
     "execution_count": 122,
     "metadata": {},
     "output_type": "execute_result"
    }
   ],
   "source": [
    "\n",
    "LinearR.score(line,np.sin(line))"
   ]
  },
  {
   "cell_type": "code",
   "execution_count": 123,
   "id": "ec2505d5-f327-4c29-ad50-b94b09a263c9",
   "metadata": {},
   "outputs": [
    {
     "data": {
      "text/plain": [
       "0.8561679370344799"
      ]
     },
     "execution_count": 123,
     "metadata": {},
     "output_type": "execute_result"
    }
   ],
   "source": [
    "d=5\n",
    "\n",
    "poly = PF(degree=d)\n",
    "X_ = poly.fit_transform(X)\n",
    "line_ = poly.transform(line)\n",
    "\n",
    "LinearR_ = LinearRegression().fit(X_, y)\n",
    "LinearR_.score(X_,y)"
   ]
  },
  {
   "cell_type": "code",
   "execution_count": 124,
   "id": "0facab0e-2b5b-4cac-af28-1806f7feee46",
   "metadata": {},
   "outputs": [
    {
     "data": {
      "text/plain": [
       "0.9868904451787976"
      ]
     },
     "execution_count": 124,
     "metadata": {},
     "output_type": "execute_result"
    }
   ],
   "source": [
    "LinearR_.score(line_,np.sin(line))"
   ]
  },
  {
   "cell_type": "code",
   "execution_count": 125,
   "id": "e1a292f5-4d06-494b-b5ac-dd63d4631ea1",
   "metadata": {},
   "outputs": [
    {
     "data": {
      "image/png": "[encoded data removed]",
      "text/plain": [
       "<Figure size 432x288 with 1 Axes>"
      ]
     },
     "metadata": {
      "needs_background": "light"
     },
     "output_type": "display_data"
    }
   ],
   "source": [
    "import matplotlib.pyplot as plt\n",
    "\n",
    "d=5\n",
    "\n",
    "LinearR = LinearRegression().fit(X, y)\n",
    "X_ = PF(degree=d).fit_transform(X)\n",
    "LinearR_ = LinearRegression().fit(X_, y)\n",
    "line = np.linspace(-3, 3, 1000, endpoint=False).reshape(-1, 1)\n",
    "line_ = PF(degree=d).fit_transform(line)\n",
    "\n",
    "fig, ax1 = plt.subplots(1)\n",
    "\n",
    "ax1.plot(line, LinearR.predict(line), linewidth=2, color='green'\n",
    "         ,label=\"linear regression\")\n",
    "ax1.plot(line, LinearR_.predict(line_), linewidth=2, color='red'\n",
    "         ,label=\"Polynomial regression\")\n",
    "\n",
    "ax1.plot(X[:, 0], y, 'o', c='k')\n",
    "\n",
    "ax1.legend(loc=\"best\")\n",
    "ax1.set_ylabel(\"Regression output\")\n",
    "ax1.set_xlabel(\"Input feature\")\n",
    "ax1.set_title(\"Linear Regression ordinary vs poly\")\n",
    "plt.tight_layout()\n",
    "plt.show()\n"
   ]
  },
  {
   "cell_type": "code",
   "execution_count": 126,
   "id": "c77a3a05-ad73-4943-8f28-c954b771fa20",
   "metadata": {},
   "outputs": [
    {
     "data": {
      "text/plain": [
       "array([[0, 1, 2],\n",
       "       [3, 4, 5],\n",
       "       [6, 7, 8]])"
      ]
     },
     "execution_count": 126,
     "metadata": {},
     "output_type": "execute_result"
    }
   ],
   "source": [
    "import numpy as np\n",
    "from sklearn.preprocessing import PolynomialFeatures\n",
    "from sklearn.linear_model import LinearRegression\n",
    "\n",
    "X = np.arange(9).reshape(3, 3)\n",
    "X"
   ]
  },
  {
   "cell_type": "code",
   "execution_count": 127,
   "id": "2ccfae55-a46a-4559-b824-c1c2c73bf717",
   "metadata": {},
   "outputs": [],
   "source": [
    "poly = PolynomialFeatures(degree=5).fit(X)"
   ]
  },
  {
   "cell_type": "code",
   "execution_count": 128,
   "id": "8614a7be-cd32-4e15-bffa-843e04ea3a13",
   "metadata": {
    "scrolled": true,
    "tags": []
   },
   "outputs": [
    {
     "name": "stderr",
     "output_type": "stream",
     "text": [
      "C:\\ProgramData\\Anaconda3\\lib\\site-packages\\sklearn\\utils\\deprecation.py:87: FutureWarning: Function get_feature_names is deprecated; get_feature_names is deprecated in 1.0 and will be removed in 1.2. Please use get_feature_names_out instead.\n",
      "  warnings.warn(msg, category=FutureWarning)\n"
     ]
    },
    {
     "data": {
      "text/plain": [
       "['1',\n",
       " 'x0',\n",
       " 'x1',\n",
       " 'x2',\n",
       " 'x0^2',\n",
       " 'x0 x1',\n",
       " 'x0 x2',\n",
       " 'x1^2',\n",
       " 'x1 x2',\n",
       " 'x2^2',\n",
       " 'x0^3',\n",
       " 'x0^2 x1',\n",
       " 'x0^2 x2',\n",
       " 'x0 x1^2',\n",
       " 'x0 x1 x2',\n",
       " 'x0 x2^2',\n",
       " 'x1^3',\n",
       " 'x1^2 x2',\n",
       " 'x1 x2^2',\n",
       " 'x2^3',\n",
       " 'x0^4',\n",
       " 'x0^3 x1',\n",
       " 'x0^3 x2',\n",
       " 'x0^2 x1^2',\n",
       " 'x0^2 x1 x2',\n",
       " 'x0^2 x2^2',\n",
       " 'x0 x1^3',\n",
       " 'x0 x1^2 x2',\n",
       " 'x0 x1 x2^2',\n",
       " 'x0 x2^3',\n",
       " 'x1^4',\n",
       " 'x1^3 x2',\n",
       " 'x1^2 x2^2',\n",
       " 'x1 x2^3',\n",
       " 'x2^4',\n",
       " 'x0^5',\n",
       " 'x0^4 x1',\n",
       " 'x0^4 x2',\n",
       " 'x0^3 x1^2',\n",
       " 'x0^3 x1 x2',\n",
       " 'x0^3 x2^2',\n",
       " 'x0^2 x1^3',\n",
       " 'x0^2 x1^2 x2',\n",
       " 'x0^2 x1 x2^2',\n",
       " 'x0^2 x2^3',\n",
       " 'x0 x1^4',\n",
       " 'x0 x1^3 x2',\n",
       " 'x0 x1^2 x2^2',\n",
       " 'x0 x1 x2^3',\n",
       " 'x0 x2^4',\n",
       " 'x1^5',\n",
       " 'x1^4 x2',\n",
       " 'x1^3 x2^2',\n",
       " 'x1^2 x2^3',\n",
       " 'x1 x2^4',\n",
       " 'x2^5']"
      ]
     },
     "execution_count": 128,
     "metadata": {},
     "output_type": "execute_result"
    }
   ],
   "source": [
    "poly.get_feature_names()"
   ]
  },
  {
   "cell_type": "code",
   "execution_count": 129,
   "id": "d76741c7-1b4b-4b47-953c-366c3377f190",
   "metadata": {},
   "outputs": [
    {
     "data": {
      "text/plain": [
       "['MedInc',\n",
       " 'HouseAge',\n",
       " 'AveRooms',\n",
       " 'AveBedrms',\n",
       " 'Population',\n",
       " 'AveOccup',\n",
       " 'Latitude',\n",
       " 'Longitude']"
      ]
     },
     "execution_count": 129,
     "metadata": {},
     "output_type": "execute_result"
    }
   ],
   "source": [
    "from sklearn.datasets import fetch_california_housing as fch\n",
    "import pandas as pd\n",
    "\n",
    "housevalue = fch()\n",
    "X = pd.DataFrame(housevalue.data)\n",
    "y = housevalue.target\n",
    "housevalue.feature_names"
   ]
  },
  {
   "cell_type": "code",
   "execution_count": 130,
   "id": "69c7ff97-2c15-4cc5-80d6-757e4abd9e1e",
   "metadata": {},
   "outputs": [
    {
     "data": {
      "text/html": [
       "<div>\n",
       "<style scoped>\n",
       "    .dataframe tbody tr th:only-of-type {\n",
       "        vertical-align: middle;\n",
       "    }\n",
       "\n",
       "    .dataframe tbody tr th {\n",
       "        vertical-align: top;\n",
       "    }\n",
       "\n",
       "    .dataframe thead th {\n",
       "        text-align: right;\n",
       "    }\n",
       "</style>\n",
       "<table border=\"1\" class=\"dataframe\">\n",
       "  <thead>\n",
       "    <tr style=\"text-align: right;\">\n",
       "      <th></th>\n",
       "      <th>住户收入中位数</th>\n",
       "      <th>房屋使用年代中位数</th>\n",
       "      <th>平均房间数目</th>\n",
       "      <th>平均卧室数目</th>\n",
       "      <th>街区人口</th>\n",
       "      <th>平均入住率</th>\n",
       "      <th>街区的纬度</th>\n",
       "      <th>街区的经度</th>\n",
       "    </tr>\n",
       "  </thead>\n",
       "  <tbody>\n",
       "    <tr>\n",
       "      <th>0</th>\n",
       "      <td>8.3252</td>\n",
       "      <td>41.0</td>\n",
       "      <td>6.984127</td>\n",
       "      <td>1.023810</td>\n",
       "      <td>322.0</td>\n",
       "      <td>2.555556</td>\n",
       "      <td>37.88</td>\n",
       "      <td>-122.23</td>\n",
       "    </tr>\n",
       "    <tr>\n",
       "      <th>1</th>\n",
       "      <td>8.3014</td>\n",
       "      <td>21.0</td>\n",
       "      <td>6.238137</td>\n",
       "      <td>0.971880</td>\n",
       "      <td>2401.0</td>\n",
       "      <td>2.109842</td>\n",
       "      <td>37.86</td>\n",
       "      <td>-122.22</td>\n",
       "    </tr>\n",
       "    <tr>\n",
       "      <th>2</th>\n",
       "      <td>7.2574</td>\n",
       "      <td>52.0</td>\n",
       "      <td>8.288136</td>\n",
       "      <td>1.073446</td>\n",
       "      <td>496.0</td>\n",
       "      <td>2.802260</td>\n",
       "      <td>37.85</td>\n",
       "      <td>-122.24</td>\n",
       "    </tr>\n",
       "    <tr>\n",
       "      <th>3</th>\n",
       "      <td>5.6431</td>\n",
       "      <td>52.0</td>\n",
       "      <td>5.817352</td>\n",
       "      <td>1.073059</td>\n",
       "      <td>558.0</td>\n",
       "      <td>2.547945</td>\n",
       "      <td>37.85</td>\n",
       "      <td>-122.25</td>\n",
       "    </tr>\n",
       "    <tr>\n",
       "      <th>4</th>\n",
       "      <td>3.8462</td>\n",
       "      <td>52.0</td>\n",
       "      <td>6.281853</td>\n",
       "      <td>1.081081</td>\n",
       "      <td>565.0</td>\n",
       "      <td>2.181467</td>\n",
       "      <td>37.85</td>\n",
       "      <td>-122.25</td>\n",
       "    </tr>\n",
       "  </tbody>\n",
       "</table>\n",
       "</div>"
      ],
      "text/plain": [
       "   住户收入中位数  房屋使用年代中位数    平均房间数目    平均卧室数目    街区人口     平均入住率  街区的纬度   街区的经度\n",
       "0   8.3252       41.0  6.984127  1.023810   322.0  2.555556  37.88 -122.23\n",
       "1   8.3014       21.0  6.238137  0.971880  2401.0  2.109842  37.86 -122.22\n",
       "2   7.2574       52.0  8.288136  1.073446   496.0  2.802260  37.85 -122.24\n",
       "3   5.6431       52.0  5.817352  1.073059   558.0  2.547945  37.85 -122.25\n",
       "4   3.8462       52.0  6.281853  1.081081   565.0  2.181467  37.85 -122.25"
      ]
     },
     "execution_count": 130,
     "metadata": {},
     "output_type": "execute_result"
    }
   ],
   "source": [
    "X.columns = [\"住户收入中位数\",\"房屋使用年代中位数\",\"平均房间数目\"\n",
    "            ,\"平均卧室数目\",\"街区人口\",\"平均入住率\",\"街区的纬度\",\"街区的经度\"]\n",
    "X.head()"
   ]
  },
  {
   "cell_type": "code",
   "execution_count": 131,
   "id": "c4e6cf9d-7311-4bb8-bcfb-5dccd8fe739a",
   "metadata": {
    "scrolled": true,
    "tags": []
   },
   "outputs": [
    {
     "name": "stderr",
     "output_type": "stream",
     "text": [
      "C:\\ProgramData\\Anaconda3\\lib\\site-packages\\sklearn\\utils\\deprecation.py:87: FutureWarning: Function get_feature_names is deprecated; get_feature_names is deprecated in 1.0 and will be removed in 1.2. Please use get_feature_names_out instead.\n",
      "  warnings.warn(msg, category=FutureWarning)\n"
     ]
    },
    {
     "data": {
      "text/plain": [
       "['1',\n",
       " '住户收入中位数',\n",
       " '房屋使用年代中位数',\n",
       " '平均房间数目',\n",
       " '平均卧室数目',\n",
       " '街区人口',\n",
       " '平均入住率',\n",
       " '街区的纬度',\n",
       " '街区的经度',\n",
       " '住户收入中位数^2',\n",
       " '住户收入中位数 房屋使用年代中位数',\n",
       " '住户收入中位数 平均房间数目',\n",
       " '住户收入中位数 平均卧室数目',\n",
       " '住户收入中位数 街区人口',\n",
       " '住户收入中位数 平均入住率',\n",
       " '住户收入中位数 街区的纬度',\n",
       " '住户收入中位数 街区的经度',\n",
       " '房屋使用年代中位数^2',\n",
       " '房屋使用年代中位数 平均房间数目',\n",
       " '房屋使用年代中位数 平均卧室数目',\n",
       " '房屋使用年代中位数 街区人口',\n",
       " '房屋使用年代中位数 平均入住率',\n",
       " '房屋使用年代中位数 街区的纬度',\n",
       " '房屋使用年代中位数 街区的经度',\n",
       " '平均房间数目^2',\n",
       " '平均房间数目 平均卧室数目',\n",
       " '平均房间数目 街区人口',\n",
       " '平均房间数目 平均入住率',\n",
       " '平均房间数目 街区的纬度',\n",
       " '平均房间数目 街区的经度',\n",
       " '平均卧室数目^2',\n",
       " '平均卧室数目 街区人口',\n",
       " '平均卧室数目 平均入住率',\n",
       " '平均卧室数目 街区的纬度',\n",
       " '平均卧室数目 街区的经度',\n",
       " '街区人口^2',\n",
       " '街区人口 平均入住率',\n",
       " '街区人口 街区的纬度',\n",
       " '街区人口 街区的经度',\n",
       " '平均入住率^2',\n",
       " '平均入住率 街区的纬度',\n",
       " '平均入住率 街区的经度',\n",
       " '街区的纬度^2',\n",
       " '街区的纬度 街区的经度',\n",
       " '街区的经度^2',\n",
       " '住户收入中位数^3',\n",
       " '住户收入中位数^2 房屋使用年代中位数',\n",
       " '住户收入中位数^2 平均房间数目',\n",
       " '住户收入中位数^2 平均卧室数目',\n",
       " '住户收入中位数^2 街区人口',\n",
       " '住户收入中位数^2 平均入住率',\n",
       " '住户收入中位数^2 街区的纬度',\n",
       " '住户收入中位数^2 街区的经度',\n",
       " '住户收入中位数 房屋使用年代中位数^2',\n",
       " '住户收入中位数 房屋使用年代中位数 平均房间数目',\n",
       " '住户收入中位数 房屋使用年代中位数 平均卧室数目',\n",
       " '住户收入中位数 房屋使用年代中位数 街区人口',\n",
       " '住户收入中位数 房屋使用年代中位数 平均入住率',\n",
       " '住户收入中位数 房屋使用年代中位数 街区的纬度',\n",
       " '住户收入中位数 房屋使用年代中位数 街区的经度',\n",
       " '住户收入中位数 平均房间数目^2',\n",
       " '住户收入中位数 平均房间数目 平均卧室数目',\n",
       " '住户收入中位数 平均房间数目 街区人口',\n",
       " '住户收入中位数 平均房间数目 平均入住率',\n",
       " '住户收入中位数 平均房间数目 街区的纬度',\n",
       " '住户收入中位数 平均房间数目 街区的经度',\n",
       " '住户收入中位数 平均卧室数目^2',\n",
       " '住户收入中位数 平均卧室数目 街区人口',\n",
       " '住户收入中位数 平均卧室数目 平均入住率',\n",
       " '住户收入中位数 平均卧室数目 街区的纬度',\n",
       " '住户收入中位数 平均卧室数目 街区的经度',\n",
       " '住户收入中位数 街区人口^2',\n",
       " '住户收入中位数 街区人口 平均入住率',\n",
       " '住户收入中位数 街区人口 街区的纬度',\n",
       " '住户收入中位数 街区人口 街区的经度',\n",
       " '住户收入中位数 平均入住率^2',\n",
       " '住户收入中位数 平均入住率 街区的纬度',\n",
       " '住户收入中位数 平均入住率 街区的经度',\n",
       " '住户收入中位数 街区的纬度^2',\n",
       " '住户收入中位数 街区的纬度 街区的经度',\n",
       " '住户收入中位数 街区的经度^2',\n",
       " '房屋使用年代中位数^3',\n",
       " '房屋使用年代中位数^2 平均房间数目',\n",
       " '房屋使用年代中位数^2 平均卧室数目',\n",
       " '房屋使用年代中位数^2 街区人口',\n",
       " '房屋使用年代中位数^2 平均入住率',\n",
       " '房屋使用年代中位数^2 街区的纬度',\n",
       " '房屋使用年代中位数^2 街区的经度',\n",
       " '房屋使用年代中位数 平均房间数目^2',\n",
       " '房屋使用年代中位数 平均房间数目 平均卧室数目',\n",
       " '房屋使用年代中位数 平均房间数目 街区人口',\n",
       " '房屋使用年代中位数 平均房间数目 平均入住率',\n",
       " '房屋使用年代中位数 平均房间数目 街区的纬度',\n",
       " '房屋使用年代中位数 平均房间数目 街区的经度',\n",
       " '房屋使用年代中位数 平均卧室数目^2',\n",
       " '房屋使用年代中位数 平均卧室数目 街区人口',\n",
       " '房屋使用年代中位数 平均卧室数目 平均入住率',\n",
       " '房屋使用年代中位数 平均卧室数目 街区的纬度',\n",
       " '房屋使用年代中位数 平均卧室数目 街区的经度',\n",
       " '房屋使用年代中位数 街区人口^2',\n",
       " '房屋使用年代中位数 街区人口 平均入住率',\n",
       " '房屋使用年代中位数 街区人口 街区的纬度',\n",
       " '房屋使用年代中位数 街区人口 街区的经度',\n",
       " '房屋使用年代中位数 平均入住率^2',\n",
       " '房屋使用年代中位数 平均入住率 街区的纬度',\n",
       " '房屋使用年代中位数 平均入住率 街区的经度',\n",
       " '房屋使用年代中位数 街区的纬度^2',\n",
       " '房屋使用年代中位数 街区的纬度 街区的经度',\n",
       " '房屋使用年代中位数 街区的经度^2',\n",
       " '平均房间数目^3',\n",
       " '平均房间数目^2 平均卧室数目',\n",
       " '平均房间数目^2 街区人口',\n",
       " '平均房间数目^2 平均入住率',\n",
       " '平均房间数目^2 街区的纬度',\n",
       " '平均房间数目^2 街区的经度',\n",
       " '平均房间数目 平均卧室数目^2',\n",
       " '平均房间数目 平均卧室数目 街区人口',\n",
       " '平均房间数目 平均卧室数目 平均入住率',\n",
       " '平均房间数目 平均卧室数目 街区的纬度',\n",
       " '平均房间数目 平均卧室数目 街区的经度',\n",
       " '平均房间数目 街区人口^2',\n",
       " '平均房间数目 街区人口 平均入住率',\n",
       " '平均房间数目 街区人口 街区的纬度',\n",
       " '平均房间数目 街区人口 街区的经度',\n",
       " '平均房间数目 平均入住率^2',\n",
       " '平均房间数目 平均入住率 街区的纬度',\n",
       " '平均房间数目 平均入住率 街区的经度',\n",
       " '平均房间数目 街区的纬度^2',\n",
       " '平均房间数目 街区的纬度 街区的经度',\n",
       " '平均房间数目 街区的经度^2',\n",
       " '平均卧室数目^3',\n",
       " '平均卧室数目^2 街区人口',\n",
       " '平均卧室数目^2 平均入住率',\n",
       " '平均卧室数目^2 街区的纬度',\n",
       " '平均卧室数目^2 街区的经度',\n",
       " '平均卧室数目 街区人口^2',\n",
       " '平均卧室数目 街区人口 平均入住率',\n",
       " '平均卧室数目 街区人口 街区的纬度',\n",
       " '平均卧室数目 街区人口 街区的经度',\n",
       " '平均卧室数目 平均入住率^2',\n",
       " '平均卧室数目 平均入住率 街区的纬度',\n",
       " '平均卧室数目 平均入住率 街区的经度',\n",
       " '平均卧室数目 街区的纬度^2',\n",
       " '平均卧室数目 街区的纬度 街区的经度',\n",
       " '平均卧室数目 街区的经度^2',\n",
       " '街区人口^3',\n",
       " '街区人口^2 平均入住率',\n",
       " '街区人口^2 街区的纬度',\n",
       " '街区人口^2 街区的经度',\n",
       " '街区人口 平均入住率^2',\n",
       " '街区人口 平均入住率 街区的纬度',\n",
       " '街区人口 平均入住率 街区的经度',\n",
       " '街区人口 街区的纬度^2',\n",
       " '街区人口 街区的纬度 街区的经度',\n",
       " '街区人口 街区的经度^2',\n",
       " '平均入住率^3',\n",
       " '平均入住率^2 街区的纬度',\n",
       " '平均入住率^2 街区的经度',\n",
       " '平均入住率 街区的纬度^2',\n",
       " '平均入住率 街区的纬度 街区的经度',\n",
       " '平均入住率 街区的经度^2',\n",
       " '街区的纬度^3',\n",
       " '街区的纬度^2 街区的经度',\n",
       " '街区的纬度 街区的经度^2',\n",
       " '街区的经度^3',\n",
       " '住户收入中位数^4',\n",
       " '住户收入中位数^3 房屋使用年代中位数',\n",
       " '住户收入中位数^3 平均房间数目',\n",
       " '住户收入中位数^3 平均卧室数目',\n",
       " '住户收入中位数^3 街区人口',\n",
       " '住户收入中位数^3 平均入住率',\n",
       " '住户收入中位数^3 街区的纬度',\n",
       " '住户收入中位数^3 街区的经度',\n",
       " '住户收入中位数^2 房屋使用年代中位数^2',\n",
       " '住户收入中位数^2 房屋使用年代中位数 平均房间数目',\n",
       " '住户收入中位数^2 房屋使用年代中位数 平均卧室数目',\n",
       " '住户收入中位数^2 房屋使用年代中位数 街区人口',\n",
       " '住户收入中位数^2 房屋使用年代中位数 平均入住率',\n",
       " '住户收入中位数^2 房屋使用年代中位数 街区的纬度',\n",
       " '住户收入中位数^2 房屋使用年代中位数 街区的经度',\n",
       " '住户收入中位数^2 平均房间数目^2',\n",
       " '住户收入中位数^2 平均房间数目 平均卧室数目',\n",
       " '住户收入中位数^2 平均房间数目 街区人口',\n",
       " '住户收入中位数^2 平均房间数目 平均入住率',\n",
       " '住户收入中位数^2 平均房间数目 街区的纬度',\n",
       " '住户收入中位数^2 平均房间数目 街区的经度',\n",
       " '住户收入中位数^2 平均卧室数目^2',\n",
       " '住户收入中位数^2 平均卧室数目 街区人口',\n",
       " '住户收入中位数^2 平均卧室数目 平均入住率',\n",
       " '住户收入中位数^2 平均卧室数目 街区的纬度',\n",
       " '住户收入中位数^2 平均卧室数目 街区的经度',\n",
       " '住户收入中位数^2 街区人口^2',\n",
       " '住户收入中位数^2 街区人口 平均入住率',\n",
       " '住户收入中位数^2 街区人口 街区的纬度',\n",
       " '住户收入中位数^2 街区人口 街区的经度',\n",
       " '住户收入中位数^2 平均入住率^2',\n",
       " '住户收入中位数^2 平均入住率 街区的纬度',\n",
       " '住户收入中位数^2 平均入住率 街区的经度',\n",
       " '住户收入中位数^2 街区的纬度^2',\n",
       " '住户收入中位数^2 街区的纬度 街区的经度',\n",
       " '住户收入中位数^2 街区的经度^2',\n",
       " '住户收入中位数 房屋使用年代中位数^3',\n",
       " '住户收入中位数 房屋使用年代中位数^2 平均房间数目',\n",
       " '住户收入中位数 房屋使用年代中位数^2 平均卧室数目',\n",
       " '住户收入中位数 房屋使用年代中位数^2 街区人口',\n",
       " '住户收入中位数 房屋使用年代中位数^2 平均入住率',\n",
       " '住户收入中位数 房屋使用年代中位数^2 街区的纬度',\n",
       " '住户收入中位数 房屋使用年代中位数^2 街区的经度',\n",
       " '住户收入中位数 房屋使用年代中位数 平均房间数目^2',\n",
       " '住户收入中位数 房屋使用年代中位数 平均房间数目 平均卧室数目',\n",
       " '住户收入中位数 房屋使用年代中位数 平均房间数目 街区人口',\n",
       " '住户收入中位数 房屋使用年代中位数 平均房间数目 平均入住率',\n",
       " '住户收入中位数 房屋使用年代中位数 平均房间数目 街区的纬度',\n",
       " '住户收入中位数 房屋使用年代中位数 平均房间数目 街区的经度',\n",
       " '住户收入中位数 房屋使用年代中位数 平均卧室数目^2',\n",
       " '住户收入中位数 房屋使用年代中位数 平均卧室数目 街区人口',\n",
       " '住户收入中位数 房屋使用年代中位数 平均卧室数目 平均入住率',\n",
       " '住户收入中位数 房屋使用年代中位数 平均卧室数目 街区的纬度',\n",
       " '住户收入中位数 房屋使用年代中位数 平均卧室数目 街区的经度',\n",
       " '住户收入中位数 房屋使用年代中位数 街区人口^2',\n",
       " '住户收入中位数 房屋使用年代中位数 街区人口 平均入住率',\n",
       " '住户收入中位数 房屋使用年代中位数 街区人口 街区的纬度',\n",
       " '住户收入中位数 房屋使用年代中位数 街区人口 街区的经度',\n",
       " '住户收入中位数 房屋使用年代中位数 平均入住率^2',\n",
       " '住户收入中位数 房屋使用年代中位数 平均入住率 街区的纬度',\n",
       " '住户收入中位数 房屋使用年代中位数 平均入住率 街区的经度',\n",
       " '住户收入中位数 房屋使用年代中位数 街区的纬度^2',\n",
       " '住户收入中位数 房屋使用年代中位数 街区的纬度 街区的经度',\n",
       " '住户收入中位数 房屋使用年代中位数 街区的经度^2',\n",
       " '住户收入中位数 平均房间数目^3',\n",
       " '住户收入中位数 平均房间数目^2 平均卧室数目',\n",
       " '住户收入中位数 平均房间数目^2 街区人口',\n",
       " '住户收入中位数 平均房间数目^2 平均入住率',\n",
       " '住户收入中位数 平均房间数目^2 街区的纬度',\n",
       " '住户收入中位数 平均房间数目^2 街区的经度',\n",
       " '住户收入中位数 平均房间数目 平均卧室数目^2',\n",
       " '住户收入中位数 平均房间数目 平均卧室数目 街区人口',\n",
       " '住户收入中位数 平均房间数目 平均卧室数目 平均入住率',\n",
       " '住户收入中位数 平均房间数目 平均卧室数目 街区的纬度',\n",
       " '住户收入中位数 平均房间数目 平均卧室数目 街区的经度',\n",
       " '住户收入中位数 平均房间数目 街区人口^2',\n",
       " '住户收入中位数 平均房间数目 街区人口 平均入住率',\n",
       " '住户收入中位数 平均房间数目 街区人口 街区的纬度',\n",
       " '住户收入中位数 平均房间数目 街区人口 街区的经度',\n",
       " '住户收入中位数 平均房间数目 平均入住率^2',\n",
       " '住户收入中位数 平均房间数目 平均入住率 街区的纬度',\n",
       " '住户收入中位数 平均房间数目 平均入住率 街区的经度',\n",
       " '住户收入中位数 平均房间数目 街区的纬度^2',\n",
       " '住户收入中位数 平均房间数目 街区的纬度 街区的经度',\n",
       " '住户收入中位数 平均房间数目 街区的经度^2',\n",
       " '住户收入中位数 平均卧室数目^3',\n",
       " '住户收入中位数 平均卧室数目^2 街区人口',\n",
       " '住户收入中位数 平均卧室数目^2 平均入住率',\n",
       " '住户收入中位数 平均卧室数目^2 街区的纬度',\n",
       " '住户收入中位数 平均卧室数目^2 街区的经度',\n",
       " '住户收入中位数 平均卧室数目 街区人口^2',\n",
       " '住户收入中位数 平均卧室数目 街区人口 平均入住率',\n",
       " '住户收入中位数 平均卧室数目 街区人口 街区的纬度',\n",
       " '住户收入中位数 平均卧室数目 街区人口 街区的经度',\n",
       " '住户收入中位数 平均卧室数目 平均入住率^2',\n",
       " '住户收入中位数 平均卧室数目 平均入住率 街区的纬度',\n",
       " '住户收入中位数 平均卧室数目 平均入住率 街区的经度',\n",
       " '住户收入中位数 平均卧室数目 街区的纬度^2',\n",
       " '住户收入中位数 平均卧室数目 街区的纬度 街区的经度',\n",
       " '住户收入中位数 平均卧室数目 街区的经度^2',\n",
       " '住户收入中位数 街区人口^3',\n",
       " '住户收入中位数 街区人口^2 平均入住率',\n",
       " '住户收入中位数 街区人口^2 街区的纬度',\n",
       " '住户收入中位数 街区人口^2 街区的经度',\n",
       " '住户收入中位数 街区人口 平均入住率^2',\n",
       " '住户收入中位数 街区人口 平均入住率 街区的纬度',\n",
       " '住户收入中位数 街区人口 平均入住率 街区的经度',\n",
       " '住户收入中位数 街区人口 街区的纬度^2',\n",
       " '住户收入中位数 街区人口 街区的纬度 街区的经度',\n",
       " '住户收入中位数 街区人口 街区的经度^2',\n",
       " '住户收入中位数 平均入住率^3',\n",
       " '住户收入中位数 平均入住率^2 街区的纬度',\n",
       " '住户收入中位数 平均入住率^2 街区的经度',\n",
       " '住户收入中位数 平均入住率 街区的纬度^2',\n",
       " '住户收入中位数 平均入住率 街区的纬度 街区的经度',\n",
       " '住户收入中位数 平均入住率 街区的经度^2',\n",
       " '住户收入中位数 街区的纬度^3',\n",
       " '住户收入中位数 街区的纬度^2 街区的经度',\n",
       " '住户收入中位数 街区的纬度 街区的经度^2',\n",
       " '住户收入中位数 街区的经度^3',\n",
       " '房屋使用年代中位数^4',\n",
       " '房屋使用年代中位数^3 平均房间数目',\n",
       " '房屋使用年代中位数^3 平均卧室数目',\n",
       " '房屋使用年代中位数^3 街区人口',\n",
       " '房屋使用年代中位数^3 平均入住率',\n",
       " '房屋使用年代中位数^3 街区的纬度',\n",
       " '房屋使用年代中位数^3 街区的经度',\n",
       " '房屋使用年代中位数^2 平均房间数目^2',\n",
       " '房屋使用年代中位数^2 平均房间数目 平均卧室数目',\n",
       " '房屋使用年代中位数^2 平均房间数目 街区人口',\n",
       " '房屋使用年代中位数^2 平均房间数目 平均入住率',\n",
       " '房屋使用年代中位数^2 平均房间数目 街区的纬度',\n",
       " '房屋使用年代中位数^2 平均房间数目 街区的经度',\n",
       " '房屋使用年代中位数^2 平均卧室数目^2',\n",
       " '房屋使用年代中位数^2 平均卧室数目 街区人口',\n",
       " '房屋使用年代中位数^2 平均卧室数目 平均入住率',\n",
       " '房屋使用年代中位数^2 平均卧室数目 街区的纬度',\n",
       " '房屋使用年代中位数^2 平均卧室数目 街区的经度',\n",
       " '房屋使用年代中位数^2 街区人口^2',\n",
       " '房屋使用年代中位数^2 街区人口 平均入住率',\n",
       " '房屋使用年代中位数^2 街区人口 街区的纬度',\n",
       " '房屋使用年代中位数^2 街区人口 街区的经度',\n",
       " '房屋使用年代中位数^2 平均入住率^2',\n",
       " '房屋使用年代中位数^2 平均入住率 街区的纬度',\n",
       " '房屋使用年代中位数^2 平均入住率 街区的经度',\n",
       " '房屋使用年代中位数^2 街区的纬度^2',\n",
       " '房屋使用年代中位数^2 街区的纬度 街区的经度',\n",
       " '房屋使用年代中位数^2 街区的经度^2',\n",
       " '房屋使用年代中位数 平均房间数目^3',\n",
       " '房屋使用年代中位数 平均房间数目^2 平均卧室数目',\n",
       " '房屋使用年代中位数 平均房间数目^2 街区人口',\n",
       " '房屋使用年代中位数 平均房间数目^2 平均入住率',\n",
       " '房屋使用年代中位数 平均房间数目^2 街区的纬度',\n",
       " '房屋使用年代中位数 平均房间数目^2 街区的经度',\n",
       " '房屋使用年代中位数 平均房间数目 平均卧室数目^2',\n",
       " '房屋使用年代中位数 平均房间数目 平均卧室数目 街区人口',\n",
       " '房屋使用年代中位数 平均房间数目 平均卧室数目 平均入住率',\n",
       " '房屋使用年代中位数 平均房间数目 平均卧室数目 街区的纬度',\n",
       " '房屋使用年代中位数 平均房间数目 平均卧室数目 街区的经度',\n",
       " '房屋使用年代中位数 平均房间数目 街区人口^2',\n",
       " '房屋使用年代中位数 平均房间数目 街区人口 平均入住率',\n",
       " '房屋使用年代中位数 平均房间数目 街区人口 街区的纬度',\n",
       " '房屋使用年代中位数 平均房间数目 街区人口 街区的经度',\n",
       " '房屋使用年代中位数 平均房间数目 平均入住率^2',\n",
       " '房屋使用年代中位数 平均房间数目 平均入住率 街区的纬度',\n",
       " '房屋使用年代中位数 平均房间数目 平均入住率 街区的经度',\n",
       " '房屋使用年代中位数 平均房间数目 街区的纬度^2',\n",
       " '房屋使用年代中位数 平均房间数目 街区的纬度 街区的经度',\n",
       " '房屋使用年代中位数 平均房间数目 街区的经度^2',\n",
       " '房屋使用年代中位数 平均卧室数目^3',\n",
       " '房屋使用年代中位数 平均卧室数目^2 街区人口',\n",
       " '房屋使用年代中位数 平均卧室数目^2 平均入住率',\n",
       " '房屋使用年代中位数 平均卧室数目^2 街区的纬度',\n",
       " '房屋使用年代中位数 平均卧室数目^2 街区的经度',\n",
       " '房屋使用年代中位数 平均卧室数目 街区人口^2',\n",
       " '房屋使用年代中位数 平均卧室数目 街区人口 平均入住率',\n",
       " '房屋使用年代中位数 平均卧室数目 街区人口 街区的纬度',\n",
       " '房屋使用年代中位数 平均卧室数目 街区人口 街区的经度',\n",
       " '房屋使用年代中位数 平均卧室数目 平均入住率^2',\n",
       " '房屋使用年代中位数 平均卧室数目 平均入住率 街区的纬度',\n",
       " '房屋使用年代中位数 平均卧室数目 平均入住率 街区的经度',\n",
       " '房屋使用年代中位数 平均卧室数目 街区的纬度^2',\n",
       " '房屋使用年代中位数 平均卧室数目 街区的纬度 街区的经度',\n",
       " '房屋使用年代中位数 平均卧室数目 街区的经度^2',\n",
       " '房屋使用年代中位数 街区人口^3',\n",
       " '房屋使用年代中位数 街区人口^2 平均入住率',\n",
       " '房屋使用年代中位数 街区人口^2 街区的纬度',\n",
       " '房屋使用年代中位数 街区人口^2 街区的经度',\n",
       " '房屋使用年代中位数 街区人口 平均入住率^2',\n",
       " '房屋使用年代中位数 街区人口 平均入住率 街区的纬度',\n",
       " '房屋使用年代中位数 街区人口 平均入住率 街区的经度',\n",
       " '房屋使用年代中位数 街区人口 街区的纬度^2',\n",
       " '房屋使用年代中位数 街区人口 街区的纬度 街区的经度',\n",
       " '房屋使用年代中位数 街区人口 街区的经度^2',\n",
       " '房屋使用年代中位数 平均入住率^3',\n",
       " '房屋使用年代中位数 平均入住率^2 街区的纬度',\n",
       " '房屋使用年代中位数 平均入住率^2 街区的经度',\n",
       " '房屋使用年代中位数 平均入住率 街区的纬度^2',\n",
       " '房屋使用年代中位数 平均入住率 街区的纬度 街区的经度',\n",
       " '房屋使用年代中位数 平均入住率 街区的经度^2',\n",
       " '房屋使用年代中位数 街区的纬度^3',\n",
       " '房屋使用年代中位数 街区的纬度^2 街区的经度',\n",
       " '房屋使用年代中位数 街区的纬度 街区的经度^2',\n",
       " '房屋使用年代中位数 街区的经度^3',\n",
       " '平均房间数目^4',\n",
       " '平均房间数目^3 平均卧室数目',\n",
       " '平均房间数目^3 街区人口',\n",
       " '平均房间数目^3 平均入住率',\n",
       " '平均房间数目^3 街区的纬度',\n",
       " '平均房间数目^3 街区的经度',\n",
       " '平均房间数目^2 平均卧室数目^2',\n",
       " '平均房间数目^2 平均卧室数目 街区人口',\n",
       " '平均房间数目^2 平均卧室数目 平均入住率',\n",
       " '平均房间数目^2 平均卧室数目 街区的纬度',\n",
       " '平均房间数目^2 平均卧室数目 街区的经度',\n",
       " '平均房间数目^2 街区人口^2',\n",
       " '平均房间数目^2 街区人口 平均入住率',\n",
       " '平均房间数目^2 街区人口 街区的纬度',\n",
       " '平均房间数目^2 街区人口 街区的经度',\n",
       " '平均房间数目^2 平均入住率^2',\n",
       " '平均房间数目^2 平均入住率 街区的纬度',\n",
       " '平均房间数目^2 平均入住率 街区的经度',\n",
       " '平均房间数目^2 街区的纬度^2',\n",
       " '平均房间数目^2 街区的纬度 街区的经度',\n",
       " '平均房间数目^2 街区的经度^2',\n",
       " '平均房间数目 平均卧室数目^3',\n",
       " '平均房间数目 平均卧室数目^2 街区人口',\n",
       " '平均房间数目 平均卧室数目^2 平均入住率',\n",
       " '平均房间数目 平均卧室数目^2 街区的纬度',\n",
       " '平均房间数目 平均卧室数目^2 街区的经度',\n",
       " '平均房间数目 平均卧室数目 街区人口^2',\n",
       " '平均房间数目 平均卧室数目 街区人口 平均入住率',\n",
       " '平均房间数目 平均卧室数目 街区人口 街区的纬度',\n",
       " '平均房间数目 平均卧室数目 街区人口 街区的经度',\n",
       " '平均房间数目 平均卧室数目 平均入住率^2',\n",
       " '平均房间数目 平均卧室数目 平均入住率 街区的纬度',\n",
       " '平均房间数目 平均卧室数目 平均入住率 街区的经度',\n",
       " '平均房间数目 平均卧室数目 街区的纬度^2',\n",
       " '平均房间数目 平均卧室数目 街区的纬度 街区的经度',\n",
       " '平均房间数目 平均卧室数目 街区的经度^2',\n",
       " '平均房间数目 街区人口^3',\n",
       " '平均房间数目 街区人口^2 平均入住率',\n",
       " '平均房间数目 街区人口^2 街区的纬度',\n",
       " '平均房间数目 街区人口^2 街区的经度',\n",
       " '平均房间数目 街区人口 平均入住率^2',\n",
       " '平均房间数目 街区人口 平均入住率 街区的纬度',\n",
       " '平均房间数目 街区人口 平均入住率 街区的经度',\n",
       " '平均房间数目 街区人口 街区的纬度^2',\n",
       " '平均房间数目 街区人口 街区的纬度 街区的经度',\n",
       " '平均房间数目 街区人口 街区的经度^2',\n",
       " '平均房间数目 平均入住率^3',\n",
       " '平均房间数目 平均入住率^2 街区的纬度',\n",
       " '平均房间数目 平均入住率^2 街区的经度',\n",
       " '平均房间数目 平均入住率 街区的纬度^2',\n",
       " '平均房间数目 平均入住率 街区的纬度 街区的经度',\n",
       " '平均房间数目 平均入住率 街区的经度^2',\n",
       " '平均房间数目 街区的纬度^3',\n",
       " '平均房间数目 街区的纬度^2 街区的经度',\n",
       " '平均房间数目 街区的纬度 街区的经度^2',\n",
       " '平均房间数目 街区的经度^3',\n",
       " '平均卧室数目^4',\n",
       " '平均卧室数目^3 街区人口',\n",
       " '平均卧室数目^3 平均入住率',\n",
       " '平均卧室数目^3 街区的纬度',\n",
       " '平均卧室数目^3 街区的经度',\n",
       " '平均卧室数目^2 街区人口^2',\n",
       " '平均卧室数目^2 街区人口 平均入住率',\n",
       " '平均卧室数目^2 街区人口 街区的纬度',\n",
       " '平均卧室数目^2 街区人口 街区的经度',\n",
       " '平均卧室数目^2 平均入住率^2',\n",
       " '平均卧室数目^2 平均入住率 街区的纬度',\n",
       " '平均卧室数目^2 平均入住率 街区的经度',\n",
       " '平均卧室数目^2 街区的纬度^2',\n",
       " '平均卧室数目^2 街区的纬度 街区的经度',\n",
       " '平均卧室数目^2 街区的经度^2',\n",
       " '平均卧室数目 街区人口^3',\n",
       " '平均卧室数目 街区人口^2 平均入住率',\n",
       " '平均卧室数目 街区人口^2 街区的纬度',\n",
       " '平均卧室数目 街区人口^2 街区的经度',\n",
       " '平均卧室数目 街区人口 平均入住率^2',\n",
       " '平均卧室数目 街区人口 平均入住率 街区的纬度',\n",
       " '平均卧室数目 街区人口 平均入住率 街区的经度',\n",
       " '平均卧室数目 街区人口 街区的纬度^2',\n",
       " '平均卧室数目 街区人口 街区的纬度 街区的经度',\n",
       " '平均卧室数目 街区人口 街区的经度^2',\n",
       " '平均卧室数目 平均入住率^3',\n",
       " '平均卧室数目 平均入住率^2 街区的纬度',\n",
       " '平均卧室数目 平均入住率^2 街区的经度',\n",
       " '平均卧室数目 平均入住率 街区的纬度^2',\n",
       " '平均卧室数目 平均入住率 街区的纬度 街区的经度',\n",
       " '平均卧室数目 平均入住率 街区的经度^2',\n",
       " '平均卧室数目 街区的纬度^3',\n",
       " '平均卧室数目 街区的纬度^2 街区的经度',\n",
       " '平均卧室数目 街区的纬度 街区的经度^2',\n",
       " '平均卧室数目 街区的经度^3',\n",
       " '街区人口^4',\n",
       " '街区人口^3 平均入住率',\n",
       " '街区人口^3 街区的纬度',\n",
       " '街区人口^3 街区的经度',\n",
       " '街区人口^2 平均入住率^2',\n",
       " '街区人口^2 平均入住率 街区的纬度',\n",
       " '街区人口^2 平均入住率 街区的经度',\n",
       " '街区人口^2 街区的纬度^2',\n",
       " '街区人口^2 街区的纬度 街区的经度',\n",
       " '街区人口^2 街区的经度^2',\n",
       " '街区人口 平均入住率^3',\n",
       " '街区人口 平均入住率^2 街区的纬度',\n",
       " '街区人口 平均入住率^2 街区的经度',\n",
       " '街区人口 平均入住率 街区的纬度^2',\n",
       " '街区人口 平均入住率 街区的纬度 街区的经度',\n",
       " '街区人口 平均入住率 街区的经度^2',\n",
       " '街区人口 街区的纬度^3',\n",
       " '街区人口 街区的纬度^2 街区的经度',\n",
       " '街区人口 街区的纬度 街区的经度^2',\n",
       " '街区人口 街区的经度^3',\n",
       " '平均入住率^4',\n",
       " '平均入住率^3 街区的纬度',\n",
       " '平均入住率^3 街区的经度',\n",
       " '平均入住率^2 街区的纬度^2',\n",
       " '平均入住率^2 街区的纬度 街区的经度',\n",
       " '平均入住率^2 街区的经度^2',\n",
       " '平均入住率 街区的纬度^3',\n",
       " '平均入住率 街区的纬度^2 街区的经度',\n",
       " '平均入住率 街区的纬度 街区的经度^2',\n",
       " '平均入住率 街区的经度^3',\n",
       " '街区的纬度^4',\n",
       " '街区的纬度^3 街区的经度',\n",
       " '街区的纬度^2 街区的经度^2',\n",
       " '街区的纬度 街区的经度^3',\n",
       " '街区的经度^4']"
      ]
     },
     "execution_count": 131,
     "metadata": {},
     "output_type": "execute_result"
    }
   ],
   "source": [
    "poly = PolynomialFeatures(degree=4).fit(X,y)\n",
    "\n",
    "poly.get_feature_names(X.columns)"
   ]
  },
  {
   "cell_type": "code",
   "execution_count": 132,
   "id": "0c31558a-168f-425d-b378-1831e6b06967",
   "metadata": {
    "scrolled": true,
    "tags": []
   },
   "outputs": [
    {
     "data": {
      "text/plain": [
       "array([ 3.10531006e-04,  1.15013453e-05, -4.62410864e-07, -7.62425210e-08,\n",
       "       -1.91767405e-07, -5.22849357e-05,  1.24168406e-07,  3.02804703e-07,\n",
       "        3.83639530e-08, -8.91730044e-06, -1.15463672e-05, -1.93212147e-05,\n",
       "       -2.63542359e-06, -2.33966502e-05,  2.44085402e-06, -2.03958154e-07,\n",
       "        8.05184633e-06, -2.12940817e-05,  8.44782837e-06, -7.59448871e-06,\n",
       "       -7.52412859e-04,  3.49827618e-05,  4.93216886e-06,  5.32599900e-05,\n",
       "       -1.19882405e-05,  3.14489816e-06, -1.28328589e-04, -5.34392515e-06,\n",
       "        1.00045367e-07,  3.03945492e-07,  1.83513500e-06, -3.97648573e-05,\n",
       "       -1.30104839e-06, -1.65957429e-06,  1.13155588e-05,  2.44083858e-05,\n",
       "       -4.94427644e-05, -7.00032929e-04,  2.09165626e-03, -7.61088573e-06,\n",
       "       -9.74006971e-07, -4.60292556e-06, -4.37693283e-06, -2.42886336e-05,\n",
       "       -6.47153799e-06, -8.45851580e-05, -1.55933936e-04, -9.05001607e-05,\n",
       "       -1.23982365e-05,  6.27317137e-04,  3.38804414e-05, -1.72968243e-04,\n",
       "        5.38804641e-04, -4.46183002e-04, -2.21503940e-04, -3.06064756e-05,\n",
       "        1.20522721e-04,  6.43379496e-05, -1.13328168e-04,  5.97448589e-04,\n",
       "       -1.83412474e-04, -2.06441453e-05, -7.12976054e-04, -1.82986605e-05,\n",
       "       -3.32660361e-04,  1.15122028e-03, -1.52078049e-05, -1.03809145e-04,\n",
       "       -6.04965261e-07, -4.53428650e-05,  1.52774047e-04,  7.61114578e-07,\n",
       "        1.38399366e-03, -9.56022054e-04, -1.96663270e-04,  2.26258684e-05,\n",
       "        4.81240977e-05, -1.48295359e-04, -1.41062582e-07, -1.04551278e-05,\n",
       "       -3.76921005e-04, -6.24402882e-04,  3.16169208e-04, -2.04843756e-04,\n",
       "        2.05124717e-05,  9.90714043e-04,  7.98501701e-04, -1.02955958e-04,\n",
       "       -1.26120093e-04, -3.88746809e-05, -7.37173760e-05,  1.94959172e-05,\n",
       "        1.79643943e-04, -6.14881956e-04, -1.38064370e-05,  1.14330648e-03,\n",
       "       -8.39407317e-06, -1.25821426e-04,  4.20540604e-04,  7.73672558e-08,\n",
       "       -8.68487132e-05, -1.86308585e-04, -5.12725301e-05,  1.84722166e-05,\n",
       "        6.49179318e-04, -2.15191130e-03,  2.84208733e-04, -9.67878983e-04,\n",
       "       -5.04369158e-04,  6.43295964e-04,  2.22228392e-04,  8.80172882e-05,\n",
       "       -7.12292525e-05, -1.88465683e-04,  7.23605846e-04,  6.79421922e-05,\n",
       "        6.29077029e-05, -8.83541079e-06,  6.72997074e-05, -1.88905802e-04,\n",
       "       -1.37307884e-06, -6.00456245e-04,  1.09275378e-03,  2.37149318e-04,\n",
       "       -3.79744707e-05, -1.01293164e-04,  3.17682793e-04,  2.23641656e-05,\n",
       "       -3.61196681e-05,  8.31850889e-05,  8.52189180e-06,  4.78845595e-05,\n",
       "        2.10705618e-05,  2.94758288e-05, -1.12593656e-04,  1.29689791e-05,\n",
       "       -1.80792673e-04,  2.17935328e-04,  4.91662947e-04, -1.25207039e-05,\n",
       "       -2.88140315e-05,  7.57786479e-05,  1.76032930e-06,  7.00055497e-05,\n",
       "       -5.79048791e-04,  9.17370602e-11,  1.82748579e-06, -4.57398807e-08,\n",
       "        5.35380694e-07, -3.43053295e-05, -1.60504891e-03, -3.89670624e-04,\n",
       "        1.59176785e-03,  9.59322548e-04,  1.88319675e-04, -1.14506216e-04,\n",
       "       -1.34863826e-04,  4.42668916e-04, -9.64088012e-05,  7.53934049e-05,\n",
       "        2.46288704e-04, -4.54073123e-04,  4.14999427e-04,  1.16428579e-03,\n",
       "        4.16307561e-04,  3.72333822e-04,  1.26035275e-04, -1.19749156e-03,\n",
       "        2.86566544e-03, -4.89558121e-07, -7.74802654e-05,  6.54712194e-04,\n",
       "        2.93076377e-04, -8.82253214e-06, -3.36383339e-05, -1.03902071e-03,\n",
       "       -7.79452707e-07, -4.82129918e-05,  1.09561046e-04,  4.47185746e-05,\n",
       "        2.07327095e-04, -6.80639220e-04,  3.60231739e-06,  2.10389387e-03,\n",
       "       -7.48216867e-04, -4.15927289e-04, -7.35312284e-04, -6.31342233e-05,\n",
       "        3.69549391e-04, -7.04791105e-04,  2.89194859e-04,  3.19310337e-09,\n",
       "        8.16819622e-06,  1.24242340e-05,  8.75022974e-06, -1.85156646e-03,\n",
       "       -1.82690599e-03, -6.68989978e-04,  6.28007716e-04,  4.96900652e-04,\n",
       "        1.03519352e-04,  6.29758427e-06,  3.96049154e-05,  1.13014066e-04,\n",
       "        4.23937952e-08,  6.47352296e-05,  4.95338250e-07,  5.92499636e-06,\n",
       "       -3.15219296e-04,  1.18944157e-03,  2.56277092e-06,  1.10770315e-03,\n",
       "        5.01511728e-04,  1.58422470e-04,  4.47385627e-04, -1.73020865e-05,\n",
       "       -8.72082640e-04, -4.93352521e-04, -7.25255604e-05, -4.34451259e-10,\n",
       "       -2.80004880e-06,  5.32460722e-07,  9.99372312e-07,  4.13115128e-04,\n",
       "       -1.65274686e-04,  6.17107810e-05, -6.81891211e-04, -3.59036522e-04,\n",
       "       -3.55665035e-05,  2.11362956e-04, -4.06275328e-04, -7.34682932e-06,\n",
       "       -5.38146748e-04,  2.05768485e-04,  1.85627138e-04, -2.62233101e-04,\n",
       "        8.01705872e-05, -1.42033515e-04,  5.38620694e-04, -5.96408562e-04,\n",
       "       -7.54403214e-09, -1.56936114e-05, -1.59629021e-05, -1.08503070e-05,\n",
       "       -2.08002756e-03, -7.89737312e-04,  1.43248528e-04, -1.08832425e-03,\n",
       "       -6.91923570e-04, -9.80599409e-05, -1.60565188e-04, -3.47178676e-04,\n",
       "        6.04975818e-05, -1.90239508e-04,  1.31532685e-03,  4.69543018e-09,\n",
       "        2.01726831e-04,  1.84157310e-05, -7.17956800e-07,  1.57210430e-04,\n",
       "       -1.86634242e-05, -2.65371511e-04, -5.68170050e-04,  4.06802336e-04,\n",
       "        2.11640534e-04,  2.30232931e-12,  1.26675117e-09,  1.17609625e-08,\n",
       "        1.01110223e-08,  7.56944331e-06,  2.57209130e-05,  2.11438503e-05,\n",
       "        5.96585484e-06, -2.66497467e-06, -6.00670973e-07,  8.56197078e-05,\n",
       "       -1.07479962e-03, -5.39630634e-04, -3.07322090e-05, -3.54751927e-04,\n",
       "       -1.01757810e-04,  9.78863301e-04,  8.13506001e-04,  2.34764698e-04,\n",
       "        2.12054011e-05,  6.23465888e-07, -2.22761397e-06, -4.07279190e-05,\n",
       "        1.13402301e-08, -3.97510497e-07, -9.99247830e-06, -7.83972041e-06,\n",
       "        1.41490956e-05, -2.73970560e-04,  1.44213045e-07,  1.67137084e-05,\n",
       "       -5.34081351e-05, -1.39269747e-05,  9.41073594e-04, -3.01184738e-06,\n",
       "        1.19953260e-04,  3.96650039e-04,  8.75334609e-05,  2.27728465e-11,\n",
       "       -1.24942832e-08,  1.02117534e-07,  1.89414670e-07,  1.73643328e-05,\n",
       "        5.21700473e-05,  2.71403449e-05, -5.08210342e-05, -2.92013793e-05,\n",
       "       -6.90686016e-06,  1.45692767e-04, -1.20679975e-03, -1.41610535e-06,\n",
       "        1.56535806e-04, -2.84217816e-04, -7.92968101e-05,  2.47401092e-03,\n",
       "        6.69420980e-06, -7.34483613e-04,  1.44592504e-03,  2.91344121e-04,\n",
       "        1.15289610e-09,  6.54294541e-06, -8.64109071e-07, -5.79826024e-07,\n",
       "       -1.37134980e-04,  1.21174353e-03,  4.23321523e-04,  4.73077730e-04,\n",
       "        2.72332626e-04,  3.43938879e-05,  1.22990205e-03, -1.44111107e-05,\n",
       "        5.04596898e-04,  1.48270348e-04,  6.46197472e-04, -1.64194231e-08,\n",
       "       -2.59179205e-05,  2.45891557e-05,  1.42339982e-05,  4.15046367e-03,\n",
       "        1.10473790e-04,  1.79592314e-04,  7.73533466e-04,  8.47709784e-04,\n",
       "        1.86096883e-04, -3.12953111e-14,  4.35056190e-11, -3.14305693e-10,\n",
       "        4.56591754e-10, -2.06073073e-09, -2.58070970e-06, -1.54765847e-06,\n",
       "       -3.38687221e-06, -3.44811629e-06, -6.49978538e-07, -1.36410292e-04,\n",
       "       -3.96507944e-04, -9.41788487e-05, -1.16991673e-03, -7.02704948e-04,\n",
       "       -1.21021726e-04,  1.82431560e-04,  9.95783693e-05,  5.90386865e-07,\n",
       "       -5.31716174e-06, -1.04644413e-05,  1.08144212e-04,  1.56966168e-06,\n",
       "        8.42943983e-04,  1.33439895e-04,  8.53167085e-05, -2.07580930e-04,\n",
       "       -2.78489999e-05, -3.75889934e-03, -9.91926795e-04, -4.31884665e-04,\n",
       "        7.72378247e-09,  3.52758351e-05,  4.76913633e-06,  2.97319704e-06,\n",
       "       -7.41531742e-04,  9.07669874e-04,  2.97143097e-04,  8.59223221e-05,\n",
       "        9.89710780e-05,  3.96577042e-05, -3.47004063e-04,  1.78113046e-04,\n",
       "       -1.33566540e-03, -3.65588418e-04, -5.50168805e-04, -1.10711520e-07,\n",
       "       -3.53381107e-04, -9.18634229e-05, -3.50654825e-05,  1.91793310e-04,\n",
       "       -1.62425566e-04,  2.42267842e-04,  6.13282839e-04, -1.18892789e-04,\n",
       "       -1.66319914e-04, -3.79300275e-12, -3.46853310e-10, -2.79818988e-08,\n",
       "       -2.06642748e-08, -1.09782072e-05, -2.77562322e-05, -1.37445389e-05,\n",
       "       -1.45178529e-05, -2.68299250e-06, -2.44426402e-07,  9.02058888e-04,\n",
       "        7.12341868e-04,  2.32792717e-04, -6.18587727e-04,  1.23572855e-05,\n",
       "        8.61366934e-05, -2.57284519e-03, -2.45050875e-03, -7.80294187e-04,\n",
       "       -8.17453135e-05, -2.18914794e-04, -3.60012397e-04, -3.64570857e-04,\n",
       "       -5.45119788e-04,  1.09253496e-03,  4.02268889e-07,  1.21058471e-03,\n",
       "        3.99656979e-04,  1.44586821e-04,  4.38018229e-05,  6.91853972e-04,\n",
       "       -2.55327798e-03, -3.88075520e-04,  8.05586783e-04,  3.95053500e-04,\n",
       "        3.89794654e-11,  1.51830636e-07,  2.52906274e-07,  1.93068468e-07,\n",
       "        5.65435700e-05,  2.77196341e-04,  9.60270088e-05,  5.58223611e-05,\n",
       "        5.73269207e-05,  1.58071736e-05, -2.02315573e-03,  1.35674690e-04,\n",
       "        2.11240589e-04, -4.49240834e-04,  6.26469809e-04,  1.86898724e-04,\n",
       "       -4.65766299e-04,  3.97923349e-05,  2.43457542e-04,  5.14965920e-05,\n",
       "        2.30853748e-16,  8.88855987e-13,  1.66531550e-12,  1.58440650e-12,\n",
       "       -7.94161748e-09,  2.37920798e-08,  2.33052390e-08, -1.27164421e-09,\n",
       "        9.41164498e-10,  3.33095888e-09,  6.71412099e-07, -5.28341563e-06,\n",
       "       -1.79925177e-06,  4.25909558e-06, -8.42398004e-06, -2.06164111e-06,\n",
       "        1.37132184e-05,  2.56478798e-05,  1.18951663e-05,  1.83631351e-06,\n",
       "        1.63096759e-06,  5.09433244e-04,  1.85586982e-04,  2.37782832e-04,\n",
       "        3.82319560e-05, -4.36198646e-07,  5.59715904e-04,  1.67807276e-04,\n",
       "       -3.92947252e-05, -9.23469787e-06, -8.70987614e-03, -1.07655940e-02,\n",
       "       -4.98480857e-03, -1.01751641e-03, -7.59924023e-05])"
      ]
     },
     "execution_count": 132,
     "metadata": {},
     "output_type": "execute_result"
    }
   ],
   "source": [
    "X_ = poly.transform(X)\n",
    "reg = LinearRegression().fit(X_,y)\n",
    "coef = reg.coef_\n",
    "coef"
   ]
  },
  {
   "cell_type": "code",
   "execution_count": 133,
   "id": "77b9153a-0586-4648-aa01-c62e7ca4604b",
   "metadata": {
    "scrolled": true,
    "tags": []
   },
   "outputs": [
    {
     "name": "stderr",
     "output_type": "stream",
     "text": [
      "C:\\ProgramData\\Anaconda3\\lib\\site-packages\\sklearn\\utils\\deprecation.py:87: FutureWarning: Function get_feature_names is deprecated; get_feature_names is deprecated in 1.0 and will be removed in 1.2. Please use get_feature_names_out instead.\n",
      "  warnings.warn(msg, category=FutureWarning)\n"
     ]
    },
    {
     "data": {
      "text/plain": [
       "[('1', 0.00031053100567372376),\n",
       " ('住户收入中位数', 1.1501345286204895e-05),\n",
       " ('房屋使用年代中位数', -4.624108636776698e-07),\n",
       " ('平均房间数目', -7.624252095910431e-08),\n",
       " ('平均卧室数目', -1.9176740488473108e-07),\n",
       " ('街区人口', -5.2284935722580755e-05),\n",
       " ('平均入住率', 1.2416840603455947e-07),\n",
       " ('街区的纬度', 3.028047033368794e-07),\n",
       " ('街区的经度', 3.836395300586163e-08),\n",
       " ('住户收入中位数^2', -8.917300439034329e-06),\n",
       " ('住户收入中位数 房屋使用年代中位数', -1.1546367216825562e-05),\n",
       " ('住户收入中位数 平均房间数目', -1.9321214692787667e-05),\n",
       " ('住户收入中位数 平均卧室数目', -2.635423589560063e-06),\n",
       " ('住户收入中位数 街区人口', -2.3396650157354526e-05),\n",
       " ('住户收入中位数 平均入住率', 2.4408540166196536e-06),\n",
       " ('住户收入中位数 街区的纬度', -2.0395815438437207e-07),\n",
       " ('住户收入中位数 街区的经度', 8.051846325935085e-06),\n",
       " ('房屋使用年代中位数^2', -2.129408167564053e-05),\n",
       " ('房屋使用年代中位数 平均房间数目', 8.447828374969907e-06),\n",
       " ('房屋使用年代中位数 平均卧室数目', -7.594488708908304e-06),\n",
       " ('房屋使用年代中位数 街区人口', -0.0007524128585868796),\n",
       " ('房屋使用年代中位数 平均入住率', 3.498276183024343e-05),\n",
       " ('房屋使用年代中位数 街区的纬度', 4.932168861894222e-06),\n",
       " ('房屋使用年代中位数 街区的经度', 5.3259989963471034e-05),\n",
       " ('平均房间数目^2', -1.1988240497381329e-05),\n",
       " ('平均房间数目 平均卧室数目', 3.144898161253169e-06),\n",
       " ('平均房间数目 街区人口', -0.00012832858851834396),\n",
       " ('平均房间数目 平均入住率', -5.343925147801163e-06),\n",
       " ('平均房间数目 街区的纬度', 1.0004536665916038e-07),\n",
       " ('平均房间数目 街区的经度', 3.0394549177227797e-07),\n",
       " ('平均卧室数目^2', 1.8351349981976855e-06),\n",
       " ('平均卧室数目 街区人口', -3.976485730252761e-05),\n",
       " ('平均卧室数目 平均入住率', -1.3010483872982162e-06),\n",
       " ('平均卧室数目 街区的纬度', -1.6595742914086311e-06),\n",
       " ('平均卧室数目 街区的经度', 1.131555879989131e-05),\n",
       " ('街区人口^2', 2.4408385812253375e-05),\n",
       " ('街区人口 平均入住率', -4.944276444914866e-05),\n",
       " ('街区人口 街区的纬度', -0.0007000329285506129),\n",
       " ('街区人口 街区的经度', 0.0020916562601644307),\n",
       " ('平均入住率^2', -7.610885731491041e-06),\n",
       " ('平均入住率 街区的纬度', -9.740069705953896e-07),\n",
       " ('平均入住率 街区的经度', -4.602925558032018e-06),\n",
       " ('街区的纬度^2', -4.376932827698954e-06),\n",
       " ('街区的纬度 街区的经度', -2.428863358155354e-05),\n",
       " ('街区的经度^2', -6.4715379899796235e-06),\n",
       " ('住户收入中位数^3', -8.458515803043457e-05),\n",
       " ('住户收入中位数^2 房屋使用年代中位数', -0.00015593393620048562),\n",
       " ('住户收入中位数^2 平均房间数目', -9.05001606877544e-05),\n",
       " ('住户收入中位数^2 平均卧室数目', -1.2398236528471523e-05),\n",
       " ('住户收入中位数^2 街区人口', 0.0006273171371214161),\n",
       " ('住户收入中位数^2 平均入住率', 3.3880441400149254e-05),\n",
       " ('住户收入中位数^2 街区的纬度', -0.0001729682431606363),\n",
       " ('住户收入中位数^2 街区的经度', 0.0005388046413399276),\n",
       " ('住户收入中位数 房屋使用年代中位数^2', -0.00044618300229493253),\n",
       " ('住户收入中位数 房屋使用年代中位数 平均房间数目', -0.00022150393991237578),\n",
       " ('住户收入中位数 房屋使用年代中位数 平均卧室数目', -3.06064756122271e-05),\n",
       " ('住户收入中位数 房屋使用年代中位数 街区人口', 0.00012052272066495337),\n",
       " ('住户收入中位数 房屋使用年代中位数 平均入住率', 6.433794964393108e-05),\n",
       " ('住户收入中位数 房屋使用年代中位数 街区的纬度', -0.0001133281679246699),\n",
       " ('住户收入中位数 房屋使用年代中位数 街区的经度', 0.0005974485890820381),\n",
       " ('住户收入中位数 平均房间数目^2', -0.00018341247370239468),\n",
       " ('住户收入中位数 平均房间数目 平均卧室数目', -2.0644145284562322e-05),\n",
       " ('住户收入中位数 平均房间数目 街区人口', -0.0007129760538294406),\n",
       " ('住户收入中位数 平均房间数目 平均入住率', -1.8298660504003284e-05),\n",
       " ('住户收入中位数 平均房间数目 街区的纬度', -0.00033266036099094176),\n",
       " ('住户收入中位数 平均房间数目 街区的经度', 0.0011512202821188776),\n",
       " ('住户收入中位数 平均卧室数目^2', -1.5207804906754673e-05),\n",
       " ('住户收入中位数 平均卧室数目 街区人口', -0.00010380914488640551),\n",
       " ('住户收入中位数 平均卧室数目 平均入住率', -6.049652609126262e-07),\n",
       " ('住户收入中位数 平均卧室数目 街区的纬度', -4.534286495343303e-05),\n",
       " ('住户收入中位数 平均卧室数目 街区的经度', 0.00015277404721510652),\n",
       " ('住户收入中位数 街区人口^2', 7.61114578000439e-07),\n",
       " ('住户收入中位数 街区人口 平均入住率', 0.00138399365925811),\n",
       " ('住户收入中位数 街区人口 街区的纬度', -0.0009560220541484984),\n",
       " ('住户收入中位数 街区人口 街区的经度', -0.00019666326978274497),\n",
       " ('住户收入中位数 平均入住率^2', 2.262586841922926e-05),\n",
       " ('住户收入中位数 平均入住率 街区的纬度', 4.812409768831446e-05),\n",
       " ('住户收入中位数 平均入住率 街区的经度', -0.00014829535904104183),\n",
       " ('住户收入中位数 街区的纬度^2', -1.4106258155915767e-07),\n",
       " ('住户收入中位数 街区的纬度 街区的经度', -1.0455127841124758e-05),\n",
       " ('住户收入中位数 街区的经度^2', -0.0003769210051688147),\n",
       " ('房屋使用年代中位数^3', -0.0006244028821690867),\n",
       " ('房屋使用年代中位数^2 平均房间数目', 0.0003161692078108854),\n",
       " ('房屋使用年代中位数^2 平均卧室数目', -0.00020484375611697975),\n",
       " ('房屋使用年代中位数^2 街区人口', 2.05124716858897e-05),\n",
       " ('房屋使用年代中位数^2 平均入住率', 0.0009907140430541867),\n",
       " ('房屋使用年代中位数^2 街区的纬度', 0.0007985017006036202),\n",
       " ('房屋使用年代中位数^2 街区的经度', -0.00010295595820628982),\n",
       " ('房屋使用年代中位数 平均房间数目^2', -0.0001261200927896284),\n",
       " ('房屋使用年代中位数 平均房间数目 平均卧室数目', -3.887468090429781e-05),\n",
       " ('房屋使用年代中位数 平均房间数目 街区人口', -7.371737601155682e-05),\n",
       " ('房屋使用年代中位数 平均房间数目 平均入住率', 1.9495917225114087e-05),\n",
       " ('房屋使用年代中位数 平均房间数目 街区的纬度', 0.00017964394261974403),\n",
       " ('房屋使用年代中位数 平均房间数目 街区的经度', -0.0006148819556172906),\n",
       " ('房屋使用年代中位数 平均卧室数目^2', -1.3806437008953836e-05),\n",
       " ('房屋使用年代中位数 平均卧室数目 街区人口', 0.0011433064838924827),\n",
       " ('房屋使用年代中位数 平均卧室数目 平均入住率', -8.394073173874566e-06),\n",
       " ('房屋使用年代中位数 平均卧室数目 街区的纬度', -0.00012582142585024529),\n",
       " ('房屋使用年代中位数 平均卧室数目 街区的经度', 0.0004205406039454522),\n",
       " ('房屋使用年代中位数 街区人口^2', 7.736725577187134e-08),\n",
       " ('房屋使用年代中位数 街区人口 平均入住率', -8.684871324343224e-05),\n",
       " ('房屋使用年代中位数 街区人口 街区的纬度', -0.00018630858450336064),\n",
       " ('房屋使用年代中位数 街区人口 街区的经度', -5.127253014422384e-05),\n",
       " ('房屋使用年代中位数 平均入住率^2', 1.8472216623077507e-05),\n",
       " ('房屋使用年代中位数 平均入住率 街区的纬度', 0.0006491793180027098),\n",
       " ('房屋使用年代中位数 平均入住率 街区的经度', -0.002151911295460208),\n",
       " ('房屋使用年代中位数 街区的纬度^2', 0.00028420873274193607),\n",
       " ('房屋使用年代中位数 街区的纬度 街区的经度', -0.0009678789831706513),\n",
       " ('房屋使用年代中位数 街区的经度^2', -0.0005043691575629048),\n",
       " ('平均房间数目^3', 0.0006432959641618945),\n",
       " ('平均房间数目^2 平均卧室数目', 0.0002222283915411801),\n",
       " ('平均房间数目^2 街区人口', 8.801728818142552e-05),\n",
       " ('平均房间数目^2 平均入住率', -7.12292524686393e-05),\n",
       " ('平均房间数目^2 街区的纬度', -0.0001884656830359537),\n",
       " ('平均房间数目^2 街区的经度', 0.0007236058458229735),\n",
       " ('平均房间数目 平均卧室数目^2', 6.794219223586077e-05),\n",
       " ('平均房间数目 平均卧室数目 街区人口', 6.290770289043486e-05),\n",
       " ('平均房间数目 平均卧室数目 平均入住率', -8.835410794384946e-06),\n",
       " ('平均房间数目 平均卧室数目 街区的纬度', 6.729970740567307e-05),\n",
       " ('平均房间数目 平均卧室数目 街区的经度', -0.00018890580190020345),\n",
       " ('平均房间数目 街区人口^2', -1.37307884181159e-06),\n",
       " ('平均房间数目 街区人口 平均入住率', -0.0006004562449853022),\n",
       " ('平均房间数目 街区人口 街区的纬度', 0.0010927537838152615),\n",
       " ('平均房间数目 街区人口 街区的经度', 0.0002371493178931755),\n",
       " ('平均房间数目 平均入住率^2', -3.797447069784248e-05),\n",
       " ('平均房间数目 平均入住率 街区的纬度', -0.00010129316407124699),\n",
       " ('平均房间数目 平均入住率 街区的经度', 0.000317682792510197),\n",
       " ('平均房间数目 街区的纬度^2', 2.2364165627116366e-05),\n",
       " ('平均房间数目 街区的纬度 街区的经度', -3.6119668141862174e-05),\n",
       " ('平均房间数目 街区的经度^2', 8.318508891761677e-05),\n",
       " ('平均卧室数目^3', 8.521891803458385e-06),\n",
       " ('平均卧室数目^2 街区人口', 4.7884559451239205e-05),\n",
       " ('平均卧室数目^2 平均入住率', 2.107056183666996e-05),\n",
       " ('平均卧室数目^2 街区的纬度', 2.9475828803469487e-05),\n",
       " ('平均卧室数目^2 街区的经度', -0.00011259365632280101),\n",
       " ('平均卧室数目 街区人口^2', 1.2968979142399438e-05),\n",
       " ('平均卧室数目 街区人口 平均入住率', -0.00018079267326457588),\n",
       " ('平均卧室数目 街区人口 街区的纬度', 0.00021793532837755753),\n",
       " ('平均卧室数目 街区人口 街区的经度', 0.0004916629469079359),\n",
       " ('平均卧室数目 平均入住率^2', -1.2520703941182911e-05),\n",
       " ('平均卧室数目 平均入住率 街区的纬度', -2.8814031475949057e-05),\n",
       " ('平均卧室数目 平均入住率 街区的经度', 7.577864789441155e-05),\n",
       " ('平均卧室数目 街区的纬度^2', 1.76032929858802e-06),\n",
       " ('平均卧室数目 街区的纬度 街区的经度', 7.000554973644539e-05),\n",
       " ('平均卧室数目 街区的经度^2', -0.0005790487911379594),\n",
       " ('街区人口^3', 9.173706019751715e-11),\n",
       " ('街区人口^2 平均入住率', 1.8274857907932182e-06),\n",
       " ('街区人口^2 街区的纬度', -4.573988074951677e-08),\n",
       " ('街区人口^2 街区的经度', 5.353806944459119e-07),\n",
       " ('街区人口 平均入住率^2', -3.430532951297615e-05),\n",
       " ('街区人口 平均入住率 街区的纬度', -0.0016050489097705757),\n",
       " ('街区人口 平均入住率 街区的经度', -0.00038967062414776906),\n",
       " ('街区人口 街区的纬度^2', 0.0015917678456942466),\n",
       " ('街区人口 街区的纬度 街区的经度', 0.0009593225477832752),\n",
       " ('街区人口 街区的经度^2', 0.0001883196753668411),\n",
       " ('平均入住率^3', -0.00011450621633317219),\n",
       " ('平均入住率^2 街区的纬度', -0.00013486382580418422),\n",
       " ('平均入住率^2 街区的经度', 0.000442668915729588),\n",
       " ('平均入住率 街区的纬度^2', -9.640880116501672e-05),\n",
       " ('平均入住率 街区的纬度 街区的经度', 7.539340491560125e-05),\n",
       " ('平均入住率 街区的经度^2', 0.0002462887041832564),\n",
       " ('街区的纬度^3', -0.0004540731232561448),\n",
       " ('街区的纬度^2 街区的经度', 0.0004149994268041669),\n",
       " ('街区的纬度 街区的经度^2', 0.0011642857922528878),\n",
       " ('街区的经度^3', 0.0004163075609692619),\n",
       " ('住户收入中位数^4', 0.0003723338222630213),\n",
       " ('住户收入中位数^3 房屋使用年代中位数', 0.00012603527455547168),\n",
       " ('住户收入中位数^3 平均房间数目', -0.0011974915595408656),\n",
       " ('住户收入中位数^3 平均卧室数目', 0.002865665438945171),\n",
       " ('住户收入中位数^3 街区人口', -4.895581208018284e-07),\n",
       " ('住户收入中位数^3 平均入住率', -7.748026535679453e-05),\n",
       " ('住户收入中位数^3 街区的纬度', 0.0006547121935942644),\n",
       " ('住户收入中位数^3 街区的经度', 0.0002930763772937997),\n",
       " ('住户收入中位数^2 房屋使用年代中位数^2', -8.822532143010608e-06),\n",
       " ('住户收入中位数^2 房屋使用年代中位数 平均房间数目', -3.3638333913549153e-05),\n",
       " ('住户收入中位数^2 房屋使用年代中位数 平均卧室数目', -0.0010390207117062875),\n",
       " ('住户收入中位数^2 房屋使用年代中位数 街区人口', -7.794527066729667e-07),\n",
       " ('住户收入中位数^2 房屋使用年代中位数 平均入住率', -4.821299177206702e-05),\n",
       " ('住户收入中位数^2 房屋使用年代中位数 街区的纬度', 0.00010956104567986141),\n",
       " ('住户收入中位数^2 房屋使用年代中位数 街区的经度', 4.4718574554159296e-05),\n",
       " ('住户收入中位数^2 平均房间数目^2', 0.00020732709466928875),\n",
       " ('住户收入中位数^2 平均房间数目 平均卧室数目', -0.0006806392204033484),\n",
       " ('住户收入中位数^2 平均房间数目 街区人口', 3.6023173890001623e-06),\n",
       " ('住户收入中位数^2 平均房间数目 平均入住率', 0.002103893867811008),\n",
       " ('住户收入中位数^2 平均房间数目 街区的纬度', -0.00074821686749101),\n",
       " ('住户收入中位数^2 平均房间数目 街区的经度', -0.00041592728887501854),\n",
       " ('住户收入中位数^2 平均卧室数目^2', -0.0007353122840604609),\n",
       " ('住户收入中位数^2 平均卧室数目 街区人口', -6.313422334921294e-05),\n",
       " ('住户收入中位数^2 平均卧室数目 平均入住率', 0.00036954939076521396),\n",
       " ('住户收入中位数^2 平均卧室数目 街区的纬度', -0.0007047911048604749),\n",
       " ('住户收入中位数^2 平均卧室数目 街区的经度', 0.0002891948591312252),\n",
       " ('住户收入中位数^2 街区人口^2', 3.1931033706917906e-09),\n",
       " ('住户收入中位数^2 街区人口 平均入住率', 8.168196222938643e-06),\n",
       " ('住户收入中位数^2 街区人口 街区的纬度', 1.2424233975999615e-05),\n",
       " ('住户收入中位数^2 街区人口 街区的经度', 8.75022973678456e-06),\n",
       " ('住户收入中位数^2 平均入住率^2', -0.0018515664562818066),\n",
       " ('住户收入中位数^2 平均入住率 街区的纬度', -0.0018269059927484208),\n",
       " ('住户收入中位数^2 平均入住率 街区的经度', -0.0006689899780871753),\n",
       " ('住户收入中位数^2 街区的纬度^2', 0.0006280077160072535),\n",
       " ('住户收入中位数^2 街区的纬度 街区的经度', 0.000496900652068167),\n",
       " ('住户收入中位数^2 街区的经度^2', 0.00010351935224358084),\n",
       " ('住户收入中位数 房屋使用年代中位数^3', 6.297584269489605e-06),\n",
       " ('住户收入中位数 房屋使用年代中位数^2 平均房间数目', 3.960491538629943e-05),\n",
       " ('住户收入中位数 房屋使用年代中位数^2 平均卧室数目', 0.00011301406556801636),\n",
       " ('住户收入中位数 房屋使用年代中位数^2 街区人口', 4.239379518957749e-08),\n",
       " ('住户收入中位数 房屋使用年代中位数^2 平均入住率', 6.473522962194517e-05),\n",
       " ('住户收入中位数 房屋使用年代中位数^2 街区的纬度', 4.953382495453344e-07),\n",
       " ('住户收入中位数 房屋使用年代中位数^2 街区的经度', 5.924996362075474e-06),\n",
       " ('住户收入中位数 房屋使用年代中位数 平均房间数目^2', -0.0003152192958051651),\n",
       " ('住户收入中位数 房屋使用年代中位数 平均房间数目 平均卧室数目', 0.0011894415681850377),\n",
       " ('住户收入中位数 房屋使用年代中位数 平均房间数目 街区人口', 2.562770919373926e-06),\n",
       " ('住户收入中位数 房屋使用年代中位数 平均房间数目 平均入住率', 0.0011077031472865398),\n",
       " ('住户收入中位数 房屋使用年代中位数 平均房间数目 街区的纬度', 0.00050151172800314),\n",
       " ('住户收入中位数 房屋使用年代中位数 平均房间数目 街区的经度', 0.0001584224703713413),\n",
       " ('住户收入中位数 房屋使用年代中位数 平均卧室数目^2', 0.00044738562743355684),\n",
       " ('住户收入中位数 房屋使用年代中位数 平均卧室数目 街区人口', -1.730208653924509e-05),\n",
       " ('住户收入中位数 房屋使用年代中位数 平均卧室数目 平均入住率', -0.0008720826403731915),\n",
       " ('住户收入中位数 房屋使用年代中位数 平均卧室数目 街区的纬度', -0.00049335252054547),\n",
       " ('住户收入中位数 房屋使用年代中位数 平均卧室数目 街区的经度', -7.252556041296556e-05),\n",
       " ('住户收入中位数 房屋使用年代中位数 街区人口^2', -4.3445125900611573e-10),\n",
       " ('住户收入中位数 房屋使用年代中位数 街区人口 平均入住率', -2.8000487995321366e-06),\n",
       " ('住户收入中位数 房屋使用年代中位数 街区人口 街区的纬度', 5.324607215712652e-07),\n",
       " ('住户收入中位数 房屋使用年代中位数 街区人口 街区的经度', 9.993723115717734e-07),\n",
       " ('住户收入中位数 房屋使用年代中位数 平均入住率^2', 0.00041311512840974733),\n",
       " ('住户收入中位数 房屋使用年代中位数 平均入住率 街区的纬度', -0.00016527468621508747),\n",
       " ('住户收入中位数 房屋使用年代中位数 平均入住率 街区的经度', 6.171078099493396e-05),\n",
       " ('住户收入中位数 房屋使用年代中位数 街区的纬度^2', -0.0006818912111306702),\n",
       " ('住户收入中位数 房屋使用年代中位数 街区的纬度 街区的经度', -0.00035903652206810307),\n",
       " ('住户收入中位数 房屋使用年代中位数 街区的经度^2', -3.5566503524725195e-05),\n",
       " ('住户收入中位数 平均房间数目^3', 0.000211362956472911),\n",
       " ('住户收入中位数 平均房间数目^2 平均卧室数目', -0.00040627532800459207),\n",
       " ('住户收入中位数 平均房间数目^2 街区人口', -7.3468293160637635e-06),\n",
       " ('住户收入中位数 平均房间数目^2 平均入住率', -0.0005381467479887625),\n",
       " ('住户收入中位数 平均房间数目^2 街区的纬度', 0.00020576848470559407),\n",
       " ('住户收入中位数 平均房间数目^2 街区的经度', 0.00018562713807973748),\n",
       " ('住户收入中位数 平均房间数目 平均卧室数目^2', -0.00026223310078094577),\n",
       " ('住户收入中位数 平均房间数目 平均卧室数目 街区人口', 8.017058724947e-05),\n",
       " ('住户收入中位数 平均房间数目 平均卧室数目 平均入住率', -0.0001420335152538677),\n",
       " ('住户收入中位数 平均房间数目 平均卧室数目 街区的纬度', 0.000538620694145464),\n",
       " ('住户收入中位数 平均房间数目 平均卧室数目 街区的经度', -0.0005964085619243022),\n",
       " ('住户收入中位数 平均房间数目 街区人口^2', -7.544032142823296e-09),\n",
       " ('住户收入中位数 平均房间数目 街区人口 平均入住率', -1.5693611357440357e-05),\n",
       " ('住户收入中位数 平均房间数目 街区人口 街区的纬度', -1.5962902060986645e-05),\n",
       " ('住户收入中位数 平均房间数目 街区人口 街区的经度', -1.0850307048958854e-05),\n",
       " ('住户收入中位数 平均房间数目 平均入住率^2', -0.0020800275574002834),\n",
       " ('住户收入中位数 平均房间数目 平均入住率 街区的纬度', -0.0007897373121678726),\n",
       " ('住户收入中位数 平均房间数目 平均入住率 街区的经度', 0.00014324852798390013),\n",
       " ('住户收入中位数 平均房间数目 街区的纬度^2', -0.0010883242469311555),\n",
       " ('住户收入中位数 平均房间数目 街区的纬度 街区的经度', -0.0006919235698486468),\n",
       " ('住户收入中位数 平均房间数目 街区的经度^2', -9.805994085145124e-05),\n",
       " ('住户收入中位数 平均卧室数目^3', -0.0001605651877876801),\n",
       " ('住户收入中位数 平均卧室数目^2 街区人口', -0.00034717867647470965),\n",
       " ('住户收入中位数 平均卧室数目^2 平均入住率', 6.049758176862204e-05),\n",
       " ('住户收入中位数 平均卧室数目^2 街区的纬度', -0.00019023950846670925),\n",
       " ('住户收入中位数 平均卧室数目^2 街区的经度', 0.0013153268451157154),\n",
       " ('住户收入中位数 平均卧室数目 街区人口^2', 4.695430181616576e-09),\n",
       " ('住户收入中位数 平均卧室数目 街区人口 平均入住率', 0.00020172683115687198),\n",
       " ('住户收入中位数 平均卧室数目 街区人口 街区的纬度', 1.8415731002053315e-05),\n",
       " ('住户收入中位数 平均卧室数目 街区人口 街区的经度', -7.179568000390849e-07),\n",
       " ('住户收入中位数 平均卧室数目 平均入住率^2', 0.0001572104300491141),\n",
       " ('住户收入中位数 平均卧室数目 平均入住率 街区的纬度', -1.866342418988135e-05),\n",
       " ('住户收入中位数 平均卧室数目 平均入住率 街区的经度', -0.00026537151061779206),\n",
       " ('住户收入中位数 平均卧室数目 街区的纬度^2', -0.0005681700501189359),\n",
       " ('住户收入中位数 平均卧室数目 街区的纬度 街区的经度', 0.0004068023362317417),\n",
       " ('住户收入中位数 平均卧室数目 街区的经度^2', 0.00021164053375187289),\n",
       " ('住户收入中位数 街区人口^3', 2.30232930871412e-12),\n",
       " ('住户收入中位数 街区人口^2 平均入住率', 1.2667511655994252e-09),\n",
       " ('住户收入中位数 街区人口^2 街区的纬度', 1.1760962544983688e-08),\n",
       " ('住户收入中位数 街区人口^2 街区的经度', 1.011102233729178e-08),\n",
       " ('住户收入中位数 街区人口 平均入住率^2', 7.569443305102917e-06),\n",
       " ('住户收入中位数 街区人口 平均入住率 街区的纬度', 2.572091304732171e-05),\n",
       " ('住户收入中位数 街区人口 平均入住率 街区的经度', 2.1143850334961225e-05),\n",
       " ('住户收入中位数 街区人口 街区的纬度^2', 5.96585483805919e-06),\n",
       " ('住户收入中位数 街区人口 街区的纬度 街区的经度', -2.6649746656137e-06),\n",
       " ('住户收入中位数 街区人口 街区的经度^2', -6.00670973080488e-07),\n",
       " ('住户收入中位数 平均入住率^3', 8.561970783480608e-05),\n",
       " ('住户收入中位数 平均入住率^2 街区的纬度', -0.0010747996173485893),\n",
       " ('住户收入中位数 平均入住率^2 街区的经度', -0.0005396306344737584),\n",
       " ('住户收入中位数 平均入住率 街区的纬度^2', -3.073220901291086e-05),\n",
       " ('住户收入中位数 平均入住率 街区的纬度 街区的经度', -0.0003547519273141594),\n",
       " ('住户收入中位数 平均入住率 街区的经度^2', -0.00010175781047127373),\n",
       " ('住户收入中位数 街区的纬度^3', 0.000978863301147527),\n",
       " ('住户收入中位数 街区的纬度^2 街区的经度', 0.0008135060012516709),\n",
       " ('住户收入中位数 街区的纬度 街区的经度^2', 0.00023476469767194449),\n",
       " ('住户收入中位数 街区的经度^3', 2.1205401124100872e-05),\n",
       " ('房屋使用年代中位数^4', 6.234658875099979e-07),\n",
       " ('房屋使用年代中位数^3 平均房间数目', -2.227613973687901e-06),\n",
       " ('房屋使用年代中位数^3 平均卧室数目', -4.0727918992591144e-05),\n",
       " ('房屋使用年代中位数^3 街区人口', 1.1340230109450297e-08),\n",
       " ('房屋使用年代中位数^3 平均入住率', -3.975104971319326e-07),\n",
       " ('房屋使用年代中位数^3 街区的纬度', -9.992478297072907e-06),\n",
       " ('房屋使用年代中位数^3 街区的经度', -7.839720414773474e-06),\n",
       " ('房屋使用年代中位数^2 平均房间数目^2', 1.414909561458233e-05),\n",
       " ('房屋使用年代中位数^2 平均房间数目 平均卧室数目', -0.0002739705597795615),\n",
       " ('房屋使用年代中位数^2 平均房间数目 街区人口', 1.4421304487518467e-07),\n",
       " ('房屋使用年代中位数^2 平均房间数目 平均入住率', 1.6713708356126957e-05),\n",
       " ('房屋使用年代中位数^2 平均房间数目 街区的纬度', -5.3408135085237234e-05),\n",
       " ('房屋使用年代中位数^2 平均房间数目 街区的经度', -1.392697468779768e-05),\n",
       " ('房屋使用年代中位数^2 平均卧室数目^2', 0.0009410735937786276),\n",
       " ('房屋使用年代中位数^2 平均卧室数目 街区人口', -3.0118473847285365e-06),\n",
       " ('房屋使用年代中位数^2 平均卧室数目 平均入住率', 0.00011995326016959365),\n",
       " ('房屋使用年代中位数^2 平均卧室数目 街区的纬度', 0.0003966500390893973),\n",
       " ('房屋使用年代中位数^2 平均卧室数目 街区的经度', 8.753346092418074e-05),\n",
       " ('房屋使用年代中位数^2 街区人口^2', 2.2772846525170577e-11),\n",
       " ('房屋使用年代中位数^2 街区人口 平均入住率', -1.2494283233814601e-08),\n",
       " ('房屋使用年代中位数^2 街区人口 街区的纬度', 1.021175343247419e-07),\n",
       " ('房屋使用年代中位数^2 街区人口 街区的经度', 1.8941466977413011e-07),\n",
       " ('房屋使用年代中位数^2 平均入住率^2', 1.7364332793881535e-05),\n",
       " ('房屋使用年代中位数^2 平均入住率 街区的纬度', 5.217004727700253e-05),\n",
       " ('房屋使用年代中位数^2 平均入住率 街区的经度', 2.714034488620863e-05),\n",
       " ('房屋使用年代中位数^2 街区的纬度^2', -5.082103421638749e-05),\n",
       " ('房屋使用年代中位数^2 街区的纬度 街区的经度', -2.9201379270774516e-05),\n",
       " ('房屋使用年代中位数^2 街区的经度^2', -6.906860160768115e-06),\n",
       " ('房屋使用年代中位数 平均房间数目^3', 0.00014569276681537747),\n",
       " ('房屋使用年代中位数 平均房间数目^2 平均卧室数目', -0.0012067997493373564),\n",
       " ('房屋使用年代中位数 平均房间数目^2 街区人口', -1.41610535112797e-06),\n",
       " ('房屋使用年代中位数 平均房间数目^2 平均入住率', 0.0001565358059901448),\n",
       " ('房屋使用年代中位数 平均房间数目^2 街区的纬度', -0.0002842178160567366),\n",
       " ('房屋使用年代中位数 平均房间数目^2 街区的经度', -7.929681006884503e-05),\n",
       " ('房屋使用年代中位数 平均房间数目 平均卧室数目^2', 0.0024740109218664495),\n",
       " ('房屋使用年代中位数 平均房间数目 平均卧室数目 街区人口', 6.694209800622857e-06),\n",
       " ('房屋使用年代中位数 平均房间数目 平均卧室数目 平均入住率', -0.0007344836126766438),\n",
       " ('房屋使用年代中位数 平均房间数目 平均卧室数目 街区的纬度', 0.0014459250391973206),\n",
       " ('房屋使用年代中位数 平均房间数目 平均卧室数目 街区的经度', 0.0002913441213030697),\n",
       " ('房屋使用年代中位数 平均房间数目 街区人口^2', 1.152896104997149e-09),\n",
       " ('房屋使用年代中位数 平均房间数目 街区人口 平均入住率', 6.542945411135829e-06),\n",
       " ('房屋使用年代中位数 平均房间数目 街区人口 街区的纬度', -8.641090709689748e-07),\n",
       " ('房屋使用年代中位数 平均房间数目 街区人口 街区的经度', -5.798260241345593e-07),\n",
       " ('房屋使用年代中位数 平均房间数目 平均入住率^2', -0.0001371349800498683),\n",
       " ('房屋使用年代中位数 平均房间数目 平均入住率 街区的纬度', 0.0012117435255961735),\n",
       " ('房屋使用年代中位数 平均房间数目 平均入住率 街区的经度', 0.0004233215225481375),\n",
       " ('房屋使用年代中位数 平均房间数目 街区的纬度^2', 0.0004730777299476329),\n",
       " ('房屋使用年代中位数 平均房间数目 街区的纬度 街区的经度', 0.00027233262628340054),\n",
       " ('房屋使用年代中位数 平均房间数目 街区的经度^2', 3.439388794545746e-05),\n",
       " ('房屋使用年代中位数 平均卧室数目^3', 0.0012299020487163788),\n",
       " ('房屋使用年代中位数 平均卧室数目^2 街区人口', -1.4411110732554942e-05),\n",
       " ('房屋使用年代中位数 平均卧室数目^2 平均入住率', 0.0005045968983379374),\n",
       " ('房屋使用年代中位数 平均卧室数目^2 街区的纬度', 0.00014827034777152787),\n",
       " ('房屋使用年代中位数 平均卧室数目^2 街区的经度', 0.0006461974721251887),\n",
       " ('房屋使用年代中位数 平均卧室数目 街区人口^2', -1.6419423127906682e-08),\n",
       " ('房屋使用年代中位数 平均卧室数目 街区人口 平均入住率', -2.591792045270717e-05),\n",
       " ('房屋使用年代中位数 平均卧室数目 街区人口 街区的纬度', 2.4589155722215567e-05),\n",
       " ('房屋使用年代中位数 平均卧室数目 街区人口 街区的经度', 1.4233998202086975e-05),\n",
       " ('房屋使用年代中位数 平均卧室数目 平均入住率^2', 0.004150463671500634),\n",
       " ('房屋使用年代中位数 平均卧室数目 平均入住率 街区的纬度', 0.00011047379019113535),\n",
       " ('房屋使用年代中位数 平均卧室数目 平均入住率 街区的经度', 0.00017959231422783067),\n",
       " ('房屋使用年代中位数 平均卧室数目 街区的纬度^2', 0.0007735334656912298),\n",
       " ('房屋使用年代中位数 平均卧室数目 街区的纬度 街区的经度', 0.0008477097841037605),\n",
       " ('房屋使用年代中位数 平均卧室数目 街区的经度^2', 0.00018609688349474282),\n",
       " ('房屋使用年代中位数 街区人口^3', -3.1295311055611584e-14),\n",
       " ('房屋使用年代中位数 街区人口^2 平均入住率', 4.3505619004545536e-11),\n",
       " ('房屋使用年代中位数 街区人口^2 街区的纬度', -3.1430569267551937e-10),\n",
       " ('房屋使用年代中位数 街区人口^2 街区的经度', 4.565917542396548e-10),\n",
       " ('房屋使用年代中位数 街区人口 平均入住率^2', -2.060730727562746e-09),\n",
       " ('房屋使用年代中位数 街区人口 平均入住率 街区的纬度', -2.5807096956431994e-06),\n",
       " ('房屋使用年代中位数 街区人口 平均入住率 街区的经度', -1.5476584662488953e-06),\n",
       " ('房屋使用年代中位数 街区人口 街区的纬度^2', -3.3868722138212294e-06),\n",
       " ('房屋使用年代中位数 街区人口 街区的纬度 街区的经度', -3.4481162851856922e-06),\n",
       " ('房屋使用年代中位数 街区人口 街区的经度^2', -6.499785384972127e-07),\n",
       " ('房屋使用年代中位数 平均入住率^3', -0.00013641029182495228),\n",
       " ('房屋使用年代中位数 平均入住率^2 街区的纬度', -0.0003965079442040977),\n",
       " ('房屋使用年代中位数 平均入住率^2 街区的经度', -9.417884869311294e-05),\n",
       " ('房屋使用年代中位数 平均入住率 街区的纬度^2', -0.0011699167327250588),\n",
       " ('房屋使用年代中位数 平均入住率 街区的纬度 街区的经度', -0.0007027049482972276),\n",
       " ('房屋使用年代中位数 平均入住率 街区的经度^2', -0.00012102172573647217),\n",
       " ('房屋使用年代中位数 街区的纬度^3', 0.0001824315601341376),\n",
       " ('房屋使用年代中位数 街区的纬度^2 街区的经度', 9.957836934094253e-05),\n",
       " ('房屋使用年代中位数 街区的纬度 街区的经度^2', 5.903868650254201e-07),\n",
       " ('房屋使用年代中位数 街区的经度^3', -5.317161742452941e-06),\n",
       " ('平均房间数目^4', -1.0464441339392886e-05),\n",
       " ('平均房间数目^3 平均卧室数目', 0.00010814421183451223),\n",
       " ('平均房间数目^3 街区人口', 1.56966167674359e-06),\n",
       " ('平均房间数目^3 平均入住率', 0.0008429439832865331),\n",
       " ('平均房间数目^3 街区的纬度', 0.00013343989491867636),\n",
       " ('平均房间数目^3 街区的经度', 8.531670849072953e-05),\n",
       " ('平均房间数目^2 平均卧室数目^2', -0.00020758092961908477),\n",
       " ('平均房间数目^2 平均卧室数目 街区人口', -2.784899986710802e-05),\n",
       " ('平均房间数目^2 平均卧室数目 平均入住率', -0.003758899338658716),\n",
       " ('平均房间数目^2 平均卧室数目 街区的纬度', -0.0009919267947927815),\n",
       " ('平均房间数目^2 平均卧室数目 街区的经度', -0.0004318846652034371),\n",
       " ('平均房间数目^2 街区人口^2', 7.723782469548638e-09),\n",
       " ('平均房间数目^2 街区人口 平均入住率', 3.527583506519214e-05),\n",
       " ('平均房间数目^2 街区人口 街区的纬度', 4.76913633496803e-06),\n",
       " ('平均房间数目^2 街区人口 街区的经度', 2.973197041420131e-06),\n",
       " ('平均房间数目^2 平均入住率^2', -0.0007415317424195705),\n",
       " ('平均房间数目^2 平均入住率 街区的纬度', 0.0009076698740688726),\n",
       " ('平均房间数目^2 平均入住率 街区的经度', 0.00029714309659384803),\n",
       " ('平均房间数目^2 街区的纬度^2', 8.592232211716483e-05),\n",
       " ('平均房间数目^2 街区的纬度 街区的经度', 9.897107801481305e-05),\n",
       " ('平均房间数目^2 街区的经度^2', 3.96577042015618e-05),\n",
       " ('平均房间数目 平均卧室数目^3', -0.0003470040631985552),\n",
       " ('平均房间数目 平均卧室数目^2 街区人口', 0.0001781130464569583),\n",
       " ('平均房间数目 平均卧室数目^2 平均入住率', -0.001335665403259677),\n",
       " ('平均房间数目 平均卧室数目^2 街区的纬度', -0.000365588417973005),\n",
       " ('平均房间数目 平均卧室数目^2 街区的经度', -0.0005501688054812702),\n",
       " ('平均房间数目 平均卧室数目 街区人口^2', -1.1071152011663773e-07),\n",
       " ('平均房间数目 平均卧室数目 街区人口 平均入住率', -0.0003533811065353481),\n",
       " ('平均房间数目 平均卧室数目 街区人口 街区的纬度', -9.186342286609495e-05),\n",
       " ('平均房间数目 平均卧室数目 街区人口 街区的经度', -3.506548252654137e-05),\n",
       " ('平均房间数目 平均卧室数目 平均入住率^2', 0.00019179330971159185),\n",
       " ('平均房间数目 平均卧室数目 平均入住率 街区的纬度', -0.00016242556647826683),\n",
       " ('平均房间数目 平均卧室数目 平均入住率 街区的经度', 0.0002422678423994656),\n",
       " ('平均房间数目 平均卧室数目 街区的纬度^2', 0.0006132828390105847),\n",
       " ('平均房间数目 平均卧室数目 街区的纬度 街区的经度', -0.0001188927893508307),\n",
       " ('平均房间数目 平均卧室数目 街区的经度^2', -0.00016631991384004146),\n",
       " ('平均房间数目 街区人口^3', -3.793002752110723e-12),\n",
       " ('平均房间数目 街区人口^2 平均入住率', -3.468533097183425e-10),\n",
       " ('平均房间数目 街区人口^2 街区的纬度', -2.7981898765918497e-08),\n",
       " ('平均房间数目 街区人口^2 街区的经度', -2.0664274836792604e-08),\n",
       " ('平均房间数目 街区人口 平均入住率^2', -1.0978207191661952e-05),\n",
       " ('平均房间数目 街区人口 平均入住率 街区的纬度', -2.7756232190499158e-05),\n",
       " ('平均房间数目 街区人口 平均入住率 街区的经度', -1.3744538933196807e-05),\n",
       " ('平均房间数目 街区人口 街区的纬度^2', -1.4517852922907769e-05),\n",
       " ('平均房间数目 街区人口 街区的纬度 街区的经度', -2.6829924973818448e-06),\n",
       " ('平均房间数目 街区人口 街区的经度^2', -2.444264019642697e-07),\n",
       " ('平均房间数目 平均入住率^3', 0.0009020588884066112),\n",
       " ('平均房间数目 平均入住率^2 街区的纬度', 0.0007123418678421492),\n",
       " ('平均房间数目 平均入住率^2 街区的经度', 0.0002327927169831462),\n",
       " ('平均房间数目 平均入住率 街区的纬度^2', -0.0006185877265746668),\n",
       " ('平均房间数目 平均入住率 街区的纬度 街区的经度', 1.2357285511074471e-05),\n",
       " ('平均房间数目 平均入住率 街区的经度^2', 8.613669341629493e-05),\n",
       " ('平均房间数目 街区的纬度^3', -0.0025728451874692964),\n",
       " ('平均房间数目 街区的纬度^2 街区的经度', -0.002450508749734456),\n",
       " ('平均房间数目 街区的纬度 街区的经度^2', -0.0007802941870106504),\n",
       " ('平均房间数目 街区的经度^3', -8.174531353184254e-05),\n",
       " ('平均卧室数目^4', -0.0002189147940313321),\n",
       " ('平均卧室数目^3 街区人口', -0.0003600123969722698),\n",
       " ('平均卧室数目^3 平均入住率', -0.0003645708567445318),\n",
       " ('平均卧室数目^3 街区的纬度', -0.0005451197876256113),\n",
       " ('平均卧室数目^3 街区的经度', 0.00109253495976991),\n",
       " ('平均卧室数目^2 街区人口^2', 4.022688886056559e-07),\n",
       " ('平均卧室数目^2 街区人口 平均入住率', 0.0012105847088109151),\n",
       " ('平均卧室数目^2 街区人口 街区的纬度', 0.0003996569793620727),\n",
       " ('平均卧室数目^2 街区人口 街区的经度', 0.00014458682115070647),\n",
       " ('平均卧室数目^2 平均入住率^2', 4.3801822923480386e-05),\n",
       " ('平均卧室数目^2 平均入住率 街区的纬度', 0.0006918539720764468),\n",
       " ('平均卧室数目^2 平均入住率 街区的经度', -0.0025532779811554655),\n",
       " ('平均卧室数目^2 街区的纬度^2', -0.00038807552008899486),\n",
       " ('平均卧室数目^2 街区的纬度 街区的经度', 0.0008055867828441357),\n",
       " ('平均卧室数目^2 街区的经度^2', 0.0003950534996400423),\n",
       " ('平均卧室数目 街区人口^3', 3.897946542178208e-11),\n",
       " ('平均卧室数目 街区人口^2 平均入住率', 1.5183063627469414e-07),\n",
       " ('平均卧室数目 街区人口^2 街区的纬度', 2.529062741284385e-07),\n",
       " ('平均卧室数目 街区人口^2 街区的经度', 1.9306846752943987e-07),\n",
       " ('平均卧室数目 街区人口 平均入住率^2', 5.654356999143672e-05),\n",
       " ('平均卧室数目 街区人口 平均入住率 街区的纬度', 0.00027719634078467105),\n",
       " ('平均卧室数目 街区人口 平均入住率 街区的经度', 9.602700876058458e-05),\n",
       " ('平均卧室数目 街区人口 街区的纬度^2', 5.582236107377393e-05),\n",
       " ('平均卧室数目 街区人口 街区的纬度 街区的经度', 5.732692071489356e-05),\n",
       " ('平均卧室数目 街区人口 街区的经度^2', 1.580717359298198e-05),\n",
       " ('平均卧室数目 平均入住率^3', -0.0020231557295909597),\n",
       " ('平均卧室数目 平均入住率^2 街区的纬度', 0.0001356746903396403),\n",
       " ('平均卧室数目 平均入住率^2 街区的经度', 0.00021124058884250434),\n",
       " ('平均卧室数目 平均入住率 街区的纬度^2', -0.0004492408340298278),\n",
       " ('平均卧室数目 平均入住率 街区的纬度 街区的经度', 0.0006264698094794524),\n",
       " ('平均卧室数目 平均入住率 街区的经度^2', 0.0001868987240975273),\n",
       " ('平均卧室数目 街区的纬度^3', -0.0004657662989473866),\n",
       " ('平均卧室数目 街区的纬度^2 街区的经度', 3.979233486458353e-05),\n",
       " ('平均卧室数目 街区的纬度 街区的经度^2', 0.00024345754225006596),\n",
       " ('平均卧室数目 街区的经度^3', 5.149659200779399e-05),\n",
       " ('街区人口^4', 2.3085374757647603e-16),\n",
       " ('街区人口^3 平均入住率', 8.888559874008971e-13),\n",
       " ('街区人口^3 街区的纬度', 1.6653154973311464e-12),\n",
       " ('街区人口^3 街区的经度', 1.584406495586788e-12),\n",
       " ('街区人口^2 平均入住率^2', -7.941617475637421e-09),\n",
       " ('街区人口^2 平均入住率 街区的纬度', 2.379207979177416e-08),\n",
       " ('街区人口^2 平均入住率 街区的经度', 2.330523899228184e-08),\n",
       " ('街区人口^2 街区的纬度^2', -1.271644210123826e-09),\n",
       " ('街区人口^2 街区的纬度 街区的经度', 9.411644981071422e-10),\n",
       " ('街区人口^2 街区的经度^2', 3.3309588791239535e-09),\n",
       " ('街区人口 平均入住率^3', 6.71412098586367e-07),\n",
       " ('街区人口 平均入住率^2 街区的纬度', -5.283415631091293e-06),\n",
       " ('街区人口 平均入住率^2 街区的经度', -1.7992517746044644e-06),\n",
       " ('街区人口 平均入住率 街区的纬度^2', 4.259095579048856e-06),\n",
       " ('街区人口 平均入住率 街区的纬度 街区的经度', -8.423980037650477e-06),\n",
       " ('街区人口 平均入住率 街区的经度^2', -2.061641113464205e-06),\n",
       " ('街区人口 街区的纬度^3', 1.3713218401986153e-05),\n",
       " ('街区人口 街区的纬度^2 街区的经度', 2.564787982334407e-05),\n",
       " ('街区人口 街区的纬度 街区的经度^2', 1.1895166261979059e-05),\n",
       " ('街区人口 街区的经度^3', 1.8363135107926888e-06),\n",
       " ('平均入住率^4', 1.6309675896401892e-06),\n",
       " ('平均入住率^3 街区的纬度', 0.0005094332438977879),\n",
       " ('平均入住率^3 街区的经度', 0.00018558698239008736),\n",
       " ('平均入住率^2 街区的纬度^2', 0.0002377828319781328),\n",
       " ('平均入住率^2 街区的纬度 街区的经度', 3.823195596665356e-05),\n",
       " ('平均入住率^2 街区的经度^2', -4.361986463521784e-07),\n",
       " ('平均入住率 街区的纬度^3', 0.0005597159035067581),\n",
       " ('平均入住率 街区的纬度^2 街区的经度', 0.0001678072758803471),\n",
       " ('平均入住率 街区的纬度 街区的经度^2', -3.929472520932723e-05),\n",
       " ('平均入住率 街区的经度^3', -9.23469787426412e-06),\n",
       " ('街区的纬度^4', -0.008709876135956888),\n",
       " ('街区的纬度^3 街区的经度', -0.010765593966305453),\n",
       " ('街区的纬度^2 街区的经度^2', -0.004984808574251207),\n",
       " ('街区的纬度 街区的经度^3', -0.001017516412252065),\n",
       " ('街区的经度^4', -7.599240233583781e-05)]"
      ]
     },
     "execution_count": 133,
     "metadata": {},
     "output_type": "execute_result"
    }
   ],
   "source": [
    "[*zip(poly.get_feature_names(X.columns),reg.coef_)]"
   ]
  },
  {
   "cell_type": "code",
   "execution_count": 134,
   "id": "bd782182-7292-4874-a0c9-42f41aa388bf",
   "metadata": {},
   "outputs": [
    {
     "data": {
      "text/html": [
       "<div>\n",
       "<style scoped>\n",
       "    .dataframe tbody tr th:only-of-type {\n",
       "        vertical-align: middle;\n",
       "    }\n",
       "\n",
       "    .dataframe tbody tr th {\n",
       "        vertical-align: top;\n",
       "    }\n",
       "\n",
       "    .dataframe thead th {\n",
       "        text-align: right;\n",
       "    }\n",
       "</style>\n",
       "<table border=\"1\" class=\"dataframe\">\n",
       "  <thead>\n",
       "    <tr style=\"text-align: right;\">\n",
       "      <th></th>\n",
       "      <th>0</th>\n",
       "      <th>1</th>\n",
       "    </tr>\n",
       "  </thead>\n",
       "  <tbody>\n",
       "    <tr>\n",
       "      <th>0</th>\n",
       "      <td>1</td>\n",
       "      <td>0.000311</td>\n",
       "    </tr>\n",
       "    <tr>\n",
       "      <th>1</th>\n",
       "      <td>住户收入中位数</td>\n",
       "      <td>0.000012</td>\n",
       "    </tr>\n",
       "    <tr>\n",
       "      <th>2</th>\n",
       "      <td>房屋使用年代中位数</td>\n",
       "      <td>-0.0</td>\n",
       "    </tr>\n",
       "    <tr>\n",
       "      <th>3</th>\n",
       "      <td>平均房间数目</td>\n",
       "      <td>-0.0</td>\n",
       "    </tr>\n",
       "    <tr>\n",
       "      <th>4</th>\n",
       "      <td>平均卧室数目</td>\n",
       "      <td>-0.0</td>\n",
       "    </tr>\n",
       "  </tbody>\n",
       "</table>\n",
       "</div>"
      ],
      "text/plain": [
       "           0         1\n",
       "0          1  0.000311\n",
       "1    住户收入中位数  0.000012\n",
       "2  房屋使用年代中位数      -0.0\n",
       "3     平均房间数目      -0.0\n",
       "4     平均卧室数目      -0.0"
      ]
     },
     "execution_count": 134,
     "metadata": {},
     "output_type": "execute_result"
    }
   ],
   "source": [
    "coeff = pd.DataFrame([poly.get_feature_names(X.columns),reg.coef_.tolist()]).T\n",
    "coeff.head()"
   ]
  },
  {
   "cell_type": "code",
   "execution_count": 135,
   "id": "c23afb51-0c13-4e03-97d5-9811dbe90351",
   "metadata": {},
   "outputs": [
    {
     "data": {
      "text/html": [
       "<div>\n",
       "<style scoped>\n",
       "    .dataframe tbody tr th:only-of-type {\n",
       "        vertical-align: middle;\n",
       "    }\n",
       "\n",
       "    .dataframe tbody tr th {\n",
       "        vertical-align: top;\n",
       "    }\n",
       "\n",
       "    .dataframe thead th {\n",
       "        text-align: right;\n",
       "    }\n",
       "</style>\n",
       "<table border=\"1\" class=\"dataframe\">\n",
       "  <thead>\n",
       "    <tr style=\"text-align: right;\">\n",
       "      <th></th>\n",
       "      <th>feature</th>\n",
       "      <th>coef</th>\n",
       "    </tr>\n",
       "  </thead>\n",
       "  <tbody>\n",
       "    <tr>\n",
       "      <th>491</th>\n",
       "      <td>街区的纬度^3 街区的经度</td>\n",
       "      <td>-0.010766</td>\n",
       "    </tr>\n",
       "    <tr>\n",
       "      <th>490</th>\n",
       "      <td>街区的纬度^4</td>\n",
       "      <td>-0.00871</td>\n",
       "    </tr>\n",
       "    <tr>\n",
       "      <th>492</th>\n",
       "      <td>街区的纬度^2 街区的经度^2</td>\n",
       "      <td>-0.004985</td>\n",
       "    </tr>\n",
       "    <tr>\n",
       "      <th>377</th>\n",
       "      <td>平均房间数目^2 平均卧室数目 平均入住率</td>\n",
       "      <td>-0.003759</td>\n",
       "    </tr>\n",
       "    <tr>\n",
       "      <th>421</th>\n",
       "      <td>平均房间数目 街区的纬度^3</td>\n",
       "      <td>-0.002573</td>\n",
       "    </tr>\n",
       "    <tr>\n",
       "      <th>...</th>\n",
       "      <td>...</td>\n",
       "      <td>...</td>\n",
       "    </tr>\n",
       "    <tr>\n",
       "      <th>38</th>\n",
       "      <td>街区人口 街区的经度</td>\n",
       "      <td>0.002092</td>\n",
       "    </tr>\n",
       "    <tr>\n",
       "      <th>183</th>\n",
       "      <td>住户收入中位数^2 平均房间数目 平均入住率</td>\n",
       "      <td>0.002104</td>\n",
       "    </tr>\n",
       "    <tr>\n",
       "      <th>319</th>\n",
       "      <td>房屋使用年代中位数 平均房间数目 平均卧室数目^2</td>\n",
       "      <td>0.002474</td>\n",
       "    </tr>\n",
       "    <tr>\n",
       "      <th>168</th>\n",
       "      <td>住户收入中位数^3 平均卧室数目</td>\n",
       "      <td>0.002866</td>\n",
       "    </tr>\n",
       "    <tr>\n",
       "      <th>343</th>\n",
       "      <td>房屋使用年代中位数 平均卧室数目 平均入住率^2</td>\n",
       "      <td>0.00415</td>\n",
       "    </tr>\n",
       "  </tbody>\n",
       "</table>\n",
       "<p>495 rows × 2 columns</p>\n",
       "</div>"
      ],
      "text/plain": [
       "                       feature      coef\n",
       "491              街区的纬度^3 街区的经度 -0.010766\n",
       "490                    街区的纬度^4  -0.00871\n",
       "492            街区的纬度^2 街区的经度^2 -0.004985\n",
       "377      平均房间数目^2 平均卧室数目 平均入住率 -0.003759\n",
       "421             平均房间数目 街区的纬度^3 -0.002573\n",
       "..                         ...       ...\n",
       "38                  街区人口 街区的经度  0.002092\n",
       "183     住户收入中位数^2 平均房间数目 平均入住率  0.002104\n",
       "319  房屋使用年代中位数 平均房间数目 平均卧室数目^2  0.002474\n",
       "168           住户收入中位数^3 平均卧室数目  0.002866\n",
       "343   房屋使用年代中位数 平均卧室数目 平均入住率^2   0.00415\n",
       "\n",
       "[495 rows x 2 columns]"
      ]
     },
     "execution_count": 135,
     "metadata": {},
     "output_type": "execute_result"
    }
   ],
   "source": [
    "coeff.columns = [\"feature\",\"coef\"]\n",
    "coeff.sort_values(by=\"coef\")"
   ]
  },
  {
   "cell_type": "code",
   "execution_count": 136,
   "id": "69d93298-6525-446f-a23e-d1937f975ad7",
   "metadata": {},
   "outputs": [],
   "source": [
    "poly = PolynomialFeatures(degree=4).fit(X,y)\n",
    "X_ = poly.transform(X)"
   ]
  },
  {
   "cell_type": "code",
   "execution_count": 137,
   "id": "9e01e2a2-4ca0-452a-bdf3-5934fcda4dd5",
   "metadata": {},
   "outputs": [
    {
     "data": {
      "text/plain": [
       "0.606232685199805"
      ]
     },
     "execution_count": 137,
     "metadata": {},
     "output_type": "execute_result"
    }
   ],
   "source": [
    "reg = LinearRegression().fit(X,y)\n",
    "reg.score(X,y)"
   ]
  },
  {
   "cell_type": "code",
   "execution_count": 138,
   "id": "c96f0677-3b04-408d-8e75-8f19a53c8fe4",
   "metadata": {},
   "outputs": [
    {
     "name": "stdout",
     "output_type": "stream",
     "text": [
      "R2:0.7451090624007497\n",
      "time:0.44254612922668457\n"
     ]
    }
   ],
   "source": [
    "from time import time\n",
    "time0 = time()\n",
    "reg_ = LinearRegression().fit(X_,y)\n",
    "print(\"R2:{}\".format(reg_.score(X_,y)))\n",
    "print(\"time:{}\".format(time()-time0))"
   ]
  },
  {
   "cell_type": "code",
   "execution_count": 139,
   "id": "7696261f-8795-4a23-9c35-ef16353fe8dc",
   "metadata": {},
   "outputs": [
    {
     "name": "stdout",
     "output_type": "stream",
     "text": [
      "R2:0.9746835528492525\n",
      "time:11.056869745254517\n"
     ]
    }
   ],
   "source": [
    "from sklearn.ensemble import RandomForestRegressor as RFR\n",
    "\n",
    "time0 = time()\n",
    "print(\"R2:{}\".format(RFR(n_estimators=100).fit(X,y).score(X,y)))\n",
    "print(\"time:{}\".format(time()-time0))"
   ]
  },
  {
   "cell_type": "code",
   "execution_count": null,
   "id": "9762d297-b46d-4eb3-b86d-f9ab0680caac",
   "metadata": {},
   "outputs": [],
   "source": []
  }
 ],
 "metadata": {
  "kernelspec": {
   "display_name": "Python 3",
   "language": "python",
   "name": "python3"
  },
  "language_info": {
   "codemirror_mode": {
    "name": "ipython",
    "version": 3
   },
   "file_extension": ".py",
   "mimetype": "text/x-python",
   "name": "python",
   "nbconvert_exporter": "python",
   "pygments_lexer": "ipython3",
   "version": "3.8.8"
  }
 },
 "nbformat": 4,
 "nbformat_minor": 5
}
