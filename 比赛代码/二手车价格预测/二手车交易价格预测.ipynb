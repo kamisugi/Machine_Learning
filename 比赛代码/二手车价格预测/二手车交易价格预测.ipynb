{
 "cells": [
  {
   "cell_type": "markdown",
   "id": "a2364c4a",
   "metadata": {},
   "source": [
    "[数据来源](https://tianchi.aliyun.com/competition/entrance/231784/score)"
   ]
  },
  {
   "cell_type": "markdown",
   "id": "5ff58ade-164a-4ce9-a117-7ba3c6be873c",
   "metadata": {},
   "source": [
    "# 1.特征工程\n",
    "    - 处理源数据\n",
    "    - 特征转换\n",
    "    - 构造新特征"
   ]
  },
  {
   "cell_type": "code",
   "execution_count": 2,
   "id": "4bdcca3b",
   "metadata": {},
   "outputs": [],
   "source": [
    "import pandas as pd\n",
    "import numpy as np\n",
    "import matplotlib.pyplot as plt\n",
    "import seaborn as sns\n",
    "# from operator import itemgetter\n",
    "%matplotlib inline"
   ]
  },
  {
   "cell_type": "code",
   "execution_count": 3,
   "id": "fa02961d",
   "metadata": {},
   "outputs": [],
   "source": [
    "train = pd.read_csv('used_car_train_20200313.csv', sep=' ')\n",
    "test = pd.read_csv('used_car_testB_20200421.csv', sep=' ')"
   ]
  },
  {
   "cell_type": "markdown",
   "id": "c75128b9-5b94-4a03-a6f2-06982419d807",
   "metadata": {},
   "source": [
    "## 1.1异常值处理"
   ]
  },
  {
   "cell_type": "code",
   "execution_count": 4,
   "id": "cb880855-4a75-4807-bf41-eee106940435",
   "metadata": {},
   "outputs": [
    {
     "name": "stdout",
     "output_type": "stream",
     "text": [
      "kilometer 1840\n",
      "v_0 3601\n",
      "v_1 0\n",
      "v_2 4506\n",
      "v_3 242\n",
      "v_4 446\n",
      "v_5 4506\n",
      "v_6 0\n",
      "v_7 4506\n",
      "v_8 28\n",
      "v_9 343\n",
      "v_10 217\n",
      "v_11 4506\n",
      "v_12 895\n",
      "v_13 264\n",
      "v_14 2246\n"
     ]
    }
   ],
   "source": [
    "#power此处不做处理，后面特征中会取对数\n",
    "numerical_features = ['kilometer', 'v_0', 'v_1', 'v_2', 'v_3', 'v_4', 'v_5', 'v_6', \n",
    "                      'v_7','v_8', 'v_9', 'v_10', 'v_11', 'v_12', 'v_13', 'v_14']\n",
    "#超过三倍标准差的视为异常值，并替换为空值，之后以平均值替换\n",
    "for i in numerical_features:\n",
    "    m = train[i].mean()\n",
    "    std = train[i].std()\n",
    "    #获取异常值index\n",
    "    outliers_index = train[i][train[i].map(lambda x: abs(x-m)>3*std)].index\n",
    "    train.loc[outliers_index,[i]] = np.nan\n",
    "    print(i,len(outliers_index))"
   ]
  },
  {
   "cell_type": "markdown",
   "id": "d39f5fd4-938c-4580-aac1-b9a963d563ea",
   "metadata": {},
   "source": [
    "## 1.2空值处理"
   ]
  },
  {
   "cell_type": "code",
   "execution_count": 5,
   "id": "ed6c0821-d542-443a-b7dd-3eb14e3334c2",
   "metadata": {},
   "outputs": [
    {
     "data": {
      "text/plain": [
       "(149999,)"
      ]
     },
     "execution_count": 5,
     "metadata": {},
     "output_type": "execute_result"
    }
   ],
   "source": [
    "#EDA后知道['model', 'bodyType', 'gearbox', 'fuelType', 'notRepairedDamage']存在空值\n",
    "train = train.dropna(subset=['model'])\n",
    "train.model.shape"
   ]
  },
  {
   "cell_type": "code",
   "execution_count": 6,
   "id": "146836f2-baf6-4c19-b46a-08da8b83728a",
   "metadata": {},
   "outputs": [
    {
     "name": "stdout",
     "output_type": "stream",
     "text": [
      "0.0    41420\n",
      "1.0    35272\n",
      "2.0    30324\n",
      "3.0    13491\n",
      "4.0     9609\n",
      "5.0     7607\n",
      "6.0     6481\n",
      "7.0     1289\n",
      "Name: bodyType, dtype: int64\n",
      "0.0    111623\n",
      "1.0     32395\n",
      "Name: gearbox, dtype: int64\n",
      "0.0    91656\n",
      "1.0    46990\n",
      "2.0     2212\n",
      "3.0      262\n",
      "4.0      118\n",
      "5.0       45\n",
      "6.0       36\n",
      "Name: fuelType, dtype: int64\n"
     ]
    }
   ],
   "source": [
    "nan_columns = ['bodyType', 'gearbox', 'fuelType']\n",
    "for i in nan_columns:\n",
    "    print(train[i].value_counts())"
   ]
  },
  {
   "cell_type": "code",
   "execution_count": 7,
   "id": "915bb319-bbd5-4d66-8553-6179c79eaea6",
   "metadata": {},
   "outputs": [],
   "source": [
    "from sklearn.impute import SimpleImputer\n",
    "\n",
    "nan_columns = ['bodyType', 'gearbox', 'fuelType']\n",
    "\n",
    "#分类型用众数填充\n",
    "for i in nan_columns:\n",
    "    temp = train[i].values.reshape(-1,1)\n",
    "    train[i] = SimpleImputer(strategy='most_frequent').fit_transform(temp)\n",
    "    \n",
    "numerical_features = ['power', 'kilometer', \n",
    "                    'v_0', 'v_1', 'v_2', 'v_3', 'v_4', 'v_5', 'v_6', 'v_7',\n",
    "                    'v_8', 'v_9', 'v_10', 'v_11', 'v_12', 'v_13', 'v_14']\n",
    "#数值型用平均数填充\n",
    "for i in numerical_features:\n",
    "    temp = train[i].values.reshape(-1,1)\n",
    "    train[i] = SimpleImputer(strategy='mean').fit_transform(temp)\n",
    "    "
   ]
  },
  {
   "cell_type": "code",
   "execution_count": 8,
   "id": "f56fdbc3-3f36-4ecc-bda2-b68d764086a6",
   "metadata": {},
   "outputs": [],
   "source": [
    "# from sklearn.ensemble import RandomForestRegressor\n",
    "\n",
    "# train_ = train.copy()\n",
    "# df_0 = train_.iloc[:,train.columns != 'bodyType']\n",
    "# #找出训练集测试集\n",
    "# y_train = train_['bodyType'][train_['bodyType'].notnull()]\n",
    "# y_test = train_['bodyType'][train_['bodyType'].isnull()]\n",
    "# xtrain = df_0.values[ytrain.index,:]\n",
    "# xtest = df_0[ytest.index,:]\n",
    "# #用随机森林回归填补缺失值\n",
    "# rfc = RandomForestRegressor(n_estimators=100)\n",
    "# rfc = rfc.fit(xtrain, ytrain)\n",
    "# ypredict = rfc.predict(xtest)\n",
    "\n",
    "# #将预测好的值返回原始矩阵\n",
    "# x_missing_reg.loc[x_missing_reg.iloc[:,i].isnull(),i] = ypredict"
   ]
  },
  {
   "cell_type": "code",
   "execution_count": 9,
   "id": "9dd0c74a-845f-4bb7-a75e-625e6087586a",
   "metadata": {},
   "outputs": [
    {
     "name": "stdout",
     "output_type": "stream",
     "text": [
      "<class 'pandas.core.frame.DataFrame'>\n",
      "Int64Index: 149999 entries, 0 to 149999\n",
      "Data columns (total 31 columns):\n",
      " #   Column             Non-Null Count   Dtype  \n",
      "---  ------             --------------   -----  \n",
      " 0   SaleID             149999 non-null  int64  \n",
      " 1   name               149999 non-null  int64  \n",
      " 2   regDate            149999 non-null  int64  \n",
      " 3   model              149999 non-null  float64\n",
      " 4   brand              149999 non-null  int64  \n",
      " 5   bodyType           149999 non-null  float64\n",
      " 6   fuelType           149999 non-null  float64\n",
      " 7   gearbox            149999 non-null  float64\n",
      " 8   power              149999 non-null  float64\n",
      " 9   kilometer          149999 non-null  float64\n",
      " 10  notRepairedDamage  149999 non-null  object \n",
      " 11  regionCode         149999 non-null  int64  \n",
      " 12  seller             149999 non-null  int64  \n",
      " 13  offerType          149999 non-null  int64  \n",
      " 14  creatDate          149999 non-null  int64  \n",
      " 15  price              149999 non-null  int64  \n",
      " 16  v_0                149999 non-null  float64\n",
      " 17  v_1                149999 non-null  float64\n",
      " 18  v_2                149999 non-null  float64\n",
      " 19  v_3                149999 non-null  float64\n",
      " 20  v_4                149999 non-null  float64\n",
      " 21  v_5                149999 non-null  float64\n",
      " 22  v_6                149999 non-null  float64\n",
      " 23  v_7                149999 non-null  float64\n",
      " 24  v_8                149999 non-null  float64\n",
      " 25  v_9                149999 non-null  float64\n",
      " 26  v_10               149999 non-null  float64\n",
      " 27  v_11               149999 non-null  float64\n",
      " 28  v_12               149999 non-null  float64\n",
      " 29  v_13               149999 non-null  float64\n",
      " 30  v_14               149999 non-null  float64\n",
      "dtypes: float64(21), int64(9), object(1)\n",
      "memory usage: 36.6+ MB\n"
     ]
    }
   ],
   "source": [
    "train.info()"
   ]
  },
  {
   "cell_type": "code",
   "execution_count": 10,
   "id": "80fdd636-550d-4de1-98fc-366e975d7a64",
   "metadata": {},
   "outputs": [],
   "source": [
    "#融合train， test 方便数据处理。\n",
    "train['train'] = 1\n",
    "test['train'] = 0\n",
    "data = pd.concat([train, test], ignore_index=True, sort=False)"
   ]
  },
  {
   "cell_type": "code",
   "execution_count": 11,
   "id": "5cb86e91",
   "metadata": {},
   "outputs": [],
   "source": [
    "#‘-’应为空值，替换为nan，并修改数据类型\n",
    "data.notRepairedDamage.replace('-', -1, inplace=True)\n",
    "data['notRepairedDamage'] = data['notRepairedDamage'].astype('float64')"
   ]
  },
  {
   "cell_type": "code",
   "execution_count": 12,
   "id": "097f10a2-e697-49fb-8311-f778aa4f35e8",
   "metadata": {},
   "outputs": [
    {
     "name": "stdout",
     "output_type": "stream",
     "text": [
      "<class 'pandas.core.frame.DataFrame'>\n",
      "RangeIndex: 199999 entries, 0 to 199998\n",
      "Data columns (total 32 columns):\n",
      " #   Column             Non-Null Count   Dtype  \n",
      "---  ------             --------------   -----  \n",
      " 0   SaleID             199999 non-null  int64  \n",
      " 1   name               199999 non-null  int64  \n",
      " 2   regDate            199999 non-null  int64  \n",
      " 3   model              199999 non-null  float64\n",
      " 4   brand              199999 non-null  int64  \n",
      " 5   bodyType           198495 non-null  float64\n",
      " 6   fuelType           197075 non-null  float64\n",
      " 7   gearbox            198031 non-null  float64\n",
      " 8   power              199999 non-null  float64\n",
      " 9   kilometer          199999 non-null  float64\n",
      " 10  notRepairedDamage  199999 non-null  float64\n",
      " 11  regionCode         199999 non-null  int64  \n",
      " 12  seller             199999 non-null  int64  \n",
      " 13  offerType          199999 non-null  int64  \n",
      " 14  creatDate          199999 non-null  int64  \n",
      " 15  price              149999 non-null  float64\n",
      " 16  v_0                199999 non-null  float64\n",
      " 17  v_1                199999 non-null  float64\n",
      " 18  v_2                199999 non-null  float64\n",
      " 19  v_3                199999 non-null  float64\n",
      " 20  v_4                199999 non-null  float64\n",
      " 21  v_5                199999 non-null  float64\n",
      " 22  v_6                199999 non-null  float64\n",
      " 23  v_7                199999 non-null  float64\n",
      " 24  v_8                199999 non-null  float64\n",
      " 25  v_9                199999 non-null  float64\n",
      " 26  v_10               199999 non-null  float64\n",
      " 27  v_11               199999 non-null  float64\n",
      " 28  v_12               199999 non-null  float64\n",
      " 29  v_13               199999 non-null  float64\n",
      " 30  v_14               199999 non-null  float64\n",
      " 31  train              199999 non-null  int64  \n",
      "dtypes: float64(23), int64(9)\n",
      "memory usage: 48.8 MB\n"
     ]
    }
   ],
   "source": [
    "data.info()"
   ]
  },
  {
   "cell_type": "code",
   "execution_count": 13,
   "id": "960f8db2-1cc2-4a17-9c6b-7ebc26ab1a22",
   "metadata": {},
   "outputs": [],
   "source": [
    "del data[\"seller\"]\n",
    "del data[\"offerType\"]"
   ]
  },
  {
   "cell_type": "markdown",
   "id": "d36bd274-6007-485f-84dc-9d66021d5752",
   "metadata": {},
   "source": [
    "# 2.特征构造"
   ]
  },
  {
   "cell_type": "code",
   "execution_count": 14,
   "id": "d13fef1f-f645-40da-adb9-ecf785a22f7b",
   "metadata": {},
   "outputs": [],
   "source": [
    "#汽车使用时间\n",
    "data['used_time'] = pd.to_datetime(data['creatDate'], format='%Y%m%d', errors='coerce') - pd.to_datetime(data['regDate'], format='%Y%m%d', errors='coerce')\n",
    "data['used_time_day'] = data['used_time'].astype('timedelta64[D]').astype(float)\n",
    "data['used_time_day'] = data['used_time_day'].fillna(data['used_time_day'].mean())\n",
    "del data['used_time']"
   ]
  },
  {
   "cell_type": "code",
   "execution_count": 15,
   "id": "0a9899bf-7654-4c1d-a6a9-7ca8c945ea2b",
   "metadata": {},
   "outputs": [],
   "source": [
    "#对power取对数\n",
    "data['power'] = np.log(data['power'] + 1)"
   ]
  },
  {
   "cell_type": "code",
   "execution_count": 16,
   "id": "25969ff6-cfba-4ebb-8ce2-4bc8d6e67c48",
   "metadata": {},
   "outputs": [
    {
     "data": {
      "text/plain": [
       "<AxesSubplot:ylabel='Frequency'>"
      ]
     },
     "execution_count": 16,
     "metadata": {},
     "output_type": "execute_result"
    },
    {
     "data": {
      "image/png": "[encoded data removed]",
      "text/plain": [
       "<Figure size 432x288 with 1 Axes>"
      ]
     },
     "metadata": {
      "needs_background": "light"
     },
     "output_type": "display_data"
    }
   ],
   "source": [
    "data['power'].plot.hist()"
   ]
  },
  {
   "cell_type": "code",
   "execution_count": 17,
   "id": "bcfd9fc5-f47f-48aa-8feb-31721d14397b",
   "metadata": {},
   "outputs": [],
   "source": [
    "#分箱增强robust\n",
    "from sklearn.preprocessing import KBinsDiscretizer\n",
    "\n",
    "split_fea = ['power','used_time_day']\n",
    "data_split_fea = data.loc[:,split_fea]\n",
    "bins = KBinsDiscretizer(n_bins=30,encode='ordinal',strategy='uniform').fit_transform(data_split_fea)\n",
    "data.loc[:,split_fea] = bins"
   ]
  },
  {
   "cell_type": "code",
   "execution_count": 18,
   "id": "d24d6a1a-aa84-4b22-b781-3016663dd664",
   "metadata": {},
   "outputs": [],
   "source": [
    "#对数值型数据进行归一化处理\n",
    "from sklearn.preprocessing import MinMaxScaler\n",
    "#power已经分箱不再归一\n",
    "# numerical_features.remove('power')\n",
    "\n",
    "data_ = data.loc[:,numerical_features]\n",
    "\n",
    "scaler = MinMaxScaler()\n",
    "result = scaler.fit_transform(data_)\n",
    "data.loc[:,numerical_features] = result"
   ]
  },
  {
   "cell_type": "code",
   "execution_count": 19,
   "id": "843a4159-58d5-4fad-8803-b6f90ecc7ca7",
   "metadata": {},
   "outputs": [
    {
     "data": {
      "text/html": [
       "<div>\n",
       "<style scoped>\n",
       "    .dataframe tbody tr th:only-of-type {\n",
       "        vertical-align: middle;\n",
       "    }\n",
       "\n",
       "    .dataframe tbody tr th {\n",
       "        vertical-align: top;\n",
       "    }\n",
       "\n",
       "    .dataframe thead th {\n",
       "        text-align: right;\n",
       "    }\n",
       "</style>\n",
       "<table border=\"1\" class=\"dataframe\">\n",
       "  <thead>\n",
       "    <tr style=\"text-align: right;\">\n",
       "      <th></th>\n",
       "      <th>SaleID</th>\n",
       "      <th>name</th>\n",
       "      <th>regDate</th>\n",
       "      <th>model</th>\n",
       "      <th>brand</th>\n",
       "      <th>bodyType</th>\n",
       "      <th>fuelType</th>\n",
       "      <th>gearbox</th>\n",
       "      <th>power</th>\n",
       "      <th>kilometer</th>\n",
       "      <th>...</th>\n",
       "      <th>v_7</th>\n",
       "      <th>v_8</th>\n",
       "      <th>v_9</th>\n",
       "      <th>v_10</th>\n",
       "      <th>v_11</th>\n",
       "      <th>v_12</th>\n",
       "      <th>v_13</th>\n",
       "      <th>v_14</th>\n",
       "      <th>train</th>\n",
       "      <th>used_time_day</th>\n",
       "    </tr>\n",
       "  </thead>\n",
       "  <tbody>\n",
       "    <tr>\n",
       "      <th>0</th>\n",
       "      <td>0</td>\n",
       "      <td>736</td>\n",
       "      <td>20040402</td>\n",
       "      <td>30.0</td>\n",
       "      <td>6</td>\n",
       "      <td>1.0</td>\n",
       "      <td>0.0</td>\n",
       "      <td>0.0</td>\n",
       "      <td>0.413793</td>\n",
       "      <td>0.827586</td>\n",
       "      <td>...</td>\n",
       "      <td>0.091777</td>\n",
       "      <td>0.144905</td>\n",
       "      <td>0.461239</td>\n",
       "      <td>0.294499</td>\n",
       "      <td>0.346245</td>\n",
       "      <td>0.270846</td>\n",
       "      <td>0.505762</td>\n",
       "      <td>0.793125</td>\n",
       "      <td>1</td>\n",
       "      <td>14.0</td>\n",
       "    </tr>\n",
       "    <tr>\n",
       "      <th>1</th>\n",
       "      <td>1</td>\n",
       "      <td>2262</td>\n",
       "      <td>20030301</td>\n",
       "      <td>40.0</td>\n",
       "      <td>1</td>\n",
       "      <td>2.0</td>\n",
       "      <td>0.0</td>\n",
       "      <td>0.0</td>\n",
       "      <td>0.000000</td>\n",
       "      <td>1.000000</td>\n",
       "      <td>...</td>\n",
       "      <td>0.096157</td>\n",
       "      <td>0.168918</td>\n",
       "      <td>0.097403</td>\n",
       "      <td>0.199930</td>\n",
       "      <td>0.317300</td>\n",
       "      <td>0.334986</td>\n",
       "      <td>0.248644</td>\n",
       "      <td>0.717437</td>\n",
       "      <td>1</td>\n",
       "      <td>15.0</td>\n",
       "    </tr>\n",
       "    <tr>\n",
       "      <th>2</th>\n",
       "      <td>2</td>\n",
       "      <td>14874</td>\n",
       "      <td>20040403</td>\n",
       "      <td>115.0</td>\n",
       "      <td>15</td>\n",
       "      <td>1.0</td>\n",
       "      <td>0.0</td>\n",
       "      <td>0.0</td>\n",
       "      <td>0.517241</td>\n",
       "      <td>0.827586</td>\n",
       "      <td>...</td>\n",
       "      <td>0.116997</td>\n",
       "      <td>0.394854</td>\n",
       "      <td>0.128132</td>\n",
       "      <td>0.202447</td>\n",
       "      <td>0.305326</td>\n",
       "      <td>0.454737</td>\n",
       "      <td>0.339524</td>\n",
       "      <td>0.663663</td>\n",
       "      <td>1</td>\n",
       "      <td>14.0</td>\n",
       "    </tr>\n",
       "    <tr>\n",
       "      <th>3</th>\n",
       "      <td>3</td>\n",
       "      <td>71865</td>\n",
       "      <td>19960908</td>\n",
       "      <td>109.0</td>\n",
       "      <td>10</td>\n",
       "      <td>0.0</td>\n",
       "      <td>0.0</td>\n",
       "      <td>1.0</td>\n",
       "      <td>0.551724</td>\n",
       "      <td>1.000000</td>\n",
       "      <td>...</td>\n",
       "      <td>0.086404</td>\n",
       "      <td>0.212086</td>\n",
       "      <td>0.000000</td>\n",
       "      <td>0.218241</td>\n",
       "      <td>0.284157</td>\n",
       "      <td>0.359372</td>\n",
       "      <td>0.175563</td>\n",
       "      <td>0.635532</td>\n",
       "      <td>1</td>\n",
       "      <td>23.0</td>\n",
       "    </tr>\n",
       "    <tr>\n",
       "      <th>4</th>\n",
       "      <td>4</td>\n",
       "      <td>111080</td>\n",
       "      <td>20120103</td>\n",
       "      <td>110.0</td>\n",
       "      <td>5</td>\n",
       "      <td>1.0</td>\n",
       "      <td>0.0</td>\n",
       "      <td>0.0</td>\n",
       "      <td>0.413793</td>\n",
       "      <td>0.310345</td>\n",
       "      <td>...</td>\n",
       "      <td>0.065092</td>\n",
       "      <td>0.500575</td>\n",
       "      <td>0.575162</td>\n",
       "      <td>0.340670</td>\n",
       "      <td>0.268814</td>\n",
       "      <td>0.425479</td>\n",
       "      <td>0.713995</td>\n",
       "      <td>0.907205</td>\n",
       "      <td>1</td>\n",
       "      <td>4.0</td>\n",
       "    </tr>\n",
       "  </tbody>\n",
       "</table>\n",
       "<p>5 rows × 31 columns</p>\n",
       "</div>"
      ],
      "text/plain": [
       "   SaleID    name   regDate  model  brand  bodyType  fuelType  gearbox  \\\n",
       "0       0     736  20040402   30.0      6       1.0       0.0      0.0   \n",
       "1       1    2262  20030301   40.0      1       2.0       0.0      0.0   \n",
       "2       2   14874  20040403  115.0     15       1.0       0.0      0.0   \n",
       "3       3   71865  19960908  109.0     10       0.0       0.0      1.0   \n",
       "4       4  111080  20120103  110.0      5       1.0       0.0      0.0   \n",
       "\n",
       "      power  kilometer  ...       v_7       v_8       v_9      v_10      v_11  \\\n",
       "0  0.413793   0.827586  ...  0.091777  0.144905  0.461239  0.294499  0.346245   \n",
       "1  0.000000   1.000000  ...  0.096157  0.168918  0.097403  0.199930  0.317300   \n",
       "2  0.517241   0.827586  ...  0.116997  0.394854  0.128132  0.202447  0.305326   \n",
       "3  0.551724   1.000000  ...  0.086404  0.212086  0.000000  0.218241  0.284157   \n",
       "4  0.413793   0.310345  ...  0.065092  0.500575  0.575162  0.340670  0.268814   \n",
       "\n",
       "       v_12      v_13      v_14  train  used_time_day  \n",
       "0  0.270846  0.505762  0.793125      1           14.0  \n",
       "1  0.334986  0.248644  0.717437      1           15.0  \n",
       "2  0.454737  0.339524  0.663663      1           14.0  \n",
       "3  0.359372  0.175563  0.635532      1           23.0  \n",
       "4  0.425479  0.713995  0.907205      1            4.0  \n",
       "\n",
       "[5 rows x 31 columns]"
      ]
     },
     "execution_count": 19,
     "metadata": {},
     "output_type": "execute_result"
    }
   ],
   "source": [
    "data.head()"
   ]
  },
  {
   "cell_type": "code",
   "execution_count": 20,
   "id": "e254e354-b0e4-485e-bf3c-1dde27e3ebea",
   "metadata": {},
   "outputs": [
    {
     "name": "stdout",
     "output_type": "stream",
     "text": [
      "(248,)\n",
      "(40,)\n",
      "(8,)\n",
      "(7,)\n",
      "(2,)\n",
      "(3,)\n"
     ]
    }
   ],
   "source": [
    "categorical_features = ['model', 'brand', 'bodyType', 'fuelType', \n",
    "                        'gearbox','notRepairedDamage']\n",
    "for i in categorical_features:\n",
    "    print(train[i].value_counts().shape)"
   ]
  },
  {
   "cell_type": "code",
   "execution_count": 21,
   "id": "56028d8e-74c1-4492-8178-d5bd9c5f4230",
   "metadata": {},
   "outputs": [
    {
     "name": "stdout",
     "output_type": "stream",
     "text": [
      "(199999, 333)\n"
     ]
    },
    {
     "data": {
      "text/plain": [
       "Index(['SaleID', 'name', 'regDate', 'power', 'kilometer', 'regionCode',\n",
       "       'creatDate', 'price', 'v_0', 'v_1',\n",
       "       ...\n",
       "       'fuelType_2.0', 'fuelType_3.0', 'fuelType_4.0', 'fuelType_5.0',\n",
       "       'fuelType_6.0', 'gearbox_0.0', 'gearbox_1.0', 'notRepairedDamage_-1.0',\n",
       "       'notRepairedDamage_0.0', 'notRepairedDamage_1.0'],\n",
       "      dtype='object', length=333)"
      ]
     },
     "execution_count": 21,
     "metadata": {},
     "output_type": "execute_result"
    }
   ],
   "source": [
    "#对分类型数据进行one——hot编码(name,regioncode太多不分类）（pandas更方便）\n",
    "categorical_features = ['model', 'brand', 'bodyType', 'fuelType', \n",
    "                        'gearbox','notRepairedDamage']\n",
    "data = pd.get_dummies(data, columns=categorical_features)\n",
    "print(data.shape)\n",
    "data.columns"
   ]
  },
  {
   "cell_type": "code",
   "execution_count": 22,
   "id": "12697703-56a7-4115-89e7-dbc1f9d5ec27",
   "metadata": {},
   "outputs": [],
   "source": [
    "# #对分类型数据进行one——hot编码，sklearn\n",
    "# categorical_features = ['model', 'brand', 'bodyType', 'fuelType', \n",
    "#                         'gearbox', 'regionCode']\n",
    "# from sklearn.preprocessing import OneHotEncoder\n",
    "# data_ = data.loc[:,categorical_features]\n",
    "# result = OneHotEncoder(categories='auto').fit_transform(data_).toarray()\n",
    "# data.loc[:,categorical_features] = result\n",
    "# data.head()"
   ]
  },
  {
   "cell_type": "code",
   "execution_count": 23,
   "id": "d7573676-8300-4457-a87d-023109acd36b",
   "metadata": {},
   "outputs": [],
   "source": [
    "# #分离数据集\n",
    "# feature_columns = [col for col in data.columns if col not in ['SaleID', 'price','train']]\n",
    "# train = data[data['train'] == 1]\n",
    "# test = data[data['train'] == 0]\n",
    "\n",
    "# del train['train']\n",
    "# del test['train']\n",
    "\n",
    "# xtrain = train.loc[:,feature_columns]\n",
    "# ytrian = train['price']\n",
    "# xtest = test.loc[:,feature_columns]"
   ]
  },
  {
   "cell_type": "code",
   "execution_count": 24,
   "id": "c3aa104c-a83b-4a86-91e8-bd34a5d21a27",
   "metadata": {},
   "outputs": [
    {
     "data": {
      "text/plain": [
       "(199999, 333)"
      ]
     },
     "execution_count": 24,
     "metadata": {},
     "output_type": "execute_result"
    }
   ],
   "source": [
    "#特征过滤，通常使用嵌入式，这里选择方差过滤进行简单过滤\n",
    "from sklearn.feature_selection import VarianceThreshold\n",
    "x = VarianceThreshold().fit_transform(data)\n",
    "x.shape"
   ]
  },
  {
   "cell_type": "markdown",
   "id": "e93c63a1-e469-486e-94da-d76e76824e9c",
   "metadata": {},
   "source": [
    "可以看到如果默认方差为0那无需过滤了"
   ]
  },
  {
   "cell_type": "code",
   "execution_count": 25,
   "id": "ce9748da-8e04-4558-bc2f-7bd809c08fac",
   "metadata": {},
   "outputs": [
    {
     "data": {
      "image/png": "[encoded data removed]",
      "text/plain": [
       "<Figure size 1440x360 with 1 Axes>"
      ]
     },
     "metadata": {
      "needs_background": "light"
     },
     "output_type": "display_data"
    }
   ],
   "source": [
    "#pca降维\n",
    "data = data.astype('float64')\n",
    "feature_columns = [col for col in data.columns if col not in ['SaleID', 'price','train','regDate','creatDate','regionCode','name']]\n",
    "data_fea = data.loc[:, feature_columns]\n",
    "\n",
    "from sklearn.decomposition import PCA\n",
    "\n",
    "pca_line = PCA().fit(data_fea)\n",
    "plt.figure(figsize=[20,5])\n",
    "plt.plot(np.cumsum(pca_line.explained_variance_ratio_))\n",
    "plt.xlabel(\"number of components after dimension reduction\")\n",
    "plt.ylabel(\"cumulative explained variance ratio\")\n",
    "plt.show()"
   ]
  },
  {
   "cell_type": "code",
   "execution_count": 26,
   "id": "5138abdd-c46a-4a2e-9172-fb5439a50717",
   "metadata": {},
   "outputs": [],
   "source": [
    "#分离数据集\n",
    "train = data[data['train'] == 1]\n",
    "test = data[data['train'] == 0]\n",
    "\n",
    "del train['train']\n",
    "del test['train']\n",
    "\n",
    "xtrain = train.loc[:,feature_columns]\n",
    "ytrain = train['price']\n",
    "xtest = test.loc[:,feature_columns]"
   ]
  },
  {
   "cell_type": "code",
   "execution_count": 27,
   "id": "f6afb17c-8ffe-4f23-a80f-9a45bde408f4",
   "metadata": {},
   "outputs": [
    {
     "data": {
      "image/png": "[encoded data removed]",
      "text/plain": [
       "<Figure size 1440x360 with 1 Axes>"
      ]
     },
     "metadata": {
      "needs_background": "light"
     },
     "output_type": "display_data"
    }
   ],
   "source": [
    "#细化学习曲线\n",
    "# from sklearn.ensemble import RandomForestClassifier as RFC\n",
    "from sklearn.linear_model import LinearRegression as LR\n",
    "from sklearn.model_selection import cross_val_score\n",
    "\n",
    "score = []\n",
    "for i in range(50,150,10):\n",
    "    pca_line_temp = PCA(i).fit_transform(xtrain)\n",
    "    once = cross_val_score(LR(), pca_line_temp,ytrain,cv=5).mean()\n",
    "    score.append(once)\n",
    "plt.figure(figsize=[20,5])\n",
    "plt.plot(range(50,150,10),score)\n",
    "plt.show()"
   ]
  },
  {
   "cell_type": "code",
   "execution_count": 28,
   "id": "1f86d012-7a65-40cb-87c2-7ac30414c03f",
   "metadata": {},
   "outputs": [
    {
     "data": {
      "image/png": "[encoded data removed]",
      "text/plain": [
       "<Figure size 1440x360 with 1 Axes>"
      ]
     },
     "metadata": {
      "needs_background": "light"
     },
     "output_type": "display_data"
    }
   ],
   "source": [
    "#进一步细化学习曲线\n",
    "score = []\n",
    "for i in range(150,200,10):\n",
    "    pca_line_temp = PCA(i).fit_transform(xtrain)\n",
    "    once = cross_val_score(LR(), pca_line_temp,ytrain,cv=5).mean()\n",
    "    score.append(once)\n",
    "plt.figure(figsize=[20,5])\n",
    "plt.plot(range(150,200,10),score)\n",
    "plt.show()"
   ]
  },
  {
   "cell_type": "code",
   "execution_count": 29,
   "id": "27c5cd3b-72a5-4567-962b-9d103c186675",
   "metadata": {},
   "outputs": [
    {
     "data": {
      "image/png": "[encoded data removed]",
      "text/plain": [
       "<Figure size 1440x360 with 1 Axes>"
      ]
     },
     "metadata": {
      "needs_background": "light"
     },
     "output_type": "display_data"
    }
   ],
   "source": [
    "#进一步细化学习曲线\n",
    "score = []\n",
    "for i in range(200,260,10):\n",
    "    pca_line_temp = PCA(i).fit_transform(xtrain)\n",
    "    once = cross_val_score(LR(), pca_line_temp,ytrain,cv=5).mean()\n",
    "    score.append(once)\n",
    "plt.figure(figsize=[20,5])\n",
    "plt.plot(range(200,260,10),score)\n",
    "plt.show()"
   ]
  },
  {
   "cell_type": "markdown",
   "id": "ef8861f5-aef3-4f6f-a321-1e854798b6ce",
   "metadata": {},
   "source": [
    "可以看出来总体一直在提升，不过考虑到时间成本，选择为160最为合适"
   ]
  },
  {
   "cell_type": "code",
   "execution_count": 30,
   "id": "f7e0f505-c8ea-48ba-8a50-d44bd2b48444",
   "metadata": {},
   "outputs": [],
   "source": [
    "xtrain_dc = PCA(160).fit_transform(xtrain)\n",
    "xtest_dc = PCA(160).fit_transform(xtest)"
   ]
  },
  {
   "cell_type": "code",
   "execution_count": 31,
   "id": "b17592ce-5990-44ec-b66c-6fa0117c1d0b",
   "metadata": {},
   "outputs": [],
   "source": [
    "xtrain_dc_ = pd.DataFrame(xtrain_dc)\n",
    "xtest_dc = pd.DataFrame(xtest_dc)"
   ]
  },
  {
   "cell_type": "code",
   "execution_count": 32,
   "id": "af396dba-fc51-4ebf-837b-6f2b534d92a0",
   "metadata": {},
   "outputs": [],
   "source": [
    "ytrain = pd.DataFrame(ytrain)"
   ]
  },
  {
   "cell_type": "code",
   "execution_count": 33,
   "id": "7e38d4aa-9067-4809-a7e4-905559011576",
   "metadata": {},
   "outputs": [],
   "source": [
    "xtrain.to_csv('xtrain.csv',index=0)\n",
    "xtest.to_csv('xtest.csv',index=0)\n",
    "ytrain.to_csv('ytrain.csv',index=0)\n",
    "xtrain_dc_.to_csv('xtrain_dc_.csv',index=0)\n",
    "xtest_dc.to_csv('xtest_dc.csv',index=0)"
   ]
  },
  {
   "cell_type": "markdown",
   "id": "a3f366be-83f7-4cf6-8710-ce94b404ba90",
   "metadata": {},
   "source": [
    "# 3.建模分析并调参"
   ]
  },
  {
   "cell_type": "code",
   "execution_count": 49,
   "id": "24ebfdc7",
   "metadata": {},
   "outputs": [],
   "source": [
    "xtrain = pd.read_csv(\"xtrain.csv\")\n",
    "xtest = pd.read_csv(\"xtest.csv\")\n",
    "xtrain_dc = PCA(160).fit_transform(xtrain)\n",
    "xtest_dc = PCA(160).fit_transform(xtest)\n",
    "ytrain = train['price']"
   ]
  },
  {
   "cell_type": "code",
   "execution_count": 34,
   "id": "11eba36a",
   "metadata": {},
   "outputs": [],
   "source": [
    "#已经测试过了，回归类和支持向量机的分数都远逊于lgb和xgboost故直接放弃"
   ]
  },
  {
   "cell_type": "code",
   "execution_count": 35,
   "id": "e5fd25c1-186d-4216-8891-d7acc89570a4",
   "metadata": {},
   "outputs": [],
   "source": [
    "from sklearn.linear_model import LinearRegression as LR\n",
    "from sklearn.metrics import mean_absolute_error as mae\n",
    "# from sklearn.model_selection import GridSearchCV\n",
    "# from sklearn.model_selection import RandomizedSearchCV"
   ]
  },
  {
   "cell_type": "code",
   "execution_count": 41,
   "id": "b602fe5c-80b8-416d-ab43-bb10b9411917",
   "metadata": {},
   "outputs": [],
   "source": [
    "# #LGBMRegressor\n",
    "# #RandomizedSearchCV\n",
    "# #先用随机搜索确立一个可能的局部最优值，再用网格搜索确定\n",
    "# #电脑性能不行，实在太慢，换贪心调参了\n",
    "# from lightgbm.sklearn import LGBMRegressor\n",
    "\n",
    "# parameters =  {'objective': ['regression', 'regression_l1', 'mape', 'huber', 'fair'], \n",
    "#                'num_leaves':[*range(10,100,10)], \n",
    "#                'max_depth': [*range(10,100,10)],\n",
    "#                'n_estimators':[200,300,500,900]\n",
    "# } \n",
    "\n",
    "# model = LGBMRegressor(learning_rate=0.03)\n",
    "\n",
    "# lgb_random = RandomizedSearchCV(model, parameters,\n",
    "#                               n_iter = 100, scoring='neg_mean_absolute_error', \n",
    "#                               cv = 3, verbose=2, random_state=42, n_jobs=-1)\n",
    "\n",
    "# lgb_random.fit(xtrain_dc, ytrain)\n",
    "# lgb_random.best_params_"
   ]
  },
  {
   "cell_type": "code",
   "execution_count": 50,
   "id": "b804c76c",
   "metadata": {},
   "outputs": [],
   "source": [
    "#贪心调参\n",
    "from lightgbm.sklearn import LGBMRegressor\n",
    "\n",
    "objective = ['regression', 'regression_l1', 'mape', 'huber', 'fair']\n",
    "num_leaves = [3,5,10,15,20,40, 55]\n",
    "max_depth = [3,5,10,15,20,40, 55]\n",
    "feature_fraction = [0.5, 0.6, 0.7, 0.8, 0.9]\n",
    "bagging_fraction = [0.6, 0.7, 0.8, 0.9, 1.0]\n",
    "reg_alpha = [0, 0.001, 0.01, 0.03, 0.08, 0.3, 0.5]\n",
    "reg_lambda = [0, 0.001, 0.01, 0.03, 0.08, 0.3, 0.5]\n",
    "\n",
    "best_obj = dict()\n",
    "for obj in objective:\n",
    "    model = LGBMRegressor(objective=obj)\n",
    "    score = np.mean(cross_val_score(model, xtrain_dc, ytrain, verbose=0, cv = 5, scoring='neg_mean_absolute_error'))                  \n",
    "    best_obj[obj] = score"
   ]
  },
  {
   "cell_type": "code",
   "execution_count": 55,
   "id": "74a4055e",
   "metadata": {},
   "outputs": [],
   "source": [
    "best_leaves = dict()\n",
    "for i in num_leaves:\n",
    "    model = LGBMRegressor(objective=max(best_obj, key=lambda x:best_obj[x]),\n",
    "                         num_leaves=i)\n",
    "    score = np.mean(cross_val_score(model, xtrain_dc, ytrain, verbose=0, cv = 5, scoring='neg_mean_absolute_error'))                  \n",
    "    best_leaves[i] = score"
   ]
  },
  {
   "cell_type": "code",
   "execution_count": 62,
   "id": "2f746bca",
   "metadata": {},
   "outputs": [],
   "source": [
    "best_depth=i = dict()\n",
    "for i in max_depth:\n",
    "    model = LGBMRegressor(objective=max(best_obj, key=lambda x:best_obj[x]),\n",
    "                          num_leaves=max(best_leaves, key=lambda x:best_leaves[x]),\n",
    "                            max_depth=i)\n",
    "    score = np.mean(cross_val_score(model, xtrain_dc, ytrain, verbose=0, cv = 5, scoring='neg_mean_absolute_error'))                         \n",
    "    best_depth[i] = score"
   ]
  },
  {
   "cell_type": "code",
   "execution_count": 63,
   "id": "aa49bcb8",
   "metadata": {},
   "outputs": [
    {
     "name": "stdout",
     "output_type": "stream",
     "text": [
      "[LightGBM] [Warning] feature_fraction is set=0.5, colsample_bytree=1.0 will be ignored. Current value: feature_fraction=0.5\n",
      "[LightGBM] [Warning] feature_fraction is set=0.5, colsample_bytree=1.0 will be ignored. Current value: feature_fraction=0.5\n",
      "[LightGBM] [Warning] feature_fraction is set=0.5, colsample_bytree=1.0 will be ignored. Current value: feature_fraction=0.5\n",
      "[LightGBM] [Warning] feature_fraction is set=0.5, colsample_bytree=1.0 will be ignored. Current value: feature_fraction=0.5\n",
      "[LightGBM] [Warning] feature_fraction is set=0.5, colsample_bytree=1.0 will be ignored. Current value: feature_fraction=0.5\n",
      "[LightGBM] [Warning] feature_fraction is set=0.6, colsample_bytree=1.0 will be ignored. Current value: feature_fraction=0.6\n",
      "[LightGBM] [Warning] feature_fraction is set=0.6, colsample_bytree=1.0 will be ignored. Current value: feature_fraction=0.6\n",
      "[LightGBM] [Warning] feature_fraction is set=0.6, colsample_bytree=1.0 will be ignored. Current value: feature_fraction=0.6\n",
      "[LightGBM] [Warning] feature_fraction is set=0.6, colsample_bytree=1.0 will be ignored. Current value: feature_fraction=0.6\n",
      "[LightGBM] [Warning] feature_fraction is set=0.6, colsample_bytree=1.0 will be ignored. Current value: feature_fraction=0.6\n",
      "[LightGBM] [Warning] feature_fraction is set=0.7, colsample_bytree=1.0 will be ignored. Current value: feature_fraction=0.7\n",
      "[LightGBM] [Warning] feature_fraction is set=0.7, colsample_bytree=1.0 will be ignored. Current value: feature_fraction=0.7\n",
      "[LightGBM] [Warning] feature_fraction is set=0.7, colsample_bytree=1.0 will be ignored. Current value: feature_fraction=0.7\n",
      "[LightGBM] [Warning] feature_fraction is set=0.7, colsample_bytree=1.0 will be ignored. Current value: feature_fraction=0.7\n",
      "[LightGBM] [Warning] feature_fraction is set=0.7, colsample_bytree=1.0 will be ignored. Current value: feature_fraction=0.7\n",
      "[LightGBM] [Warning] feature_fraction is set=0.8, colsample_bytree=1.0 will be ignored. Current value: feature_fraction=0.8\n",
      "[LightGBM] [Warning] feature_fraction is set=0.8, colsample_bytree=1.0 will be ignored. Current value: feature_fraction=0.8\n",
      "[LightGBM] [Warning] feature_fraction is set=0.8, colsample_bytree=1.0 will be ignored. Current value: feature_fraction=0.8\n",
      "[LightGBM] [Warning] feature_fraction is set=0.8, colsample_bytree=1.0 will be ignored. Current value: feature_fraction=0.8\n",
      "[LightGBM] [Warning] feature_fraction is set=0.8, colsample_bytree=1.0 will be ignored. Current value: feature_fraction=0.8\n",
      "[LightGBM] [Warning] feature_fraction is set=0.9, colsample_bytree=1.0 will be ignored. Current value: feature_fraction=0.9\n",
      "[LightGBM] [Warning] feature_fraction is set=0.9, colsample_bytree=1.0 will be ignored. Current value: feature_fraction=0.9\n",
      "[LightGBM] [Warning] feature_fraction is set=0.9, colsample_bytree=1.0 will be ignored. Current value: feature_fraction=0.9\n",
      "[LightGBM] [Warning] feature_fraction is set=0.9, colsample_bytree=1.0 will be ignored. Current value: feature_fraction=0.9\n",
      "[LightGBM] [Warning] feature_fraction is set=0.9, colsample_bytree=1.0 will be ignored. Current value: feature_fraction=0.9\n"
     ]
    }
   ],
   "source": [
    "best_feature = dict()\n",
    "for i in feature_fraction:\n",
    "    model = LGBMRegressor(objective=max(best_obj, key=lambda x:best_obj[x]),\n",
    "                         num_leaves=max(best_leaves, key=lambda x:best_leaves[x]),\n",
    "                         max_depth=max(best_depth, key=lambda x:best_depth[x]),\n",
    "                         feature_fraction=i)\n",
    "    score = np.mean(cross_val_score(model, xtrain_dc, ytrain, verbose=0, cv = 5, scoring='neg_mean_absolute_error'))                  \n",
    "    best_feature[i] = score"
   ]
  },
  {
   "cell_type": "code",
   "execution_count": 67,
   "id": "262c6594",
   "metadata": {},
   "outputs": [
    {
     "name": "stdout",
     "output_type": "stream",
     "text": [
      "[LightGBM] [Warning] feature_fraction is set=0.9, colsample_bytree=1.0 will be ignored. Current value: feature_fraction=0.9\n",
      "[LightGBM] [Warning] bagging_fraction is set=0.6, subsample=1.0 will be ignored. Current value: bagging_fraction=0.6\n",
      "[LightGBM] [Warning] feature_fraction is set=0.9, colsample_bytree=1.0 will be ignored. Current value: feature_fraction=0.9\n",
      "[LightGBM] [Warning] bagging_fraction is set=0.6, subsample=1.0 will be ignored. Current value: bagging_fraction=0.6\n",
      "[LightGBM] [Warning] feature_fraction is set=0.9, colsample_bytree=1.0 will be ignored. Current value: feature_fraction=0.9\n",
      "[LightGBM] [Warning] bagging_fraction is set=0.6, subsample=1.0 will be ignored. Current value: bagging_fraction=0.6\n",
      "[LightGBM] [Warning] feature_fraction is set=0.9, colsample_bytree=1.0 will be ignored. Current value: feature_fraction=0.9\n",
      "[LightGBM] [Warning] bagging_fraction is set=0.6, subsample=1.0 will be ignored. Current value: bagging_fraction=0.6\n",
      "[LightGBM] [Warning] feature_fraction is set=0.9, colsample_bytree=1.0 will be ignored. Current value: feature_fraction=0.9\n",
      "[LightGBM] [Warning] bagging_fraction is set=0.6, subsample=1.0 will be ignored. Current value: bagging_fraction=0.6\n",
      "[LightGBM] [Warning] feature_fraction is set=0.9, colsample_bytree=1.0 will be ignored. Current value: feature_fraction=0.9\n",
      "[LightGBM] [Warning] bagging_fraction is set=0.7, subsample=1.0 will be ignored. Current value: bagging_fraction=0.7\n",
      "[LightGBM] [Warning] feature_fraction is set=0.9, colsample_bytree=1.0 will be ignored. Current value: feature_fraction=0.9\n",
      "[LightGBM] [Warning] bagging_fraction is set=0.7, subsample=1.0 will be ignored. Current value: bagging_fraction=0.7\n",
      "[LightGBM] [Warning] feature_fraction is set=0.9, colsample_bytree=1.0 will be ignored. Current value: feature_fraction=0.9\n",
      "[LightGBM] [Warning] bagging_fraction is set=0.7, subsample=1.0 will be ignored. Current value: bagging_fraction=0.7\n",
      "[LightGBM] [Warning] feature_fraction is set=0.9, colsample_bytree=1.0 will be ignored. Current value: feature_fraction=0.9\n",
      "[LightGBM] [Warning] bagging_fraction is set=0.7, subsample=1.0 will be ignored. Current value: bagging_fraction=0.7\n",
      "[LightGBM] [Warning] feature_fraction is set=0.9, colsample_bytree=1.0 will be ignored. Current value: feature_fraction=0.9\n",
      "[LightGBM] [Warning] bagging_fraction is set=0.7, subsample=1.0 will be ignored. Current value: bagging_fraction=0.7\n",
      "[LightGBM] [Warning] feature_fraction is set=0.9, colsample_bytree=1.0 will be ignored. Current value: feature_fraction=0.9\n",
      "[LightGBM] [Warning] bagging_fraction is set=0.8, subsample=1.0 will be ignored. Current value: bagging_fraction=0.8\n",
      "[LightGBM] [Warning] feature_fraction is set=0.9, colsample_bytree=1.0 will be ignored. Current value: feature_fraction=0.9\n",
      "[LightGBM] [Warning] bagging_fraction is set=0.8, subsample=1.0 will be ignored. Current value: bagging_fraction=0.8\n",
      "[LightGBM] [Warning] feature_fraction is set=0.9, colsample_bytree=1.0 will be ignored. Current value: feature_fraction=0.9\n",
      "[LightGBM] [Warning] bagging_fraction is set=0.8, subsample=1.0 will be ignored. Current value: bagging_fraction=0.8\n",
      "[LightGBM] [Warning] feature_fraction is set=0.9, colsample_bytree=1.0 will be ignored. Current value: feature_fraction=0.9\n",
      "[LightGBM] [Warning] bagging_fraction is set=0.8, subsample=1.0 will be ignored. Current value: bagging_fraction=0.8\n",
      "[LightGBM] [Warning] feature_fraction is set=0.9, colsample_bytree=1.0 will be ignored. Current value: feature_fraction=0.9\n",
      "[LightGBM] [Warning] bagging_fraction is set=0.8, subsample=1.0 will be ignored. Current value: bagging_fraction=0.8\n",
      "[LightGBM] [Warning] feature_fraction is set=0.9, colsample_bytree=1.0 will be ignored. Current value: feature_fraction=0.9\n",
      "[LightGBM] [Warning] bagging_fraction is set=0.9, subsample=1.0 will be ignored. Current value: bagging_fraction=0.9\n",
      "[LightGBM] [Warning] feature_fraction is set=0.9, colsample_bytree=1.0 will be ignored. Current value: feature_fraction=0.9\n",
      "[LightGBM] [Warning] bagging_fraction is set=0.9, subsample=1.0 will be ignored. Current value: bagging_fraction=0.9\n",
      "[LightGBM] [Warning] feature_fraction is set=0.9, colsample_bytree=1.0 will be ignored. Current value: feature_fraction=0.9\n",
      "[LightGBM] [Warning] bagging_fraction is set=0.9, subsample=1.0 will be ignored. Current value: bagging_fraction=0.9\n",
      "[LightGBM] [Warning] feature_fraction is set=0.9, colsample_bytree=1.0 will be ignored. Current value: feature_fraction=0.9\n",
      "[LightGBM] [Warning] bagging_fraction is set=0.9, subsample=1.0 will be ignored. Current value: bagging_fraction=0.9\n",
      "[LightGBM] [Warning] feature_fraction is set=0.9, colsample_bytree=1.0 will be ignored. Current value: feature_fraction=0.9\n",
      "[LightGBM] [Warning] bagging_fraction is set=0.9, subsample=1.0 will be ignored. Current value: bagging_fraction=0.9\n",
      "[LightGBM] [Warning] feature_fraction is set=0.9, colsample_bytree=1.0 will be ignored. Current value: feature_fraction=0.9\n",
      "[LightGBM] [Warning] bagging_fraction is set=1.0, subsample=1.0 will be ignored. Current value: bagging_fraction=1.0\n",
      "[LightGBM] [Warning] feature_fraction is set=0.9, colsample_bytree=1.0 will be ignored. Current value: feature_fraction=0.9\n",
      "[LightGBM] [Warning] bagging_fraction is set=1.0, subsample=1.0 will be ignored. Current value: bagging_fraction=1.0\n",
      "[LightGBM] [Warning] feature_fraction is set=0.9, colsample_bytree=1.0 will be ignored. Current value: feature_fraction=0.9\n",
      "[LightGBM] [Warning] bagging_fraction is set=1.0, subsample=1.0 will be ignored. Current value: bagging_fraction=1.0\n",
      "[LightGBM] [Warning] feature_fraction is set=0.9, colsample_bytree=1.0 will be ignored. Current value: feature_fraction=0.9\n",
      "[LightGBM] [Warning] bagging_fraction is set=1.0, subsample=1.0 will be ignored. Current value: bagging_fraction=1.0\n",
      "[LightGBM] [Warning] feature_fraction is set=0.9, colsample_bytree=1.0 will be ignored. Current value: feature_fraction=0.9\n",
      "[LightGBM] [Warning] bagging_fraction is set=1.0, subsample=1.0 will be ignored. Current value: bagging_fraction=1.0\n"
     ]
    }
   ],
   "source": [
    "best_bagging = dict()\n",
    "for i in bagging_fraction:\n",
    "    model = LGBMRegressor(objective=max(best_obj, key=lambda x:best_obj[x]),\n",
    "                         num_leaves=max(best_leaves, key=lambda x:best_leaves[x]),\n",
    "                         max_depth=max(best_depth, key=lambda x:best_depth[x]),\n",
    "                         feature_fraction=max(best_feature, key=lambda x:best_feature[x]),              \n",
    "                         bagging_fraction=i)\n",
    "    score = np.mean(cross_val_score(model, xtrain_dc, ytrain, verbose=0, cv = 5, scoring='neg_mean_absolute_error'))                  \n",
    "    best_bagging[i] = score"
   ]
  },
  {
   "cell_type": "code",
   "execution_count": 68,
   "id": "e606505e",
   "metadata": {},
   "outputs": [
    {
     "name": "stdout",
     "output_type": "stream",
     "text": [
      "[LightGBM] [Warning] feature_fraction is set=0.9, colsample_bytree=1.0 will be ignored. Current value: feature_fraction=0.9\n",
      "[LightGBM] [Warning] bagging_fraction is set=0.6, subsample=1.0 will be ignored. Current value: bagging_fraction=0.6\n",
      "[LightGBM] [Warning] feature_fraction is set=0.9, colsample_bytree=1.0 will be ignored. Current value: feature_fraction=0.9\n",
      "[LightGBM] [Warning] bagging_fraction is set=0.6, subsample=1.0 will be ignored. Current value: bagging_fraction=0.6\n",
      "[LightGBM] [Warning] feature_fraction is set=0.9, colsample_bytree=1.0 will be ignored. Current value: feature_fraction=0.9\n",
      "[LightGBM] [Warning] bagging_fraction is set=0.6, subsample=1.0 will be ignored. Current value: bagging_fraction=0.6\n",
      "[LightGBM] [Warning] feature_fraction is set=0.9, colsample_bytree=1.0 will be ignored. Current value: feature_fraction=0.9\n",
      "[LightGBM] [Warning] bagging_fraction is set=0.6, subsample=1.0 will be ignored. Current value: bagging_fraction=0.6\n",
      "[LightGBM] [Warning] feature_fraction is set=0.9, colsample_bytree=1.0 will be ignored. Current value: feature_fraction=0.9\n",
      "[LightGBM] [Warning] bagging_fraction is set=0.6, subsample=1.0 will be ignored. Current value: bagging_fraction=0.6\n",
      "[LightGBM] [Warning] feature_fraction is set=0.9, colsample_bytree=1.0 will be ignored. Current value: feature_fraction=0.9\n",
      "[LightGBM] [Warning] bagging_fraction is set=0.6, subsample=1.0 will be ignored. Current value: bagging_fraction=0.6\n",
      "[LightGBM] [Warning] feature_fraction is set=0.9, colsample_bytree=1.0 will be ignored. Current value: feature_fraction=0.9\n",
      "[LightGBM] [Warning] bagging_fraction is set=0.6, subsample=1.0 will be ignored. Current value: bagging_fraction=0.6\n",
      "[LightGBM] [Warning] feature_fraction is set=0.9, colsample_bytree=1.0 will be ignored. Current value: feature_fraction=0.9\n",
      "[LightGBM] [Warning] bagging_fraction is set=0.6, subsample=1.0 will be ignored. Current value: bagging_fraction=0.6\n",
      "[LightGBM] [Warning] feature_fraction is set=0.9, colsample_bytree=1.0 will be ignored. Current value: feature_fraction=0.9\n",
      "[LightGBM] [Warning] bagging_fraction is set=0.6, subsample=1.0 will be ignored. Current value: bagging_fraction=0.6\n",
      "[LightGBM] [Warning] feature_fraction is set=0.9, colsample_bytree=1.0 will be ignored. Current value: feature_fraction=0.9\n",
      "[LightGBM] [Warning] bagging_fraction is set=0.6, subsample=1.0 will be ignored. Current value: bagging_fraction=0.6\n",
      "[LightGBM] [Warning] feature_fraction is set=0.9, colsample_bytree=1.0 will be ignored. Current value: feature_fraction=0.9\n",
      "[LightGBM] [Warning] bagging_fraction is set=0.6, subsample=1.0 will be ignored. Current value: bagging_fraction=0.6\n",
      "[LightGBM] [Warning] feature_fraction is set=0.9, colsample_bytree=1.0 will be ignored. Current value: feature_fraction=0.9\n",
      "[LightGBM] [Warning] bagging_fraction is set=0.6, subsample=1.0 will be ignored. Current value: bagging_fraction=0.6\n",
      "[LightGBM] [Warning] feature_fraction is set=0.9, colsample_bytree=1.0 will be ignored. Current value: feature_fraction=0.9\n",
      "[LightGBM] [Warning] bagging_fraction is set=0.6, subsample=1.0 will be ignored. Current value: bagging_fraction=0.6\n",
      "[LightGBM] [Warning] feature_fraction is set=0.9, colsample_bytree=1.0 will be ignored. Current value: feature_fraction=0.9\n",
      "[LightGBM] [Warning] bagging_fraction is set=0.6, subsample=1.0 will be ignored. Current value: bagging_fraction=0.6\n",
      "[LightGBM] [Warning] feature_fraction is set=0.9, colsample_bytree=1.0 will be ignored. Current value: feature_fraction=0.9\n",
      "[LightGBM] [Warning] bagging_fraction is set=0.6, subsample=1.0 will be ignored. Current value: bagging_fraction=0.6\n",
      "[LightGBM] [Warning] feature_fraction is set=0.9, colsample_bytree=1.0 will be ignored. Current value: feature_fraction=0.9\n",
      "[LightGBM] [Warning] bagging_fraction is set=0.6, subsample=1.0 will be ignored. Current value: bagging_fraction=0.6\n",
      "[LightGBM] [Warning] feature_fraction is set=0.9, colsample_bytree=1.0 will be ignored. Current value: feature_fraction=0.9\n",
      "[LightGBM] [Warning] bagging_fraction is set=0.6, subsample=1.0 will be ignored. Current value: bagging_fraction=0.6\n",
      "[LightGBM] [Warning] feature_fraction is set=0.9, colsample_bytree=1.0 will be ignored. Current value: feature_fraction=0.9\n",
      "[LightGBM] [Warning] bagging_fraction is set=0.6, subsample=1.0 will be ignored. Current value: bagging_fraction=0.6\n",
      "[LightGBM] [Warning] feature_fraction is set=0.9, colsample_bytree=1.0 will be ignored. Current value: feature_fraction=0.9\n",
      "[LightGBM] [Warning] bagging_fraction is set=0.6, subsample=1.0 will be ignored. Current value: bagging_fraction=0.6\n",
      "[LightGBM] [Warning] feature_fraction is set=0.9, colsample_bytree=1.0 will be ignored. Current value: feature_fraction=0.9\n",
      "[LightGBM] [Warning] bagging_fraction is set=0.6, subsample=1.0 will be ignored. Current value: bagging_fraction=0.6\n",
      "[LightGBM] [Warning] feature_fraction is set=0.9, colsample_bytree=1.0 will be ignored. Current value: feature_fraction=0.9\n",
      "[LightGBM] [Warning] bagging_fraction is set=0.6, subsample=1.0 will be ignored. Current value: bagging_fraction=0.6\n",
      "[LightGBM] [Warning] feature_fraction is set=0.9, colsample_bytree=1.0 will be ignored. Current value: feature_fraction=0.9\n",
      "[LightGBM] [Warning] bagging_fraction is set=0.6, subsample=1.0 will be ignored. Current value: bagging_fraction=0.6\n",
      "[LightGBM] [Warning] feature_fraction is set=0.9, colsample_bytree=1.0 will be ignored. Current value: feature_fraction=0.9\n",
      "[LightGBM] [Warning] bagging_fraction is set=0.6, subsample=1.0 will be ignored. Current value: bagging_fraction=0.6\n",
      "[LightGBM] [Warning] feature_fraction is set=0.9, colsample_bytree=1.0 will be ignored. Current value: feature_fraction=0.9\n",
      "[LightGBM] [Warning] bagging_fraction is set=0.6, subsample=1.0 will be ignored. Current value: bagging_fraction=0.6\n",
      "[LightGBM] [Warning] feature_fraction is set=0.9, colsample_bytree=1.0 will be ignored. Current value: feature_fraction=0.9\n",
      "[LightGBM] [Warning] bagging_fraction is set=0.6, subsample=1.0 will be ignored. Current value: bagging_fraction=0.6\n",
      "[LightGBM] [Warning] feature_fraction is set=0.9, colsample_bytree=1.0 will be ignored. Current value: feature_fraction=0.9\n",
      "[LightGBM] [Warning] bagging_fraction is set=0.6, subsample=1.0 will be ignored. Current value: bagging_fraction=0.6\n",
      "[LightGBM] [Warning] feature_fraction is set=0.9, colsample_bytree=1.0 will be ignored. Current value: feature_fraction=0.9\n",
      "[LightGBM] [Warning] bagging_fraction is set=0.6, subsample=1.0 will be ignored. Current value: bagging_fraction=0.6\n",
      "[LightGBM] [Warning] feature_fraction is set=0.9, colsample_bytree=1.0 will be ignored. Current value: feature_fraction=0.9\n",
      "[LightGBM] [Warning] bagging_fraction is set=0.6, subsample=1.0 will be ignored. Current value: bagging_fraction=0.6\n",
      "[LightGBM] [Warning] feature_fraction is set=0.9, colsample_bytree=1.0 will be ignored. Current value: feature_fraction=0.9\n",
      "[LightGBM] [Warning] bagging_fraction is set=0.6, subsample=1.0 will be ignored. Current value: bagging_fraction=0.6\n",
      "[LightGBM] [Warning] feature_fraction is set=0.9, colsample_bytree=1.0 will be ignored. Current value: feature_fraction=0.9\n",
      "[LightGBM] [Warning] bagging_fraction is set=0.6, subsample=1.0 will be ignored. Current value: bagging_fraction=0.6\n",
      "[LightGBM] [Warning] feature_fraction is set=0.9, colsample_bytree=1.0 will be ignored. Current value: feature_fraction=0.9\n",
      "[LightGBM] [Warning] bagging_fraction is set=0.6, subsample=1.0 will be ignored. Current value: bagging_fraction=0.6\n",
      "[LightGBM] [Warning] feature_fraction is set=0.9, colsample_bytree=1.0 will be ignored. Current value: feature_fraction=0.9\n",
      "[LightGBM] [Warning] bagging_fraction is set=0.6, subsample=1.0 will be ignored. Current value: bagging_fraction=0.6\n",
      "[LightGBM] [Warning] feature_fraction is set=0.9, colsample_bytree=1.0 will be ignored. Current value: feature_fraction=0.9\n",
      "[LightGBM] [Warning] bagging_fraction is set=0.6, subsample=1.0 will be ignored. Current value: bagging_fraction=0.6\n",
      "[LightGBM] [Warning] feature_fraction is set=0.9, colsample_bytree=1.0 will be ignored. Current value: feature_fraction=0.9\n",
      "[LightGBM] [Warning] bagging_fraction is set=0.6, subsample=1.0 will be ignored. Current value: bagging_fraction=0.6\n"
     ]
    },
    {
     "name": "stdout",
     "output_type": "stream",
     "text": [
      "[LightGBM] [Warning] feature_fraction is set=0.9, colsample_bytree=1.0 will be ignored. Current value: feature_fraction=0.9\n",
      "[LightGBM] [Warning] bagging_fraction is set=0.6, subsample=1.0 will be ignored. Current value: bagging_fraction=0.6\n"
     ]
    }
   ],
   "source": [
    "best_L1 = dict()\n",
    "for i in reg_alpha:\n",
    "    model = LGBMRegressor(objective=max(best_obj, key=lambda x:best_obj[x]),\n",
    "                         num_leaves=max(best_leaves, key=lambda x:best_leaves[x]),\n",
    "                         max_depth=max(best_depth, key=lambda x:best_depth[x]),\n",
    "                         feature_fraction=max(best_feature, key=lambda x:best_feature[x]),\n",
    "                         bagging_fraction=max(best_bagging, key=lambda x:best_bagging[x]),                     \n",
    "                         reg_alpha=i)\n",
    "    score = np.mean(cross_val_score(model, xtrain_dc, ytrain, verbose=0, cv = 5, scoring='neg_mean_absolute_error'))                  \n",
    "    best_L1[i] = score"
   ]
  },
  {
   "cell_type": "code",
   "execution_count": 72,
   "id": "0c04f443",
   "metadata": {},
   "outputs": [
    {
     "name": "stdout",
     "output_type": "stream",
     "text": [
      "[LightGBM] [Warning] feature_fraction is set=0.9, colsample_bytree=1.0 will be ignored. Current value: feature_fraction=0.9\n",
      "[LightGBM] [Warning] bagging_fraction is set=0.6, subsample=1.0 will be ignored. Current value: bagging_fraction=0.6\n",
      "[LightGBM] [Warning] feature_fraction is set=0.9, colsample_bytree=1.0 will be ignored. Current value: feature_fraction=0.9\n",
      "[LightGBM] [Warning] bagging_fraction is set=0.6, subsample=1.0 will be ignored. Current value: bagging_fraction=0.6\n",
      "[LightGBM] [Warning] feature_fraction is set=0.9, colsample_bytree=1.0 will be ignored. Current value: feature_fraction=0.9\n",
      "[LightGBM] [Warning] bagging_fraction is set=0.6, subsample=1.0 will be ignored. Current value: bagging_fraction=0.6\n",
      "[LightGBM] [Warning] feature_fraction is set=0.9, colsample_bytree=1.0 will be ignored. Current value: feature_fraction=0.9\n",
      "[LightGBM] [Warning] bagging_fraction is set=0.6, subsample=1.0 will be ignored. Current value: bagging_fraction=0.6\n",
      "[LightGBM] [Warning] feature_fraction is set=0.9, colsample_bytree=1.0 will be ignored. Current value: feature_fraction=0.9\n",
      "[LightGBM] [Warning] bagging_fraction is set=0.6, subsample=1.0 will be ignored. Current value: bagging_fraction=0.6\n",
      "[LightGBM] [Warning] feature_fraction is set=0.9, colsample_bytree=1.0 will be ignored. Current value: feature_fraction=0.9\n",
      "[LightGBM] [Warning] bagging_fraction is set=0.6, subsample=1.0 will be ignored. Current value: bagging_fraction=0.6\n",
      "[LightGBM] [Warning] feature_fraction is set=0.9, colsample_bytree=1.0 will be ignored. Current value: feature_fraction=0.9\n",
      "[LightGBM] [Warning] bagging_fraction is set=0.6, subsample=1.0 will be ignored. Current value: bagging_fraction=0.6\n",
      "[LightGBM] [Warning] feature_fraction is set=0.9, colsample_bytree=1.0 will be ignored. Current value: feature_fraction=0.9\n",
      "[LightGBM] [Warning] bagging_fraction is set=0.6, subsample=1.0 will be ignored. Current value: bagging_fraction=0.6\n",
      "[LightGBM] [Warning] feature_fraction is set=0.9, colsample_bytree=1.0 will be ignored. Current value: feature_fraction=0.9\n",
      "[LightGBM] [Warning] bagging_fraction is set=0.6, subsample=1.0 will be ignored. Current value: bagging_fraction=0.6\n",
      "[LightGBM] [Warning] feature_fraction is set=0.9, colsample_bytree=1.0 will be ignored. Current value: feature_fraction=0.9\n",
      "[LightGBM] [Warning] bagging_fraction is set=0.6, subsample=1.0 will be ignored. Current value: bagging_fraction=0.6\n",
      "[LightGBM] [Warning] feature_fraction is set=0.9, colsample_bytree=1.0 will be ignored. Current value: feature_fraction=0.9\n",
      "[LightGBM] [Warning] bagging_fraction is set=0.6, subsample=1.0 will be ignored. Current value: bagging_fraction=0.6\n",
      "[LightGBM] [Warning] feature_fraction is set=0.9, colsample_bytree=1.0 will be ignored. Current value: feature_fraction=0.9\n",
      "[LightGBM] [Warning] bagging_fraction is set=0.6, subsample=1.0 will be ignored. Current value: bagging_fraction=0.6\n",
      "[LightGBM] [Warning] feature_fraction is set=0.9, colsample_bytree=1.0 will be ignored. Current value: feature_fraction=0.9\n",
      "[LightGBM] [Warning] bagging_fraction is set=0.6, subsample=1.0 will be ignored. Current value: bagging_fraction=0.6\n",
      "[LightGBM] [Warning] feature_fraction is set=0.9, colsample_bytree=1.0 will be ignored. Current value: feature_fraction=0.9\n",
      "[LightGBM] [Warning] bagging_fraction is set=0.6, subsample=1.0 will be ignored. Current value: bagging_fraction=0.6\n",
      "[LightGBM] [Warning] feature_fraction is set=0.9, colsample_bytree=1.0 will be ignored. Current value: feature_fraction=0.9\n",
      "[LightGBM] [Warning] bagging_fraction is set=0.6, subsample=1.0 will be ignored. Current value: bagging_fraction=0.6\n",
      "[LightGBM] [Warning] feature_fraction is set=0.9, colsample_bytree=1.0 will be ignored. Current value: feature_fraction=0.9\n",
      "[LightGBM] [Warning] bagging_fraction is set=0.6, subsample=1.0 will be ignored. Current value: bagging_fraction=0.6\n",
      "[LightGBM] [Warning] feature_fraction is set=0.9, colsample_bytree=1.0 will be ignored. Current value: feature_fraction=0.9\n",
      "[LightGBM] [Warning] bagging_fraction is set=0.6, subsample=1.0 will be ignored. Current value: bagging_fraction=0.6\n",
      "[LightGBM] [Warning] feature_fraction is set=0.9, colsample_bytree=1.0 will be ignored. Current value: feature_fraction=0.9\n",
      "[LightGBM] [Warning] bagging_fraction is set=0.6, subsample=1.0 will be ignored. Current value: bagging_fraction=0.6\n",
      "[LightGBM] [Warning] feature_fraction is set=0.9, colsample_bytree=1.0 will be ignored. Current value: feature_fraction=0.9\n",
      "[LightGBM] [Warning] bagging_fraction is set=0.6, subsample=1.0 will be ignored. Current value: bagging_fraction=0.6\n",
      "[LightGBM] [Warning] feature_fraction is set=0.9, colsample_bytree=1.0 will be ignored. Current value: feature_fraction=0.9\n",
      "[LightGBM] [Warning] bagging_fraction is set=0.6, subsample=1.0 will be ignored. Current value: bagging_fraction=0.6\n",
      "[LightGBM] [Warning] feature_fraction is set=0.9, colsample_bytree=1.0 will be ignored. Current value: feature_fraction=0.9\n",
      "[LightGBM] [Warning] bagging_fraction is set=0.6, subsample=1.0 will be ignored. Current value: bagging_fraction=0.6\n",
      "[LightGBM] [Warning] feature_fraction is set=0.9, colsample_bytree=1.0 will be ignored. Current value: feature_fraction=0.9\n",
      "[LightGBM] [Warning] bagging_fraction is set=0.6, subsample=1.0 will be ignored. Current value: bagging_fraction=0.6\n",
      "[LightGBM] [Warning] feature_fraction is set=0.9, colsample_bytree=1.0 will be ignored. Current value: feature_fraction=0.9\n",
      "[LightGBM] [Warning] bagging_fraction is set=0.6, subsample=1.0 will be ignored. Current value: bagging_fraction=0.6\n",
      "[LightGBM] [Warning] feature_fraction is set=0.9, colsample_bytree=1.0 will be ignored. Current value: feature_fraction=0.9\n",
      "[LightGBM] [Warning] bagging_fraction is set=0.6, subsample=1.0 will be ignored. Current value: bagging_fraction=0.6\n",
      "[LightGBM] [Warning] feature_fraction is set=0.9, colsample_bytree=1.0 will be ignored. Current value: feature_fraction=0.9\n",
      "[LightGBM] [Warning] bagging_fraction is set=0.6, subsample=1.0 will be ignored. Current value: bagging_fraction=0.6\n",
      "[LightGBM] [Warning] feature_fraction is set=0.9, colsample_bytree=1.0 will be ignored. Current value: feature_fraction=0.9\n",
      "[LightGBM] [Warning] bagging_fraction is set=0.6, subsample=1.0 will be ignored. Current value: bagging_fraction=0.6\n",
      "[LightGBM] [Warning] feature_fraction is set=0.9, colsample_bytree=1.0 will be ignored. Current value: feature_fraction=0.9\n",
      "[LightGBM] [Warning] bagging_fraction is set=0.6, subsample=1.0 will be ignored. Current value: bagging_fraction=0.6\n",
      "[LightGBM] [Warning] feature_fraction is set=0.9, colsample_bytree=1.0 will be ignored. Current value: feature_fraction=0.9\n",
      "[LightGBM] [Warning] bagging_fraction is set=0.6, subsample=1.0 will be ignored. Current value: bagging_fraction=0.6\n",
      "[LightGBM] [Warning] feature_fraction is set=0.9, colsample_bytree=1.0 will be ignored. Current value: feature_fraction=0.9\n",
      "[LightGBM] [Warning] bagging_fraction is set=0.6, subsample=1.0 will be ignored. Current value: bagging_fraction=0.6\n",
      "[LightGBM] [Warning] feature_fraction is set=0.9, colsample_bytree=1.0 will be ignored. Current value: feature_fraction=0.9\n",
      "[LightGBM] [Warning] bagging_fraction is set=0.6, subsample=1.0 will be ignored. Current value: bagging_fraction=0.6\n",
      "[LightGBM] [Warning] feature_fraction is set=0.9, colsample_bytree=1.0 will be ignored. Current value: feature_fraction=0.9\n",
      "[LightGBM] [Warning] bagging_fraction is set=0.6, subsample=1.0 will be ignored. Current value: bagging_fraction=0.6\n",
      "[LightGBM] [Warning] feature_fraction is set=0.9, colsample_bytree=1.0 will be ignored. Current value: feature_fraction=0.9\n",
      "[LightGBM] [Warning] bagging_fraction is set=0.6, subsample=1.0 will be ignored. Current value: bagging_fraction=0.6\n",
      "[LightGBM] [Warning] feature_fraction is set=0.9, colsample_bytree=1.0 will be ignored. Current value: feature_fraction=0.9\n",
      "[LightGBM] [Warning] bagging_fraction is set=0.6, subsample=1.0 will be ignored. Current value: bagging_fraction=0.6\n",
      "[LightGBM] [Warning] feature_fraction is set=0.9, colsample_bytree=1.0 will be ignored. Current value: feature_fraction=0.9\n",
      "[LightGBM] [Warning] bagging_fraction is set=0.6, subsample=1.0 will be ignored. Current value: bagging_fraction=0.6\n"
     ]
    },
    {
     "name": "stdout",
     "output_type": "stream",
     "text": [
      "[LightGBM] [Warning] feature_fraction is set=0.9, colsample_bytree=1.0 will be ignored. Current value: feature_fraction=0.9\n",
      "[LightGBM] [Warning] bagging_fraction is set=0.6, subsample=1.0 will be ignored. Current value: bagging_fraction=0.6\n"
     ]
    }
   ],
   "source": [
    "best_L2 = dict()\n",
    "for i in reg_lambda:\n",
    "    model = LGBMRegressor(objective=max(best_obj, key=lambda x:best_obj[x]),\n",
    "                         num_leaves=max(best_leaves, key=lambda x:best_leaves[x]),\n",
    "                         max_depth=max(best_depth, key=lambda x:best_depth[x]),\n",
    "                         feature_fraction=max(best_feature, key=lambda x:best_feature[x]),\n",
    "                         bagging_fraction=max(best_bagging, key=lambda x:best_bagging[x]), \n",
    "                         reg_alpha=max(best_L1, key=lambda x:best_L1[x]),\n",
    "                         reg_lambda=i)\n",
    "    score = np.mean(cross_val_score(model, xtrain_dc, ytrain, verbose=0, cv = 5, scoring='neg_mean_absolute_error'))                  \n",
    "    best_L2[i] = score"
   ]
  },
  {
   "cell_type": "code",
   "execution_count": 73,
   "id": "58c90b43",
   "metadata": {},
   "outputs": [],
   "source": [
    "model_lgb = LGBMRegressor(objective=max(best_obj, key=lambda x:best_obj[x]),\n",
    "                         num_leaves=max(best_leaves, key=lambda x:best_leaves[x]),\n",
    "                         max_depth=max(best_depth, key=lambda x:best_depth[x]),\n",
    "                         feature_fraction=max(best_feature, key=lambda x:best_feature[x]),\n",
    "                         bagging_fraction=max(best_bagging, key=lambda x:best_bagging[x]), \n",
    "                         reg_alpha=max(best_L1, key=lambda x:best_L1[x]),\n",
    "                         reg_lambda=max(best_L2, key=lambda x:best_L2[x]))"
   ]
  },
  {
   "cell_type": "code",
   "execution_count": 96,
   "id": "fccdf690",
   "metadata": {},
   "outputs": [],
   "source": [
    "#创建一个5折交叉验证函数，查看\n",
    "def StratifiedKFold_verify(model, xtrain, ytrain):\n",
    "    from sklearn.model_selection import StratifiedKFold\n",
    "    from sklearn.metrics import mean_absolute_error\n",
    "    \n",
    "    xtrain_ = pd.DataFrame(xtrain)\n",
    "    ytrain_ = pd.DataFrame(ytrain)\n",
    "    \n",
    "    scores_train = []\n",
    "    scores = []\n",
    "    \n",
    "    sk = StratifiedKFold(n_splits=5,shuffle=True,random_state=0)\n",
    "    \n",
    "    for train_index,test_index in sk.split(xtrain, ytrain):\n",
    "        train_x = xtrain_.iloc[train_index].values\n",
    "        train_y = ytrain_.iloc[train_index]\n",
    "        test_x = xtrain_.iloc[test_index].values\n",
    "        test_y = ytrain_.iloc[test_index]\n",
    "\n",
    "        model.fit(train_x,train_y)\n",
    "        pred_train_model = model.predict(train_x)\n",
    "        pred_model = model.predict(test_x)\n",
    "\n",
    "        score_train = mean_absolute_error(train_y,pred_train_model)\n",
    "        scores_train.append(score_train)\n",
    "        score = mean_absolute_error(test_y,pred_model)\n",
    "        scores.append(score)\n",
    "    print('Train mae:',np.mean(score_train))\n",
    "    print('Verify mae',np.mean(scores))"
   ]
  },
  {
   "cell_type": "code",
   "execution_count": 97,
   "id": "6b31bd06",
   "metadata": {},
   "outputs": [
    {
     "name": "stderr",
     "output_type": "stream",
     "text": [
      "C:\\ProgramData\\Anaconda3\\lib\\site-packages\\sklearn\\model_selection\\_split.py:676: UserWarning: The least populated class in y has only 1 members, which is less than n_splits=5.\n",
      "  warnings.warn(\n",
      "C:\\ProgramData\\Anaconda3\\lib\\site-packages\\sklearn\\utils\\validation.py:993: DataConversionWarning: A column-vector y was passed when a 1d array was expected. Please change the shape of y to (n_samples, ), for example using ravel().\n",
      "  y = column_or_1d(y, warn=True)\n"
     ]
    },
    {
     "name": "stdout",
     "output_type": "stream",
     "text": [
      "[LightGBM] [Warning] feature_fraction is set=0.9, colsample_bytree=1.0 will be ignored. Current value: feature_fraction=0.9\n",
      "[LightGBM] [Warning] bagging_fraction is set=0.6, subsample=1.0 will be ignored. Current value: bagging_fraction=0.6\n"
     ]
    },
    {
     "name": "stderr",
     "output_type": "stream",
     "text": [
      "C:\\ProgramData\\Anaconda3\\lib\\site-packages\\sklearn\\utils\\validation.py:993: DataConversionWarning: A column-vector y was passed when a 1d array was expected. Please change the shape of y to (n_samples, ), for example using ravel().\n",
      "  y = column_or_1d(y, warn=True)\n"
     ]
    },
    {
     "name": "stdout",
     "output_type": "stream",
     "text": [
      "[LightGBM] [Warning] feature_fraction is set=0.9, colsample_bytree=1.0 will be ignored. Current value: feature_fraction=0.9\n",
      "[LightGBM] [Warning] bagging_fraction is set=0.6, subsample=1.0 will be ignored. Current value: bagging_fraction=0.6\n"
     ]
    },
    {
     "name": "stderr",
     "output_type": "stream",
     "text": [
      "C:\\ProgramData\\Anaconda3\\lib\\site-packages\\sklearn\\utils\\validation.py:993: DataConversionWarning: A column-vector y was passed when a 1d array was expected. Please change the shape of y to (n_samples, ), for example using ravel().\n",
      "  y = column_or_1d(y, warn=True)\n"
     ]
    },
    {
     "name": "stdout",
     "output_type": "stream",
     "text": [
      "[LightGBM] [Warning] feature_fraction is set=0.9, colsample_bytree=1.0 will be ignored. Current value: feature_fraction=0.9\n",
      "[LightGBM] [Warning] bagging_fraction is set=0.6, subsample=1.0 will be ignored. Current value: bagging_fraction=0.6\n"
     ]
    },
    {
     "name": "stderr",
     "output_type": "stream",
     "text": [
      "C:\\ProgramData\\Anaconda3\\lib\\site-packages\\sklearn\\utils\\validation.py:993: DataConversionWarning: A column-vector y was passed when a 1d array was expected. Please change the shape of y to (n_samples, ), for example using ravel().\n",
      "  y = column_or_1d(y, warn=True)\n"
     ]
    },
    {
     "name": "stdout",
     "output_type": "stream",
     "text": [
      "[LightGBM] [Warning] feature_fraction is set=0.9, colsample_bytree=1.0 will be ignored. Current value: feature_fraction=0.9\n",
      "[LightGBM] [Warning] bagging_fraction is set=0.6, subsample=1.0 will be ignored. Current value: bagging_fraction=0.6\n"
     ]
    },
    {
     "name": "stderr",
     "output_type": "stream",
     "text": [
      "C:\\ProgramData\\Anaconda3\\lib\\site-packages\\sklearn\\utils\\validation.py:993: DataConversionWarning: A column-vector y was passed when a 1d array was expected. Please change the shape of y to (n_samples, ), for example using ravel().\n",
      "  y = column_or_1d(y, warn=True)\n"
     ]
    },
    {
     "name": "stdout",
     "output_type": "stream",
     "text": [
      "[LightGBM] [Warning] feature_fraction is set=0.9, colsample_bytree=1.0 will be ignored. Current value: feature_fraction=0.9\n",
      "[LightGBM] [Warning] bagging_fraction is set=0.6, subsample=1.0 will be ignored. Current value: bagging_fraction=0.6\n",
      "Train mae: 910.6985237904446\n",
      "Verify mae 1027.3231525434005\n"
     ]
    }
   ],
   "source": [
    "StratifiedKFold_verify(model_lgb,xtrain_dc,ytrain)"
   ]
  },
  {
   "cell_type": "code",
   "execution_count": 98,
   "id": "8aa6f3d0",
   "metadata": {},
   "outputs": [
    {
     "name": "stderr",
     "output_type": "stream",
     "text": [
      "C:\\ProgramData\\Anaconda3\\lib\\site-packages\\sklearn\\model_selection\\_split.py:676: UserWarning: The least populated class in y has only 1 members, which is less than n_splits=5.\n",
      "  warnings.warn(\n",
      "C:\\ProgramData\\Anaconda3\\lib\\site-packages\\sklearn\\utils\\validation.py:993: DataConversionWarning: A column-vector y was passed when a 1d array was expected. Please change the shape of y to (n_samples, ), for example using ravel().\n",
      "  y = column_or_1d(y, warn=True)\n",
      "C:\\ProgramData\\Anaconda3\\lib\\site-packages\\sklearn\\utils\\validation.py:993: DataConversionWarning: A column-vector y was passed when a 1d array was expected. Please change the shape of y to (n_samples, ), for example using ravel().\n",
      "  y = column_or_1d(y, warn=True)\n",
      "C:\\ProgramData\\Anaconda3\\lib\\site-packages\\sklearn\\utils\\validation.py:993: DataConversionWarning: A column-vector y was passed when a 1d array was expected. Please change the shape of y to (n_samples, ), for example using ravel().\n",
      "  y = column_or_1d(y, warn=True)\n",
      "C:\\ProgramData\\Anaconda3\\lib\\site-packages\\sklearn\\utils\\validation.py:993: DataConversionWarning: A column-vector y was passed when a 1d array was expected. Please change the shape of y to (n_samples, ), for example using ravel().\n",
      "  y = column_or_1d(y, warn=True)\n",
      "C:\\ProgramData\\Anaconda3\\lib\\site-packages\\sklearn\\utils\\validation.py:993: DataConversionWarning: A column-vector y was passed when a 1d array was expected. Please change the shape of y to (n_samples, ), for example using ravel().\n",
      "  y = column_or_1d(y, warn=True)\n"
     ]
    },
    {
     "name": "stdout",
     "output_type": "stream",
     "text": [
      "Train mae: 1035.0233482262286\n",
      "Verify mae 1124.1433377081198\n"
     ]
    }
   ],
   "source": [
    "StratifiedKFold_verify(LGBMRegressor(),xtrain_dc,ytrain)"
   ]
  },
  {
   "cell_type": "code",
   "execution_count": 102,
   "id": "cafc9751",
   "metadata": {},
   "outputs": [
    {
     "name": "stderr",
     "output_type": "stream",
     "text": [
      "C:\\ProgramData\\Anaconda3\\lib\\site-packages\\sklearn\\model_selection\\_split.py:676: UserWarning: The least populated class in y has only 1 members, which is less than n_splits=5.\n",
      "  warnings.warn(\n",
      "C:\\ProgramData\\Anaconda3\\lib\\site-packages\\sklearn\\utils\\validation.py:993: DataConversionWarning: A column-vector y was passed when a 1d array was expected. Please change the shape of y to (n_samples, ), for example using ravel().\n",
      "  y = column_or_1d(y, warn=True)\n"
     ]
    },
    {
     "name": "stdout",
     "output_type": "stream",
     "text": [
      "[LightGBM] [Warning] feature_fraction is set=0.9, colsample_bytree=1.0 will be ignored. Current value: feature_fraction=0.9\n",
      "[LightGBM] [Warning] bagging_fraction is set=0.6, subsample=1.0 will be ignored. Current value: bagging_fraction=0.6\n"
     ]
    },
    {
     "name": "stderr",
     "output_type": "stream",
     "text": [
      "C:\\ProgramData\\Anaconda3\\lib\\site-packages\\sklearn\\utils\\validation.py:993: DataConversionWarning: A column-vector y was passed when a 1d array was expected. Please change the shape of y to (n_samples, ), for example using ravel().\n",
      "  y = column_or_1d(y, warn=True)\n"
     ]
    },
    {
     "name": "stdout",
     "output_type": "stream",
     "text": [
      "[LightGBM] [Warning] feature_fraction is set=0.9, colsample_bytree=1.0 will be ignored. Current value: feature_fraction=0.9\n",
      "[LightGBM] [Warning] bagging_fraction is set=0.6, subsample=1.0 will be ignored. Current value: bagging_fraction=0.6\n"
     ]
    },
    {
     "name": "stderr",
     "output_type": "stream",
     "text": [
      "C:\\ProgramData\\Anaconda3\\lib\\site-packages\\sklearn\\utils\\validation.py:993: DataConversionWarning: A column-vector y was passed when a 1d array was expected. Please change the shape of y to (n_samples, ), for example using ravel().\n",
      "  y = column_or_1d(y, warn=True)\n"
     ]
    },
    {
     "name": "stdout",
     "output_type": "stream",
     "text": [
      "[LightGBM] [Warning] feature_fraction is set=0.9, colsample_bytree=1.0 will be ignored. Current value: feature_fraction=0.9\n",
      "[LightGBM] [Warning] bagging_fraction is set=0.6, subsample=1.0 will be ignored. Current value: bagging_fraction=0.6\n"
     ]
    },
    {
     "name": "stderr",
     "output_type": "stream",
     "text": [
      "C:\\ProgramData\\Anaconda3\\lib\\site-packages\\sklearn\\utils\\validation.py:993: DataConversionWarning: A column-vector y was passed when a 1d array was expected. Please change the shape of y to (n_samples, ), for example using ravel().\n",
      "  y = column_or_1d(y, warn=True)\n"
     ]
    },
    {
     "name": "stdout",
     "output_type": "stream",
     "text": [
      "[LightGBM] [Warning] feature_fraction is set=0.9, colsample_bytree=1.0 will be ignored. Current value: feature_fraction=0.9\n",
      "[LightGBM] [Warning] bagging_fraction is set=0.6, subsample=1.0 will be ignored. Current value: bagging_fraction=0.6\n"
     ]
    },
    {
     "name": "stderr",
     "output_type": "stream",
     "text": [
      "C:\\ProgramData\\Anaconda3\\lib\\site-packages\\sklearn\\utils\\validation.py:993: DataConversionWarning: A column-vector y was passed when a 1d array was expected. Please change the shape of y to (n_samples, ), for example using ravel().\n",
      "  y = column_or_1d(y, warn=True)\n"
     ]
    },
    {
     "name": "stdout",
     "output_type": "stream",
     "text": [
      "[LightGBM] [Warning] feature_fraction is set=0.9, colsample_bytree=1.0 will be ignored. Current value: feature_fraction=0.9\n",
      "[LightGBM] [Warning] bagging_fraction is set=0.6, subsample=1.0 will be ignored. Current value: bagging_fraction=0.6\n",
      "Train mae: 619.0002635688079\n",
      "Verify mae 673.8098292023781\n"
     ]
    }
   ],
   "source": [
    "StratifiedKFold_verify(model_lgb,xtrain,ytrain)"
   ]
  },
  {
   "cell_type": "code",
   "execution_count": 106,
   "id": "9d943b18",
   "metadata": {},
   "outputs": [],
   "source": [
    "#记录lgb分数和预测结果\n",
    "lgb_score = 673.8098292023781\n",
    "y_pred_lgb = model_lgb.predict(xtest)"
   ]
  },
  {
   "cell_type": "markdown",
   "id": "ae346988-9fda-427c-aa99-55de8ce96a71",
   "metadata": {},
   "source": [
    "---"
   ]
  },
  {
   "cell_type": "code",
   "execution_count": 119,
   "id": "63a324e1",
   "metadata": {},
   "outputs": [],
   "source": [
    "#XGBRegressor\n",
    "from xgboost.sklearn import XGBRegressor\n",
    "\n",
    "booster = ['gbtree', 'gblinear']\n",
    "n_estimators = [*range(120,500,50)]\n",
    "subsample = [0.7,0.8,0.9]\n",
    "colsample_bytree = [0.7,0.8,0.9]\n",
    "max_depth = [6,7,8]"
   ]
  },
  {
   "cell_type": "code",
   "execution_count": 107,
   "id": "0645fae5-3a45-40bb-b2ee-305f9ff6fc81",
   "metadata": {},
   "outputs": [],
   "source": [
    "best_booster = dict()\n",
    "for i in booster:\n",
    "    model = XGBRegressor(learning_rate=0.1,booster=i)\n",
    "    score = np.mean(cross_val_score(model, xtrain, ytrain, verbose=0, cv = 5, scoring='neg_mean_absolute_error'))    \n",
    "    best_booster[i] = score"
   ]
  },
  {
   "cell_type": "code",
   "execution_count": 111,
   "id": "1b00c4fa",
   "metadata": {},
   "outputs": [],
   "source": [
    "best_estimators = dict()\n",
    "for i in n_estimators:\n",
    "    model = XGBRegressor(learning_rate=0.1,booster=max(best_booster, key=lambda x:best_booster[x]),\n",
    "                        n_estimators=i)\n",
    "    score = np.mean(cross_val_score(model, xtrain, ytrain, verbose=0, cv = 5, scoring='neg_mean_absolute_error'))    \n",
    "    best_estimators[i] = score"
   ]
  },
  {
   "cell_type": "code",
   "execution_count": 117,
   "id": "72163b21",
   "metadata": {},
   "outputs": [],
   "source": [
    "best_subsample = dict()\n",
    "for i in subsample:\n",
    "    model = XGBRegressor(learning_rate=0.1,booster=max(best_booster, key=lambda x:best_booster[x]),\n",
    "                         n_estimators=max(best_estimators, key=lambda x:best_estimators[x]),\n",
    "                        subsample=i)\n",
    "    score = np.mean(cross_val_score(model, xtrain, ytrain, verbose=0, cv = 5, scoring='neg_mean_absolute_error'))    \n",
    "    best_subsample[i] = score"
   ]
  },
  {
   "cell_type": "code",
   "execution_count": 118,
   "id": "dbb2e1e8",
   "metadata": {},
   "outputs": [],
   "source": [
    "best_colsample = dict()\n",
    "for i in colsample_bytree:\n",
    "    model = XGBRegressor(learning_rate=0.1,booster=max(best_booster, key=lambda x:best_booster[x]),\n",
    "                         n_estimators=max(best_estimators, key=lambda x:best_estimators[x]),\n",
    "                         subsample=max(best_subsample, key=lambda x:best_subsample[x]),\n",
    "                        colsample_bytree=i)\n",
    "    score = np.mean(cross_val_score(model, xtrain, ytrain, verbose=0, cv = 5, scoring='neg_mean_absolute_error'))    \n",
    "    best_colsample[i] = score"
   ]
  },
  {
   "cell_type": "code",
   "execution_count": 120,
   "id": "72f6801a",
   "metadata": {},
   "outputs": [],
   "source": [
    "best_depth = dict()\n",
    "for i in max_depth:\n",
    "    model = XGBRegressor(learning_rate=0.1,booster=max(best_booster, key=lambda x:best_booster[x]),\n",
    "                         n_estimators=max(best_estimators, key=lambda x:best_estimators[x]),\n",
    "                         subsample=max(best_subsample, key=lambda x:best_subsample[x]),\n",
    "                         colsample_bytree=max(best_colsample, key=lambda x:best_colsample[x]),\n",
    "                        max_depth=i)\n",
    "    score = np.mean(cross_val_score(model, xtrain, ytrain, verbose=0, cv = 5, scoring='neg_mean_absolute_error'))    \n",
    "    best_depth[i] = score"
   ]
  },
  {
   "cell_type": "code",
   "execution_count": 121,
   "id": "fa14d41b-ef40-4705-961f-1081183b1f8b",
   "metadata": {},
   "outputs": [],
   "source": [
    "model_xgb = XGBRegressor(learning_rate=0.1,booster=max(best_booster, key=lambda x:best_booster[x]),\n",
    "                         n_estimators=max(best_estimators, key=lambda x:best_estimators[x]),\n",
    "                         subsample=max(best_subsample, key=lambda x:best_subsample[x]),\n",
    "                         colsample_bytree=max(best_colsample, key=lambda x:best_colsample[x]),\n",
    "                        max_depth=max(best_depth, key=lambda x:best_depth[x])\n",
    "                    )"
   ]
  },
  {
   "cell_type": "code",
   "execution_count": 122,
   "id": "fcb5db58",
   "metadata": {},
   "outputs": [
    {
     "name": "stdout",
     "output_type": "stream",
     "text": [
      "gbtree 470 0.9 1 8\n"
     ]
    }
   ],
   "source": [
    "print(max(best_booster, key=lambda x:best_booster[x]),\n",
    "        max(best_estimators, key=lambda x:best_estimators[x]),\n",
    "        max(best_subsample, key=lambda x:best_subsample[x]),\n",
    "        max(best_colsample, key=lambda x:best_colsample[x]),\n",
    "        max(best_depth, key=lambda x:best_depth[x])\n",
    "                    )"
   ]
  },
  {
   "cell_type": "code",
   "execution_count": 125,
   "id": "6de09660-8a2a-4912-b1b0-33e18103a708",
   "metadata": {},
   "outputs": [
    {
     "name": "stderr",
     "output_type": "stream",
     "text": [
      "C:\\ProgramData\\Anaconda3\\lib\\site-packages\\sklearn\\model_selection\\_split.py:676: UserWarning: The least populated class in y has only 1 members, which is less than n_splits=5.\n",
      "  warnings.warn(\n"
     ]
    },
    {
     "name": "stdout",
     "output_type": "stream",
     "text": [
      "Train mae: 390.6067794541282\n",
      "Verify mae 587.2572898386516\n"
     ]
    }
   ],
   "source": [
    "StratifiedKFold_verify(model_xgb,xtrain,ytrain)"
   ]
  },
  {
   "cell_type": "code",
   "execution_count": 136,
   "id": "8e5c1986-2e39-42b0-aff9-863db75ad840",
   "metadata": {},
   "outputs": [],
   "source": [
    "#记录xgb分数和预测结果\n",
    "xgb_score = 587.2572898386516\n",
    "y_pred_xgb = model_xgb.predict(xtest)"
   ]
  },
  {
   "cell_type": "markdown",
   "id": "9a7c96a7",
   "metadata": {},
   "source": [
    "---"
   ]
  },
  {
   "cell_type": "markdown",
   "id": "fa00b357",
   "metadata": {},
   "source": [
    "# 4.融合模型"
   ]
  },
  {
   "cell_type": "code",
   "execution_count": 141,
   "id": "9dfe6652",
   "metadata": {},
   "outputs": [],
   "source": [
    "def merge_score(pre1,pre2,scores):\n",
    "    result = pre1*(scores[0]/sum(scores)) + pre2*(scores[1]/sum(scores))\n",
    "    return result"
   ]
  },
  {
   "cell_type": "code",
   "execution_count": 142,
   "id": "a9c55e8d",
   "metadata": {},
   "outputs": [],
   "source": [
    "scores = [0.5,0.5]\n",
    "\n",
    "sub_ = merge_score(y_pred_lgb,y_pred_xgb,scores)\n",
    "sub = pd.DataFrame()\n",
    "sub['SaleID'] = xtest.index\n",
    "sub['price'] = sub_\n",
    "sub.to_csv('./sub_1.csv',index=False)"
   ]
  },
  {
   "cell_type": "code",
   "execution_count": 139,
   "id": "18ed2aa7",
   "metadata": {},
   "outputs": [
    {
     "data": {
      "text/plain": [
       "(array([1.23906e+05, 1.89270e+04, 4.91800e+03, 1.34000e+03, 4.70000e+02,\n",
       "        1.88000e+02, 1.24000e+02, 6.00000e+01, 4.80000e+01, 1.80000e+01]),\n",
       " array([1.10000e+01, 1.00098e+04, 2.00086e+04, 3.00074e+04, 4.00062e+04,\n",
       "        5.00050e+04, 6.00038e+04, 7.00026e+04, 8.00014e+04, 9.00002e+04,\n",
       "        9.99990e+04]),\n",
       " <BarContainer object of 10 artists>)"
      ]
     },
     "execution_count": 139,
     "metadata": {},
     "output_type": "execute_result"
    },
    {
     "data": {
      "image/png": "[encoded data removed]",
      "text/plain": [
       "<Figure size 432x288 with 1 Axes>"
      ]
     },
     "metadata": {
      "needs_background": "light"
     },
     "output_type": "display_data"
    }
   ],
   "source": [
    "plt.hist(ytrain)"
   ]
  },
  {
   "cell_type": "code",
   "execution_count": 140,
   "id": "63c997be",
   "metadata": {},
   "outputs": [
    {
     "data": {
      "text/plain": [
       "(array([3.8737e+04, 7.9460e+03, 2.1850e+03, 6.8800e+02, 2.3300e+02,\n",
       "        9.6000e+01, 5.6000e+01, 3.8000e+01, 1.3000e+01, 8.0000e+00]),\n",
       " array([ -939.72116088,  8892.48924478, 18724.69965045, 28556.91005611,\n",
       "        38389.12046177, 48221.33086744, 58053.5412731 , 67885.75167877,\n",
       "        77717.96208443, 87550.1724901 , 97382.38289576]),\n",
       " <BarContainer object of 10 artists>)"
      ]
     },
     "execution_count": 140,
     "metadata": {},
     "output_type": "execute_result"
    },
    {
     "data": {
      "image/png": "[encoded data removed]",
      "text/plain": [
       "<Figure size 432x288 with 1 Axes>"
      ]
     },
     "metadata": {
      "needs_background": "light"
     },
     "output_type": "display_data"
    }
   ],
   "source": [
    "plt.hist(sub_)"
   ]
  },
  {
   "cell_type": "code",
   "execution_count": null,
   "id": "2cd1c873",
   "metadata": {},
   "outputs": [],
   "source": []
  }
 ],
 "metadata": {
  "kernelspec": {
   "display_name": "Python 3",
   "language": "python",
   "name": "python3"
  },
  "language_info": {
   "codemirror_mode": {
    "name": "ipython",
    "version": 3
   },
   "file_extension": ".py",
   "mimetype": "text/x-python",
   "name": "python",
   "nbconvert_exporter": "python",
   "pygments_lexer": "ipython3",
   "version": "3.8.8"
  }
 },
 "nbformat": 4,
 "nbformat_minor": 5
}
